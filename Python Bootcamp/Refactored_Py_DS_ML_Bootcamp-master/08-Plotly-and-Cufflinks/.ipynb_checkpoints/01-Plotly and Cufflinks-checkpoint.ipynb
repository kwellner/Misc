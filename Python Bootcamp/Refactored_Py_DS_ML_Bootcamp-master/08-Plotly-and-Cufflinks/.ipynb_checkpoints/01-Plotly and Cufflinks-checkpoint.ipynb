{
 "cells": [
  {
   "cell_type": "markdown",
   "metadata": {},
   "source": [
    "___\n",
    "\n",
    "<a href='http://www.pieriandata.com'> <img src='../Pierian_Data_Logo.png' /></a>\n",
    "___\n",
    "# Plotly and Cufflinks"
   ]
  },
  {
   "cell_type": "markdown",
   "metadata": {},
   "source": [
    "Plotly is a library that allows you to create interactive plots that you can use in dashboards or websites (you can save them as html files or static images).\n",
    "\n",
    "## Installation\n",
    "\n",
    "In order for this all to work, you'll need to install plotly and cufflinks to call plots directly off of a pandas dataframe. These libraries are not currently available through **conda** but are available through **pip**. Install the libraries at your command line/terminal using:\n",
    "\n",
    "    pip install plotly\n",
    "    pip install cufflinks\n",
    "\n",
    "** NOTE: Make sure you only have one installation of Python on your computer when you do this, otherwise the installation may not work. **\n",
    "\n",
    "## Imports and Set-up"
   ]
  },
  {
   "cell_type": "code",
   "execution_count": 14,
   "metadata": {},
   "outputs": [],
   "source": [
    "import pandas as pd\n",
    "import numpy as np\n",
    "import chart_studio.plotly as py\n",
    "import plotly.express as px\n",
    "%matplotlib inline"
   ]
  },
  {
   "cell_type": "code",
   "execution_count": 15,
   "metadata": {},
   "outputs": [
    {
     "name": "stdout",
     "output_type": "stream",
     "text": [
      "4.6.0\n"
     ]
    }
   ],
   "source": [
    "from plotly import __version__\n",
    "from plotly.offline import download_plotlyjs, init_notebook_mode, plot, iplot\n",
    "\n",
    "print(__version__) # requires version >= 1.9.0"
   ]
  },
  {
   "cell_type": "code",
   "execution_count": 16,
   "metadata": {},
   "outputs": [],
   "source": [
    "import cufflinks as cf"
   ]
  },
  {
   "cell_type": "code",
   "execution_count": 17,
   "metadata": {},
   "outputs": [
    {
     "data": {
      "text/html": [
       "        <script type=\"text/javascript\">\n",
       "        window.PlotlyConfig = {MathJaxConfig: 'local'};\n",
       "        if (window.MathJax) {MathJax.Hub.Config({SVG: {font: \"STIX-Web\"}});}\n",
       "        if (typeof require !== 'undefined') {\n",
       "        require.undef(\"plotly\");\n",
       "        requirejs.config({\n",
       "            paths: {\n",
       "                'plotly': ['https://cdn.plot.ly/plotly-latest.min']\n",
       "            }\n",
       "        });\n",
       "        require(['plotly'], function(Plotly) {\n",
       "            window._Plotly = Plotly;\n",
       "        });\n",
       "        }\n",
       "        </script>\n",
       "        "
      ]
     },
     "metadata": {},
     "output_type": "display_data"
    }
   ],
   "source": [
    "# For Notebooks\n",
    "init_notebook_mode(connected=True)"
   ]
  },
  {
   "cell_type": "code",
   "execution_count": 18,
   "metadata": {},
   "outputs": [
    {
     "data": {
      "text/html": [
       "        <script type=\"text/javascript\">\n",
       "        window.PlotlyConfig = {MathJaxConfig: 'local'};\n",
       "        if (window.MathJax) {MathJax.Hub.Config({SVG: {font: \"STIX-Web\"}});}\n",
       "        if (typeof require !== 'undefined') {\n",
       "        require.undef(\"plotly\");\n",
       "        requirejs.config({\n",
       "            paths: {\n",
       "                'plotly': ['https://cdn.plot.ly/plotly-latest.min']\n",
       "            }\n",
       "        });\n",
       "        require(['plotly'], function(Plotly) {\n",
       "            window._Plotly = Plotly;\n",
       "        });\n",
       "        }\n",
       "        </script>\n",
       "        "
      ]
     },
     "metadata": {},
     "output_type": "display_data"
    }
   ],
   "source": [
    "# For offline use\n",
    "cf.go_offline()"
   ]
  },
  {
   "cell_type": "markdown",
   "metadata": {},
   "source": [
    "### Fake Data"
   ]
  },
  {
   "cell_type": "code",
   "execution_count": 7,
   "metadata": {},
   "outputs": [],
   "source": [
    "df = pd.DataFrame(np.random.randn(100,4),columns='A B C D'.split())"
   ]
  },
  {
   "cell_type": "code",
   "execution_count": 8,
   "metadata": {},
   "outputs": [
    {
     "data": {
      "text/html": [
       "<div>\n",
       "<style scoped>\n",
       "    .dataframe tbody tr th:only-of-type {\n",
       "        vertical-align: middle;\n",
       "    }\n",
       "\n",
       "    .dataframe tbody tr th {\n",
       "        vertical-align: top;\n",
       "    }\n",
       "\n",
       "    .dataframe thead th {\n",
       "        text-align: right;\n",
       "    }\n",
       "</style>\n",
       "<table border=\"1\" class=\"dataframe\">\n",
       "  <thead>\n",
       "    <tr style=\"text-align: right;\">\n",
       "      <th></th>\n",
       "      <th>A</th>\n",
       "      <th>B</th>\n",
       "      <th>C</th>\n",
       "      <th>D</th>\n",
       "    </tr>\n",
       "  </thead>\n",
       "  <tbody>\n",
       "    <tr>\n",
       "      <th>0</th>\n",
       "      <td>0.012588</td>\n",
       "      <td>-1.571120</td>\n",
       "      <td>0.446614</td>\n",
       "      <td>-0.546488</td>\n",
       "    </tr>\n",
       "    <tr>\n",
       "      <th>1</th>\n",
       "      <td>0.157564</td>\n",
       "      <td>1.858943</td>\n",
       "      <td>0.308891</td>\n",
       "      <td>-0.690680</td>\n",
       "    </tr>\n",
       "    <tr>\n",
       "      <th>2</th>\n",
       "      <td>-1.567454</td>\n",
       "      <td>0.472531</td>\n",
       "      <td>-0.980478</td>\n",
       "      <td>-0.753020</td>\n",
       "    </tr>\n",
       "    <tr>\n",
       "      <th>3</th>\n",
       "      <td>0.006378</td>\n",
       "      <td>-0.442975</td>\n",
       "      <td>0.127849</td>\n",
       "      <td>-0.303542</td>\n",
       "    </tr>\n",
       "    <tr>\n",
       "      <th>4</th>\n",
       "      <td>0.022186</td>\n",
       "      <td>0.493119</td>\n",
       "      <td>-1.739559</td>\n",
       "      <td>0.331810</td>\n",
       "    </tr>\n",
       "  </tbody>\n",
       "</table>\n",
       "</div>"
      ],
      "text/plain": [
       "          A         B         C         D\n",
       "0  0.012588 -1.571120  0.446614 -0.546488\n",
       "1  0.157564  1.858943  0.308891 -0.690680\n",
       "2 -1.567454  0.472531 -0.980478 -0.753020\n",
       "3  0.006378 -0.442975  0.127849 -0.303542\n",
       "4  0.022186  0.493119 -1.739559  0.331810"
      ]
     },
     "execution_count": 8,
     "metadata": {},
     "output_type": "execute_result"
    }
   ],
   "source": [
    "df.head()"
   ]
  },
  {
   "cell_type": "code",
   "execution_count": 11,
   "metadata": {},
   "outputs": [],
   "source": [
    "df2 = pd.DataFrame({'Category':['A','B','C'],'Values':[32,43,50]})"
   ]
  },
  {
   "cell_type": "code",
   "execution_count": 40,
   "metadata": {},
   "outputs": [
    {
     "data": {
      "text/html": [
       "<div>\n",
       "<table border=\"1\" class=\"dataframe\">\n",
       "  <thead>\n",
       "    <tr style=\"text-align: right;\">\n",
       "      <th></th>\n",
       "      <th>Category</th>\n",
       "      <th>Values</th>\n",
       "    </tr>\n",
       "  </thead>\n",
       "  <tbody>\n",
       "    <tr>\n",
       "      <th>0</th>\n",
       "      <td>A</td>\n",
       "      <td>32</td>\n",
       "    </tr>\n",
       "    <tr>\n",
       "      <th>1</th>\n",
       "      <td>B</td>\n",
       "      <td>43</td>\n",
       "    </tr>\n",
       "    <tr>\n",
       "      <th>2</th>\n",
       "      <td>C</td>\n",
       "      <td>50</td>\n",
       "    </tr>\n",
       "  </tbody>\n",
       "</table>\n",
       "</div>"
      ],
      "text/plain": [
       "  Category  Values\n",
       "0        A      32\n",
       "1        B      43\n",
       "2        C      50"
      ]
     },
     "execution_count": 40,
     "metadata": {},
     "output_type": "execute_result"
    }
   ],
   "source": [
    "df2.head()"
   ]
  },
  {
   "cell_type": "markdown",
   "metadata": {},
   "source": [
    "## Using Cufflinks and iplot()\n",
    "\n",
    "* scatter\n",
    "* bar\n",
    "* box\n",
    "* spread\n",
    "* ratio\n",
    "* heatmap\n",
    "* surface\n",
    "* histogram\n",
    "* bubble"
   ]
  },
  {
   "cell_type": "markdown",
   "metadata": {},
   "source": [
    "## Scatter"
   ]
  },
  {
   "cell_type": "code",
   "execution_count": 19,
   "metadata": {},
   "outputs": [
    {
     "data": {
      "application/vnd.plotly.v1+json": {
       "config": {
        "linkText": "Export to plot.ly",
        "plotlyServerURL": "https://plot.ly",
        "showLink": true
       },
       "data": [
        {
         "line": {
          "color": "rgba(255, 153, 51, 1.0)",
          "dash": "solid",
          "shape": "linear",
          "width": 1.3
         },
         "marker": {
          "size": 10,
          "symbol": "circle"
         },
         "mode": "markers",
         "name": "B",
         "text": "",
         "type": "scatter",
         "x": [
          0.01258771338784096,
          0.15756449624948846,
          -1.5674539359727409,
          0.006377768460200217,
          0.022185847399755477,
          -1.4098012598057708,
          -1.1771243636813133,
          1.1235283675890204,
          -0.07429212716714764,
          0.48742375992982784,
          -0.12944337947685283,
          -0.9180012214241594,
          -3.0131187942336704,
          1.1869412396701389,
          0.7912752124923572,
          1.432678623623017,
          0.40568209062367894,
          0.12032693997325379,
          1.7001641802601302,
          -0.8436839622947031,
          1.2092113776263675,
          0.893612345857148,
          -0.03762130523020127,
          -0.06830519231422867,
          0.39929983349320436,
          -0.645987877543945,
          0.05471325639345035,
          0.6359591748788739,
          1.1703800217942906,
          -1.5043691261451897,
          -0.5036814725137895,
          1.0361340987898915,
          0.29213763653891306,
          0.7774645561651203,
          -0.4782140281577571,
          -2.643881907336907,
          -0.5749412179835269,
          0.3841976745153053,
          1.2915638490665986,
          -0.4233796655810165,
          1.8744810238151675,
          0.7367675496380632,
          -0.6109907442671998,
          0.805674638800644,
          -0.9539036537063705,
          0.09527741797931052,
          -1.0649914308693913,
          0.5964487166392948,
          0.1990665103969152,
          0.6132704762189406,
          0.6268899207234839,
          -1.1286894146277253,
          0.01213858445998383,
          -1.4701196523620392,
          -0.37570842538158156,
          1.3497554259656261,
          1.35171477403518,
          -0.4489109673535718,
          -0.6577003347110576,
          -0.2888103944878272,
          0.3578668378770103,
          -1.9895737512618443,
          0.25272547443718,
          -0.6009738065166887,
          0.9907962012130483,
          0.30548119666697593,
          -1.6790430115833166,
          0.3782169365209647,
          0.20283659152555167,
          0.14354981791108287,
          -0.4973140193750466,
          -0.19753779687535397,
          -0.9257981905690578,
          -1.8609348754518722,
          0.08791455264292816,
          -0.8965464694382222,
          0.3924042454233774,
          -2.051066260296957,
          -0.29419187754144366,
          -0.11404285000231268,
          -1.5008947403290749,
          1.5130633320204947,
          -0.013939284236135645,
          -0.5008971717723003,
          -0.8872960885392636,
          0.6545701294979238,
          1.2418392362181065,
          -0.556513780780177,
          -1.5113062460152866,
          -1.5437051826070072,
          1.2174960148122902,
          0.5207168975027033,
          -0.6058183166483503,
          -0.876105918810508,
          1.6990793067243244,
          -1.0127106685746625,
          1.165990719074486,
          1.4427761189051136,
          -0.48081925269099096,
          0.39153886502249624
         ],
         "y": [
          -1.5711202546339078,
          1.8589427519950752,
          0.4725308030858024,
          -0.4429751159210085,
          0.4931189239296156,
          0.3290781388444781,
          -1.8851204051667412,
          0.6520089049000372,
          0.001622290086489223,
          -1.190541657435356,
          -1.1165354430786067,
          -0.28023760526214087,
          0.036117480348009705,
          0.4060464344684879,
          1.7693346210102137,
          1.1226249355088112,
          0.30545725263851115,
          0.32467659180420966,
          -0.36329705102200255,
          -0.35450640391340416,
          -0.848256079483041,
          -1.1016866426764451,
          -1.8828773464329578,
          0.8438264493109183,
          -0.18552390379817973,
          1.7127884983056052,
          1.5064918772968656,
          0.8622196042959621,
          -1.0656304741666403,
          -0.09181381850569179,
          1.7954497040834496,
          0.4326567575470323,
          -0.13007433150858635,
          -0.9520088453445963,
          0.7330078033118114,
          0.5767854855180345,
          1.5941334078701672,
          1.2639463553980426,
          0.11421381700343505,
          -0.21074369451029193,
          -1.442352021362074,
          0.6014244269317304,
          -0.5251750463409331,
          0.24056973341915855,
          -0.34177966778960134,
          0.49033717532942955,
          -0.4359285863361001,
          -0.4645219801827713,
          -0.49906116308344267,
          0.012296828969600491,
          1.3052254220844173,
          1.0575718829429042,
          -0.8955948771032166,
          1.8840878446231526,
          -0.32124146836569917,
          1.1138212038805104,
          -0.5380428173529321,
          0.6780503440629659,
          -0.08953546027085331,
          1.290935731322414,
          1.0568892764925977,
          0.7398009929380013,
          1.6294195464621322,
          0.5068826199029156,
          1.4639384323657498,
          2.0035883236917584,
          2.2253827405770497,
          -0.9829583862377724,
          0.2486782135934998,
          0.5245709075594285,
          0.6751474846876793,
          0.7431555008266308,
          1.1026113915541595,
          0.7086927539253073,
          -0.14067844876750424,
          0.38453326761935613,
          0.46288958214142273,
          0.24238987224025843,
          -0.17571802415464177,
          0.8662372993526971,
          -1.3677834323167255,
          -1.052831300968593,
          -1.041671610917792,
          -1.3909596396881267,
          1.1170937933351548,
          -1.1603270017517613,
          0.20977942996564286,
          0.40333440608587473,
          -0.018229098693743707,
          0.9475209099563278,
          0.2034026360151726,
          -0.6814367417773323,
          -0.9953660681320612,
          1.3724080700419738,
          1.138876474205955,
          0.7265311279666776,
          -0.8564525533706586,
          0.1814599986481153,
          -1.551384736446907,
          1.6351567399448812
         ]
        }
       ],
       "layout": {
        "legend": {
         "bgcolor": "#F5F6F9",
         "font": {
          "color": "#4D5663"
         }
        },
        "paper_bgcolor": "#F5F6F9",
        "plot_bgcolor": "#F5F6F9",
        "template": {
         "data": {
          "bar": [
           {
            "error_x": {
             "color": "#2a3f5f"
            },
            "error_y": {
             "color": "#2a3f5f"
            },
            "marker": {
             "line": {
              "color": "#E5ECF6",
              "width": 0.5
             }
            },
            "type": "bar"
           }
          ],
          "barpolar": [
           {
            "marker": {
             "line": {
              "color": "#E5ECF6",
              "width": 0.5
             }
            },
            "type": "barpolar"
           }
          ],
          "carpet": [
           {
            "aaxis": {
             "endlinecolor": "#2a3f5f",
             "gridcolor": "white",
             "linecolor": "white",
             "minorgridcolor": "white",
             "startlinecolor": "#2a3f5f"
            },
            "baxis": {
             "endlinecolor": "#2a3f5f",
             "gridcolor": "white",
             "linecolor": "white",
             "minorgridcolor": "white",
             "startlinecolor": "#2a3f5f"
            },
            "type": "carpet"
           }
          ],
          "choropleth": [
           {
            "colorbar": {
             "outlinewidth": 0,
             "ticks": ""
            },
            "type": "choropleth"
           }
          ],
          "contour": [
           {
            "colorbar": {
             "outlinewidth": 0,
             "ticks": ""
            },
            "colorscale": [
             [
              0,
              "#0d0887"
             ],
             [
              0.1111111111111111,
              "#46039f"
             ],
             [
              0.2222222222222222,
              "#7201a8"
             ],
             [
              0.3333333333333333,
              "#9c179e"
             ],
             [
              0.4444444444444444,
              "#bd3786"
             ],
             [
              0.5555555555555556,
              "#d8576b"
             ],
             [
              0.6666666666666666,
              "#ed7953"
             ],
             [
              0.7777777777777778,
              "#fb9f3a"
             ],
             [
              0.8888888888888888,
              "#fdca26"
             ],
             [
              1,
              "#f0f921"
             ]
            ],
            "type": "contour"
           }
          ],
          "contourcarpet": [
           {
            "colorbar": {
             "outlinewidth": 0,
             "ticks": ""
            },
            "type": "contourcarpet"
           }
          ],
          "heatmap": [
           {
            "colorbar": {
             "outlinewidth": 0,
             "ticks": ""
            },
            "colorscale": [
             [
              0,
              "#0d0887"
             ],
             [
              0.1111111111111111,
              "#46039f"
             ],
             [
              0.2222222222222222,
              "#7201a8"
             ],
             [
              0.3333333333333333,
              "#9c179e"
             ],
             [
              0.4444444444444444,
              "#bd3786"
             ],
             [
              0.5555555555555556,
              "#d8576b"
             ],
             [
              0.6666666666666666,
              "#ed7953"
             ],
             [
              0.7777777777777778,
              "#fb9f3a"
             ],
             [
              0.8888888888888888,
              "#fdca26"
             ],
             [
              1,
              "#f0f921"
             ]
            ],
            "type": "heatmap"
           }
          ],
          "heatmapgl": [
           {
            "colorbar": {
             "outlinewidth": 0,
             "ticks": ""
            },
            "colorscale": [
             [
              0,
              "#0d0887"
             ],
             [
              0.1111111111111111,
              "#46039f"
             ],
             [
              0.2222222222222222,
              "#7201a8"
             ],
             [
              0.3333333333333333,
              "#9c179e"
             ],
             [
              0.4444444444444444,
              "#bd3786"
             ],
             [
              0.5555555555555556,
              "#d8576b"
             ],
             [
              0.6666666666666666,
              "#ed7953"
             ],
             [
              0.7777777777777778,
              "#fb9f3a"
             ],
             [
              0.8888888888888888,
              "#fdca26"
             ],
             [
              1,
              "#f0f921"
             ]
            ],
            "type": "heatmapgl"
           }
          ],
          "histogram": [
           {
            "marker": {
             "colorbar": {
              "outlinewidth": 0,
              "ticks": ""
             }
            },
            "type": "histogram"
           }
          ],
          "histogram2d": [
           {
            "colorbar": {
             "outlinewidth": 0,
             "ticks": ""
            },
            "colorscale": [
             [
              0,
              "#0d0887"
             ],
             [
              0.1111111111111111,
              "#46039f"
             ],
             [
              0.2222222222222222,
              "#7201a8"
             ],
             [
              0.3333333333333333,
              "#9c179e"
             ],
             [
              0.4444444444444444,
              "#bd3786"
             ],
             [
              0.5555555555555556,
              "#d8576b"
             ],
             [
              0.6666666666666666,
              "#ed7953"
             ],
             [
              0.7777777777777778,
              "#fb9f3a"
             ],
             [
              0.8888888888888888,
              "#fdca26"
             ],
             [
              1,
              "#f0f921"
             ]
            ],
            "type": "histogram2d"
           }
          ],
          "histogram2dcontour": [
           {
            "colorbar": {
             "outlinewidth": 0,
             "ticks": ""
            },
            "colorscale": [
             [
              0,
              "#0d0887"
             ],
             [
              0.1111111111111111,
              "#46039f"
             ],
             [
              0.2222222222222222,
              "#7201a8"
             ],
             [
              0.3333333333333333,
              "#9c179e"
             ],
             [
              0.4444444444444444,
              "#bd3786"
             ],
             [
              0.5555555555555556,
              "#d8576b"
             ],
             [
              0.6666666666666666,
              "#ed7953"
             ],
             [
              0.7777777777777778,
              "#fb9f3a"
             ],
             [
              0.8888888888888888,
              "#fdca26"
             ],
             [
              1,
              "#f0f921"
             ]
            ],
            "type": "histogram2dcontour"
           }
          ],
          "mesh3d": [
           {
            "colorbar": {
             "outlinewidth": 0,
             "ticks": ""
            },
            "type": "mesh3d"
           }
          ],
          "parcoords": [
           {
            "line": {
             "colorbar": {
              "outlinewidth": 0,
              "ticks": ""
             }
            },
            "type": "parcoords"
           }
          ],
          "pie": [
           {
            "automargin": true,
            "type": "pie"
           }
          ],
          "scatter": [
           {
            "marker": {
             "colorbar": {
              "outlinewidth": 0,
              "ticks": ""
             }
            },
            "type": "scatter"
           }
          ],
          "scatter3d": [
           {
            "line": {
             "colorbar": {
              "outlinewidth": 0,
              "ticks": ""
             }
            },
            "marker": {
             "colorbar": {
              "outlinewidth": 0,
              "ticks": ""
             }
            },
            "type": "scatter3d"
           }
          ],
          "scattercarpet": [
           {
            "marker": {
             "colorbar": {
              "outlinewidth": 0,
              "ticks": ""
             }
            },
            "type": "scattercarpet"
           }
          ],
          "scattergeo": [
           {
            "marker": {
             "colorbar": {
              "outlinewidth": 0,
              "ticks": ""
             }
            },
            "type": "scattergeo"
           }
          ],
          "scattergl": [
           {
            "marker": {
             "colorbar": {
              "outlinewidth": 0,
              "ticks": ""
             }
            },
            "type": "scattergl"
           }
          ],
          "scattermapbox": [
           {
            "marker": {
             "colorbar": {
              "outlinewidth": 0,
              "ticks": ""
             }
            },
            "type": "scattermapbox"
           }
          ],
          "scatterpolar": [
           {
            "marker": {
             "colorbar": {
              "outlinewidth": 0,
              "ticks": ""
             }
            },
            "type": "scatterpolar"
           }
          ],
          "scatterpolargl": [
           {
            "marker": {
             "colorbar": {
              "outlinewidth": 0,
              "ticks": ""
             }
            },
            "type": "scatterpolargl"
           }
          ],
          "scatterternary": [
           {
            "marker": {
             "colorbar": {
              "outlinewidth": 0,
              "ticks": ""
             }
            },
            "type": "scatterternary"
           }
          ],
          "surface": [
           {
            "colorbar": {
             "outlinewidth": 0,
             "ticks": ""
            },
            "colorscale": [
             [
              0,
              "#0d0887"
             ],
             [
              0.1111111111111111,
              "#46039f"
             ],
             [
              0.2222222222222222,
              "#7201a8"
             ],
             [
              0.3333333333333333,
              "#9c179e"
             ],
             [
              0.4444444444444444,
              "#bd3786"
             ],
             [
              0.5555555555555556,
              "#d8576b"
             ],
             [
              0.6666666666666666,
              "#ed7953"
             ],
             [
              0.7777777777777778,
              "#fb9f3a"
             ],
             [
              0.8888888888888888,
              "#fdca26"
             ],
             [
              1,
              "#f0f921"
             ]
            ],
            "type": "surface"
           }
          ],
          "table": [
           {
            "cells": {
             "fill": {
              "color": "#EBF0F8"
             },
             "line": {
              "color": "white"
             }
            },
            "header": {
             "fill": {
              "color": "#C8D4E3"
             },
             "line": {
              "color": "white"
             }
            },
            "type": "table"
           }
          ]
         },
         "layout": {
          "annotationdefaults": {
           "arrowcolor": "#2a3f5f",
           "arrowhead": 0,
           "arrowwidth": 1
          },
          "coloraxis": {
           "colorbar": {
            "outlinewidth": 0,
            "ticks": ""
           }
          },
          "colorscale": {
           "diverging": [
            [
             0,
             "#8e0152"
            ],
            [
             0.1,
             "#c51b7d"
            ],
            [
             0.2,
             "#de77ae"
            ],
            [
             0.3,
             "#f1b6da"
            ],
            [
             0.4,
             "#fde0ef"
            ],
            [
             0.5,
             "#f7f7f7"
            ],
            [
             0.6,
             "#e6f5d0"
            ],
            [
             0.7,
             "#b8e186"
            ],
            [
             0.8,
             "#7fbc41"
            ],
            [
             0.9,
             "#4d9221"
            ],
            [
             1,
             "#276419"
            ]
           ],
           "sequential": [
            [
             0,
             "#0d0887"
            ],
            [
             0.1111111111111111,
             "#46039f"
            ],
            [
             0.2222222222222222,
             "#7201a8"
            ],
            [
             0.3333333333333333,
             "#9c179e"
            ],
            [
             0.4444444444444444,
             "#bd3786"
            ],
            [
             0.5555555555555556,
             "#d8576b"
            ],
            [
             0.6666666666666666,
             "#ed7953"
            ],
            [
             0.7777777777777778,
             "#fb9f3a"
            ],
            [
             0.8888888888888888,
             "#fdca26"
            ],
            [
             1,
             "#f0f921"
            ]
           ],
           "sequentialminus": [
            [
             0,
             "#0d0887"
            ],
            [
             0.1111111111111111,
             "#46039f"
            ],
            [
             0.2222222222222222,
             "#7201a8"
            ],
            [
             0.3333333333333333,
             "#9c179e"
            ],
            [
             0.4444444444444444,
             "#bd3786"
            ],
            [
             0.5555555555555556,
             "#d8576b"
            ],
            [
             0.6666666666666666,
             "#ed7953"
            ],
            [
             0.7777777777777778,
             "#fb9f3a"
            ],
            [
             0.8888888888888888,
             "#fdca26"
            ],
            [
             1,
             "#f0f921"
            ]
           ]
          },
          "colorway": [
           "#636efa",
           "#EF553B",
           "#00cc96",
           "#ab63fa",
           "#FFA15A",
           "#19d3f3",
           "#FF6692",
           "#B6E880",
           "#FF97FF",
           "#FECB52"
          ],
          "font": {
           "color": "#2a3f5f"
          },
          "geo": {
           "bgcolor": "white",
           "lakecolor": "white",
           "landcolor": "#E5ECF6",
           "showlakes": true,
           "showland": true,
           "subunitcolor": "white"
          },
          "hoverlabel": {
           "align": "left"
          },
          "hovermode": "closest",
          "mapbox": {
           "style": "light"
          },
          "paper_bgcolor": "white",
          "plot_bgcolor": "#E5ECF6",
          "polar": {
           "angularaxis": {
            "gridcolor": "white",
            "linecolor": "white",
            "ticks": ""
           },
           "bgcolor": "#E5ECF6",
           "radialaxis": {
            "gridcolor": "white",
            "linecolor": "white",
            "ticks": ""
           }
          },
          "scene": {
           "xaxis": {
            "backgroundcolor": "#E5ECF6",
            "gridcolor": "white",
            "gridwidth": 2,
            "linecolor": "white",
            "showbackground": true,
            "ticks": "",
            "zerolinecolor": "white"
           },
           "yaxis": {
            "backgroundcolor": "#E5ECF6",
            "gridcolor": "white",
            "gridwidth": 2,
            "linecolor": "white",
            "showbackground": true,
            "ticks": "",
            "zerolinecolor": "white"
           },
           "zaxis": {
            "backgroundcolor": "#E5ECF6",
            "gridcolor": "white",
            "gridwidth": 2,
            "linecolor": "white",
            "showbackground": true,
            "ticks": "",
            "zerolinecolor": "white"
           }
          },
          "shapedefaults": {
           "line": {
            "color": "#2a3f5f"
           }
          },
          "ternary": {
           "aaxis": {
            "gridcolor": "white",
            "linecolor": "white",
            "ticks": ""
           },
           "baxis": {
            "gridcolor": "white",
            "linecolor": "white",
            "ticks": ""
           },
           "bgcolor": "#E5ECF6",
           "caxis": {
            "gridcolor": "white",
            "linecolor": "white",
            "ticks": ""
           }
          },
          "title": {
           "x": 0.05
          },
          "xaxis": {
           "automargin": true,
           "gridcolor": "white",
           "linecolor": "white",
           "ticks": "",
           "title": {
            "standoff": 15
           },
           "zerolinecolor": "white",
           "zerolinewidth": 2
          },
          "yaxis": {
           "automargin": true,
           "gridcolor": "white",
           "linecolor": "white",
           "ticks": "",
           "title": {
            "standoff": 15
           },
           "zerolinecolor": "white",
           "zerolinewidth": 2
          }
         }
        },
        "title": {
         "font": {
          "color": "#4D5663"
         }
        },
        "xaxis": {
         "gridcolor": "#E1E5ED",
         "showgrid": true,
         "tickfont": {
          "color": "#4D5663"
         },
         "title": {
          "font": {
           "color": "#4D5663"
          },
          "text": ""
         },
         "zerolinecolor": "#E1E5ED"
        },
        "yaxis": {
         "gridcolor": "#E1E5ED",
         "showgrid": true,
         "tickfont": {
          "color": "#4D5663"
         },
         "title": {
          "font": {
           "color": "#4D5663"
          },
          "text": ""
         },
         "zerolinecolor": "#E1E5ED"
        }
       }
      },
      "text/html": [
       "<div>\n",
       "        \n",
       "        \n",
       "            <div id=\"61324541-099d-4418-a15a-1f2818d82aa2\" class=\"plotly-graph-div\" style=\"height:525px; width:100%;\"></div>\n",
       "            <script type=\"text/javascript\">\n",
       "                require([\"plotly\"], function(Plotly) {\n",
       "                    window.PLOTLYENV=window.PLOTLYENV || {};\n",
       "                    window.PLOTLYENV.BASE_URL='https://plot.ly';\n",
       "                    \n",
       "                if (document.getElementById(\"61324541-099d-4418-a15a-1f2818d82aa2\")) {\n",
       "                    Plotly.newPlot(\n",
       "                        '61324541-099d-4418-a15a-1f2818d82aa2',\n",
       "                        [{\"line\": {\"color\": \"rgba(255, 153, 51, 1.0)\", \"dash\": \"solid\", \"shape\": \"linear\", \"width\": 1.3}, \"marker\": {\"size\": 10, \"symbol\": \"circle\"}, \"mode\": \"markers\", \"name\": \"B\", \"text\": \"\", \"type\": \"scatter\", \"x\": [0.01258771338784096, 0.15756449624948846, -1.5674539359727409, 0.006377768460200217, 0.022185847399755477, -1.4098012598057708, -1.1771243636813133, 1.1235283675890204, -0.07429212716714764, 0.48742375992982784, -0.12944337947685283, -0.9180012214241594, -3.0131187942336704, 1.1869412396701389, 0.7912752124923572, 1.432678623623017, 0.40568209062367894, 0.12032693997325379, 1.7001641802601302, -0.8436839622947031, 1.2092113776263675, 0.893612345857148, -0.03762130523020127, -0.06830519231422867, 0.39929983349320436, -0.645987877543945, 0.05471325639345035, 0.6359591748788739, 1.1703800217942906, -1.5043691261451897, -0.5036814725137895, 1.0361340987898915, 0.29213763653891306, 0.7774645561651203, -0.4782140281577571, -2.643881907336907, -0.5749412179835269, 0.3841976745153053, 1.2915638490665986, -0.4233796655810165, 1.8744810238151675, 0.7367675496380632, -0.6109907442671998, 0.805674638800644, -0.9539036537063705, 0.09527741797931052, -1.0649914308693913, 0.5964487166392948, 0.1990665103969152, 0.6132704762189406, 0.6268899207234839, -1.1286894146277253, 0.01213858445998383, -1.4701196523620392, -0.37570842538158156, 1.3497554259656261, 1.35171477403518, -0.4489109673535718, -0.6577003347110576, -0.2888103944878272, 0.3578668378770103, -1.9895737512618443, 0.25272547443718, -0.6009738065166887, 0.9907962012130483, 0.30548119666697593, -1.6790430115833166, 0.3782169365209647, 0.20283659152555167, 0.14354981791108287, -0.4973140193750466, -0.19753779687535397, -0.9257981905690578, -1.8609348754518722, 0.08791455264292816, -0.8965464694382222, 0.3924042454233774, -2.051066260296957, -0.29419187754144366, -0.11404285000231268, -1.5008947403290749, 1.5130633320204947, -0.013939284236135645, -0.5008971717723003, -0.8872960885392636, 0.6545701294979238, 1.2418392362181065, -0.556513780780177, -1.5113062460152866, -1.5437051826070072, 1.2174960148122902, 0.5207168975027033, -0.6058183166483503, -0.876105918810508, 1.6990793067243244, -1.0127106685746625, 1.165990719074486, 1.4427761189051136, -0.48081925269099096, 0.39153886502249624], \"y\": [-1.5711202546339078, 1.8589427519950752, 0.4725308030858024, -0.4429751159210085, 0.4931189239296156, 0.3290781388444781, -1.8851204051667412, 0.6520089049000372, 0.001622290086489223, -1.190541657435356, -1.1165354430786067, -0.28023760526214087, 0.036117480348009705, 0.4060464344684879, 1.7693346210102137, 1.1226249355088112, 0.30545725263851115, 0.32467659180420966, -0.36329705102200255, -0.35450640391340416, -0.848256079483041, -1.1016866426764451, -1.8828773464329578, 0.8438264493109183, -0.18552390379817973, 1.7127884983056052, 1.5064918772968656, 0.8622196042959621, -1.0656304741666403, -0.09181381850569179, 1.7954497040834496, 0.4326567575470323, -0.13007433150858635, -0.9520088453445963, 0.7330078033118114, 0.5767854855180345, 1.5941334078701672, 1.2639463553980426, 0.11421381700343505, -0.21074369451029193, -1.442352021362074, 0.6014244269317304, -0.5251750463409331, 0.24056973341915855, -0.34177966778960134, 0.49033717532942955, -0.4359285863361001, -0.4645219801827713, -0.49906116308344267, 0.012296828969600491, 1.3052254220844173, 1.0575718829429042, -0.8955948771032166, 1.8840878446231526, -0.32124146836569917, 1.1138212038805104, -0.5380428173529321, 0.6780503440629659, -0.08953546027085331, 1.290935731322414, 1.0568892764925977, 0.7398009929380013, 1.6294195464621322, 0.5068826199029156, 1.4639384323657498, 2.0035883236917584, 2.2253827405770497, -0.9829583862377724, 0.2486782135934998, 0.5245709075594285, 0.6751474846876793, 0.7431555008266308, 1.1026113915541595, 0.7086927539253073, -0.14067844876750424, 0.38453326761935613, 0.46288958214142273, 0.24238987224025843, -0.17571802415464177, 0.8662372993526971, -1.3677834323167255, -1.052831300968593, -1.041671610917792, -1.3909596396881267, 1.1170937933351548, -1.1603270017517613, 0.20977942996564286, 0.40333440608587473, -0.018229098693743707, 0.9475209099563278, 0.2034026360151726, -0.6814367417773323, -0.9953660681320612, 1.3724080700419738, 1.138876474205955, 0.7265311279666776, -0.8564525533706586, 0.1814599986481153, -1.551384736446907, 1.6351567399448812]}],\n",
       "                        {\"legend\": {\"bgcolor\": \"#F5F6F9\", \"font\": {\"color\": \"#4D5663\"}}, \"paper_bgcolor\": \"#F5F6F9\", \"plot_bgcolor\": \"#F5F6F9\", \"template\": {\"data\": {\"bar\": [{\"error_x\": {\"color\": \"#2a3f5f\"}, \"error_y\": {\"color\": \"#2a3f5f\"}, \"marker\": {\"line\": {\"color\": \"#E5ECF6\", \"width\": 0.5}}, \"type\": \"bar\"}], \"barpolar\": [{\"marker\": {\"line\": {\"color\": \"#E5ECF6\", \"width\": 0.5}}, \"type\": \"barpolar\"}], \"carpet\": [{\"aaxis\": {\"endlinecolor\": \"#2a3f5f\", \"gridcolor\": \"white\", \"linecolor\": \"white\", \"minorgridcolor\": \"white\", \"startlinecolor\": \"#2a3f5f\"}, \"baxis\": {\"endlinecolor\": \"#2a3f5f\", \"gridcolor\": \"white\", \"linecolor\": \"white\", \"minorgridcolor\": \"white\", \"startlinecolor\": \"#2a3f5f\"}, \"type\": \"carpet\"}], \"choropleth\": [{\"colorbar\": {\"outlinewidth\": 0, \"ticks\": \"\"}, \"type\": \"choropleth\"}], \"contour\": [{\"colorbar\": {\"outlinewidth\": 0, \"ticks\": \"\"}, \"colorscale\": [[0.0, \"#0d0887\"], [0.1111111111111111, \"#46039f\"], [0.2222222222222222, \"#7201a8\"], [0.3333333333333333, \"#9c179e\"], [0.4444444444444444, \"#bd3786\"], [0.5555555555555556, \"#d8576b\"], [0.6666666666666666, \"#ed7953\"], [0.7777777777777778, \"#fb9f3a\"], [0.8888888888888888, \"#fdca26\"], [1.0, \"#f0f921\"]], \"type\": \"contour\"}], \"contourcarpet\": [{\"colorbar\": {\"outlinewidth\": 0, \"ticks\": \"\"}, \"type\": \"contourcarpet\"}], \"heatmap\": [{\"colorbar\": {\"outlinewidth\": 0, \"ticks\": \"\"}, \"colorscale\": [[0.0, \"#0d0887\"], [0.1111111111111111, \"#46039f\"], [0.2222222222222222, \"#7201a8\"], [0.3333333333333333, \"#9c179e\"], [0.4444444444444444, \"#bd3786\"], [0.5555555555555556, \"#d8576b\"], [0.6666666666666666, \"#ed7953\"], [0.7777777777777778, \"#fb9f3a\"], [0.8888888888888888, \"#fdca26\"], [1.0, \"#f0f921\"]], \"type\": \"heatmap\"}], \"heatmapgl\": [{\"colorbar\": {\"outlinewidth\": 0, \"ticks\": \"\"}, \"colorscale\": [[0.0, \"#0d0887\"], [0.1111111111111111, \"#46039f\"], [0.2222222222222222, \"#7201a8\"], [0.3333333333333333, \"#9c179e\"], [0.4444444444444444, \"#bd3786\"], [0.5555555555555556, \"#d8576b\"], [0.6666666666666666, \"#ed7953\"], [0.7777777777777778, \"#fb9f3a\"], [0.8888888888888888, \"#fdca26\"], [1.0, \"#f0f921\"]], \"type\": \"heatmapgl\"}], \"histogram\": [{\"marker\": {\"colorbar\": {\"outlinewidth\": 0, \"ticks\": \"\"}}, \"type\": \"histogram\"}], \"histogram2d\": [{\"colorbar\": {\"outlinewidth\": 0, \"ticks\": \"\"}, \"colorscale\": [[0.0, \"#0d0887\"], [0.1111111111111111, \"#46039f\"], [0.2222222222222222, \"#7201a8\"], [0.3333333333333333, \"#9c179e\"], [0.4444444444444444, \"#bd3786\"], [0.5555555555555556, \"#d8576b\"], [0.6666666666666666, \"#ed7953\"], [0.7777777777777778, \"#fb9f3a\"], [0.8888888888888888, \"#fdca26\"], [1.0, \"#f0f921\"]], \"type\": \"histogram2d\"}], \"histogram2dcontour\": [{\"colorbar\": {\"outlinewidth\": 0, \"ticks\": \"\"}, \"colorscale\": [[0.0, \"#0d0887\"], [0.1111111111111111, \"#46039f\"], [0.2222222222222222, \"#7201a8\"], [0.3333333333333333, \"#9c179e\"], [0.4444444444444444, \"#bd3786\"], [0.5555555555555556, \"#d8576b\"], [0.6666666666666666, \"#ed7953\"], [0.7777777777777778, \"#fb9f3a\"], [0.8888888888888888, \"#fdca26\"], [1.0, \"#f0f921\"]], \"type\": \"histogram2dcontour\"}], \"mesh3d\": [{\"colorbar\": {\"outlinewidth\": 0, \"ticks\": \"\"}, \"type\": \"mesh3d\"}], \"parcoords\": [{\"line\": {\"colorbar\": {\"outlinewidth\": 0, \"ticks\": \"\"}}, \"type\": \"parcoords\"}], \"pie\": [{\"automargin\": true, \"type\": \"pie\"}], \"scatter\": [{\"marker\": {\"colorbar\": {\"outlinewidth\": 0, \"ticks\": \"\"}}, \"type\": \"scatter\"}], \"scatter3d\": [{\"line\": {\"colorbar\": {\"outlinewidth\": 0, \"ticks\": \"\"}}, \"marker\": {\"colorbar\": {\"outlinewidth\": 0, \"ticks\": \"\"}}, \"type\": \"scatter3d\"}], \"scattercarpet\": [{\"marker\": {\"colorbar\": {\"outlinewidth\": 0, \"ticks\": \"\"}}, \"type\": \"scattercarpet\"}], \"scattergeo\": [{\"marker\": {\"colorbar\": {\"outlinewidth\": 0, \"ticks\": \"\"}}, \"type\": \"scattergeo\"}], \"scattergl\": [{\"marker\": {\"colorbar\": {\"outlinewidth\": 0, \"ticks\": \"\"}}, \"type\": \"scattergl\"}], \"scattermapbox\": [{\"marker\": {\"colorbar\": {\"outlinewidth\": 0, \"ticks\": \"\"}}, \"type\": \"scattermapbox\"}], \"scatterpolar\": [{\"marker\": {\"colorbar\": {\"outlinewidth\": 0, \"ticks\": \"\"}}, \"type\": \"scatterpolar\"}], \"scatterpolargl\": [{\"marker\": {\"colorbar\": {\"outlinewidth\": 0, \"ticks\": \"\"}}, \"type\": \"scatterpolargl\"}], \"scatterternary\": [{\"marker\": {\"colorbar\": {\"outlinewidth\": 0, \"ticks\": \"\"}}, \"type\": \"scatterternary\"}], \"surface\": [{\"colorbar\": {\"outlinewidth\": 0, \"ticks\": \"\"}, \"colorscale\": [[0.0, \"#0d0887\"], [0.1111111111111111, \"#46039f\"], [0.2222222222222222, \"#7201a8\"], [0.3333333333333333, \"#9c179e\"], [0.4444444444444444, \"#bd3786\"], [0.5555555555555556, \"#d8576b\"], [0.6666666666666666, \"#ed7953\"], [0.7777777777777778, \"#fb9f3a\"], [0.8888888888888888, \"#fdca26\"], [1.0, \"#f0f921\"]], \"type\": \"surface\"}], \"table\": [{\"cells\": {\"fill\": {\"color\": \"#EBF0F8\"}, \"line\": {\"color\": \"white\"}}, \"header\": {\"fill\": {\"color\": \"#C8D4E3\"}, \"line\": {\"color\": \"white\"}}, \"type\": \"table\"}]}, \"layout\": {\"annotationdefaults\": {\"arrowcolor\": \"#2a3f5f\", \"arrowhead\": 0, \"arrowwidth\": 1}, \"coloraxis\": {\"colorbar\": {\"outlinewidth\": 0, \"ticks\": \"\"}}, \"colorscale\": {\"diverging\": [[0, \"#8e0152\"], [0.1, \"#c51b7d\"], [0.2, \"#de77ae\"], [0.3, \"#f1b6da\"], [0.4, \"#fde0ef\"], [0.5, \"#f7f7f7\"], [0.6, \"#e6f5d0\"], [0.7, \"#b8e186\"], [0.8, \"#7fbc41\"], [0.9, \"#4d9221\"], [1, \"#276419\"]], \"sequential\": [[0.0, \"#0d0887\"], [0.1111111111111111, \"#46039f\"], [0.2222222222222222, \"#7201a8\"], [0.3333333333333333, \"#9c179e\"], [0.4444444444444444, \"#bd3786\"], [0.5555555555555556, \"#d8576b\"], [0.6666666666666666, \"#ed7953\"], [0.7777777777777778, \"#fb9f3a\"], [0.8888888888888888, \"#fdca26\"], [1.0, \"#f0f921\"]], \"sequentialminus\": [[0.0, \"#0d0887\"], [0.1111111111111111, \"#46039f\"], [0.2222222222222222, \"#7201a8\"], [0.3333333333333333, \"#9c179e\"], [0.4444444444444444, \"#bd3786\"], [0.5555555555555556, \"#d8576b\"], [0.6666666666666666, \"#ed7953\"], [0.7777777777777778, \"#fb9f3a\"], [0.8888888888888888, \"#fdca26\"], [1.0, \"#f0f921\"]]}, \"colorway\": [\"#636efa\", \"#EF553B\", \"#00cc96\", \"#ab63fa\", \"#FFA15A\", \"#19d3f3\", \"#FF6692\", \"#B6E880\", \"#FF97FF\", \"#FECB52\"], \"font\": {\"color\": \"#2a3f5f\"}, \"geo\": {\"bgcolor\": \"white\", \"lakecolor\": \"white\", \"landcolor\": \"#E5ECF6\", \"showlakes\": true, \"showland\": true, \"subunitcolor\": \"white\"}, \"hoverlabel\": {\"align\": \"left\"}, \"hovermode\": \"closest\", \"mapbox\": {\"style\": \"light\"}, \"paper_bgcolor\": \"white\", \"plot_bgcolor\": \"#E5ECF6\", \"polar\": {\"angularaxis\": {\"gridcolor\": \"white\", \"linecolor\": \"white\", \"ticks\": \"\"}, \"bgcolor\": \"#E5ECF6\", \"radialaxis\": {\"gridcolor\": \"white\", \"linecolor\": \"white\", \"ticks\": \"\"}}, \"scene\": {\"xaxis\": {\"backgroundcolor\": \"#E5ECF6\", \"gridcolor\": \"white\", \"gridwidth\": 2, \"linecolor\": \"white\", \"showbackground\": true, \"ticks\": \"\", \"zerolinecolor\": \"white\"}, \"yaxis\": {\"backgroundcolor\": \"#E5ECF6\", \"gridcolor\": \"white\", \"gridwidth\": 2, \"linecolor\": \"white\", \"showbackground\": true, \"ticks\": \"\", \"zerolinecolor\": \"white\"}, \"zaxis\": {\"backgroundcolor\": \"#E5ECF6\", \"gridcolor\": \"white\", \"gridwidth\": 2, \"linecolor\": \"white\", \"showbackground\": true, \"ticks\": \"\", \"zerolinecolor\": \"white\"}}, \"shapedefaults\": {\"line\": {\"color\": \"#2a3f5f\"}}, \"ternary\": {\"aaxis\": {\"gridcolor\": \"white\", \"linecolor\": \"white\", \"ticks\": \"\"}, \"baxis\": {\"gridcolor\": \"white\", \"linecolor\": \"white\", \"ticks\": \"\"}, \"bgcolor\": \"#E5ECF6\", \"caxis\": {\"gridcolor\": \"white\", \"linecolor\": \"white\", \"ticks\": \"\"}}, \"title\": {\"x\": 0.05}, \"xaxis\": {\"automargin\": true, \"gridcolor\": \"white\", \"linecolor\": \"white\", \"ticks\": \"\", \"title\": {\"standoff\": 15}, \"zerolinecolor\": \"white\", \"zerolinewidth\": 2}, \"yaxis\": {\"automargin\": true, \"gridcolor\": \"white\", \"linecolor\": \"white\", \"ticks\": \"\", \"title\": {\"standoff\": 15}, \"zerolinecolor\": \"white\", \"zerolinewidth\": 2}}}, \"title\": {\"font\": {\"color\": \"#4D5663\"}}, \"xaxis\": {\"gridcolor\": \"#E1E5ED\", \"showgrid\": true, \"tickfont\": {\"color\": \"#4D5663\"}, \"title\": {\"font\": {\"color\": \"#4D5663\"}, \"text\": \"\"}, \"zerolinecolor\": \"#E1E5ED\"}, \"yaxis\": {\"gridcolor\": \"#E1E5ED\", \"showgrid\": true, \"tickfont\": {\"color\": \"#4D5663\"}, \"title\": {\"font\": {\"color\": \"#4D5663\"}, \"text\": \"\"}, \"zerolinecolor\": \"#E1E5ED\"}},\n",
       "                        {\"showLink\": true, \"linkText\": \"Export to plot.ly\", \"plotlyServerURL\": \"https://plot.ly\", \"responsive\": true}\n",
       "                    ).then(function(){\n",
       "                            \n",
       "var gd = document.getElementById('61324541-099d-4418-a15a-1f2818d82aa2');\n",
       "var x = new MutationObserver(function (mutations, observer) {{\n",
       "        var display = window.getComputedStyle(gd).display;\n",
       "        if (!display || display === 'none') {{\n",
       "            console.log([gd, 'removed!']);\n",
       "            Plotly.purge(gd);\n",
       "            observer.disconnect();\n",
       "        }}\n",
       "}});\n",
       "\n",
       "// Listen for the removal of the full notebook cells\n",
       "var notebookContainer = gd.closest('#notebook-container');\n",
       "if (notebookContainer) {{\n",
       "    x.observe(notebookContainer, {childList: true});\n",
       "}}\n",
       "\n",
       "// Listen for the clearing of the current output cell\n",
       "var outputEl = gd.closest('.output');\n",
       "if (outputEl) {{\n",
       "    x.observe(outputEl, {childList: true});\n",
       "}}\n",
       "\n",
       "                        })\n",
       "                };\n",
       "                });\n",
       "            </script>\n",
       "        </div>"
      ]
     },
     "metadata": {},
     "output_type": "display_data"
    }
   ],
   "source": [
    "df.iplot(kind='scatter',x='A',y='B',mode='markers',size=10)"
   ]
  },
  {
   "cell_type": "code",
   "execution_count": null,
   "metadata": {},
   "outputs": [],
   "source": []
  },
  {
   "cell_type": "markdown",
   "metadata": {},
   "source": [
    "## Bar Plots"
   ]
  },
  {
   "cell_type": "code",
   "execution_count": 20,
   "metadata": {},
   "outputs": [
    {
     "data": {
      "application/vnd.plotly.v1+json": {
       "config": {
        "linkText": "Export to plot.ly",
        "plotlyServerURL": "https://plot.ly",
        "showLink": true
       },
       "data": [
        {
         "marker": {
          "color": "rgba(255, 153, 51, 0.6)",
          "line": {
           "color": "rgba(255, 153, 51, 1.0)",
           "width": 1
          }
         },
         "name": "Values",
         "orientation": "v",
         "text": "",
         "type": "bar",
         "x": [
          "A",
          "B",
          "C"
         ],
         "y": [
          32,
          43,
          50
         ]
        }
       ],
       "layout": {
        "legend": {
         "bgcolor": "#F5F6F9",
         "font": {
          "color": "#4D5663"
         }
        },
        "paper_bgcolor": "#F5F6F9",
        "plot_bgcolor": "#F5F6F9",
        "template": {
         "data": {
          "bar": [
           {
            "error_x": {
             "color": "#2a3f5f"
            },
            "error_y": {
             "color": "#2a3f5f"
            },
            "marker": {
             "line": {
              "color": "#E5ECF6",
              "width": 0.5
             }
            },
            "type": "bar"
           }
          ],
          "barpolar": [
           {
            "marker": {
             "line": {
              "color": "#E5ECF6",
              "width": 0.5
             }
            },
            "type": "barpolar"
           }
          ],
          "carpet": [
           {
            "aaxis": {
             "endlinecolor": "#2a3f5f",
             "gridcolor": "white",
             "linecolor": "white",
             "minorgridcolor": "white",
             "startlinecolor": "#2a3f5f"
            },
            "baxis": {
             "endlinecolor": "#2a3f5f",
             "gridcolor": "white",
             "linecolor": "white",
             "minorgridcolor": "white",
             "startlinecolor": "#2a3f5f"
            },
            "type": "carpet"
           }
          ],
          "choropleth": [
           {
            "colorbar": {
             "outlinewidth": 0,
             "ticks": ""
            },
            "type": "choropleth"
           }
          ],
          "contour": [
           {
            "colorbar": {
             "outlinewidth": 0,
             "ticks": ""
            },
            "colorscale": [
             [
              0,
              "#0d0887"
             ],
             [
              0.1111111111111111,
              "#46039f"
             ],
             [
              0.2222222222222222,
              "#7201a8"
             ],
             [
              0.3333333333333333,
              "#9c179e"
             ],
             [
              0.4444444444444444,
              "#bd3786"
             ],
             [
              0.5555555555555556,
              "#d8576b"
             ],
             [
              0.6666666666666666,
              "#ed7953"
             ],
             [
              0.7777777777777778,
              "#fb9f3a"
             ],
             [
              0.8888888888888888,
              "#fdca26"
             ],
             [
              1,
              "#f0f921"
             ]
            ],
            "type": "contour"
           }
          ],
          "contourcarpet": [
           {
            "colorbar": {
             "outlinewidth": 0,
             "ticks": ""
            },
            "type": "contourcarpet"
           }
          ],
          "heatmap": [
           {
            "colorbar": {
             "outlinewidth": 0,
             "ticks": ""
            },
            "colorscale": [
             [
              0,
              "#0d0887"
             ],
             [
              0.1111111111111111,
              "#46039f"
             ],
             [
              0.2222222222222222,
              "#7201a8"
             ],
             [
              0.3333333333333333,
              "#9c179e"
             ],
             [
              0.4444444444444444,
              "#bd3786"
             ],
             [
              0.5555555555555556,
              "#d8576b"
             ],
             [
              0.6666666666666666,
              "#ed7953"
             ],
             [
              0.7777777777777778,
              "#fb9f3a"
             ],
             [
              0.8888888888888888,
              "#fdca26"
             ],
             [
              1,
              "#f0f921"
             ]
            ],
            "type": "heatmap"
           }
          ],
          "heatmapgl": [
           {
            "colorbar": {
             "outlinewidth": 0,
             "ticks": ""
            },
            "colorscale": [
             [
              0,
              "#0d0887"
             ],
             [
              0.1111111111111111,
              "#46039f"
             ],
             [
              0.2222222222222222,
              "#7201a8"
             ],
             [
              0.3333333333333333,
              "#9c179e"
             ],
             [
              0.4444444444444444,
              "#bd3786"
             ],
             [
              0.5555555555555556,
              "#d8576b"
             ],
             [
              0.6666666666666666,
              "#ed7953"
             ],
             [
              0.7777777777777778,
              "#fb9f3a"
             ],
             [
              0.8888888888888888,
              "#fdca26"
             ],
             [
              1,
              "#f0f921"
             ]
            ],
            "type": "heatmapgl"
           }
          ],
          "histogram": [
           {
            "marker": {
             "colorbar": {
              "outlinewidth": 0,
              "ticks": ""
             }
            },
            "type": "histogram"
           }
          ],
          "histogram2d": [
           {
            "colorbar": {
             "outlinewidth": 0,
             "ticks": ""
            },
            "colorscale": [
             [
              0,
              "#0d0887"
             ],
             [
              0.1111111111111111,
              "#46039f"
             ],
             [
              0.2222222222222222,
              "#7201a8"
             ],
             [
              0.3333333333333333,
              "#9c179e"
             ],
             [
              0.4444444444444444,
              "#bd3786"
             ],
             [
              0.5555555555555556,
              "#d8576b"
             ],
             [
              0.6666666666666666,
              "#ed7953"
             ],
             [
              0.7777777777777778,
              "#fb9f3a"
             ],
             [
              0.8888888888888888,
              "#fdca26"
             ],
             [
              1,
              "#f0f921"
             ]
            ],
            "type": "histogram2d"
           }
          ],
          "histogram2dcontour": [
           {
            "colorbar": {
             "outlinewidth": 0,
             "ticks": ""
            },
            "colorscale": [
             [
              0,
              "#0d0887"
             ],
             [
              0.1111111111111111,
              "#46039f"
             ],
             [
              0.2222222222222222,
              "#7201a8"
             ],
             [
              0.3333333333333333,
              "#9c179e"
             ],
             [
              0.4444444444444444,
              "#bd3786"
             ],
             [
              0.5555555555555556,
              "#d8576b"
             ],
             [
              0.6666666666666666,
              "#ed7953"
             ],
             [
              0.7777777777777778,
              "#fb9f3a"
             ],
             [
              0.8888888888888888,
              "#fdca26"
             ],
             [
              1,
              "#f0f921"
             ]
            ],
            "type": "histogram2dcontour"
           }
          ],
          "mesh3d": [
           {
            "colorbar": {
             "outlinewidth": 0,
             "ticks": ""
            },
            "type": "mesh3d"
           }
          ],
          "parcoords": [
           {
            "line": {
             "colorbar": {
              "outlinewidth": 0,
              "ticks": ""
             }
            },
            "type": "parcoords"
           }
          ],
          "pie": [
           {
            "automargin": true,
            "type": "pie"
           }
          ],
          "scatter": [
           {
            "marker": {
             "colorbar": {
              "outlinewidth": 0,
              "ticks": ""
             }
            },
            "type": "scatter"
           }
          ],
          "scatter3d": [
           {
            "line": {
             "colorbar": {
              "outlinewidth": 0,
              "ticks": ""
             }
            },
            "marker": {
             "colorbar": {
              "outlinewidth": 0,
              "ticks": ""
             }
            },
            "type": "scatter3d"
           }
          ],
          "scattercarpet": [
           {
            "marker": {
             "colorbar": {
              "outlinewidth": 0,
              "ticks": ""
             }
            },
            "type": "scattercarpet"
           }
          ],
          "scattergeo": [
           {
            "marker": {
             "colorbar": {
              "outlinewidth": 0,
              "ticks": ""
             }
            },
            "type": "scattergeo"
           }
          ],
          "scattergl": [
           {
            "marker": {
             "colorbar": {
              "outlinewidth": 0,
              "ticks": ""
             }
            },
            "type": "scattergl"
           }
          ],
          "scattermapbox": [
           {
            "marker": {
             "colorbar": {
              "outlinewidth": 0,
              "ticks": ""
             }
            },
            "type": "scattermapbox"
           }
          ],
          "scatterpolar": [
           {
            "marker": {
             "colorbar": {
              "outlinewidth": 0,
              "ticks": ""
             }
            },
            "type": "scatterpolar"
           }
          ],
          "scatterpolargl": [
           {
            "marker": {
             "colorbar": {
              "outlinewidth": 0,
              "ticks": ""
             }
            },
            "type": "scatterpolargl"
           }
          ],
          "scatterternary": [
           {
            "marker": {
             "colorbar": {
              "outlinewidth": 0,
              "ticks": ""
             }
            },
            "type": "scatterternary"
           }
          ],
          "surface": [
           {
            "colorbar": {
             "outlinewidth": 0,
             "ticks": ""
            },
            "colorscale": [
             [
              0,
              "#0d0887"
             ],
             [
              0.1111111111111111,
              "#46039f"
             ],
             [
              0.2222222222222222,
              "#7201a8"
             ],
             [
              0.3333333333333333,
              "#9c179e"
             ],
             [
              0.4444444444444444,
              "#bd3786"
             ],
             [
              0.5555555555555556,
              "#d8576b"
             ],
             [
              0.6666666666666666,
              "#ed7953"
             ],
             [
              0.7777777777777778,
              "#fb9f3a"
             ],
             [
              0.8888888888888888,
              "#fdca26"
             ],
             [
              1,
              "#f0f921"
             ]
            ],
            "type": "surface"
           }
          ],
          "table": [
           {
            "cells": {
             "fill": {
              "color": "#EBF0F8"
             },
             "line": {
              "color": "white"
             }
            },
            "header": {
             "fill": {
              "color": "#C8D4E3"
             },
             "line": {
              "color": "white"
             }
            },
            "type": "table"
           }
          ]
         },
         "layout": {
          "annotationdefaults": {
           "arrowcolor": "#2a3f5f",
           "arrowhead": 0,
           "arrowwidth": 1
          },
          "coloraxis": {
           "colorbar": {
            "outlinewidth": 0,
            "ticks": ""
           }
          },
          "colorscale": {
           "diverging": [
            [
             0,
             "#8e0152"
            ],
            [
             0.1,
             "#c51b7d"
            ],
            [
             0.2,
             "#de77ae"
            ],
            [
             0.3,
             "#f1b6da"
            ],
            [
             0.4,
             "#fde0ef"
            ],
            [
             0.5,
             "#f7f7f7"
            ],
            [
             0.6,
             "#e6f5d0"
            ],
            [
             0.7,
             "#b8e186"
            ],
            [
             0.8,
             "#7fbc41"
            ],
            [
             0.9,
             "#4d9221"
            ],
            [
             1,
             "#276419"
            ]
           ],
           "sequential": [
            [
             0,
             "#0d0887"
            ],
            [
             0.1111111111111111,
             "#46039f"
            ],
            [
             0.2222222222222222,
             "#7201a8"
            ],
            [
             0.3333333333333333,
             "#9c179e"
            ],
            [
             0.4444444444444444,
             "#bd3786"
            ],
            [
             0.5555555555555556,
             "#d8576b"
            ],
            [
             0.6666666666666666,
             "#ed7953"
            ],
            [
             0.7777777777777778,
             "#fb9f3a"
            ],
            [
             0.8888888888888888,
             "#fdca26"
            ],
            [
             1,
             "#f0f921"
            ]
           ],
           "sequentialminus": [
            [
             0,
             "#0d0887"
            ],
            [
             0.1111111111111111,
             "#46039f"
            ],
            [
             0.2222222222222222,
             "#7201a8"
            ],
            [
             0.3333333333333333,
             "#9c179e"
            ],
            [
             0.4444444444444444,
             "#bd3786"
            ],
            [
             0.5555555555555556,
             "#d8576b"
            ],
            [
             0.6666666666666666,
             "#ed7953"
            ],
            [
             0.7777777777777778,
             "#fb9f3a"
            ],
            [
             0.8888888888888888,
             "#fdca26"
            ],
            [
             1,
             "#f0f921"
            ]
           ]
          },
          "colorway": [
           "#636efa",
           "#EF553B",
           "#00cc96",
           "#ab63fa",
           "#FFA15A",
           "#19d3f3",
           "#FF6692",
           "#B6E880",
           "#FF97FF",
           "#FECB52"
          ],
          "font": {
           "color": "#2a3f5f"
          },
          "geo": {
           "bgcolor": "white",
           "lakecolor": "white",
           "landcolor": "#E5ECF6",
           "showlakes": true,
           "showland": true,
           "subunitcolor": "white"
          },
          "hoverlabel": {
           "align": "left"
          },
          "hovermode": "closest",
          "mapbox": {
           "style": "light"
          },
          "paper_bgcolor": "white",
          "plot_bgcolor": "#E5ECF6",
          "polar": {
           "angularaxis": {
            "gridcolor": "white",
            "linecolor": "white",
            "ticks": ""
           },
           "bgcolor": "#E5ECF6",
           "radialaxis": {
            "gridcolor": "white",
            "linecolor": "white",
            "ticks": ""
           }
          },
          "scene": {
           "xaxis": {
            "backgroundcolor": "#E5ECF6",
            "gridcolor": "white",
            "gridwidth": 2,
            "linecolor": "white",
            "showbackground": true,
            "ticks": "",
            "zerolinecolor": "white"
           },
           "yaxis": {
            "backgroundcolor": "#E5ECF6",
            "gridcolor": "white",
            "gridwidth": 2,
            "linecolor": "white",
            "showbackground": true,
            "ticks": "",
            "zerolinecolor": "white"
           },
           "zaxis": {
            "backgroundcolor": "#E5ECF6",
            "gridcolor": "white",
            "gridwidth": 2,
            "linecolor": "white",
            "showbackground": true,
            "ticks": "",
            "zerolinecolor": "white"
           }
          },
          "shapedefaults": {
           "line": {
            "color": "#2a3f5f"
           }
          },
          "ternary": {
           "aaxis": {
            "gridcolor": "white",
            "linecolor": "white",
            "ticks": ""
           },
           "baxis": {
            "gridcolor": "white",
            "linecolor": "white",
            "ticks": ""
           },
           "bgcolor": "#E5ECF6",
           "caxis": {
            "gridcolor": "white",
            "linecolor": "white",
            "ticks": ""
           }
          },
          "title": {
           "x": 0.05
          },
          "xaxis": {
           "automargin": true,
           "gridcolor": "white",
           "linecolor": "white",
           "ticks": "",
           "title": {
            "standoff": 15
           },
           "zerolinecolor": "white",
           "zerolinewidth": 2
          },
          "yaxis": {
           "automargin": true,
           "gridcolor": "white",
           "linecolor": "white",
           "ticks": "",
           "title": {
            "standoff": 15
           },
           "zerolinecolor": "white",
           "zerolinewidth": 2
          }
         }
        },
        "title": {
         "font": {
          "color": "#4D5663"
         }
        },
        "xaxis": {
         "gridcolor": "#E1E5ED",
         "showgrid": true,
         "tickfont": {
          "color": "#4D5663"
         },
         "title": {
          "font": {
           "color": "#4D5663"
          },
          "text": ""
         },
         "zerolinecolor": "#E1E5ED"
        },
        "yaxis": {
         "gridcolor": "#E1E5ED",
         "showgrid": true,
         "tickfont": {
          "color": "#4D5663"
         },
         "title": {
          "font": {
           "color": "#4D5663"
          },
          "text": ""
         },
         "zerolinecolor": "#E1E5ED"
        }
       }
      },
      "text/html": [
       "<div>\n",
       "        \n",
       "        \n",
       "            <div id=\"1c9787f9-424e-49fc-86d8-25395e330516\" class=\"plotly-graph-div\" style=\"height:525px; width:100%;\"></div>\n",
       "            <script type=\"text/javascript\">\n",
       "                require([\"plotly\"], function(Plotly) {\n",
       "                    window.PLOTLYENV=window.PLOTLYENV || {};\n",
       "                    window.PLOTLYENV.BASE_URL='https://plot.ly';\n",
       "                    \n",
       "                if (document.getElementById(\"1c9787f9-424e-49fc-86d8-25395e330516\")) {\n",
       "                    Plotly.newPlot(\n",
       "                        '1c9787f9-424e-49fc-86d8-25395e330516',\n",
       "                        [{\"marker\": {\"color\": \"rgba(255, 153, 51, 0.6)\", \"line\": {\"color\": \"rgba(255, 153, 51, 1.0)\", \"width\": 1}}, \"name\": \"Values\", \"orientation\": \"v\", \"text\": \"\", \"type\": \"bar\", \"x\": [\"A\", \"B\", \"C\"], \"y\": [32, 43, 50]}],\n",
       "                        {\"legend\": {\"bgcolor\": \"#F5F6F9\", \"font\": {\"color\": \"#4D5663\"}}, \"paper_bgcolor\": \"#F5F6F9\", \"plot_bgcolor\": \"#F5F6F9\", \"template\": {\"data\": {\"bar\": [{\"error_x\": {\"color\": \"#2a3f5f\"}, \"error_y\": {\"color\": \"#2a3f5f\"}, \"marker\": {\"line\": {\"color\": \"#E5ECF6\", \"width\": 0.5}}, \"type\": \"bar\"}], \"barpolar\": [{\"marker\": {\"line\": {\"color\": \"#E5ECF6\", \"width\": 0.5}}, \"type\": \"barpolar\"}], \"carpet\": [{\"aaxis\": {\"endlinecolor\": \"#2a3f5f\", \"gridcolor\": \"white\", \"linecolor\": \"white\", \"minorgridcolor\": \"white\", \"startlinecolor\": \"#2a3f5f\"}, \"baxis\": {\"endlinecolor\": \"#2a3f5f\", \"gridcolor\": \"white\", \"linecolor\": \"white\", \"minorgridcolor\": \"white\", \"startlinecolor\": \"#2a3f5f\"}, \"type\": \"carpet\"}], \"choropleth\": [{\"colorbar\": {\"outlinewidth\": 0, \"ticks\": \"\"}, \"type\": \"choropleth\"}], \"contour\": [{\"colorbar\": {\"outlinewidth\": 0, \"ticks\": \"\"}, \"colorscale\": [[0.0, \"#0d0887\"], [0.1111111111111111, \"#46039f\"], [0.2222222222222222, \"#7201a8\"], [0.3333333333333333, \"#9c179e\"], [0.4444444444444444, \"#bd3786\"], [0.5555555555555556, \"#d8576b\"], [0.6666666666666666, \"#ed7953\"], [0.7777777777777778, \"#fb9f3a\"], [0.8888888888888888, \"#fdca26\"], [1.0, \"#f0f921\"]], \"type\": \"contour\"}], \"contourcarpet\": [{\"colorbar\": {\"outlinewidth\": 0, \"ticks\": \"\"}, \"type\": \"contourcarpet\"}], \"heatmap\": [{\"colorbar\": {\"outlinewidth\": 0, \"ticks\": \"\"}, \"colorscale\": [[0.0, \"#0d0887\"], [0.1111111111111111, \"#46039f\"], [0.2222222222222222, \"#7201a8\"], [0.3333333333333333, \"#9c179e\"], [0.4444444444444444, \"#bd3786\"], [0.5555555555555556, \"#d8576b\"], [0.6666666666666666, \"#ed7953\"], [0.7777777777777778, \"#fb9f3a\"], [0.8888888888888888, \"#fdca26\"], [1.0, \"#f0f921\"]], \"type\": \"heatmap\"}], \"heatmapgl\": [{\"colorbar\": {\"outlinewidth\": 0, \"ticks\": \"\"}, \"colorscale\": [[0.0, \"#0d0887\"], [0.1111111111111111, \"#46039f\"], [0.2222222222222222, \"#7201a8\"], [0.3333333333333333, \"#9c179e\"], [0.4444444444444444, \"#bd3786\"], [0.5555555555555556, \"#d8576b\"], [0.6666666666666666, \"#ed7953\"], [0.7777777777777778, \"#fb9f3a\"], [0.8888888888888888, \"#fdca26\"], [1.0, \"#f0f921\"]], \"type\": \"heatmapgl\"}], \"histogram\": [{\"marker\": {\"colorbar\": {\"outlinewidth\": 0, \"ticks\": \"\"}}, \"type\": \"histogram\"}], \"histogram2d\": [{\"colorbar\": {\"outlinewidth\": 0, \"ticks\": \"\"}, \"colorscale\": [[0.0, \"#0d0887\"], [0.1111111111111111, \"#46039f\"], [0.2222222222222222, \"#7201a8\"], [0.3333333333333333, \"#9c179e\"], [0.4444444444444444, \"#bd3786\"], [0.5555555555555556, \"#d8576b\"], [0.6666666666666666, \"#ed7953\"], [0.7777777777777778, \"#fb9f3a\"], [0.8888888888888888, \"#fdca26\"], [1.0, \"#f0f921\"]], \"type\": \"histogram2d\"}], \"histogram2dcontour\": [{\"colorbar\": {\"outlinewidth\": 0, \"ticks\": \"\"}, \"colorscale\": [[0.0, \"#0d0887\"], [0.1111111111111111, \"#46039f\"], [0.2222222222222222, \"#7201a8\"], [0.3333333333333333, \"#9c179e\"], [0.4444444444444444, \"#bd3786\"], [0.5555555555555556, \"#d8576b\"], [0.6666666666666666, \"#ed7953\"], [0.7777777777777778, \"#fb9f3a\"], [0.8888888888888888, \"#fdca26\"], [1.0, \"#f0f921\"]], \"type\": \"histogram2dcontour\"}], \"mesh3d\": [{\"colorbar\": {\"outlinewidth\": 0, \"ticks\": \"\"}, \"type\": \"mesh3d\"}], \"parcoords\": [{\"line\": {\"colorbar\": {\"outlinewidth\": 0, \"ticks\": \"\"}}, \"type\": \"parcoords\"}], \"pie\": [{\"automargin\": true, \"type\": \"pie\"}], \"scatter\": [{\"marker\": {\"colorbar\": {\"outlinewidth\": 0, \"ticks\": \"\"}}, \"type\": \"scatter\"}], \"scatter3d\": [{\"line\": {\"colorbar\": {\"outlinewidth\": 0, \"ticks\": \"\"}}, \"marker\": {\"colorbar\": {\"outlinewidth\": 0, \"ticks\": \"\"}}, \"type\": \"scatter3d\"}], \"scattercarpet\": [{\"marker\": {\"colorbar\": {\"outlinewidth\": 0, \"ticks\": \"\"}}, \"type\": \"scattercarpet\"}], \"scattergeo\": [{\"marker\": {\"colorbar\": {\"outlinewidth\": 0, \"ticks\": \"\"}}, \"type\": \"scattergeo\"}], \"scattergl\": [{\"marker\": {\"colorbar\": {\"outlinewidth\": 0, \"ticks\": \"\"}}, \"type\": \"scattergl\"}], \"scattermapbox\": [{\"marker\": {\"colorbar\": {\"outlinewidth\": 0, \"ticks\": \"\"}}, \"type\": \"scattermapbox\"}], \"scatterpolar\": [{\"marker\": {\"colorbar\": {\"outlinewidth\": 0, \"ticks\": \"\"}}, \"type\": \"scatterpolar\"}], \"scatterpolargl\": [{\"marker\": {\"colorbar\": {\"outlinewidth\": 0, \"ticks\": \"\"}}, \"type\": \"scatterpolargl\"}], \"scatterternary\": [{\"marker\": {\"colorbar\": {\"outlinewidth\": 0, \"ticks\": \"\"}}, \"type\": \"scatterternary\"}], \"surface\": [{\"colorbar\": {\"outlinewidth\": 0, \"ticks\": \"\"}, \"colorscale\": [[0.0, \"#0d0887\"], [0.1111111111111111, \"#46039f\"], [0.2222222222222222, \"#7201a8\"], [0.3333333333333333, \"#9c179e\"], [0.4444444444444444, \"#bd3786\"], [0.5555555555555556, \"#d8576b\"], [0.6666666666666666, \"#ed7953\"], [0.7777777777777778, \"#fb9f3a\"], [0.8888888888888888, \"#fdca26\"], [1.0, \"#f0f921\"]], \"type\": \"surface\"}], \"table\": [{\"cells\": {\"fill\": {\"color\": \"#EBF0F8\"}, \"line\": {\"color\": \"white\"}}, \"header\": {\"fill\": {\"color\": \"#C8D4E3\"}, \"line\": {\"color\": \"white\"}}, \"type\": \"table\"}]}, \"layout\": {\"annotationdefaults\": {\"arrowcolor\": \"#2a3f5f\", \"arrowhead\": 0, \"arrowwidth\": 1}, \"coloraxis\": {\"colorbar\": {\"outlinewidth\": 0, \"ticks\": \"\"}}, \"colorscale\": {\"diverging\": [[0, \"#8e0152\"], [0.1, \"#c51b7d\"], [0.2, \"#de77ae\"], [0.3, \"#f1b6da\"], [0.4, \"#fde0ef\"], [0.5, \"#f7f7f7\"], [0.6, \"#e6f5d0\"], [0.7, \"#b8e186\"], [0.8, \"#7fbc41\"], [0.9, \"#4d9221\"], [1, \"#276419\"]], \"sequential\": [[0.0, \"#0d0887\"], [0.1111111111111111, \"#46039f\"], [0.2222222222222222, \"#7201a8\"], [0.3333333333333333, \"#9c179e\"], [0.4444444444444444, \"#bd3786\"], [0.5555555555555556, \"#d8576b\"], [0.6666666666666666, \"#ed7953\"], [0.7777777777777778, \"#fb9f3a\"], [0.8888888888888888, \"#fdca26\"], [1.0, \"#f0f921\"]], \"sequentialminus\": [[0.0, \"#0d0887\"], [0.1111111111111111, \"#46039f\"], [0.2222222222222222, \"#7201a8\"], [0.3333333333333333, \"#9c179e\"], [0.4444444444444444, \"#bd3786\"], [0.5555555555555556, \"#d8576b\"], [0.6666666666666666, \"#ed7953\"], [0.7777777777777778, \"#fb9f3a\"], [0.8888888888888888, \"#fdca26\"], [1.0, \"#f0f921\"]]}, \"colorway\": [\"#636efa\", \"#EF553B\", \"#00cc96\", \"#ab63fa\", \"#FFA15A\", \"#19d3f3\", \"#FF6692\", \"#B6E880\", \"#FF97FF\", \"#FECB52\"], \"font\": {\"color\": \"#2a3f5f\"}, \"geo\": {\"bgcolor\": \"white\", \"lakecolor\": \"white\", \"landcolor\": \"#E5ECF6\", \"showlakes\": true, \"showland\": true, \"subunitcolor\": \"white\"}, \"hoverlabel\": {\"align\": \"left\"}, \"hovermode\": \"closest\", \"mapbox\": {\"style\": \"light\"}, \"paper_bgcolor\": \"white\", \"plot_bgcolor\": \"#E5ECF6\", \"polar\": {\"angularaxis\": {\"gridcolor\": \"white\", \"linecolor\": \"white\", \"ticks\": \"\"}, \"bgcolor\": \"#E5ECF6\", \"radialaxis\": {\"gridcolor\": \"white\", \"linecolor\": \"white\", \"ticks\": \"\"}}, \"scene\": {\"xaxis\": {\"backgroundcolor\": \"#E5ECF6\", \"gridcolor\": \"white\", \"gridwidth\": 2, \"linecolor\": \"white\", \"showbackground\": true, \"ticks\": \"\", \"zerolinecolor\": \"white\"}, \"yaxis\": {\"backgroundcolor\": \"#E5ECF6\", \"gridcolor\": \"white\", \"gridwidth\": 2, \"linecolor\": \"white\", \"showbackground\": true, \"ticks\": \"\", \"zerolinecolor\": \"white\"}, \"zaxis\": {\"backgroundcolor\": \"#E5ECF6\", \"gridcolor\": \"white\", \"gridwidth\": 2, \"linecolor\": \"white\", \"showbackground\": true, \"ticks\": \"\", \"zerolinecolor\": \"white\"}}, \"shapedefaults\": {\"line\": {\"color\": \"#2a3f5f\"}}, \"ternary\": {\"aaxis\": {\"gridcolor\": \"white\", \"linecolor\": \"white\", \"ticks\": \"\"}, \"baxis\": {\"gridcolor\": \"white\", \"linecolor\": \"white\", \"ticks\": \"\"}, \"bgcolor\": \"#E5ECF6\", \"caxis\": {\"gridcolor\": \"white\", \"linecolor\": \"white\", \"ticks\": \"\"}}, \"title\": {\"x\": 0.05}, \"xaxis\": {\"automargin\": true, \"gridcolor\": \"white\", \"linecolor\": \"white\", \"ticks\": \"\", \"title\": {\"standoff\": 15}, \"zerolinecolor\": \"white\", \"zerolinewidth\": 2}, \"yaxis\": {\"automargin\": true, \"gridcolor\": \"white\", \"linecolor\": \"white\", \"ticks\": \"\", \"title\": {\"standoff\": 15}, \"zerolinecolor\": \"white\", \"zerolinewidth\": 2}}}, \"title\": {\"font\": {\"color\": \"#4D5663\"}}, \"xaxis\": {\"gridcolor\": \"#E1E5ED\", \"showgrid\": true, \"tickfont\": {\"color\": \"#4D5663\"}, \"title\": {\"font\": {\"color\": \"#4D5663\"}, \"text\": \"\"}, \"zerolinecolor\": \"#E1E5ED\"}, \"yaxis\": {\"gridcolor\": \"#E1E5ED\", \"showgrid\": true, \"tickfont\": {\"color\": \"#4D5663\"}, \"title\": {\"font\": {\"color\": \"#4D5663\"}, \"text\": \"\"}, \"zerolinecolor\": \"#E1E5ED\"}},\n",
       "                        {\"showLink\": true, \"linkText\": \"Export to plot.ly\", \"plotlyServerURL\": \"https://plot.ly\", \"responsive\": true}\n",
       "                    ).then(function(){\n",
       "                            \n",
       "var gd = document.getElementById('1c9787f9-424e-49fc-86d8-25395e330516');\n",
       "var x = new MutationObserver(function (mutations, observer) {{\n",
       "        var display = window.getComputedStyle(gd).display;\n",
       "        if (!display || display === 'none') {{\n",
       "            console.log([gd, 'removed!']);\n",
       "            Plotly.purge(gd);\n",
       "            observer.disconnect();\n",
       "        }}\n",
       "}});\n",
       "\n",
       "// Listen for the removal of the full notebook cells\n",
       "var notebookContainer = gd.closest('#notebook-container');\n",
       "if (notebookContainer) {{\n",
       "    x.observe(notebookContainer, {childList: true});\n",
       "}}\n",
       "\n",
       "// Listen for the clearing of the current output cell\n",
       "var outputEl = gd.closest('.output');\n",
       "if (outputEl) {{\n",
       "    x.observe(outputEl, {childList: true});\n",
       "}}\n",
       "\n",
       "                        })\n",
       "                };\n",
       "                });\n",
       "            </script>\n",
       "        </div>"
      ]
     },
     "metadata": {},
     "output_type": "display_data"
    }
   ],
   "source": [
    "df2.iplot(kind='bar',x='Category',y='Values')"
   ]
  },
  {
   "cell_type": "code",
   "execution_count": 12,
   "metadata": {},
   "outputs": [
    {
     "data": {
      "application/vnd.plotly.v1+json": {
       "config": {
        "linkText": "Export to plot.ly",
        "plotlyServerURL": "https://plot.ly",
        "showLink": true
       },
       "data": [
        {
         "marker": {
          "color": "rgba(255, 153, 51, 0.6)",
          "line": {
           "color": "rgba(255, 153, 51, 1.0)",
           "width": 1
          }
         },
         "name": "None",
         "orientation": "v",
         "text": "",
         "type": "bar",
         "x": [
          "A",
          "B",
          "C",
          "D"
         ],
         "y": [
          100,
          100,
          100,
          100
         ]
        }
       ],
       "layout": {
        "legend": {
         "bgcolor": "#F5F6F9",
         "font": {
          "color": "#4D5663"
         }
        },
        "paper_bgcolor": "#F5F6F9",
        "plot_bgcolor": "#F5F6F9",
        "template": {
         "data": {
          "bar": [
           {
            "error_x": {
             "color": "#2a3f5f"
            },
            "error_y": {
             "color": "#2a3f5f"
            },
            "marker": {
             "line": {
              "color": "#E5ECF6",
              "width": 0.5
             }
            },
            "type": "bar"
           }
          ],
          "barpolar": [
           {
            "marker": {
             "line": {
              "color": "#E5ECF6",
              "width": 0.5
             }
            },
            "type": "barpolar"
           }
          ],
          "carpet": [
           {
            "aaxis": {
             "endlinecolor": "#2a3f5f",
             "gridcolor": "white",
             "linecolor": "white",
             "minorgridcolor": "white",
             "startlinecolor": "#2a3f5f"
            },
            "baxis": {
             "endlinecolor": "#2a3f5f",
             "gridcolor": "white",
             "linecolor": "white",
             "minorgridcolor": "white",
             "startlinecolor": "#2a3f5f"
            },
            "type": "carpet"
           }
          ],
          "choropleth": [
           {
            "colorbar": {
             "outlinewidth": 0,
             "ticks": ""
            },
            "type": "choropleth"
           }
          ],
          "contour": [
           {
            "colorbar": {
             "outlinewidth": 0,
             "ticks": ""
            },
            "colorscale": [
             [
              0,
              "#0d0887"
             ],
             [
              0.1111111111111111,
              "#46039f"
             ],
             [
              0.2222222222222222,
              "#7201a8"
             ],
             [
              0.3333333333333333,
              "#9c179e"
             ],
             [
              0.4444444444444444,
              "#bd3786"
             ],
             [
              0.5555555555555556,
              "#d8576b"
             ],
             [
              0.6666666666666666,
              "#ed7953"
             ],
             [
              0.7777777777777778,
              "#fb9f3a"
             ],
             [
              0.8888888888888888,
              "#fdca26"
             ],
             [
              1,
              "#f0f921"
             ]
            ],
            "type": "contour"
           }
          ],
          "contourcarpet": [
           {
            "colorbar": {
             "outlinewidth": 0,
             "ticks": ""
            },
            "type": "contourcarpet"
           }
          ],
          "heatmap": [
           {
            "colorbar": {
             "outlinewidth": 0,
             "ticks": ""
            },
            "colorscale": [
             [
              0,
              "#0d0887"
             ],
             [
              0.1111111111111111,
              "#46039f"
             ],
             [
              0.2222222222222222,
              "#7201a8"
             ],
             [
              0.3333333333333333,
              "#9c179e"
             ],
             [
              0.4444444444444444,
              "#bd3786"
             ],
             [
              0.5555555555555556,
              "#d8576b"
             ],
             [
              0.6666666666666666,
              "#ed7953"
             ],
             [
              0.7777777777777778,
              "#fb9f3a"
             ],
             [
              0.8888888888888888,
              "#fdca26"
             ],
             [
              1,
              "#f0f921"
             ]
            ],
            "type": "heatmap"
           }
          ],
          "heatmapgl": [
           {
            "colorbar": {
             "outlinewidth": 0,
             "ticks": ""
            },
            "colorscale": [
             [
              0,
              "#0d0887"
             ],
             [
              0.1111111111111111,
              "#46039f"
             ],
             [
              0.2222222222222222,
              "#7201a8"
             ],
             [
              0.3333333333333333,
              "#9c179e"
             ],
             [
              0.4444444444444444,
              "#bd3786"
             ],
             [
              0.5555555555555556,
              "#d8576b"
             ],
             [
              0.6666666666666666,
              "#ed7953"
             ],
             [
              0.7777777777777778,
              "#fb9f3a"
             ],
             [
              0.8888888888888888,
              "#fdca26"
             ],
             [
              1,
              "#f0f921"
             ]
            ],
            "type": "heatmapgl"
           }
          ],
          "histogram": [
           {
            "marker": {
             "colorbar": {
              "outlinewidth": 0,
              "ticks": ""
             }
            },
            "type": "histogram"
           }
          ],
          "histogram2d": [
           {
            "colorbar": {
             "outlinewidth": 0,
             "ticks": ""
            },
            "colorscale": [
             [
              0,
              "#0d0887"
             ],
             [
              0.1111111111111111,
              "#46039f"
             ],
             [
              0.2222222222222222,
              "#7201a8"
             ],
             [
              0.3333333333333333,
              "#9c179e"
             ],
             [
              0.4444444444444444,
              "#bd3786"
             ],
             [
              0.5555555555555556,
              "#d8576b"
             ],
             [
              0.6666666666666666,
              "#ed7953"
             ],
             [
              0.7777777777777778,
              "#fb9f3a"
             ],
             [
              0.8888888888888888,
              "#fdca26"
             ],
             [
              1,
              "#f0f921"
             ]
            ],
            "type": "histogram2d"
           }
          ],
          "histogram2dcontour": [
           {
            "colorbar": {
             "outlinewidth": 0,
             "ticks": ""
            },
            "colorscale": [
             [
              0,
              "#0d0887"
             ],
             [
              0.1111111111111111,
              "#46039f"
             ],
             [
              0.2222222222222222,
              "#7201a8"
             ],
             [
              0.3333333333333333,
              "#9c179e"
             ],
             [
              0.4444444444444444,
              "#bd3786"
             ],
             [
              0.5555555555555556,
              "#d8576b"
             ],
             [
              0.6666666666666666,
              "#ed7953"
             ],
             [
              0.7777777777777778,
              "#fb9f3a"
             ],
             [
              0.8888888888888888,
              "#fdca26"
             ],
             [
              1,
              "#f0f921"
             ]
            ],
            "type": "histogram2dcontour"
           }
          ],
          "mesh3d": [
           {
            "colorbar": {
             "outlinewidth": 0,
             "ticks": ""
            },
            "type": "mesh3d"
           }
          ],
          "parcoords": [
           {
            "line": {
             "colorbar": {
              "outlinewidth": 0,
              "ticks": ""
             }
            },
            "type": "parcoords"
           }
          ],
          "pie": [
           {
            "automargin": true,
            "type": "pie"
           }
          ],
          "scatter": [
           {
            "marker": {
             "colorbar": {
              "outlinewidth": 0,
              "ticks": ""
             }
            },
            "type": "scatter"
           }
          ],
          "scatter3d": [
           {
            "line": {
             "colorbar": {
              "outlinewidth": 0,
              "ticks": ""
             }
            },
            "marker": {
             "colorbar": {
              "outlinewidth": 0,
              "ticks": ""
             }
            },
            "type": "scatter3d"
           }
          ],
          "scattercarpet": [
           {
            "marker": {
             "colorbar": {
              "outlinewidth": 0,
              "ticks": ""
             }
            },
            "type": "scattercarpet"
           }
          ],
          "scattergeo": [
           {
            "marker": {
             "colorbar": {
              "outlinewidth": 0,
              "ticks": ""
             }
            },
            "type": "scattergeo"
           }
          ],
          "scattergl": [
           {
            "marker": {
             "colorbar": {
              "outlinewidth": 0,
              "ticks": ""
             }
            },
            "type": "scattergl"
           }
          ],
          "scattermapbox": [
           {
            "marker": {
             "colorbar": {
              "outlinewidth": 0,
              "ticks": ""
             }
            },
            "type": "scattermapbox"
           }
          ],
          "scatterpolar": [
           {
            "marker": {
             "colorbar": {
              "outlinewidth": 0,
              "ticks": ""
             }
            },
            "type": "scatterpolar"
           }
          ],
          "scatterpolargl": [
           {
            "marker": {
             "colorbar": {
              "outlinewidth": 0,
              "ticks": ""
             }
            },
            "type": "scatterpolargl"
           }
          ],
          "scatterternary": [
           {
            "marker": {
             "colorbar": {
              "outlinewidth": 0,
              "ticks": ""
             }
            },
            "type": "scatterternary"
           }
          ],
          "surface": [
           {
            "colorbar": {
             "outlinewidth": 0,
             "ticks": ""
            },
            "colorscale": [
             [
              0,
              "#0d0887"
             ],
             [
              0.1111111111111111,
              "#46039f"
             ],
             [
              0.2222222222222222,
              "#7201a8"
             ],
             [
              0.3333333333333333,
              "#9c179e"
             ],
             [
              0.4444444444444444,
              "#bd3786"
             ],
             [
              0.5555555555555556,
              "#d8576b"
             ],
             [
              0.6666666666666666,
              "#ed7953"
             ],
             [
              0.7777777777777778,
              "#fb9f3a"
             ],
             [
              0.8888888888888888,
              "#fdca26"
             ],
             [
              1,
              "#f0f921"
             ]
            ],
            "type": "surface"
           }
          ],
          "table": [
           {
            "cells": {
             "fill": {
              "color": "#EBF0F8"
             },
             "line": {
              "color": "white"
             }
            },
            "header": {
             "fill": {
              "color": "#C8D4E3"
             },
             "line": {
              "color": "white"
             }
            },
            "type": "table"
           }
          ]
         },
         "layout": {
          "annotationdefaults": {
           "arrowcolor": "#2a3f5f",
           "arrowhead": 0,
           "arrowwidth": 1
          },
          "coloraxis": {
           "colorbar": {
            "outlinewidth": 0,
            "ticks": ""
           }
          },
          "colorscale": {
           "diverging": [
            [
             0,
             "#8e0152"
            ],
            [
             0.1,
             "#c51b7d"
            ],
            [
             0.2,
             "#de77ae"
            ],
            [
             0.3,
             "#f1b6da"
            ],
            [
             0.4,
             "#fde0ef"
            ],
            [
             0.5,
             "#f7f7f7"
            ],
            [
             0.6,
             "#e6f5d0"
            ],
            [
             0.7,
             "#b8e186"
            ],
            [
             0.8,
             "#7fbc41"
            ],
            [
             0.9,
             "#4d9221"
            ],
            [
             1,
             "#276419"
            ]
           ],
           "sequential": [
            [
             0,
             "#0d0887"
            ],
            [
             0.1111111111111111,
             "#46039f"
            ],
            [
             0.2222222222222222,
             "#7201a8"
            ],
            [
             0.3333333333333333,
             "#9c179e"
            ],
            [
             0.4444444444444444,
             "#bd3786"
            ],
            [
             0.5555555555555556,
             "#d8576b"
            ],
            [
             0.6666666666666666,
             "#ed7953"
            ],
            [
             0.7777777777777778,
             "#fb9f3a"
            ],
            [
             0.8888888888888888,
             "#fdca26"
            ],
            [
             1,
             "#f0f921"
            ]
           ],
           "sequentialminus": [
            [
             0,
             "#0d0887"
            ],
            [
             0.1111111111111111,
             "#46039f"
            ],
            [
             0.2222222222222222,
             "#7201a8"
            ],
            [
             0.3333333333333333,
             "#9c179e"
            ],
            [
             0.4444444444444444,
             "#bd3786"
            ],
            [
             0.5555555555555556,
             "#d8576b"
            ],
            [
             0.6666666666666666,
             "#ed7953"
            ],
            [
             0.7777777777777778,
             "#fb9f3a"
            ],
            [
             0.8888888888888888,
             "#fdca26"
            ],
            [
             1,
             "#f0f921"
            ]
           ]
          },
          "colorway": [
           "#636efa",
           "#EF553B",
           "#00cc96",
           "#ab63fa",
           "#FFA15A",
           "#19d3f3",
           "#FF6692",
           "#B6E880",
           "#FF97FF",
           "#FECB52"
          ],
          "font": {
           "color": "#2a3f5f"
          },
          "geo": {
           "bgcolor": "white",
           "lakecolor": "white",
           "landcolor": "#E5ECF6",
           "showlakes": true,
           "showland": true,
           "subunitcolor": "white"
          },
          "hoverlabel": {
           "align": "left"
          },
          "hovermode": "closest",
          "mapbox": {
           "style": "light"
          },
          "paper_bgcolor": "white",
          "plot_bgcolor": "#E5ECF6",
          "polar": {
           "angularaxis": {
            "gridcolor": "white",
            "linecolor": "white",
            "ticks": ""
           },
           "bgcolor": "#E5ECF6",
           "radialaxis": {
            "gridcolor": "white",
            "linecolor": "white",
            "ticks": ""
           }
          },
          "scene": {
           "xaxis": {
            "backgroundcolor": "#E5ECF6",
            "gridcolor": "white",
            "gridwidth": 2,
            "linecolor": "white",
            "showbackground": true,
            "ticks": "",
            "zerolinecolor": "white"
           },
           "yaxis": {
            "backgroundcolor": "#E5ECF6",
            "gridcolor": "white",
            "gridwidth": 2,
            "linecolor": "white",
            "showbackground": true,
            "ticks": "",
            "zerolinecolor": "white"
           },
           "zaxis": {
            "backgroundcolor": "#E5ECF6",
            "gridcolor": "white",
            "gridwidth": 2,
            "linecolor": "white",
            "showbackground": true,
            "ticks": "",
            "zerolinecolor": "white"
           }
          },
          "shapedefaults": {
           "line": {
            "color": "#2a3f5f"
           }
          },
          "ternary": {
           "aaxis": {
            "gridcolor": "white",
            "linecolor": "white",
            "ticks": ""
           },
           "baxis": {
            "gridcolor": "white",
            "linecolor": "white",
            "ticks": ""
           },
           "bgcolor": "#E5ECF6",
           "caxis": {
            "gridcolor": "white",
            "linecolor": "white",
            "ticks": ""
           }
          },
          "title": {
           "x": 0.05
          },
          "xaxis": {
           "automargin": true,
           "gridcolor": "white",
           "linecolor": "white",
           "ticks": "",
           "title": {
            "standoff": 15
           },
           "zerolinecolor": "white",
           "zerolinewidth": 2
          },
          "yaxis": {
           "automargin": true,
           "gridcolor": "white",
           "linecolor": "white",
           "ticks": "",
           "title": {
            "standoff": 15
           },
           "zerolinecolor": "white",
           "zerolinewidth": 2
          }
         }
        },
        "title": {
         "font": {
          "color": "#4D5663"
         }
        },
        "xaxis": {
         "gridcolor": "#E1E5ED",
         "showgrid": true,
         "tickfont": {
          "color": "#4D5663"
         },
         "title": {
          "font": {
           "color": "#4D5663"
          },
          "text": ""
         },
         "zerolinecolor": "#E1E5ED"
        },
        "yaxis": {
         "gridcolor": "#E1E5ED",
         "showgrid": true,
         "tickfont": {
          "color": "#4D5663"
         },
         "title": {
          "font": {
           "color": "#4D5663"
          },
          "text": ""
         },
         "zerolinecolor": "#E1E5ED"
        }
       }
      },
      "text/html": [
       "<div>\n",
       "        \n",
       "        \n",
       "            <div id=\"b71735c9-e3dc-4eee-a248-caa3a669564d\" class=\"plotly-graph-div\" style=\"height:525px; width:100%;\"></div>\n",
       "            <script type=\"text/javascript\">\n",
       "                require([\"plotly\"], function(Plotly) {\n",
       "                    window.PLOTLYENV=window.PLOTLYENV || {};\n",
       "                    window.PLOTLYENV.BASE_URL='https://plot.ly';\n",
       "                    \n",
       "                if (document.getElementById(\"b71735c9-e3dc-4eee-a248-caa3a669564d\")) {\n",
       "                    Plotly.newPlot(\n",
       "                        'b71735c9-e3dc-4eee-a248-caa3a669564d',\n",
       "                        [{\"marker\": {\"color\": \"rgba(255, 153, 51, 0.6)\", \"line\": {\"color\": \"rgba(255, 153, 51, 1.0)\", \"width\": 1}}, \"name\": \"None\", \"orientation\": \"v\", \"text\": \"\", \"type\": \"bar\", \"x\": [\"A\", \"B\", \"C\", \"D\"], \"y\": [100, 100, 100, 100]}],\n",
       "                        {\"legend\": {\"bgcolor\": \"#F5F6F9\", \"font\": {\"color\": \"#4D5663\"}}, \"paper_bgcolor\": \"#F5F6F9\", \"plot_bgcolor\": \"#F5F6F9\", \"template\": {\"data\": {\"bar\": [{\"error_x\": {\"color\": \"#2a3f5f\"}, \"error_y\": {\"color\": \"#2a3f5f\"}, \"marker\": {\"line\": {\"color\": \"#E5ECF6\", \"width\": 0.5}}, \"type\": \"bar\"}], \"barpolar\": [{\"marker\": {\"line\": {\"color\": \"#E5ECF6\", \"width\": 0.5}}, \"type\": \"barpolar\"}], \"carpet\": [{\"aaxis\": {\"endlinecolor\": \"#2a3f5f\", \"gridcolor\": \"white\", \"linecolor\": \"white\", \"minorgridcolor\": \"white\", \"startlinecolor\": \"#2a3f5f\"}, \"baxis\": {\"endlinecolor\": \"#2a3f5f\", \"gridcolor\": \"white\", \"linecolor\": \"white\", \"minorgridcolor\": \"white\", \"startlinecolor\": \"#2a3f5f\"}, \"type\": \"carpet\"}], \"choropleth\": [{\"colorbar\": {\"outlinewidth\": 0, \"ticks\": \"\"}, \"type\": \"choropleth\"}], \"contour\": [{\"colorbar\": {\"outlinewidth\": 0, \"ticks\": \"\"}, \"colorscale\": [[0.0, \"#0d0887\"], [0.1111111111111111, \"#46039f\"], [0.2222222222222222, \"#7201a8\"], [0.3333333333333333, \"#9c179e\"], [0.4444444444444444, \"#bd3786\"], [0.5555555555555556, \"#d8576b\"], [0.6666666666666666, \"#ed7953\"], [0.7777777777777778, \"#fb9f3a\"], [0.8888888888888888, \"#fdca26\"], [1.0, \"#f0f921\"]], \"type\": \"contour\"}], \"contourcarpet\": [{\"colorbar\": {\"outlinewidth\": 0, \"ticks\": \"\"}, \"type\": \"contourcarpet\"}], \"heatmap\": [{\"colorbar\": {\"outlinewidth\": 0, \"ticks\": \"\"}, \"colorscale\": [[0.0, \"#0d0887\"], [0.1111111111111111, \"#46039f\"], [0.2222222222222222, \"#7201a8\"], [0.3333333333333333, \"#9c179e\"], [0.4444444444444444, \"#bd3786\"], [0.5555555555555556, \"#d8576b\"], [0.6666666666666666, \"#ed7953\"], [0.7777777777777778, \"#fb9f3a\"], [0.8888888888888888, \"#fdca26\"], [1.0, \"#f0f921\"]], \"type\": \"heatmap\"}], \"heatmapgl\": [{\"colorbar\": {\"outlinewidth\": 0, \"ticks\": \"\"}, \"colorscale\": [[0.0, \"#0d0887\"], [0.1111111111111111, \"#46039f\"], [0.2222222222222222, \"#7201a8\"], [0.3333333333333333, \"#9c179e\"], [0.4444444444444444, \"#bd3786\"], [0.5555555555555556, \"#d8576b\"], [0.6666666666666666, \"#ed7953\"], [0.7777777777777778, \"#fb9f3a\"], [0.8888888888888888, \"#fdca26\"], [1.0, \"#f0f921\"]], \"type\": \"heatmapgl\"}], \"histogram\": [{\"marker\": {\"colorbar\": {\"outlinewidth\": 0, \"ticks\": \"\"}}, \"type\": \"histogram\"}], \"histogram2d\": [{\"colorbar\": {\"outlinewidth\": 0, \"ticks\": \"\"}, \"colorscale\": [[0.0, \"#0d0887\"], [0.1111111111111111, \"#46039f\"], [0.2222222222222222, \"#7201a8\"], [0.3333333333333333, \"#9c179e\"], [0.4444444444444444, \"#bd3786\"], [0.5555555555555556, \"#d8576b\"], [0.6666666666666666, \"#ed7953\"], [0.7777777777777778, \"#fb9f3a\"], [0.8888888888888888, \"#fdca26\"], [1.0, \"#f0f921\"]], \"type\": \"histogram2d\"}], \"histogram2dcontour\": [{\"colorbar\": {\"outlinewidth\": 0, \"ticks\": \"\"}, \"colorscale\": [[0.0, \"#0d0887\"], [0.1111111111111111, \"#46039f\"], [0.2222222222222222, \"#7201a8\"], [0.3333333333333333, \"#9c179e\"], [0.4444444444444444, \"#bd3786\"], [0.5555555555555556, \"#d8576b\"], [0.6666666666666666, \"#ed7953\"], [0.7777777777777778, \"#fb9f3a\"], [0.8888888888888888, \"#fdca26\"], [1.0, \"#f0f921\"]], \"type\": \"histogram2dcontour\"}], \"mesh3d\": [{\"colorbar\": {\"outlinewidth\": 0, \"ticks\": \"\"}, \"type\": \"mesh3d\"}], \"parcoords\": [{\"line\": {\"colorbar\": {\"outlinewidth\": 0, \"ticks\": \"\"}}, \"type\": \"parcoords\"}], \"pie\": [{\"automargin\": true, \"type\": \"pie\"}], \"scatter\": [{\"marker\": {\"colorbar\": {\"outlinewidth\": 0, \"ticks\": \"\"}}, \"type\": \"scatter\"}], \"scatter3d\": [{\"line\": {\"colorbar\": {\"outlinewidth\": 0, \"ticks\": \"\"}}, \"marker\": {\"colorbar\": {\"outlinewidth\": 0, \"ticks\": \"\"}}, \"type\": \"scatter3d\"}], \"scattercarpet\": [{\"marker\": {\"colorbar\": {\"outlinewidth\": 0, \"ticks\": \"\"}}, \"type\": \"scattercarpet\"}], \"scattergeo\": [{\"marker\": {\"colorbar\": {\"outlinewidth\": 0, \"ticks\": \"\"}}, \"type\": \"scattergeo\"}], \"scattergl\": [{\"marker\": {\"colorbar\": {\"outlinewidth\": 0, \"ticks\": \"\"}}, \"type\": \"scattergl\"}], \"scattermapbox\": [{\"marker\": {\"colorbar\": {\"outlinewidth\": 0, \"ticks\": \"\"}}, \"type\": \"scattermapbox\"}], \"scatterpolar\": [{\"marker\": {\"colorbar\": {\"outlinewidth\": 0, \"ticks\": \"\"}}, \"type\": \"scatterpolar\"}], \"scatterpolargl\": [{\"marker\": {\"colorbar\": {\"outlinewidth\": 0, \"ticks\": \"\"}}, \"type\": \"scatterpolargl\"}], \"scatterternary\": [{\"marker\": {\"colorbar\": {\"outlinewidth\": 0, \"ticks\": \"\"}}, \"type\": \"scatterternary\"}], \"surface\": [{\"colorbar\": {\"outlinewidth\": 0, \"ticks\": \"\"}, \"colorscale\": [[0.0, \"#0d0887\"], [0.1111111111111111, \"#46039f\"], [0.2222222222222222, \"#7201a8\"], [0.3333333333333333, \"#9c179e\"], [0.4444444444444444, \"#bd3786\"], [0.5555555555555556, \"#d8576b\"], [0.6666666666666666, \"#ed7953\"], [0.7777777777777778, \"#fb9f3a\"], [0.8888888888888888, \"#fdca26\"], [1.0, \"#f0f921\"]], \"type\": \"surface\"}], \"table\": [{\"cells\": {\"fill\": {\"color\": \"#EBF0F8\"}, \"line\": {\"color\": \"white\"}}, \"header\": {\"fill\": {\"color\": \"#C8D4E3\"}, \"line\": {\"color\": \"white\"}}, \"type\": \"table\"}]}, \"layout\": {\"annotationdefaults\": {\"arrowcolor\": \"#2a3f5f\", \"arrowhead\": 0, \"arrowwidth\": 1}, \"coloraxis\": {\"colorbar\": {\"outlinewidth\": 0, \"ticks\": \"\"}}, \"colorscale\": {\"diverging\": [[0, \"#8e0152\"], [0.1, \"#c51b7d\"], [0.2, \"#de77ae\"], [0.3, \"#f1b6da\"], [0.4, \"#fde0ef\"], [0.5, \"#f7f7f7\"], [0.6, \"#e6f5d0\"], [0.7, \"#b8e186\"], [0.8, \"#7fbc41\"], [0.9, \"#4d9221\"], [1, \"#276419\"]], \"sequential\": [[0.0, \"#0d0887\"], [0.1111111111111111, \"#46039f\"], [0.2222222222222222, \"#7201a8\"], [0.3333333333333333, \"#9c179e\"], [0.4444444444444444, \"#bd3786\"], [0.5555555555555556, \"#d8576b\"], [0.6666666666666666, \"#ed7953\"], [0.7777777777777778, \"#fb9f3a\"], [0.8888888888888888, \"#fdca26\"], [1.0, \"#f0f921\"]], \"sequentialminus\": [[0.0, \"#0d0887\"], [0.1111111111111111, \"#46039f\"], [0.2222222222222222, \"#7201a8\"], [0.3333333333333333, \"#9c179e\"], [0.4444444444444444, \"#bd3786\"], [0.5555555555555556, \"#d8576b\"], [0.6666666666666666, \"#ed7953\"], [0.7777777777777778, \"#fb9f3a\"], [0.8888888888888888, \"#fdca26\"], [1.0, \"#f0f921\"]]}, \"colorway\": [\"#636efa\", \"#EF553B\", \"#00cc96\", \"#ab63fa\", \"#FFA15A\", \"#19d3f3\", \"#FF6692\", \"#B6E880\", \"#FF97FF\", \"#FECB52\"], \"font\": {\"color\": \"#2a3f5f\"}, \"geo\": {\"bgcolor\": \"white\", \"lakecolor\": \"white\", \"landcolor\": \"#E5ECF6\", \"showlakes\": true, \"showland\": true, \"subunitcolor\": \"white\"}, \"hoverlabel\": {\"align\": \"left\"}, \"hovermode\": \"closest\", \"mapbox\": {\"style\": \"light\"}, \"paper_bgcolor\": \"white\", \"plot_bgcolor\": \"#E5ECF6\", \"polar\": {\"angularaxis\": {\"gridcolor\": \"white\", \"linecolor\": \"white\", \"ticks\": \"\"}, \"bgcolor\": \"#E5ECF6\", \"radialaxis\": {\"gridcolor\": \"white\", \"linecolor\": \"white\", \"ticks\": \"\"}}, \"scene\": {\"xaxis\": {\"backgroundcolor\": \"#E5ECF6\", \"gridcolor\": \"white\", \"gridwidth\": 2, \"linecolor\": \"white\", \"showbackground\": true, \"ticks\": \"\", \"zerolinecolor\": \"white\"}, \"yaxis\": {\"backgroundcolor\": \"#E5ECF6\", \"gridcolor\": \"white\", \"gridwidth\": 2, \"linecolor\": \"white\", \"showbackground\": true, \"ticks\": \"\", \"zerolinecolor\": \"white\"}, \"zaxis\": {\"backgroundcolor\": \"#E5ECF6\", \"gridcolor\": \"white\", \"gridwidth\": 2, \"linecolor\": \"white\", \"showbackground\": true, \"ticks\": \"\", \"zerolinecolor\": \"white\"}}, \"shapedefaults\": {\"line\": {\"color\": \"#2a3f5f\"}}, \"ternary\": {\"aaxis\": {\"gridcolor\": \"white\", \"linecolor\": \"white\", \"ticks\": \"\"}, \"baxis\": {\"gridcolor\": \"white\", \"linecolor\": \"white\", \"ticks\": \"\"}, \"bgcolor\": \"#E5ECF6\", \"caxis\": {\"gridcolor\": \"white\", \"linecolor\": \"white\", \"ticks\": \"\"}}, \"title\": {\"x\": 0.05}, \"xaxis\": {\"automargin\": true, \"gridcolor\": \"white\", \"linecolor\": \"white\", \"ticks\": \"\", \"title\": {\"standoff\": 15}, \"zerolinecolor\": \"white\", \"zerolinewidth\": 2}, \"yaxis\": {\"automargin\": true, \"gridcolor\": \"white\", \"linecolor\": \"white\", \"ticks\": \"\", \"title\": {\"standoff\": 15}, \"zerolinecolor\": \"white\", \"zerolinewidth\": 2}}}, \"title\": {\"font\": {\"color\": \"#4D5663\"}}, \"xaxis\": {\"gridcolor\": \"#E1E5ED\", \"showgrid\": true, \"tickfont\": {\"color\": \"#4D5663\"}, \"title\": {\"font\": {\"color\": \"#4D5663\"}, \"text\": \"\"}, \"zerolinecolor\": \"#E1E5ED\"}, \"yaxis\": {\"gridcolor\": \"#E1E5ED\", \"showgrid\": true, \"tickfont\": {\"color\": \"#4D5663\"}, \"title\": {\"font\": {\"color\": \"#4D5663\"}, \"text\": \"\"}, \"zerolinecolor\": \"#E1E5ED\"}},\n",
       "                        {\"showLink\": true, \"linkText\": \"Export to plot.ly\", \"plotlyServerURL\": \"https://plot.ly\", \"responsive\": true}\n",
       "                    ).then(function(){\n",
       "                            \n",
       "var gd = document.getElementById('b71735c9-e3dc-4eee-a248-caa3a669564d');\n",
       "var x = new MutationObserver(function (mutations, observer) {{\n",
       "        var display = window.getComputedStyle(gd).display;\n",
       "        if (!display || display === 'none') {{\n",
       "            console.log([gd, 'removed!']);\n",
       "            Plotly.purge(gd);\n",
       "            observer.disconnect();\n",
       "        }}\n",
       "}});\n",
       "\n",
       "// Listen for the removal of the full notebook cells\n",
       "var notebookContainer = gd.closest('#notebook-container');\n",
       "if (notebookContainer) {{\n",
       "    x.observe(notebookContainer, {childList: true});\n",
       "}}\n",
       "\n",
       "// Listen for the clearing of the current output cell\n",
       "var outputEl = gd.closest('.output');\n",
       "if (outputEl) {{\n",
       "    x.observe(outputEl, {childList: true});\n",
       "}}\n",
       "\n",
       "                        })\n",
       "                };\n",
       "                });\n",
       "            </script>\n",
       "        </div>"
      ]
     },
     "metadata": {},
     "output_type": "display_data"
    }
   ],
   "source": [
    "df.count().iplot(kind='bar')"
   ]
  },
  {
   "cell_type": "markdown",
   "metadata": {},
   "source": [
    "## Boxplots"
   ]
  },
  {
   "cell_type": "code",
   "execution_count": 13,
   "metadata": {},
   "outputs": [
    {
     "data": {
      "application/vnd.plotly.v1+json": {
       "config": {
        "linkText": "Export to plot.ly",
        "plotlyServerURL": "https://plot.ly",
        "showLink": true
       },
       "data": [
        {
         "boxpoints": false,
         "line": {
          "width": 1.3
         },
         "marker": {
          "color": "rgba(255, 153, 51, 1.0)"
         },
         "name": "A",
         "orientation": "v",
         "type": "box",
         "y": [
          0.01258771338784096,
          0.15756449624948846,
          -1.5674539359727409,
          0.006377768460200217,
          0.022185847399755477,
          -1.4098012598057708,
          -1.1771243636813133,
          1.1235283675890204,
          -0.07429212716714764,
          0.48742375992982784,
          -0.12944337947685283,
          -0.9180012214241594,
          -3.0131187942336704,
          1.1869412396701389,
          0.7912752124923572,
          1.432678623623017,
          0.40568209062367894,
          0.12032693997325379,
          1.7001641802601302,
          -0.8436839622947031,
          1.2092113776263675,
          0.893612345857148,
          -0.03762130523020127,
          -0.06830519231422867,
          0.39929983349320436,
          -0.645987877543945,
          0.05471325639345035,
          0.6359591748788739,
          1.1703800217942906,
          -1.5043691261451897,
          -0.5036814725137895,
          1.0361340987898915,
          0.29213763653891306,
          0.7774645561651203,
          -0.4782140281577571,
          -2.643881907336907,
          -0.5749412179835269,
          0.3841976745153053,
          1.2915638490665986,
          -0.4233796655810165,
          1.8744810238151675,
          0.7367675496380632,
          -0.6109907442671998,
          0.805674638800644,
          -0.9539036537063705,
          0.09527741797931052,
          -1.0649914308693913,
          0.5964487166392948,
          0.1990665103969152,
          0.6132704762189406,
          0.6268899207234839,
          -1.1286894146277253,
          0.01213858445998383,
          -1.4701196523620392,
          -0.37570842538158156,
          1.3497554259656261,
          1.35171477403518,
          -0.4489109673535718,
          -0.6577003347110576,
          -0.2888103944878272,
          0.3578668378770103,
          -1.9895737512618443,
          0.25272547443718,
          -0.6009738065166887,
          0.9907962012130483,
          0.30548119666697593,
          -1.6790430115833166,
          0.3782169365209647,
          0.20283659152555167,
          0.14354981791108287,
          -0.4973140193750466,
          -0.19753779687535397,
          -0.9257981905690578,
          -1.8609348754518722,
          0.08791455264292816,
          -0.8965464694382222,
          0.3924042454233774,
          -2.051066260296957,
          -0.29419187754144366,
          -0.11404285000231268,
          -1.5008947403290749,
          1.5130633320204947,
          -0.013939284236135645,
          -0.5008971717723003,
          -0.8872960885392636,
          0.6545701294979238,
          1.2418392362181065,
          -0.556513780780177,
          -1.5113062460152866,
          -1.5437051826070072,
          1.2174960148122902,
          0.5207168975027033,
          -0.6058183166483503,
          -0.876105918810508,
          1.6990793067243244,
          -1.0127106685746625,
          1.165990719074486,
          1.4427761189051136,
          -0.48081925269099096,
          0.39153886502249624
         ]
        },
        {
         "boxpoints": false,
         "line": {
          "width": 1.3
         },
         "marker": {
          "color": "rgba(55, 128, 191, 1.0)"
         },
         "name": "B",
         "orientation": "v",
         "type": "box",
         "y": [
          -1.5711202546339078,
          1.8589427519950752,
          0.4725308030858024,
          -0.4429751159210085,
          0.4931189239296156,
          0.3290781388444781,
          -1.8851204051667412,
          0.6520089049000372,
          0.001622290086489223,
          -1.190541657435356,
          -1.1165354430786067,
          -0.28023760526214087,
          0.036117480348009705,
          0.4060464344684879,
          1.7693346210102137,
          1.1226249355088112,
          0.30545725263851115,
          0.32467659180420966,
          -0.36329705102200255,
          -0.35450640391340416,
          -0.848256079483041,
          -1.1016866426764451,
          -1.8828773464329578,
          0.8438264493109183,
          -0.18552390379817973,
          1.7127884983056052,
          1.5064918772968656,
          0.8622196042959621,
          -1.0656304741666403,
          -0.09181381850569179,
          1.7954497040834496,
          0.4326567575470323,
          -0.13007433150858635,
          -0.9520088453445963,
          0.7330078033118114,
          0.5767854855180345,
          1.5941334078701672,
          1.2639463553980426,
          0.11421381700343505,
          -0.21074369451029193,
          -1.442352021362074,
          0.6014244269317304,
          -0.5251750463409331,
          0.24056973341915855,
          -0.34177966778960134,
          0.49033717532942955,
          -0.4359285863361001,
          -0.4645219801827713,
          -0.49906116308344267,
          0.012296828969600491,
          1.3052254220844173,
          1.0575718829429042,
          -0.8955948771032166,
          1.8840878446231526,
          -0.32124146836569917,
          1.1138212038805104,
          -0.5380428173529321,
          0.6780503440629659,
          -0.08953546027085331,
          1.290935731322414,
          1.0568892764925977,
          0.7398009929380013,
          1.6294195464621322,
          0.5068826199029156,
          1.4639384323657498,
          2.0035883236917584,
          2.2253827405770497,
          -0.9829583862377724,
          0.2486782135934998,
          0.5245709075594285,
          0.6751474846876793,
          0.7431555008266308,
          1.1026113915541595,
          0.7086927539253073,
          -0.14067844876750424,
          0.38453326761935613,
          0.46288958214142273,
          0.24238987224025843,
          -0.17571802415464177,
          0.8662372993526971,
          -1.3677834323167255,
          -1.052831300968593,
          -1.041671610917792,
          -1.3909596396881267,
          1.1170937933351548,
          -1.1603270017517613,
          0.20977942996564286,
          0.40333440608587473,
          -0.018229098693743707,
          0.9475209099563278,
          0.2034026360151726,
          -0.6814367417773323,
          -0.9953660681320612,
          1.3724080700419738,
          1.138876474205955,
          0.7265311279666776,
          -0.8564525533706586,
          0.1814599986481153,
          -1.551384736446907,
          1.6351567399448812
         ]
        },
        {
         "boxpoints": false,
         "line": {
          "width": 1.3
         },
         "marker": {
          "color": "rgba(50, 171, 96, 1.0)"
         },
         "name": "C",
         "orientation": "v",
         "type": "box",
         "y": [
          0.44661398802184066,
          0.30889123191956225,
          -0.9804776587658602,
          0.12784873122963558,
          -1.7395593800185352,
          1.1428606997605641,
          0.9485480838441536,
          0.3423310663027422,
          2.2110776442595372,
          0.6100936276267533,
          -0.5233809503034954,
          0.7537945250801213,
          -0.9778677411204288,
          -0.09884211009064948,
          0.004433104465747421,
          0.8148762150811547,
          -0.7892420420784164,
          1.3311337631201687,
          0.22307407692754,
          1.036516109203243,
          -1.7010220269578207,
          0.5343452792757892,
          0.9200118033368204,
          -0.5936541715484736,
          -1.0035302413854728,
          1.910781477075174,
          0.5630797906200505,
          -0.3053637347307562,
          -1.5908389100611038,
          0.9737658383691731,
          2.395500700860623,
          0.87942148955053,
          1.591100760969521,
          2.6524230294455338,
          0.5393312122541757,
          -1.3516648169880152,
          -0.32914141797819724,
          -1.3040497594262683,
          0.032651815989994525,
          -2.153844933501666,
          -0.46668732274742175,
          0.7297855548161059,
          1.9508336306865837,
          -0.8276700805250797,
          0.6810850916839654,
          -1.259957671899816,
          0.4837456170424614,
          -0.8080319850112103,
          -1.2079691162600878,
          -0.8044749738977648,
          -1.1395762369486782,
          2.169550970739434,
          -0.40751555311218185,
          1.3970592467919776,
          0.7107802876919356,
          0.8919021813916727,
          -1.9489953483697748,
          -1.0858852835065254,
          2.0441321538230977,
          0.43985062990394336,
          0.6602988047926446,
          2.2700445956419353,
          -0.9070535186724555,
          -1.3096897639974387,
          0.06394241732018749,
          0.050610742587672106,
          0.1850583101836084,
          1.0720299304536618,
          0.49287487627329474,
          -0.5708677645470345,
          1.1659166904591263,
          2.7997975708207647,
          1.2175347837728439,
          -0.12029520738651407,
          -0.4718973085826919,
          -0.48540310454190344,
          1.7860088802826084,
          -0.7775188948075658,
          0.7948958162589866,
          1.8090193582415102,
          1.0354692764928901,
          -0.3209472732051858,
          -0.3479336808701315,
          1.0121247723610938,
          0.9134680437396722,
          0.24530647418187396,
          -1.4374277890884086,
          -0.24404449741641432,
          -0.38835070340983446,
          -0.38891830841611796,
          -0.31475655052635354,
          -0.8926597370177215,
          -1.124152730457152,
          -0.14623219919279715,
          0.36608386712362945,
          -0.3598260095371573,
          1.7598585797930142,
          0.029143026645623838,
          -1.2213426733231405,
          -0.2866420272966458
         ]
        },
        {
         "boxpoints": false,
         "line": {
          "width": 1.3
         },
         "marker": {
          "color": "rgba(128, 0, 128, 1.0)"
         },
         "name": "D",
         "orientation": "v",
         "type": "box",
         "y": [
          -0.546488074456264,
          -0.6906795939250396,
          -0.7530198223287682,
          -0.3035416448226373,
          0.3318097102622694,
          0.28854391827365106,
          0.024869172734768297,
          0.2993856166868935,
          -1.7739234311943968,
          -1.3061602991789985,
          -0.1978284090875014,
          1.0445034579306787,
          0.9170950661450984,
          -0.684984472347748,
          -1.9801976218504385,
          0.31051713776885004,
          -0.4329512004987474,
          -0.9595214053751172,
          -0.2512722009325092,
          0.6742095287617564,
          -1.0733105914121326,
          0.042235732214301186,
          -0.5082994655524106,
          0.006034147184217506,
          1.2616648458282216,
          0.6795993715030275,
          -3.330257093397494,
          0.561627884971362,
          -2.2720802102340154,
          0.3097731244084955,
          -0.4370125022523923,
          0.044471961293511365,
          0.5815934596033061,
          -0.9967245477818799,
          -0.3027644967706041,
          -1.1326849721570416,
          1.9640454602527784,
          -2.1431086532243504,
          -1.2219373014504364,
          0.9283942716087435,
          -1.4996204449913944,
          -0.8857129697771499,
          0.6539017749199544,
          0.9169701156794323,
          0.9906148343369582,
          0.2755860030358192,
          -0.01746794152257089,
          -0.3471383630137931,
          0.4618832907819464,
          -0.4297874720450296,
          1.9914952295729302,
          1.0602539593119948,
          -0.11903949950493466,
          -0.5972525293520385,
          0.871220634932907,
          0.1061901134741834,
          0.39362618733823174,
          0.5916770786621857,
          1.3602043914521933,
          -0.10052955794223802,
          -0.5226857317993312,
          0.721589345200966,
          0.7815114728168278,
          -1.2874663329125964,
          1.4860441425065496,
          1.994362272027055,
          -2.382611440735003,
          -0.3426699207174205,
          -0.7520575866702235,
          -0.7713985262302956,
          -0.6723793532305976,
          -0.168159774298071,
          -0.8491518001974565,
          -0.8767152118844154,
          -0.340836812565283,
          -0.4445890348045418,
          -1.9947661768305307,
          -0.4062905398921242,
          0.4611541717010919,
          -1.164365539393841,
          -0.30304592551049236,
          2.653612293015191,
          0.381137487197287,
          0.9235035235274678,
          -0.8698814137486172,
          1.0352592830040694,
          -0.321322944899231,
          -0.8138074044502812,
          -0.5412286327252419,
          0.4330775385253458,
          0.7969502635951479,
          0.8123699150188365,
          0.07064870947086856,
          -0.6854260743501431,
          -1.1579818011671967,
          0.9822744829518161,
          -0.7760660837646026,
          2.488984537262283,
          0.16181189984854655,
          -0.656126412046775
         ]
        }
       ],
       "layout": {
        "legend": {
         "bgcolor": "#F5F6F9",
         "font": {
          "color": "#4D5663"
         }
        },
        "paper_bgcolor": "#F5F6F9",
        "plot_bgcolor": "#F5F6F9",
        "template": {
         "data": {
          "bar": [
           {
            "error_x": {
             "color": "#2a3f5f"
            },
            "error_y": {
             "color": "#2a3f5f"
            },
            "marker": {
             "line": {
              "color": "#E5ECF6",
              "width": 0.5
             }
            },
            "type": "bar"
           }
          ],
          "barpolar": [
           {
            "marker": {
             "line": {
              "color": "#E5ECF6",
              "width": 0.5
             }
            },
            "type": "barpolar"
           }
          ],
          "carpet": [
           {
            "aaxis": {
             "endlinecolor": "#2a3f5f",
             "gridcolor": "white",
             "linecolor": "white",
             "minorgridcolor": "white",
             "startlinecolor": "#2a3f5f"
            },
            "baxis": {
             "endlinecolor": "#2a3f5f",
             "gridcolor": "white",
             "linecolor": "white",
             "minorgridcolor": "white",
             "startlinecolor": "#2a3f5f"
            },
            "type": "carpet"
           }
          ],
          "choropleth": [
           {
            "colorbar": {
             "outlinewidth": 0,
             "ticks": ""
            },
            "type": "choropleth"
           }
          ],
          "contour": [
           {
            "colorbar": {
             "outlinewidth": 0,
             "ticks": ""
            },
            "colorscale": [
             [
              0,
              "#0d0887"
             ],
             [
              0.1111111111111111,
              "#46039f"
             ],
             [
              0.2222222222222222,
              "#7201a8"
             ],
             [
              0.3333333333333333,
              "#9c179e"
             ],
             [
              0.4444444444444444,
              "#bd3786"
             ],
             [
              0.5555555555555556,
              "#d8576b"
             ],
             [
              0.6666666666666666,
              "#ed7953"
             ],
             [
              0.7777777777777778,
              "#fb9f3a"
             ],
             [
              0.8888888888888888,
              "#fdca26"
             ],
             [
              1,
              "#f0f921"
             ]
            ],
            "type": "contour"
           }
          ],
          "contourcarpet": [
           {
            "colorbar": {
             "outlinewidth": 0,
             "ticks": ""
            },
            "type": "contourcarpet"
           }
          ],
          "heatmap": [
           {
            "colorbar": {
             "outlinewidth": 0,
             "ticks": ""
            },
            "colorscale": [
             [
              0,
              "#0d0887"
             ],
             [
              0.1111111111111111,
              "#46039f"
             ],
             [
              0.2222222222222222,
              "#7201a8"
             ],
             [
              0.3333333333333333,
              "#9c179e"
             ],
             [
              0.4444444444444444,
              "#bd3786"
             ],
             [
              0.5555555555555556,
              "#d8576b"
             ],
             [
              0.6666666666666666,
              "#ed7953"
             ],
             [
              0.7777777777777778,
              "#fb9f3a"
             ],
             [
              0.8888888888888888,
              "#fdca26"
             ],
             [
              1,
              "#f0f921"
             ]
            ],
            "type": "heatmap"
           }
          ],
          "heatmapgl": [
           {
            "colorbar": {
             "outlinewidth": 0,
             "ticks": ""
            },
            "colorscale": [
             [
              0,
              "#0d0887"
             ],
             [
              0.1111111111111111,
              "#46039f"
             ],
             [
              0.2222222222222222,
              "#7201a8"
             ],
             [
              0.3333333333333333,
              "#9c179e"
             ],
             [
              0.4444444444444444,
              "#bd3786"
             ],
             [
              0.5555555555555556,
              "#d8576b"
             ],
             [
              0.6666666666666666,
              "#ed7953"
             ],
             [
              0.7777777777777778,
              "#fb9f3a"
             ],
             [
              0.8888888888888888,
              "#fdca26"
             ],
             [
              1,
              "#f0f921"
             ]
            ],
            "type": "heatmapgl"
           }
          ],
          "histogram": [
           {
            "marker": {
             "colorbar": {
              "outlinewidth": 0,
              "ticks": ""
             }
            },
            "type": "histogram"
           }
          ],
          "histogram2d": [
           {
            "colorbar": {
             "outlinewidth": 0,
             "ticks": ""
            },
            "colorscale": [
             [
              0,
              "#0d0887"
             ],
             [
              0.1111111111111111,
              "#46039f"
             ],
             [
              0.2222222222222222,
              "#7201a8"
             ],
             [
              0.3333333333333333,
              "#9c179e"
             ],
             [
              0.4444444444444444,
              "#bd3786"
             ],
             [
              0.5555555555555556,
              "#d8576b"
             ],
             [
              0.6666666666666666,
              "#ed7953"
             ],
             [
              0.7777777777777778,
              "#fb9f3a"
             ],
             [
              0.8888888888888888,
              "#fdca26"
             ],
             [
              1,
              "#f0f921"
             ]
            ],
            "type": "histogram2d"
           }
          ],
          "histogram2dcontour": [
           {
            "colorbar": {
             "outlinewidth": 0,
             "ticks": ""
            },
            "colorscale": [
             [
              0,
              "#0d0887"
             ],
             [
              0.1111111111111111,
              "#46039f"
             ],
             [
              0.2222222222222222,
              "#7201a8"
             ],
             [
              0.3333333333333333,
              "#9c179e"
             ],
             [
              0.4444444444444444,
              "#bd3786"
             ],
             [
              0.5555555555555556,
              "#d8576b"
             ],
             [
              0.6666666666666666,
              "#ed7953"
             ],
             [
              0.7777777777777778,
              "#fb9f3a"
             ],
             [
              0.8888888888888888,
              "#fdca26"
             ],
             [
              1,
              "#f0f921"
             ]
            ],
            "type": "histogram2dcontour"
           }
          ],
          "mesh3d": [
           {
            "colorbar": {
             "outlinewidth": 0,
             "ticks": ""
            },
            "type": "mesh3d"
           }
          ],
          "parcoords": [
           {
            "line": {
             "colorbar": {
              "outlinewidth": 0,
              "ticks": ""
             }
            },
            "type": "parcoords"
           }
          ],
          "pie": [
           {
            "automargin": true,
            "type": "pie"
           }
          ],
          "scatter": [
           {
            "marker": {
             "colorbar": {
              "outlinewidth": 0,
              "ticks": ""
             }
            },
            "type": "scatter"
           }
          ],
          "scatter3d": [
           {
            "line": {
             "colorbar": {
              "outlinewidth": 0,
              "ticks": ""
             }
            },
            "marker": {
             "colorbar": {
              "outlinewidth": 0,
              "ticks": ""
             }
            },
            "type": "scatter3d"
           }
          ],
          "scattercarpet": [
           {
            "marker": {
             "colorbar": {
              "outlinewidth": 0,
              "ticks": ""
             }
            },
            "type": "scattercarpet"
           }
          ],
          "scattergeo": [
           {
            "marker": {
             "colorbar": {
              "outlinewidth": 0,
              "ticks": ""
             }
            },
            "type": "scattergeo"
           }
          ],
          "scattergl": [
           {
            "marker": {
             "colorbar": {
              "outlinewidth": 0,
              "ticks": ""
             }
            },
            "type": "scattergl"
           }
          ],
          "scattermapbox": [
           {
            "marker": {
             "colorbar": {
              "outlinewidth": 0,
              "ticks": ""
             }
            },
            "type": "scattermapbox"
           }
          ],
          "scatterpolar": [
           {
            "marker": {
             "colorbar": {
              "outlinewidth": 0,
              "ticks": ""
             }
            },
            "type": "scatterpolar"
           }
          ],
          "scatterpolargl": [
           {
            "marker": {
             "colorbar": {
              "outlinewidth": 0,
              "ticks": ""
             }
            },
            "type": "scatterpolargl"
           }
          ],
          "scatterternary": [
           {
            "marker": {
             "colorbar": {
              "outlinewidth": 0,
              "ticks": ""
             }
            },
            "type": "scatterternary"
           }
          ],
          "surface": [
           {
            "colorbar": {
             "outlinewidth": 0,
             "ticks": ""
            },
            "colorscale": [
             [
              0,
              "#0d0887"
             ],
             [
              0.1111111111111111,
              "#46039f"
             ],
             [
              0.2222222222222222,
              "#7201a8"
             ],
             [
              0.3333333333333333,
              "#9c179e"
             ],
             [
              0.4444444444444444,
              "#bd3786"
             ],
             [
              0.5555555555555556,
              "#d8576b"
             ],
             [
              0.6666666666666666,
              "#ed7953"
             ],
             [
              0.7777777777777778,
              "#fb9f3a"
             ],
             [
              0.8888888888888888,
              "#fdca26"
             ],
             [
              1,
              "#f0f921"
             ]
            ],
            "type": "surface"
           }
          ],
          "table": [
           {
            "cells": {
             "fill": {
              "color": "#EBF0F8"
             },
             "line": {
              "color": "white"
             }
            },
            "header": {
             "fill": {
              "color": "#C8D4E3"
             },
             "line": {
              "color": "white"
             }
            },
            "type": "table"
           }
          ]
         },
         "layout": {
          "annotationdefaults": {
           "arrowcolor": "#2a3f5f",
           "arrowhead": 0,
           "arrowwidth": 1
          },
          "coloraxis": {
           "colorbar": {
            "outlinewidth": 0,
            "ticks": ""
           }
          },
          "colorscale": {
           "diverging": [
            [
             0,
             "#8e0152"
            ],
            [
             0.1,
             "#c51b7d"
            ],
            [
             0.2,
             "#de77ae"
            ],
            [
             0.3,
             "#f1b6da"
            ],
            [
             0.4,
             "#fde0ef"
            ],
            [
             0.5,
             "#f7f7f7"
            ],
            [
             0.6,
             "#e6f5d0"
            ],
            [
             0.7,
             "#b8e186"
            ],
            [
             0.8,
             "#7fbc41"
            ],
            [
             0.9,
             "#4d9221"
            ],
            [
             1,
             "#276419"
            ]
           ],
           "sequential": [
            [
             0,
             "#0d0887"
            ],
            [
             0.1111111111111111,
             "#46039f"
            ],
            [
             0.2222222222222222,
             "#7201a8"
            ],
            [
             0.3333333333333333,
             "#9c179e"
            ],
            [
             0.4444444444444444,
             "#bd3786"
            ],
            [
             0.5555555555555556,
             "#d8576b"
            ],
            [
             0.6666666666666666,
             "#ed7953"
            ],
            [
             0.7777777777777778,
             "#fb9f3a"
            ],
            [
             0.8888888888888888,
             "#fdca26"
            ],
            [
             1,
             "#f0f921"
            ]
           ],
           "sequentialminus": [
            [
             0,
             "#0d0887"
            ],
            [
             0.1111111111111111,
             "#46039f"
            ],
            [
             0.2222222222222222,
             "#7201a8"
            ],
            [
             0.3333333333333333,
             "#9c179e"
            ],
            [
             0.4444444444444444,
             "#bd3786"
            ],
            [
             0.5555555555555556,
             "#d8576b"
            ],
            [
             0.6666666666666666,
             "#ed7953"
            ],
            [
             0.7777777777777778,
             "#fb9f3a"
            ],
            [
             0.8888888888888888,
             "#fdca26"
            ],
            [
             1,
             "#f0f921"
            ]
           ]
          },
          "colorway": [
           "#636efa",
           "#EF553B",
           "#00cc96",
           "#ab63fa",
           "#FFA15A",
           "#19d3f3",
           "#FF6692",
           "#B6E880",
           "#FF97FF",
           "#FECB52"
          ],
          "font": {
           "color": "#2a3f5f"
          },
          "geo": {
           "bgcolor": "white",
           "lakecolor": "white",
           "landcolor": "#E5ECF6",
           "showlakes": true,
           "showland": true,
           "subunitcolor": "white"
          },
          "hoverlabel": {
           "align": "left"
          },
          "hovermode": "closest",
          "mapbox": {
           "style": "light"
          },
          "paper_bgcolor": "white",
          "plot_bgcolor": "#E5ECF6",
          "polar": {
           "angularaxis": {
            "gridcolor": "white",
            "linecolor": "white",
            "ticks": ""
           },
           "bgcolor": "#E5ECF6",
           "radialaxis": {
            "gridcolor": "white",
            "linecolor": "white",
            "ticks": ""
           }
          },
          "scene": {
           "xaxis": {
            "backgroundcolor": "#E5ECF6",
            "gridcolor": "white",
            "gridwidth": 2,
            "linecolor": "white",
            "showbackground": true,
            "ticks": "",
            "zerolinecolor": "white"
           },
           "yaxis": {
            "backgroundcolor": "#E5ECF6",
            "gridcolor": "white",
            "gridwidth": 2,
            "linecolor": "white",
            "showbackground": true,
            "ticks": "",
            "zerolinecolor": "white"
           },
           "zaxis": {
            "backgroundcolor": "#E5ECF6",
            "gridcolor": "white",
            "gridwidth": 2,
            "linecolor": "white",
            "showbackground": true,
            "ticks": "",
            "zerolinecolor": "white"
           }
          },
          "shapedefaults": {
           "line": {
            "color": "#2a3f5f"
           }
          },
          "ternary": {
           "aaxis": {
            "gridcolor": "white",
            "linecolor": "white",
            "ticks": ""
           },
           "baxis": {
            "gridcolor": "white",
            "linecolor": "white",
            "ticks": ""
           },
           "bgcolor": "#E5ECF6",
           "caxis": {
            "gridcolor": "white",
            "linecolor": "white",
            "ticks": ""
           }
          },
          "title": {
           "x": 0.05
          },
          "xaxis": {
           "automargin": true,
           "gridcolor": "white",
           "linecolor": "white",
           "ticks": "",
           "title": {
            "standoff": 15
           },
           "zerolinecolor": "white",
           "zerolinewidth": 2
          },
          "yaxis": {
           "automargin": true,
           "gridcolor": "white",
           "linecolor": "white",
           "ticks": "",
           "title": {
            "standoff": 15
           },
           "zerolinecolor": "white",
           "zerolinewidth": 2
          }
         }
        },
        "title": {
         "font": {
          "color": "#4D5663"
         }
        },
        "xaxis": {
         "gridcolor": "#E1E5ED",
         "showgrid": true,
         "tickfont": {
          "color": "#4D5663"
         },
         "title": {
          "font": {
           "color": "#4D5663"
          },
          "text": ""
         },
         "zerolinecolor": "#E1E5ED"
        },
        "yaxis": {
         "gridcolor": "#E1E5ED",
         "showgrid": true,
         "tickfont": {
          "color": "#4D5663"
         },
         "title": {
          "font": {
           "color": "#4D5663"
          },
          "text": ""
         },
         "zerolinecolor": "#E1E5ED"
        }
       }
      },
      "text/html": [
       "<div>\n",
       "        \n",
       "        \n",
       "            <div id=\"83761ad4-715a-408d-8b64-21f0387a4b5b\" class=\"plotly-graph-div\" style=\"height:525px; width:100%;\"></div>\n",
       "            <script type=\"text/javascript\">\n",
       "                require([\"plotly\"], function(Plotly) {\n",
       "                    window.PLOTLYENV=window.PLOTLYENV || {};\n",
       "                    window.PLOTLYENV.BASE_URL='https://plot.ly';\n",
       "                    \n",
       "                if (document.getElementById(\"83761ad4-715a-408d-8b64-21f0387a4b5b\")) {\n",
       "                    Plotly.newPlot(\n",
       "                        '83761ad4-715a-408d-8b64-21f0387a4b5b',\n",
       "                        [{\"boxpoints\": false, \"line\": {\"width\": 1.3}, \"marker\": {\"color\": \"rgba(255, 153, 51, 1.0)\"}, \"name\": \"A\", \"orientation\": \"v\", \"type\": \"box\", \"y\": [0.01258771338784096, 0.15756449624948846, -1.5674539359727409, 0.006377768460200217, 0.022185847399755477, -1.4098012598057708, -1.1771243636813133, 1.1235283675890204, -0.07429212716714764, 0.48742375992982784, -0.12944337947685283, -0.9180012214241594, -3.0131187942336704, 1.1869412396701389, 0.7912752124923572, 1.432678623623017, 0.40568209062367894, 0.12032693997325379, 1.7001641802601302, -0.8436839622947031, 1.2092113776263675, 0.893612345857148, -0.03762130523020127, -0.06830519231422867, 0.39929983349320436, -0.645987877543945, 0.05471325639345035, 0.6359591748788739, 1.1703800217942906, -1.5043691261451897, -0.5036814725137895, 1.0361340987898915, 0.29213763653891306, 0.7774645561651203, -0.4782140281577571, -2.643881907336907, -0.5749412179835269, 0.3841976745153053, 1.2915638490665986, -0.4233796655810165, 1.8744810238151675, 0.7367675496380632, -0.6109907442671998, 0.805674638800644, -0.9539036537063705, 0.09527741797931052, -1.0649914308693913, 0.5964487166392948, 0.1990665103969152, 0.6132704762189406, 0.6268899207234839, -1.1286894146277253, 0.01213858445998383, -1.4701196523620392, -0.37570842538158156, 1.3497554259656261, 1.35171477403518, -0.4489109673535718, -0.6577003347110576, -0.2888103944878272, 0.3578668378770103, -1.9895737512618443, 0.25272547443718, -0.6009738065166887, 0.9907962012130483, 0.30548119666697593, -1.6790430115833166, 0.3782169365209647, 0.20283659152555167, 0.14354981791108287, -0.4973140193750466, -0.19753779687535397, -0.9257981905690578, -1.8609348754518722, 0.08791455264292816, -0.8965464694382222, 0.3924042454233774, -2.051066260296957, -0.29419187754144366, -0.11404285000231268, -1.5008947403290749, 1.5130633320204947, -0.013939284236135645, -0.5008971717723003, -0.8872960885392636, 0.6545701294979238, 1.2418392362181065, -0.556513780780177, -1.5113062460152866, -1.5437051826070072, 1.2174960148122902, 0.5207168975027033, -0.6058183166483503, -0.876105918810508, 1.6990793067243244, -1.0127106685746625, 1.165990719074486, 1.4427761189051136, -0.48081925269099096, 0.39153886502249624]}, {\"boxpoints\": false, \"line\": {\"width\": 1.3}, \"marker\": {\"color\": \"rgba(55, 128, 191, 1.0)\"}, \"name\": \"B\", \"orientation\": \"v\", \"type\": \"box\", \"y\": [-1.5711202546339078, 1.8589427519950752, 0.4725308030858024, -0.4429751159210085, 0.4931189239296156, 0.3290781388444781, -1.8851204051667412, 0.6520089049000372, 0.001622290086489223, -1.190541657435356, -1.1165354430786067, -0.28023760526214087, 0.036117480348009705, 0.4060464344684879, 1.7693346210102137, 1.1226249355088112, 0.30545725263851115, 0.32467659180420966, -0.36329705102200255, -0.35450640391340416, -0.848256079483041, -1.1016866426764451, -1.8828773464329578, 0.8438264493109183, -0.18552390379817973, 1.7127884983056052, 1.5064918772968656, 0.8622196042959621, -1.0656304741666403, -0.09181381850569179, 1.7954497040834496, 0.4326567575470323, -0.13007433150858635, -0.9520088453445963, 0.7330078033118114, 0.5767854855180345, 1.5941334078701672, 1.2639463553980426, 0.11421381700343505, -0.21074369451029193, -1.442352021362074, 0.6014244269317304, -0.5251750463409331, 0.24056973341915855, -0.34177966778960134, 0.49033717532942955, -0.4359285863361001, -0.4645219801827713, -0.49906116308344267, 0.012296828969600491, 1.3052254220844173, 1.0575718829429042, -0.8955948771032166, 1.8840878446231526, -0.32124146836569917, 1.1138212038805104, -0.5380428173529321, 0.6780503440629659, -0.08953546027085331, 1.290935731322414, 1.0568892764925977, 0.7398009929380013, 1.6294195464621322, 0.5068826199029156, 1.4639384323657498, 2.0035883236917584, 2.2253827405770497, -0.9829583862377724, 0.2486782135934998, 0.5245709075594285, 0.6751474846876793, 0.7431555008266308, 1.1026113915541595, 0.7086927539253073, -0.14067844876750424, 0.38453326761935613, 0.46288958214142273, 0.24238987224025843, -0.17571802415464177, 0.8662372993526971, -1.3677834323167255, -1.052831300968593, -1.041671610917792, -1.3909596396881267, 1.1170937933351548, -1.1603270017517613, 0.20977942996564286, 0.40333440608587473, -0.018229098693743707, 0.9475209099563278, 0.2034026360151726, -0.6814367417773323, -0.9953660681320612, 1.3724080700419738, 1.138876474205955, 0.7265311279666776, -0.8564525533706586, 0.1814599986481153, -1.551384736446907, 1.6351567399448812]}, {\"boxpoints\": false, \"line\": {\"width\": 1.3}, \"marker\": {\"color\": \"rgba(50, 171, 96, 1.0)\"}, \"name\": \"C\", \"orientation\": \"v\", \"type\": \"box\", \"y\": [0.44661398802184066, 0.30889123191956225, -0.9804776587658602, 0.12784873122963558, -1.7395593800185352, 1.1428606997605641, 0.9485480838441536, 0.3423310663027422, 2.2110776442595372, 0.6100936276267533, -0.5233809503034954, 0.7537945250801213, -0.9778677411204288, -0.09884211009064948, 0.004433104465747421, 0.8148762150811547, -0.7892420420784164, 1.3311337631201687, 0.22307407692754, 1.036516109203243, -1.7010220269578207, 0.5343452792757892, 0.9200118033368204, -0.5936541715484736, -1.0035302413854728, 1.910781477075174, 0.5630797906200505, -0.3053637347307562, -1.5908389100611038, 0.9737658383691731, 2.395500700860623, 0.87942148955053, 1.591100760969521, 2.6524230294455338, 0.5393312122541757, -1.3516648169880152, -0.32914141797819724, -1.3040497594262683, 0.032651815989994525, -2.153844933501666, -0.46668732274742175, 0.7297855548161059, 1.9508336306865837, -0.8276700805250797, 0.6810850916839654, -1.259957671899816, 0.4837456170424614, -0.8080319850112103, -1.2079691162600878, -0.8044749738977648, -1.1395762369486782, 2.169550970739434, -0.40751555311218185, 1.3970592467919776, 0.7107802876919356, 0.8919021813916727, -1.9489953483697748, -1.0858852835065254, 2.0441321538230977, 0.43985062990394336, 0.6602988047926446, 2.2700445956419353, -0.9070535186724555, -1.3096897639974387, 0.06394241732018749, 0.050610742587672106, 0.1850583101836084, 1.0720299304536618, 0.49287487627329474, -0.5708677645470345, 1.1659166904591263, 2.7997975708207647, 1.2175347837728439, -0.12029520738651407, -0.4718973085826919, -0.48540310454190344, 1.7860088802826084, -0.7775188948075658, 0.7948958162589866, 1.8090193582415102, 1.0354692764928901, -0.3209472732051858, -0.3479336808701315, 1.0121247723610938, 0.9134680437396722, 0.24530647418187396, -1.4374277890884086, -0.24404449741641432, -0.38835070340983446, -0.38891830841611796, -0.31475655052635354, -0.8926597370177215, -1.124152730457152, -0.14623219919279715, 0.36608386712362945, -0.3598260095371573, 1.7598585797930142, 0.029143026645623838, -1.2213426733231405, -0.2866420272966458]}, {\"boxpoints\": false, \"line\": {\"width\": 1.3}, \"marker\": {\"color\": \"rgba(128, 0, 128, 1.0)\"}, \"name\": \"D\", \"orientation\": \"v\", \"type\": \"box\", \"y\": [-0.546488074456264, -0.6906795939250396, -0.7530198223287682, -0.3035416448226373, 0.3318097102622694, 0.28854391827365106, 0.024869172734768297, 0.2993856166868935, -1.7739234311943968, -1.3061602991789985, -0.1978284090875014, 1.0445034579306787, 0.9170950661450984, -0.684984472347748, -1.9801976218504385, 0.31051713776885004, -0.4329512004987474, -0.9595214053751172, -0.2512722009325092, 0.6742095287617564, -1.0733105914121326, 0.042235732214301186, -0.5082994655524106, 0.006034147184217506, 1.2616648458282216, 0.6795993715030275, -3.330257093397494, 0.561627884971362, -2.2720802102340154, 0.3097731244084955, -0.4370125022523923, 0.044471961293511365, 0.5815934596033061, -0.9967245477818799, -0.3027644967706041, -1.1326849721570416, 1.9640454602527784, -2.1431086532243504, -1.2219373014504364, 0.9283942716087435, -1.4996204449913944, -0.8857129697771499, 0.6539017749199544, 0.9169701156794323, 0.9906148343369582, 0.2755860030358192, -0.01746794152257089, -0.3471383630137931, 0.4618832907819464, -0.4297874720450296, 1.9914952295729302, 1.0602539593119948, -0.11903949950493466, -0.5972525293520385, 0.871220634932907, 0.1061901134741834, 0.39362618733823174, 0.5916770786621857, 1.3602043914521933, -0.10052955794223802, -0.5226857317993312, 0.721589345200966, 0.7815114728168278, -1.2874663329125964, 1.4860441425065496, 1.994362272027055, -2.382611440735003, -0.3426699207174205, -0.7520575866702235, -0.7713985262302956, -0.6723793532305976, -0.168159774298071, -0.8491518001974565, -0.8767152118844154, -0.340836812565283, -0.4445890348045418, -1.9947661768305307, -0.4062905398921242, 0.4611541717010919, -1.164365539393841, -0.30304592551049236, 2.653612293015191, 0.381137487197287, 0.9235035235274678, -0.8698814137486172, 1.0352592830040694, -0.321322944899231, -0.8138074044502812, -0.5412286327252419, 0.4330775385253458, 0.7969502635951479, 0.8123699150188365, 0.07064870947086856, -0.6854260743501431, -1.1579818011671967, 0.9822744829518161, -0.7760660837646026, 2.488984537262283, 0.16181189984854655, -0.656126412046775]}],\n",
       "                        {\"legend\": {\"bgcolor\": \"#F5F6F9\", \"font\": {\"color\": \"#4D5663\"}}, \"paper_bgcolor\": \"#F5F6F9\", \"plot_bgcolor\": \"#F5F6F9\", \"template\": {\"data\": {\"bar\": [{\"error_x\": {\"color\": \"#2a3f5f\"}, \"error_y\": {\"color\": \"#2a3f5f\"}, \"marker\": {\"line\": {\"color\": \"#E5ECF6\", \"width\": 0.5}}, \"type\": \"bar\"}], \"barpolar\": [{\"marker\": {\"line\": {\"color\": \"#E5ECF6\", \"width\": 0.5}}, \"type\": \"barpolar\"}], \"carpet\": [{\"aaxis\": {\"endlinecolor\": \"#2a3f5f\", \"gridcolor\": \"white\", \"linecolor\": \"white\", \"minorgridcolor\": \"white\", \"startlinecolor\": \"#2a3f5f\"}, \"baxis\": {\"endlinecolor\": \"#2a3f5f\", \"gridcolor\": \"white\", \"linecolor\": \"white\", \"minorgridcolor\": \"white\", \"startlinecolor\": \"#2a3f5f\"}, \"type\": \"carpet\"}], \"choropleth\": [{\"colorbar\": {\"outlinewidth\": 0, \"ticks\": \"\"}, \"type\": \"choropleth\"}], \"contour\": [{\"colorbar\": {\"outlinewidth\": 0, \"ticks\": \"\"}, \"colorscale\": [[0.0, \"#0d0887\"], [0.1111111111111111, \"#46039f\"], [0.2222222222222222, \"#7201a8\"], [0.3333333333333333, \"#9c179e\"], [0.4444444444444444, \"#bd3786\"], [0.5555555555555556, \"#d8576b\"], [0.6666666666666666, \"#ed7953\"], [0.7777777777777778, \"#fb9f3a\"], [0.8888888888888888, \"#fdca26\"], [1.0, \"#f0f921\"]], \"type\": \"contour\"}], \"contourcarpet\": [{\"colorbar\": {\"outlinewidth\": 0, \"ticks\": \"\"}, \"type\": \"contourcarpet\"}], \"heatmap\": [{\"colorbar\": {\"outlinewidth\": 0, \"ticks\": \"\"}, \"colorscale\": [[0.0, \"#0d0887\"], [0.1111111111111111, \"#46039f\"], [0.2222222222222222, \"#7201a8\"], [0.3333333333333333, \"#9c179e\"], [0.4444444444444444, \"#bd3786\"], [0.5555555555555556, \"#d8576b\"], [0.6666666666666666, \"#ed7953\"], [0.7777777777777778, \"#fb9f3a\"], [0.8888888888888888, \"#fdca26\"], [1.0, \"#f0f921\"]], \"type\": \"heatmap\"}], \"heatmapgl\": [{\"colorbar\": {\"outlinewidth\": 0, \"ticks\": \"\"}, \"colorscale\": [[0.0, \"#0d0887\"], [0.1111111111111111, \"#46039f\"], [0.2222222222222222, \"#7201a8\"], [0.3333333333333333, \"#9c179e\"], [0.4444444444444444, \"#bd3786\"], [0.5555555555555556, \"#d8576b\"], [0.6666666666666666, \"#ed7953\"], [0.7777777777777778, \"#fb9f3a\"], [0.8888888888888888, \"#fdca26\"], [1.0, \"#f0f921\"]], \"type\": \"heatmapgl\"}], \"histogram\": [{\"marker\": {\"colorbar\": {\"outlinewidth\": 0, \"ticks\": \"\"}}, \"type\": \"histogram\"}], \"histogram2d\": [{\"colorbar\": {\"outlinewidth\": 0, \"ticks\": \"\"}, \"colorscale\": [[0.0, \"#0d0887\"], [0.1111111111111111, \"#46039f\"], [0.2222222222222222, \"#7201a8\"], [0.3333333333333333, \"#9c179e\"], [0.4444444444444444, \"#bd3786\"], [0.5555555555555556, \"#d8576b\"], [0.6666666666666666, \"#ed7953\"], [0.7777777777777778, \"#fb9f3a\"], [0.8888888888888888, \"#fdca26\"], [1.0, \"#f0f921\"]], \"type\": \"histogram2d\"}], \"histogram2dcontour\": [{\"colorbar\": {\"outlinewidth\": 0, \"ticks\": \"\"}, \"colorscale\": [[0.0, \"#0d0887\"], [0.1111111111111111, \"#46039f\"], [0.2222222222222222, \"#7201a8\"], [0.3333333333333333, \"#9c179e\"], [0.4444444444444444, \"#bd3786\"], [0.5555555555555556, \"#d8576b\"], [0.6666666666666666, \"#ed7953\"], [0.7777777777777778, \"#fb9f3a\"], [0.8888888888888888, \"#fdca26\"], [1.0, \"#f0f921\"]], \"type\": \"histogram2dcontour\"}], \"mesh3d\": [{\"colorbar\": {\"outlinewidth\": 0, \"ticks\": \"\"}, \"type\": \"mesh3d\"}], \"parcoords\": [{\"line\": {\"colorbar\": {\"outlinewidth\": 0, \"ticks\": \"\"}}, \"type\": \"parcoords\"}], \"pie\": [{\"automargin\": true, \"type\": \"pie\"}], \"scatter\": [{\"marker\": {\"colorbar\": {\"outlinewidth\": 0, \"ticks\": \"\"}}, \"type\": \"scatter\"}], \"scatter3d\": [{\"line\": {\"colorbar\": {\"outlinewidth\": 0, \"ticks\": \"\"}}, \"marker\": {\"colorbar\": {\"outlinewidth\": 0, \"ticks\": \"\"}}, \"type\": \"scatter3d\"}], \"scattercarpet\": [{\"marker\": {\"colorbar\": {\"outlinewidth\": 0, \"ticks\": \"\"}}, \"type\": \"scattercarpet\"}], \"scattergeo\": [{\"marker\": {\"colorbar\": {\"outlinewidth\": 0, \"ticks\": \"\"}}, \"type\": \"scattergeo\"}], \"scattergl\": [{\"marker\": {\"colorbar\": {\"outlinewidth\": 0, \"ticks\": \"\"}}, \"type\": \"scattergl\"}], \"scattermapbox\": [{\"marker\": {\"colorbar\": {\"outlinewidth\": 0, \"ticks\": \"\"}}, \"type\": \"scattermapbox\"}], \"scatterpolar\": [{\"marker\": {\"colorbar\": {\"outlinewidth\": 0, \"ticks\": \"\"}}, \"type\": \"scatterpolar\"}], \"scatterpolargl\": [{\"marker\": {\"colorbar\": {\"outlinewidth\": 0, \"ticks\": \"\"}}, \"type\": \"scatterpolargl\"}], \"scatterternary\": [{\"marker\": {\"colorbar\": {\"outlinewidth\": 0, \"ticks\": \"\"}}, \"type\": \"scatterternary\"}], \"surface\": [{\"colorbar\": {\"outlinewidth\": 0, \"ticks\": \"\"}, \"colorscale\": [[0.0, \"#0d0887\"], [0.1111111111111111, \"#46039f\"], [0.2222222222222222, \"#7201a8\"], [0.3333333333333333, \"#9c179e\"], [0.4444444444444444, \"#bd3786\"], [0.5555555555555556, \"#d8576b\"], [0.6666666666666666, \"#ed7953\"], [0.7777777777777778, \"#fb9f3a\"], [0.8888888888888888, \"#fdca26\"], [1.0, \"#f0f921\"]], \"type\": \"surface\"}], \"table\": [{\"cells\": {\"fill\": {\"color\": \"#EBF0F8\"}, \"line\": {\"color\": \"white\"}}, \"header\": {\"fill\": {\"color\": \"#C8D4E3\"}, \"line\": {\"color\": \"white\"}}, \"type\": \"table\"}]}, \"layout\": {\"annotationdefaults\": {\"arrowcolor\": \"#2a3f5f\", \"arrowhead\": 0, \"arrowwidth\": 1}, \"coloraxis\": {\"colorbar\": {\"outlinewidth\": 0, \"ticks\": \"\"}}, \"colorscale\": {\"diverging\": [[0, \"#8e0152\"], [0.1, \"#c51b7d\"], [0.2, \"#de77ae\"], [0.3, \"#f1b6da\"], [0.4, \"#fde0ef\"], [0.5, \"#f7f7f7\"], [0.6, \"#e6f5d0\"], [0.7, \"#b8e186\"], [0.8, \"#7fbc41\"], [0.9, \"#4d9221\"], [1, \"#276419\"]], \"sequential\": [[0.0, \"#0d0887\"], [0.1111111111111111, \"#46039f\"], [0.2222222222222222, \"#7201a8\"], [0.3333333333333333, \"#9c179e\"], [0.4444444444444444, \"#bd3786\"], [0.5555555555555556, \"#d8576b\"], [0.6666666666666666, \"#ed7953\"], [0.7777777777777778, \"#fb9f3a\"], [0.8888888888888888, \"#fdca26\"], [1.0, \"#f0f921\"]], \"sequentialminus\": [[0.0, \"#0d0887\"], [0.1111111111111111, \"#46039f\"], [0.2222222222222222, \"#7201a8\"], [0.3333333333333333, \"#9c179e\"], [0.4444444444444444, \"#bd3786\"], [0.5555555555555556, \"#d8576b\"], [0.6666666666666666, \"#ed7953\"], [0.7777777777777778, \"#fb9f3a\"], [0.8888888888888888, \"#fdca26\"], [1.0, \"#f0f921\"]]}, \"colorway\": [\"#636efa\", \"#EF553B\", \"#00cc96\", \"#ab63fa\", \"#FFA15A\", \"#19d3f3\", \"#FF6692\", \"#B6E880\", \"#FF97FF\", \"#FECB52\"], \"font\": {\"color\": \"#2a3f5f\"}, \"geo\": {\"bgcolor\": \"white\", \"lakecolor\": \"white\", \"landcolor\": \"#E5ECF6\", \"showlakes\": true, \"showland\": true, \"subunitcolor\": \"white\"}, \"hoverlabel\": {\"align\": \"left\"}, \"hovermode\": \"closest\", \"mapbox\": {\"style\": \"light\"}, \"paper_bgcolor\": \"white\", \"plot_bgcolor\": \"#E5ECF6\", \"polar\": {\"angularaxis\": {\"gridcolor\": \"white\", \"linecolor\": \"white\", \"ticks\": \"\"}, \"bgcolor\": \"#E5ECF6\", \"radialaxis\": {\"gridcolor\": \"white\", \"linecolor\": \"white\", \"ticks\": \"\"}}, \"scene\": {\"xaxis\": {\"backgroundcolor\": \"#E5ECF6\", \"gridcolor\": \"white\", \"gridwidth\": 2, \"linecolor\": \"white\", \"showbackground\": true, \"ticks\": \"\", \"zerolinecolor\": \"white\"}, \"yaxis\": {\"backgroundcolor\": \"#E5ECF6\", \"gridcolor\": \"white\", \"gridwidth\": 2, \"linecolor\": \"white\", \"showbackground\": true, \"ticks\": \"\", \"zerolinecolor\": \"white\"}, \"zaxis\": {\"backgroundcolor\": \"#E5ECF6\", \"gridcolor\": \"white\", \"gridwidth\": 2, \"linecolor\": \"white\", \"showbackground\": true, \"ticks\": \"\", \"zerolinecolor\": \"white\"}}, \"shapedefaults\": {\"line\": {\"color\": \"#2a3f5f\"}}, \"ternary\": {\"aaxis\": {\"gridcolor\": \"white\", \"linecolor\": \"white\", \"ticks\": \"\"}, \"baxis\": {\"gridcolor\": \"white\", \"linecolor\": \"white\", \"ticks\": \"\"}, \"bgcolor\": \"#E5ECF6\", \"caxis\": {\"gridcolor\": \"white\", \"linecolor\": \"white\", \"ticks\": \"\"}}, \"title\": {\"x\": 0.05}, \"xaxis\": {\"automargin\": true, \"gridcolor\": \"white\", \"linecolor\": \"white\", \"ticks\": \"\", \"title\": {\"standoff\": 15}, \"zerolinecolor\": \"white\", \"zerolinewidth\": 2}, \"yaxis\": {\"automargin\": true, \"gridcolor\": \"white\", \"linecolor\": \"white\", \"ticks\": \"\", \"title\": {\"standoff\": 15}, \"zerolinecolor\": \"white\", \"zerolinewidth\": 2}}}, \"title\": {\"font\": {\"color\": \"#4D5663\"}}, \"xaxis\": {\"gridcolor\": \"#E1E5ED\", \"showgrid\": true, \"tickfont\": {\"color\": \"#4D5663\"}, \"title\": {\"font\": {\"color\": \"#4D5663\"}, \"text\": \"\"}, \"zerolinecolor\": \"#E1E5ED\"}, \"yaxis\": {\"gridcolor\": \"#E1E5ED\", \"showgrid\": true, \"tickfont\": {\"color\": \"#4D5663\"}, \"title\": {\"font\": {\"color\": \"#4D5663\"}, \"text\": \"\"}, \"zerolinecolor\": \"#E1E5ED\"}},\n",
       "                        {\"showLink\": true, \"linkText\": \"Export to plot.ly\", \"plotlyServerURL\": \"https://plot.ly\", \"responsive\": true}\n",
       "                    ).then(function(){\n",
       "                            \n",
       "var gd = document.getElementById('83761ad4-715a-408d-8b64-21f0387a4b5b');\n",
       "var x = new MutationObserver(function (mutations, observer) {{\n",
       "        var display = window.getComputedStyle(gd).display;\n",
       "        if (!display || display === 'none') {{\n",
       "            console.log([gd, 'removed!']);\n",
       "            Plotly.purge(gd);\n",
       "            observer.disconnect();\n",
       "        }}\n",
       "}});\n",
       "\n",
       "// Listen for the removal of the full notebook cells\n",
       "var notebookContainer = gd.closest('#notebook-container');\n",
       "if (notebookContainer) {{\n",
       "    x.observe(notebookContainer, {childList: true});\n",
       "}}\n",
       "\n",
       "// Listen for the clearing of the current output cell\n",
       "var outputEl = gd.closest('.output');\n",
       "if (outputEl) {{\n",
       "    x.observe(outputEl, {childList: true});\n",
       "}}\n",
       "\n",
       "                        })\n",
       "                };\n",
       "                });\n",
       "            </script>\n",
       "        </div>"
      ]
     },
     "metadata": {},
     "output_type": "display_data"
    }
   ],
   "source": [
    "df.iplot(kind='box')"
   ]
  },
  {
   "cell_type": "markdown",
   "metadata": {},
   "source": [
    "## 3d Surface"
   ]
  },
  {
   "cell_type": "code",
   "execution_count": 47,
   "metadata": {},
   "outputs": [
    {
     "data": {
      "text/html": [
       "<div id=\"1bd337c5-1c72-4f4d-9748-7ff51b738774\" style=\"height: 525px; width: 100%;\" class=\"plotly-graph-div\"></div><script type=\"text/javascript\">require([\"plotly\"], function(Plotly) { window.PLOTLYENV=window.PLOTLYENV || {};window.PLOTLYENV.BASE_URL=\"https://plot.ly\";Plotly.newPlot(\"1bd337c5-1c72-4f4d-9748-7ff51b738774\", [{\"colorscale\": [[0.0, \"rgb(165,0,38)\"], [0.1, \"rgb(215,48,39)\"], [0.2, \"rgb(244,109,67)\"], [0.3, \"rgb(253,174,97)\"], [0.4, \"rgb(254,224,144)\"], [0.5, \"rgb(255,255,191)\"], [0.6, \"rgb(224,243,248)\"], [0.7, \"rgb(171,217,233)\"], [0.8, \"rgb(116,173,209)\"], [0.9, \"rgb(69,117,180)\"], [1.0, \"rgb(49,54,149)\"]], \"x\": [0, 1, 2, 3, 4], \"type\": \"surface\", \"y\": [\"x\", \"y\", \"z\"], \"z\": [[1, 2, 3, 4, 5], [10, 20, 30, 20, 10], [5, 4, 3, 2, 1]]}], {\"legend\": {\"font\": {\"color\": \"#666666\"}, \"bgcolor\": \"#FFFFFF\"}, \"titlefont\": {\"color\": \"#151516\"}, \"xaxis1\": {\"titlefont\": {\"color\": \"#666666\"}, \"zerolinecolor\": \"#F6F6F6\", \"title\": \"\", \"tickfont\": {\"color\": \"#666666\"}, \"showgrid\": true, \"gridcolor\": \"#F6F6F6\"}, \"paper_bgcolor\": \"#FFFFFF\", \"plot_bgcolor\": \"#E5E5E5\", \"yaxis1\": {\"titlefont\": {\"color\": \"#666666\"}, \"zerolinecolor\": \"#F6F6F6\", \"title\": \"\", \"tickfont\": {\"color\": \"#666666\"}, \"showgrid\": true, \"gridcolor\": \"#F6F6F6\"}}, {\"showLink\": true, \"linkText\": \"Export to plot.ly\"})});</script>"
      ],
      "text/plain": [
       "<IPython.core.display.HTML object>"
      ]
     },
     "metadata": {},
     "output_type": "display_data"
    }
   ],
   "source": [
    "df3 = pd.DataFrame({'x':[1,2,3,4,5],'y':[10,20,30,20,10],'z':[5,4,3,2,1]})\n",
    "df3.iplot(kind='surface',colorscale='rdylbu')"
   ]
  },
  {
   "cell_type": "markdown",
   "metadata": {},
   "source": [
    "## Spread"
   ]
  },
  {
   "cell_type": "code",
   "execution_count": 50,
   "metadata": {},
   "outputs": [
    {
     "data": {
      "text/html": [
       "<div id=\"d77d91d4-36ef-4915-a84f-8e43772897cc\" style=\"height: 525px; width: 100%;\" class=\"plotly-graph-div\"></div><script type=\"text/javascript\">require([\"plotly\"], function(Plotly) { window.PLOTLYENV=window.PLOTLYENV || {};window.PLOTLYENV.BASE_URL=\"https://plot.ly\";Plotly.newPlot(\"d77d91d4-36ef-4915-a84f-8e43772897cc\", [{\"x\": [0, 1, 2, 3, 4, 5, 6, 7, 8, 9, 10, 11, 12, 13, 14, 15, 16, 17, 18, 19, 20, 21, 22, 23, 24, 25, 26, 27, 28, 29, 30, 31, 32, 33, 34, 35, 36, 37, 38, 39, 40, 41, 42, 43, 44, 45, 46, 47, 48, 49, 50, 51, 52, 53, 54, 55, 56, 57, 58, 59, 60, 61, 62, 63, 64, 65, 66, 67, 68, 69, 70, 71, 72, 73, 74, 75, 76, 77, 78, 79, 80, 81, 82, 83, 84, 85, 86, 87, 88, 89, 90, 91, 92, 93, 94, 95, 96, 97, 98, 99], \"text\": \"\", \"y\": [1.8787246669561561, 0.028733616663923985, -0.1587931161277573, -1.2219723462024636, 1.2531523973363488, 0.8312132082951045, 1.1740170898586173, -0.24393002059589958, -0.296966543277261, 0.7621695759158762, 0.04210347865555278, -0.7791970481917073, 0.3943032396655093, -1.0146190736152443, -0.4841710096782867, 0.5522466668361006, -2.77187556758784, -0.5181226698708166, -0.49722040792422156, -1.6534757596659548, -0.06027439377033132, 1.4769243769038323, 1.1796346669498379, -0.7816898015019265, 0.8630132212967984, 0.6590246731638996, -1.1013906677685679, -0.9446804895542242, -1.788022470413331, 0.8775002821729455, 0.3546715768521251, -0.16532125735222183, 1.8914747239632839, -1.1251772915449791, 0.8888981026894395, -0.6066117727706714, 0.8314777742724779, 0.3830457069359529, -0.937459527593053, -0.844561047334305, 1.1280232245052606, -1.640427972598561, 0.8971269652786067, 0.4848047458342485, 0.19373507090654035, -0.7387091317560727, -0.3566733282792827, -0.43158335134818315, -0.4899640124314907, 0.5488715658495908, 0.2821768987731658, -0.8832439438038343, 1.271863067044618, 0.10680856505919414, 0.8269478103679717, -0.03266751467505833, -0.34021520002722894, -0.6769186069469743, 0.7126188256918854, 1.8871150025438166, -0.06742662656190869, -1.4789736197389265, 0.346978601690099, -0.3757389938313092, 0.715285859520045, 1.5994858611908638, -0.3692558358591885, 0.13827360227735647, -0.40690530542342296, 0.636973800943974, 0.14658752987818605, -0.3949906255692418, 1.5076392623927681, -0.15486042602397807, 0.22159940179664614, -1.0878244818277978, -0.03354417910293162, 1.2258839316932069, -0.048951028800266715, -1.1089870994157809, 0.021452684803338333, 1.2548854256528554, -1.0913797662237141, -0.539059741192553, 0.6901269187662552, -1.4810451728120602, -0.8468654201203714, 0.3763927872506507, 0.8120568488462931, 0.0031767062628090745, 0.697742291538818, -0.7429703118062226, -0.842231117346612, -0.0666718362166121, 1.8829720647783421, 1.320112956074407, 0.42394324402947475, 0.466299928509142, 0.9415282138953815, -0.7707938096473991], \"mode\": \"lines\", \"line\": {\"dash\": \"solid\", \"width\": 1.3, \"color\": \"rgba(226, 74, 51, 1.0)\"}, \"type\": \"scatter\", \"name\": \"A\"}, {\"x\": [0, 1, 2, 3, 4, 5, 6, 7, 8, 9, 10, 11, 12, 13, 14, 15, 16, 17, 18, 19, 20, 21, 22, 23, 24, 25, 26, 27, 28, 29, 30, 31, 32, 33, 34, 35, 36, 37, 38, 39, 40, 41, 42, 43, 44, 45, 46, 47, 48, 49, 50, 51, 52, 53, 54, 55, 56, 57, 58, 59, 60, 61, 62, 63, 64, 65, 66, 67, 68, 69, 70, 71, 72, 73, 74, 75, 76, 77, 78, 79, 80, 81, 82, 83, 84, 85, 86, 87, 88, 89, 90, 91, 92, 93, 94, 95, 96, 97, 98, 99], \"text\": \"\", \"y\": [0.6887194376286498, 0.1040535242504629, 0.38792642015276635, 1.3934230260395444, -0.5375976688704683, -1.1493608786796612, 0.01342890849383506, -0.47231861415738574, 0.24793169472844812, -0.6232083144122951, -1.2121596694710122, -2.4542371001007464, 0.29855785553142483, 1.2997620162676498, 0.9168047366909585, -0.41040614900130634, 1.3147531456519106, -0.12455263569370086, 0.9366143523054554, 0.23573463729990726, -0.8244746170540388, -0.32685668230128845, 1.501781503113865, 0.9830012153240587, 0.6020112305361386, 0.3688304138086671, 1.0090827131320237, -0.5811720111587422, 0.0512884505619472, -1.6917643070157176, -0.25322144257612356, -0.2937357494665306, 0.7368726362448421, 0.5763424997076779, 0.16472110066593693, -0.374254076023172, 1.1280304809680426, 0.6455371548668151, -0.18000225503004413, -0.9128911232313937, -0.5670695205365133, 0.16138491502455474, 1.2118733837294762, 0.4444506280024997, 0.6834767601409083, 1.8020727241195935, 2.4230878273709062, 0.27701889696287213, 1.4067122280705426, -0.33728919328412016, 0.5154870435338148, 0.7751019637809062, 1.400130435077449, 0.8276591566099151, 1.1268119555303864, 0.7016118169589718, 0.476169530704683, -0.5261125753709399, -1.2129692872143456, 0.6126338497954396, 1.5825905557818922, -0.8173630045970658, 0.1075602248072928, 1.2716988894407462, -0.15615948990467535, -0.2968566839654392, 1.7204934641303604, -0.869876624137026, 0.28935077735906545, -1.2052876742800458, -0.263979336251353, -0.02815365780209253, -0.04062347728476395, 0.943760296027789, -1.7797735906553165, 0.4485755919087686, 0.14778332986993048, 0.5305019463041807, 1.6359913516932165, -0.3437427119285297, 1.9109783094330681, 0.6818924480193401, -0.42214824562337705, 0.8935317581184008, 1.2587495288352297, -0.5992845246668753, 2.7851237345776405, -1.5158096238899554, 0.04177421570103183, 0.48980398157362903, 1.063643861677667, -0.8486329162129157, -1.86936339853131, 0.24761777046722996, 1.290606988097702, 0.17046338292604407, 0.14181179559597848, 0.6505415244850333, -2.5850581533594545, -0.30813091794721653], \"mode\": \"lines\", \"line\": {\"dash\": \"solid\", \"width\": 1.3, \"color\": \"rgba(62, 111, 176, 1.0)\"}, \"type\": \"scatter\", \"name\": \"B\"}, {\"yaxis\": \"y2\", \"mode\": \"lines\", \"xaxis\": \"x2\", \"connectgaps\": false, \"x\": [0, 1, 2, 3, 4, 5, 6, 7, 8, 9, 10, 11, 12, 13, 14, 15, 16, 17, 18, 19, 20, 21, 22, 23, 24, 25, 26, 27, 28, 29, 30, 31, 32, 33, 34, 35, 36, 37, 38, 39, 40, 41, 42, 43, 44, 45, 46, 47, 48, 49, 50, 51, 52, 53, 54, 55, 56, 57, 58, 59, 60, 61, 62, 63, 64, 65, 66, 67, 68, 69, 70, 71, 72, 73, 74, 75, 76, 77, 78, 79, 80, 81, 82, 83, 84, 85, 86, 87, 88, 89, 90, 91, 92, 93, 94, 95, 96, 97, 98, 99], \"showlegend\": false, \"y\": [\"\", -0.0753199075865389, -0.5467195362805236, -2.6153953722420082, \"\", \"\", \"\", \"\", -0.5448982380057091, \"\", \"\", \"\", \"\", -2.314381089882894, -1.4009757463692452, \"\", -4.086628713239751, -0.3935700341771157, -1.433834760229677, -1.889210396965862, \"\", \"\", -0.3221468361640272, -1.764691016825985, \"\", \"\", -2.1104733809005918, -0.36350847839548206, -1.8393109209752783, \"\", \"\", \"\", \"\", -1.701519791252657, \"\", -0.23235769674749934, -0.29655270669556466, -0.26249144793086215, -0.7574572725630089, \"\", \"\", -1.8018128876231159, -0.3147464184508695, \"\", -0.48974168923436795, -2.5407818558756663, -2.779761155650189, -0.7086022483110552, -1.8966762405020332, \"\", -0.23331014476064899, -1.6583459075847404, -0.128267368032831, -0.720850591550721, -0.29986414516241466, -0.7342793316340301, -0.8163847307319119, -0.15080603157603434, \"\", \"\", -1.650017182343801, -0.6616106151418607, \"\", -1.6474378832720553, \"\", \"\", -2.089749299989549, \"\", -0.6962560827824884, \"\", \"\", -0.36683696776714925, \"\", -1.098620722051767, \"\", -1.5364000737365664, -0.1813275089728621, \"\", -1.6849423804934833, -0.7652443874872512, -1.8895256246297298, \"\", -0.6692315206003371, -1.4325914993109539, -0.5686226100689745, -0.8817606481451848, -3.6319891546980116, \"\", \"\", -0.48662727531081995, -0.36590157013884894, \"\", \"\", -0.3142896066838421, \"\", \"\", \"\", -0.18424159597589135, \"\", -0.46266289170018254], \"type\": \"scatter\", \"fill\": \"tozeroy\", \"line\": {\"dash\": \"solid\", \"width\": 0.5, \"color\": \"red\"}, \"name\": \"Spread\"}, {\"yaxis\": \"y2\", \"mode\": \"lines\", \"xaxis\": \"x2\", \"connectgaps\": false, \"x\": [0, 1, 2, 3, 4, 5, 6, 7, 8, 9, 10, 11, 12, 13, 14, 15, 16, 17, 18, 19, 20, 21, 22, 23, 24, 25, 26, 27, 28, 29, 30, 31, 32, 33, 34, 35, 36, 37, 38, 39, 40, 41, 42, 43, 44, 45, 46, 47, 48, 49, 50, 51, 52, 53, 54, 55, 56, 57, 58, 59, 60, 61, 62, 63, 64, 65, 66, 67, 68, 69, 70, 71, 72, 73, 74, 75, 76, 77, 78, 79, 80, 81, 82, 83, 84, 85, 86, 87, 88, 89, 90, 91, 92, 93, 94, 95, 96, 97, 98, 99], \"showlegend\": false, \"y\": [1.1900052293275063, \"\", \"\", \"\", 1.790750066206817, 1.9805740869747657, 1.1605881813647823, 0.22838859356148616, \"\", 1.3853778903281713, 1.254263148126565, 1.675040051909039, 0.09574538413408445, \"\", \"\", 0.9626528158374069, \"\", \"\", \"\", \"\", 0.7642002232837075, 1.8037810592051207, \"\", \"\", 0.2610019907606598, 0.29019425935523246, \"\", \"\", \"\", 2.569264589188663, 0.6078930194282486, 0.12841449211430875, 1.1546020877184417, \"\", 0.7241770020235025, \"\", \"\", \"\", \"\", 0.06833007589708862, 1.6950927450417739, \"\", \"\", 0.040354117831748804, \"\", \"\", \"\", \"\", \"\", 0.8861607591337111, \"\", \"\", \"\", \"\", \"\", \"\", \"\", \"\", 1.9255881129062309, 1.274481152748377, \"\", \"\", 0.23941837688280618, \"\", 0.8714453494247203, 1.896342545156303, \"\", 1.0081502264143825, \"\", 1.8422614752240198, 0.4105668661295391, \"\", 1.5482627396775321, \"\", 2.0013729924519628, \"\", \"\", 0.6953819853890262, \"\", \"\", \"\", 0.5729929776335153, \"\", \"\", \"\", \"\", \"\", 1.8922024111406062, 0.7702826331452614, \"\", \"\", 0.10566260440669306, 1.0271322811846981, \"\", 0.5923650766806401, 1.149649573148363, 0.28213144843349625, \"\", 3.5265863672548363, \"\"], \"type\": \"scatter\", \"fill\": \"tozeroy\", \"line\": {\"dash\": \"solid\", \"width\": 0.5, \"color\": \"green\"}, \"name\": \"Spread\"}], {\"legend\": {\"font\": {\"color\": \"#666666\"}, \"bgcolor\": \"#FFFFFF\"}, \"titlefont\": {\"color\": \"#151516\"}, \"xaxis1\": {\"titlefont\": {\"color\": \"#666666\"}, \"zerolinecolor\": \"#F6F6F6\", \"title\": \"\", \"tickfont\": {\"color\": \"#666666\"}, \"showgrid\": true, \"gridcolor\": \"#F6F6F6\"}, \"paper_bgcolor\": \"#FFFFFF\", \"yaxis2\": {\"titlefont\": {\"color\": \"#666666\"}, \"zerolinecolor\": \"#F6F6F6\", \"title\": \"Spread\", \"tickfont\": {\"color\": \"#666666\"}, \"showgrid\": true, \"domain\": [0, 0.25], \"gridcolor\": \"#F6F6F6\"}, \"plot_bgcolor\": \"#E5E5E5\", \"hovermode\": \"x\", \"xaxis2\": {\"titlefont\": {\"color\": \"#666666\"}, \"zerolinecolor\": \"#F6F6F6\", \"showgrid\": true, \"title\": \"\", \"anchor\": \"y2\", \"tickfont\": {\"color\": \"#666666\"}, \"showticklabels\": false, \"gridcolor\": \"#F6F6F6\"}, \"yaxis1\": {\"titlefont\": {\"color\": \"#666666\"}, \"zerolinecolor\": \"#F6F6F6\", \"title\": \"\", \"tickfont\": {\"color\": \"#666666\"}, \"showgrid\": true, \"domain\": [0.3, 1], \"gridcolor\": \"#F6F6F6\"}}, {\"showLink\": true, \"linkText\": \"Export to plot.ly\"})});</script>"
      ],
      "text/plain": [
       "<IPython.core.display.HTML object>"
      ]
     },
     "metadata": {},
     "output_type": "display_data"
    }
   ],
   "source": [
    "df[['A','B']].iplot(kind='spread')"
   ]
  },
  {
   "cell_type": "markdown",
   "metadata": {},
   "source": [
    "## histogram"
   ]
  },
  {
   "cell_type": "code",
   "execution_count": 56,
   "metadata": {},
   "outputs": [
    {
     "data": {
      "text/html": [
       "<div id=\"be69ae84-c3c4-4776-a0e8-f44c59817e90\" style=\"height: 525px; width: 100%;\" class=\"plotly-graph-div\"></div><script type=\"text/javascript\">require([\"plotly\"], function(Plotly) { window.PLOTLYENV=window.PLOTLYENV || {};window.PLOTLYENV.BASE_URL=\"https://plot.ly\";Plotly.newPlot(\"be69ae84-c3c4-4776-a0e8-f44c59817e90\", [{\"x\": [1.8787246669561561, 0.028733616663923985, -0.1587931161277573, -1.2219723462024636, 1.2531523973363488, 0.8312132082951045, 1.1740170898586173, -0.24393002059589958, -0.296966543277261, 0.7621695759158762, 0.04210347865555278, -0.7791970481917073, 0.3943032396655093, -1.0146190736152443, -0.4841710096782867, 0.5522466668361006, -2.77187556758784, -0.5181226698708166, -0.49722040792422156, -1.6534757596659548, -0.06027439377033132, 1.4769243769038323, 1.1796346669498379, -0.7816898015019265, 0.8630132212967984, 0.6590246731638996, -1.1013906677685679, -0.9446804895542242, -1.788022470413331, 0.8775002821729455, 0.3546715768521251, -0.16532125735222183, 1.8914747239632839, -1.1251772915449791, 0.8888981026894395, -0.6066117727706714, 0.8314777742724779, 0.3830457069359529, -0.937459527593053, -0.844561047334305, 1.1280232245052606, -1.640427972598561, 0.8971269652786067, 0.4848047458342485, 0.19373507090654035, -0.7387091317560727, -0.3566733282792827, -0.43158335134818315, -0.4899640124314907, 0.5488715658495908, 0.2821768987731658, -0.8832439438038343, 1.271863067044618, 0.10680856505919414, 0.8269478103679717, -0.03266751467505833, -0.34021520002722894, -0.6769186069469743, 0.7126188256918854, 1.8871150025438166, -0.06742662656190869, -1.4789736197389265, 0.346978601690099, -0.3757389938313092, 0.715285859520045, 1.5994858611908638, -0.3692558358591885, 0.13827360227735647, -0.40690530542342296, 0.636973800943974, 0.14658752987818605, -0.3949906255692418, 1.5076392623927681, -0.15486042602397807, 0.22159940179664614, -1.0878244818277978, -0.03354417910293162, 1.2258839316932069, -0.048951028800266715, -1.1089870994157809, 0.021452684803338333, 1.2548854256528554, -1.0913797662237141, -0.539059741192553, 0.6901269187662552, -1.4810451728120602, -0.8468654201203714, 0.3763927872506507, 0.8120568488462931, 0.0031767062628090745, 0.697742291538818, -0.7429703118062226, -0.842231117346612, -0.0666718362166121, 1.8829720647783421, 1.320112956074407, 0.42394324402947475, 0.466299928509142, 0.9415282138953815, -0.7707938096473991], \"orientation\": \"v\", \"name\": \"A\", \"opacity\": 0.8, \"histfunc\": \"count\", \"type\": \"histogram\", \"histnorm\": \"\", \"nbinsx\": 25, \"marker\": {\"line\": {\"width\": 1.3, \"color\": \"#D9D9D9\"}, \"color\": \"rgba(226, 74, 51, 1.0)\"}}], {\"legend\": {\"font\": {\"color\": \"#666666\"}, \"bgcolor\": \"#FFFFFF\"}, \"titlefont\": {\"color\": \"#151516\"}, \"xaxis1\": {\"titlefont\": {\"color\": \"#666666\"}, \"zerolinecolor\": \"#F6F6F6\", \"title\": \"\", \"tickfont\": {\"color\": \"#666666\"}, \"showgrid\": true, \"gridcolor\": \"#F6F6F6\"}, \"paper_bgcolor\": \"#FFFFFF\", \"barmode\": \"overlay\", \"plot_bgcolor\": \"#E5E5E5\", \"yaxis1\": {\"titlefont\": {\"color\": \"#666666\"}, \"zerolinecolor\": \"#F6F6F6\", \"title\": \"\", \"tickfont\": {\"color\": \"#666666\"}, \"showgrid\": true, \"gridcolor\": \"#F6F6F6\"}}, {\"showLink\": true, \"linkText\": \"Export to plot.ly\"})});</script>"
      ],
      "text/plain": [
       "<IPython.core.display.HTML object>"
      ]
     },
     "metadata": {},
     "output_type": "display_data"
    }
   ],
   "source": [
    "df['A'].iplot(kind='hist',bins=25)"
   ]
  },
  {
   "cell_type": "code",
   "execution_count": 60,
   "metadata": {},
   "outputs": [
    {
     "data": {
      "text/html": [
       "<div id=\"e508143e-bcba-4c40-9488-bfdc4040e078\" style=\"height: 525px; width: 100%;\" class=\"plotly-graph-div\"></div><script type=\"text/javascript\">require([\"plotly\"], function(Plotly) { window.PLOTLYENV=window.PLOTLYENV || {};window.PLOTLYENV.BASE_URL=\"https://plot.ly\";Plotly.newPlot(\"e508143e-bcba-4c40-9488-bfdc4040e078\", [{\"mode\": \"markers\", \"text\": \"\", \"y\": [0.6887194376286498, 0.1040535242504629, 0.38792642015276635, 1.3934230260395444, -0.5375976688704683, -1.1493608786796612, 0.01342890849383506, -0.47231861415738574, 0.24793169472844812, -0.6232083144122951, -1.2121596694710122, -2.4542371001007464, 0.29855785553142483, 1.2997620162676498, 0.9168047366909585, -0.41040614900130634, 1.3147531456519106, -0.12455263569370086, 0.9366143523054554, 0.23573463729990726, -0.8244746170540388, -0.32685668230128845, 1.501781503113865, 0.9830012153240587, 0.6020112305361386, 0.3688304138086671, 1.0090827131320237, -0.5811720111587422, 0.0512884505619472, -1.6917643070157176, -0.25322144257612356, -0.2937357494665306, 0.7368726362448421, 0.5763424997076779, 0.16472110066593693, -0.374254076023172, 1.1280304809680426, 0.6455371548668151, -0.18000225503004413, -0.9128911232313937, -0.5670695205365133, 0.16138491502455474, 1.2118733837294762, 0.4444506280024997, 0.6834767601409083, 1.8020727241195935, 2.4230878273709062, 0.27701889696287213, 1.4067122280705426, -0.33728919328412016, 0.5154870435338148, 0.7751019637809062, 1.400130435077449, 0.8276591566099151, 1.1268119555303864, 0.7016118169589718, 0.476169530704683, -0.5261125753709399, -1.2129692872143456, 0.6126338497954396, 1.5825905557818922, -0.8173630045970658, 0.1075602248072928, 1.2716988894407462, -0.15615948990467535, -0.2968566839654392, 1.7204934641303604, -0.869876624137026, 0.28935077735906545, -1.2052876742800458, -0.263979336251353, -0.02815365780209253, -0.04062347728476395, 0.943760296027789, -1.7797735906553165, 0.4485755919087686, 0.14778332986993048, 0.5305019463041807, 1.6359913516932165, -0.3437427119285297, 1.9109783094330681, 0.6818924480193401, -0.42214824562337705, 0.8935317581184008, 1.2587495288352297, -0.5992845246668753, 2.7851237345776405, -1.5158096238899554, 0.04177421570103183, 0.48980398157362903, 1.063643861677667, -0.8486329162129157, -1.86936339853131, 0.24761777046722996, 1.290606988097702, 0.17046338292604407, 0.14181179559597848, 0.6505415244850333, -2.5850581533594545, -0.30813091794721653], \"x\": [1.8787246669561561, 0.028733616663923985, -0.1587931161277573, -1.2219723462024636, 1.2531523973363488, 0.8312132082951045, 1.1740170898586173, -0.24393002059589958, -0.296966543277261, 0.7621695759158762, 0.04210347865555278, -0.7791970481917073, 0.3943032396655093, -1.0146190736152443, -0.4841710096782867, 0.5522466668361006, -2.77187556758784, -0.5181226698708166, -0.49722040792422156, -1.6534757596659548, -0.06027439377033132, 1.4769243769038323, 1.1796346669498379, -0.7816898015019265, 0.8630132212967984, 0.6590246731638996, -1.1013906677685679, -0.9446804895542242, -1.788022470413331, 0.8775002821729455, 0.3546715768521251, -0.16532125735222183, 1.8914747239632839, -1.1251772915449791, 0.8888981026894395, -0.6066117727706714, 0.8314777742724779, 0.3830457069359529, -0.937459527593053, -0.844561047334305, 1.1280232245052606, -1.640427972598561, 0.8971269652786067, 0.4848047458342485, 0.19373507090654035, -0.7387091317560727, -0.3566733282792827, -0.43158335134818315, -0.4899640124314907, 0.5488715658495908, 0.2821768987731658, -0.8832439438038343, 1.271863067044618, 0.10680856505919414, 0.8269478103679717, -0.03266751467505833, -0.34021520002722894, -0.6769186069469743, 0.7126188256918854, 1.8871150025438166, -0.06742662656190869, -1.4789736197389265, 0.346978601690099, -0.3757389938313092, 0.715285859520045, 1.5994858611908638, -0.3692558358591885, 0.13827360227735647, -0.40690530542342296, 0.636973800943974, 0.14658752987818605, -0.3949906255692418, 1.5076392623927681, -0.15486042602397807, 0.22159940179664614, -1.0878244818277978, -0.03354417910293162, 1.2258839316932069, -0.048951028800266715, -1.1089870994157809, 0.021452684803338333, 1.2548854256528554, -1.0913797662237141, -0.539059741192553, 0.6901269187662552, -1.4810451728120602, -0.8468654201203714, 0.3763927872506507, 0.8120568488462931, 0.0031767062628090745, 0.697742291538818, -0.7429703118062226, -0.842231117346612, -0.0666718362166121, 1.8829720647783421, 1.320112956074407, 0.42394324402947475, 0.466299928509142, 0.9415282138953815, -0.7707938096473991], \"type\": \"scatter\", \"marker\": {\"size\": [90, 70, 57, 64, 75, 45, 79, 60, 101, 50, 41, 59, 68, 84, 87, 12, 62, 71, 75, 47, 64, 96, 63, 84, 80, 61, 54, 67, 83, 52, 81, 66, 72, 68, 86, 86, 74, 46, 88, 88, 74, 51, 66, 62, 79, 60, 27, 109, 80, 90, 64, 72, 50, 112, 67, 77, 84, 56, 54, 74, 94, 88, 64, 61, 44, 87, 109, 74, 86, 77, 75, 88, 77, 90, 96, 66, 52, 75, 77, 52, 37, 69, 49, 60, 77, 71, 55, 66, 78, 32, 40, 85, 69, 80, 61, 67, 67, 67, 56, 64], \"line\": {\"width\": 1.3}, \"color\": [\"rgb(226, 74, 51)\", \"rgb(226, 74, 51)\", \"rgb(226, 74, 51)\", \"rgb(226, 74, 51)\", \"rgb(226, 74, 51)\", \"rgb(226, 74, 51)\", \"rgb(226, 74, 51)\", \"rgb(226, 74, 51)\", \"rgb(226, 74, 51)\", \"rgb(226, 74, 51)\", \"rgb(226, 74, 51)\", \"rgb(226, 74, 51)\", \"rgb(226, 74, 51)\", \"rgb(226, 74, 51)\", \"rgb(226, 74, 51)\", \"rgb(226, 74, 51)\", \"rgb(226, 74, 51)\", \"rgb(226, 74, 51)\", \"rgb(226, 74, 51)\", \"rgb(226, 74, 51)\", \"rgb(226, 74, 51)\", \"rgb(226, 74, 51)\", \"rgb(226, 74, 51)\", \"rgb(226, 74, 51)\", \"rgb(226, 74, 51)\", \"rgb(226, 74, 51)\", \"rgb(226, 74, 51)\", \"rgb(226, 74, 51)\", \"rgb(226, 74, 51)\", \"rgb(226, 74, 51)\", \"rgb(226, 74, 51)\", \"rgb(226, 74, 51)\", \"rgb(226, 74, 51)\", \"rgb(226, 74, 51)\", \"rgb(226, 74, 51)\", \"rgb(226, 74, 51)\", \"rgb(226, 74, 51)\", \"rgb(226, 74, 51)\", \"rgb(226, 74, 51)\", \"rgb(226, 74, 51)\", \"rgb(226, 74, 51)\", \"rgb(226, 74, 51)\", \"rgb(226, 74, 51)\", \"rgb(226, 74, 51)\", \"rgb(226, 74, 51)\", \"rgb(226, 74, 51)\", \"rgb(226, 74, 51)\", \"rgb(226, 74, 51)\", \"rgb(226, 74, 51)\", \"rgb(226, 74, 51)\", \"rgb(226, 74, 51)\", \"rgb(226, 74, 51)\", \"rgb(226, 74, 51)\", \"rgb(226, 74, 51)\", \"rgb(226, 74, 51)\", \"rgb(226, 74, 51)\", \"rgb(226, 74, 51)\", \"rgb(226, 74, 51)\", \"rgb(226, 74, 51)\", \"rgb(226, 74, 51)\", \"rgb(226, 74, 51)\", \"rgb(226, 74, 51)\", \"rgb(226, 74, 51)\", \"rgb(226, 74, 51)\", \"rgb(226, 74, 51)\", \"rgb(226, 74, 51)\", \"rgb(226, 74, 51)\", \"rgb(226, 74, 51)\", \"rgb(226, 74, 51)\", \"rgb(226, 74, 51)\", \"rgb(226, 74, 51)\", \"rgb(226, 74, 51)\", \"rgb(226, 74, 51)\", \"rgb(226, 74, 51)\", \"rgb(226, 74, 51)\", \"rgb(226, 74, 51)\", \"rgb(226, 74, 51)\", \"rgb(226, 74, 51)\", \"rgb(226, 74, 51)\", \"rgb(226, 74, 51)\", \"rgb(226, 74, 51)\", \"rgb(226, 74, 51)\", \"rgb(226, 74, 51)\", \"rgb(226, 74, 51)\", \"rgb(226, 74, 51)\", \"rgb(226, 74, 51)\", \"rgb(226, 74, 51)\", \"rgb(226, 74, 51)\", \"rgb(226, 74, 51)\", \"rgb(226, 74, 51)\", \"rgb(226, 74, 51)\", \"rgb(226, 74, 51)\", \"rgb(226, 74, 51)\", \"rgb(226, 74, 51)\", \"rgb(226, 74, 51)\", \"rgb(226, 74, 51)\", \"rgb(226, 74, 51)\", \"rgb(226, 74, 51)\", \"rgb(226, 74, 51)\", \"rgb(226, 74, 51)\"], \"symbol\": \"dot\"}}], {\"legend\": {\"font\": {\"color\": \"#666666\"}, \"bgcolor\": \"#FFFFFF\"}, \"titlefont\": {\"color\": \"#151516\"}, \"xaxis1\": {\"titlefont\": {\"color\": \"#666666\"}, \"zerolinecolor\": \"#F6F6F6\", \"title\": \"\", \"tickfont\": {\"color\": \"#666666\"}, \"showgrid\": true, \"gridcolor\": \"#F6F6F6\"}, \"paper_bgcolor\": \"#FFFFFF\", \"plot_bgcolor\": \"#E5E5E5\", \"yaxis1\": {\"titlefont\": {\"color\": \"#666666\"}, \"zerolinecolor\": \"#F6F6F6\", \"title\": \"\", \"tickfont\": {\"color\": \"#666666\"}, \"showgrid\": true, \"gridcolor\": \"#F6F6F6\"}}, {\"showLink\": true, \"linkText\": \"Export to plot.ly\"})});</script>"
      ],
      "text/plain": [
       "<IPython.core.display.HTML object>"
      ]
     },
     "metadata": {},
     "output_type": "display_data"
    }
   ],
   "source": [
    "df.iplot(kind='bubble',x='A',y='B',size='C')"
   ]
  },
  {
   "cell_type": "markdown",
   "metadata": {},
   "source": [
    "## scatter_matrix()\n",
    "\n",
    "Similar to sns.pairplot()"
   ]
  },
  {
   "cell_type": "code",
   "execution_count": 21,
   "metadata": {},
   "outputs": [
    {
     "data": {
      "application/vnd.plotly.v1+json": {
       "config": {
        "linkText": "Export to plot.ly",
        "plotlyServerURL": "https://plot.ly",
        "showLink": true
       },
       "data": [
        {
         "histfunc": "count",
         "histnorm": "",
         "marker": {
          "color": "rgba(255, 153, 51, 1.0)",
          "line": {
           "color": "#4D5663",
           "width": 1.3
          }
         },
         "name": "A",
         "nbinsx": 10,
         "opacity": 0.8,
         "orientation": "v",
         "type": "histogram",
         "x": [
          0.01258771338784096,
          0.15756449624948846,
          -1.5674539359727409,
          0.006377768460200217,
          0.022185847399755477,
          -1.4098012598057708,
          -1.1771243636813133,
          1.1235283675890204,
          -0.07429212716714764,
          0.48742375992982784,
          -0.12944337947685283,
          -0.9180012214241594,
          -3.0131187942336704,
          1.1869412396701389,
          0.7912752124923572,
          1.432678623623017,
          0.40568209062367894,
          0.12032693997325379,
          1.7001641802601302,
          -0.8436839622947031,
          1.2092113776263675,
          0.893612345857148,
          -0.03762130523020127,
          -0.06830519231422867,
          0.39929983349320436,
          -0.645987877543945,
          0.05471325639345035,
          0.6359591748788739,
          1.1703800217942906,
          -1.5043691261451897,
          -0.5036814725137895,
          1.0361340987898915,
          0.29213763653891306,
          0.7774645561651203,
          -0.4782140281577571,
          -2.643881907336907,
          -0.5749412179835269,
          0.3841976745153053,
          1.2915638490665986,
          -0.4233796655810165,
          1.8744810238151675,
          0.7367675496380632,
          -0.6109907442671998,
          0.805674638800644,
          -0.9539036537063705,
          0.09527741797931052,
          -1.0649914308693913,
          0.5964487166392948,
          0.1990665103969152,
          0.6132704762189406,
          0.6268899207234839,
          -1.1286894146277253,
          0.01213858445998383,
          -1.4701196523620392,
          -0.37570842538158156,
          1.3497554259656261,
          1.35171477403518,
          -0.4489109673535718,
          -0.6577003347110576,
          -0.2888103944878272,
          0.3578668378770103,
          -1.9895737512618443,
          0.25272547443718,
          -0.6009738065166887,
          0.9907962012130483,
          0.30548119666697593,
          -1.6790430115833166,
          0.3782169365209647,
          0.20283659152555167,
          0.14354981791108287,
          -0.4973140193750466,
          -0.19753779687535397,
          -0.9257981905690578,
          -1.8609348754518722,
          0.08791455264292816,
          -0.8965464694382222,
          0.3924042454233774,
          -2.051066260296957,
          -0.29419187754144366,
          -0.11404285000231268,
          -1.5008947403290749,
          1.5130633320204947,
          -0.013939284236135645,
          -0.5008971717723003,
          -0.8872960885392636,
          0.6545701294979238,
          1.2418392362181065,
          -0.556513780780177,
          -1.5113062460152866,
          -1.5437051826070072,
          1.2174960148122902,
          0.5207168975027033,
          -0.6058183166483503,
          -0.876105918810508,
          1.6990793067243244,
          -1.0127106685746625,
          1.165990719074486,
          1.4427761189051136,
          -0.48081925269099096,
          0.39153886502249624
         ],
         "xaxis": "x",
         "yaxis": "y"
        },
        {
         "line": {
          "color": "rgba(128, 128, 128, 1.0)",
          "dash": "solid",
          "shape": "linear",
          "width": 1.3
         },
         "marker": {
          "size": 2,
          "symbol": "circle"
         },
         "mode": "markers",
         "name": "A",
         "text": "",
         "type": "scatter",
         "x": [
          -1.5711202546339078,
          1.8589427519950752,
          0.4725308030858024,
          -0.4429751159210085,
          0.4931189239296156,
          0.3290781388444781,
          -1.8851204051667412,
          0.6520089049000372,
          0.001622290086489223,
          -1.190541657435356,
          -1.1165354430786067,
          -0.28023760526214087,
          0.036117480348009705,
          0.4060464344684879,
          1.7693346210102137,
          1.1226249355088112,
          0.30545725263851115,
          0.32467659180420966,
          -0.36329705102200255,
          -0.35450640391340416,
          -0.848256079483041,
          -1.1016866426764451,
          -1.8828773464329578,
          0.8438264493109183,
          -0.18552390379817973,
          1.7127884983056052,
          1.5064918772968656,
          0.8622196042959621,
          -1.0656304741666403,
          -0.09181381850569179,
          1.7954497040834496,
          0.4326567575470323,
          -0.13007433150858635,
          -0.9520088453445963,
          0.7330078033118114,
          0.5767854855180345,
          1.5941334078701672,
          1.2639463553980426,
          0.11421381700343505,
          -0.21074369451029193,
          -1.442352021362074,
          0.6014244269317304,
          -0.5251750463409331,
          0.24056973341915855,
          -0.34177966778960134,
          0.49033717532942955,
          -0.4359285863361001,
          -0.4645219801827713,
          -0.49906116308344267,
          0.012296828969600491,
          1.3052254220844173,
          1.0575718829429042,
          -0.8955948771032166,
          1.8840878446231526,
          -0.32124146836569917,
          1.1138212038805104,
          -0.5380428173529321,
          0.6780503440629659,
          -0.08953546027085331,
          1.290935731322414,
          1.0568892764925977,
          0.7398009929380013,
          1.6294195464621322,
          0.5068826199029156,
          1.4639384323657498,
          2.0035883236917584,
          2.2253827405770497,
          -0.9829583862377724,
          0.2486782135934998,
          0.5245709075594285,
          0.6751474846876793,
          0.7431555008266308,
          1.1026113915541595,
          0.7086927539253073,
          -0.14067844876750424,
          0.38453326761935613,
          0.46288958214142273,
          0.24238987224025843,
          -0.17571802415464177,
          0.8662372993526971,
          -1.3677834323167255,
          -1.052831300968593,
          -1.041671610917792,
          -1.3909596396881267,
          1.1170937933351548,
          -1.1603270017517613,
          0.20977942996564286,
          0.40333440608587473,
          -0.018229098693743707,
          0.9475209099563278,
          0.2034026360151726,
          -0.6814367417773323,
          -0.9953660681320612,
          1.3724080700419738,
          1.138876474205955,
          0.7265311279666776,
          -0.8564525533706586,
          0.1814599986481153,
          -1.551384736446907,
          1.6351567399448812
         ],
         "xaxis": "x2",
         "y": [
          0.01258771338784096,
          0.15756449624948846,
          -1.5674539359727409,
          0.006377768460200217,
          0.022185847399755477,
          -1.4098012598057708,
          -1.1771243636813133,
          1.1235283675890204,
          -0.07429212716714764,
          0.48742375992982784,
          -0.12944337947685283,
          -0.9180012214241594,
          -3.0131187942336704,
          1.1869412396701389,
          0.7912752124923572,
          1.432678623623017,
          0.40568209062367894,
          0.12032693997325379,
          1.7001641802601302,
          -0.8436839622947031,
          1.2092113776263675,
          0.893612345857148,
          -0.03762130523020127,
          -0.06830519231422867,
          0.39929983349320436,
          -0.645987877543945,
          0.05471325639345035,
          0.6359591748788739,
          1.1703800217942906,
          -1.5043691261451897,
          -0.5036814725137895,
          1.0361340987898915,
          0.29213763653891306,
          0.7774645561651203,
          -0.4782140281577571,
          -2.643881907336907,
          -0.5749412179835269,
          0.3841976745153053,
          1.2915638490665986,
          -0.4233796655810165,
          1.8744810238151675,
          0.7367675496380632,
          -0.6109907442671998,
          0.805674638800644,
          -0.9539036537063705,
          0.09527741797931052,
          -1.0649914308693913,
          0.5964487166392948,
          0.1990665103969152,
          0.6132704762189406,
          0.6268899207234839,
          -1.1286894146277253,
          0.01213858445998383,
          -1.4701196523620392,
          -0.37570842538158156,
          1.3497554259656261,
          1.35171477403518,
          -0.4489109673535718,
          -0.6577003347110576,
          -0.2888103944878272,
          0.3578668378770103,
          -1.9895737512618443,
          0.25272547443718,
          -0.6009738065166887,
          0.9907962012130483,
          0.30548119666697593,
          -1.6790430115833166,
          0.3782169365209647,
          0.20283659152555167,
          0.14354981791108287,
          -0.4973140193750466,
          -0.19753779687535397,
          -0.9257981905690578,
          -1.8609348754518722,
          0.08791455264292816,
          -0.8965464694382222,
          0.3924042454233774,
          -2.051066260296957,
          -0.29419187754144366,
          -0.11404285000231268,
          -1.5008947403290749,
          1.5130633320204947,
          -0.013939284236135645,
          -0.5008971717723003,
          -0.8872960885392636,
          0.6545701294979238,
          1.2418392362181065,
          -0.556513780780177,
          -1.5113062460152866,
          -1.5437051826070072,
          1.2174960148122902,
          0.5207168975027033,
          -0.6058183166483503,
          -0.876105918810508,
          1.6990793067243244,
          -1.0127106685746625,
          1.165990719074486,
          1.4427761189051136,
          -0.48081925269099096,
          0.39153886502249624
         ],
         "yaxis": "y2"
        },
        {
         "line": {
          "color": "rgba(128, 128, 128, 1.0)",
          "dash": "solid",
          "shape": "linear",
          "width": 1.3
         },
         "marker": {
          "size": 2,
          "symbol": "circle"
         },
         "mode": "markers",
         "name": "A",
         "text": "",
         "type": "scatter",
         "x": [
          0.44661398802184066,
          0.30889123191956225,
          -0.9804776587658602,
          0.12784873122963558,
          -1.7395593800185352,
          1.1428606997605641,
          0.9485480838441536,
          0.3423310663027422,
          2.2110776442595372,
          0.6100936276267533,
          -0.5233809503034954,
          0.7537945250801213,
          -0.9778677411204288,
          -0.09884211009064948,
          0.004433104465747421,
          0.8148762150811547,
          -0.7892420420784164,
          1.3311337631201687,
          0.22307407692754,
          1.036516109203243,
          -1.7010220269578207,
          0.5343452792757892,
          0.9200118033368204,
          -0.5936541715484736,
          -1.0035302413854728,
          1.910781477075174,
          0.5630797906200505,
          -0.3053637347307562,
          -1.5908389100611038,
          0.9737658383691731,
          2.395500700860623,
          0.87942148955053,
          1.591100760969521,
          2.6524230294455338,
          0.5393312122541757,
          -1.3516648169880152,
          -0.32914141797819724,
          -1.3040497594262683,
          0.032651815989994525,
          -2.153844933501666,
          -0.46668732274742175,
          0.7297855548161059,
          1.9508336306865837,
          -0.8276700805250797,
          0.6810850916839654,
          -1.259957671899816,
          0.4837456170424614,
          -0.8080319850112103,
          -1.2079691162600878,
          -0.8044749738977648,
          -1.1395762369486782,
          2.169550970739434,
          -0.40751555311218185,
          1.3970592467919776,
          0.7107802876919356,
          0.8919021813916727,
          -1.9489953483697748,
          -1.0858852835065254,
          2.0441321538230977,
          0.43985062990394336,
          0.6602988047926446,
          2.2700445956419353,
          -0.9070535186724555,
          -1.3096897639974387,
          0.06394241732018749,
          0.050610742587672106,
          0.1850583101836084,
          1.0720299304536618,
          0.49287487627329474,
          -0.5708677645470345,
          1.1659166904591263,
          2.7997975708207647,
          1.2175347837728439,
          -0.12029520738651407,
          -0.4718973085826919,
          -0.48540310454190344,
          1.7860088802826084,
          -0.7775188948075658,
          0.7948958162589866,
          1.8090193582415102,
          1.0354692764928901,
          -0.3209472732051858,
          -0.3479336808701315,
          1.0121247723610938,
          0.9134680437396722,
          0.24530647418187396,
          -1.4374277890884086,
          -0.24404449741641432,
          -0.38835070340983446,
          -0.38891830841611796,
          -0.31475655052635354,
          -0.8926597370177215,
          -1.124152730457152,
          -0.14623219919279715,
          0.36608386712362945,
          -0.3598260095371573,
          1.7598585797930142,
          0.029143026645623838,
          -1.2213426733231405,
          -0.2866420272966458
         ],
         "xaxis": "x3",
         "y": [
          0.01258771338784096,
          0.15756449624948846,
          -1.5674539359727409,
          0.006377768460200217,
          0.022185847399755477,
          -1.4098012598057708,
          -1.1771243636813133,
          1.1235283675890204,
          -0.07429212716714764,
          0.48742375992982784,
          -0.12944337947685283,
          -0.9180012214241594,
          -3.0131187942336704,
          1.1869412396701389,
          0.7912752124923572,
          1.432678623623017,
          0.40568209062367894,
          0.12032693997325379,
          1.7001641802601302,
          -0.8436839622947031,
          1.2092113776263675,
          0.893612345857148,
          -0.03762130523020127,
          -0.06830519231422867,
          0.39929983349320436,
          -0.645987877543945,
          0.05471325639345035,
          0.6359591748788739,
          1.1703800217942906,
          -1.5043691261451897,
          -0.5036814725137895,
          1.0361340987898915,
          0.29213763653891306,
          0.7774645561651203,
          -0.4782140281577571,
          -2.643881907336907,
          -0.5749412179835269,
          0.3841976745153053,
          1.2915638490665986,
          -0.4233796655810165,
          1.8744810238151675,
          0.7367675496380632,
          -0.6109907442671998,
          0.805674638800644,
          -0.9539036537063705,
          0.09527741797931052,
          -1.0649914308693913,
          0.5964487166392948,
          0.1990665103969152,
          0.6132704762189406,
          0.6268899207234839,
          -1.1286894146277253,
          0.01213858445998383,
          -1.4701196523620392,
          -0.37570842538158156,
          1.3497554259656261,
          1.35171477403518,
          -0.4489109673535718,
          -0.6577003347110576,
          -0.2888103944878272,
          0.3578668378770103,
          -1.9895737512618443,
          0.25272547443718,
          -0.6009738065166887,
          0.9907962012130483,
          0.30548119666697593,
          -1.6790430115833166,
          0.3782169365209647,
          0.20283659152555167,
          0.14354981791108287,
          -0.4973140193750466,
          -0.19753779687535397,
          -0.9257981905690578,
          -1.8609348754518722,
          0.08791455264292816,
          -0.8965464694382222,
          0.3924042454233774,
          -2.051066260296957,
          -0.29419187754144366,
          -0.11404285000231268,
          -1.5008947403290749,
          1.5130633320204947,
          -0.013939284236135645,
          -0.5008971717723003,
          -0.8872960885392636,
          0.6545701294979238,
          1.2418392362181065,
          -0.556513780780177,
          -1.5113062460152866,
          -1.5437051826070072,
          1.2174960148122902,
          0.5207168975027033,
          -0.6058183166483503,
          -0.876105918810508,
          1.6990793067243244,
          -1.0127106685746625,
          1.165990719074486,
          1.4427761189051136,
          -0.48081925269099096,
          0.39153886502249624
         ],
         "yaxis": "y3"
        },
        {
         "line": {
          "color": "rgba(128, 128, 128, 1.0)",
          "dash": "solid",
          "shape": "linear",
          "width": 1.3
         },
         "marker": {
          "size": 2,
          "symbol": "circle"
         },
         "mode": "markers",
         "name": "A",
         "text": "",
         "type": "scatter",
         "x": [
          -0.546488074456264,
          -0.6906795939250396,
          -0.7530198223287682,
          -0.3035416448226373,
          0.3318097102622694,
          0.28854391827365106,
          0.024869172734768297,
          0.2993856166868935,
          -1.7739234311943968,
          -1.3061602991789985,
          -0.1978284090875014,
          1.0445034579306787,
          0.9170950661450984,
          -0.684984472347748,
          -1.9801976218504385,
          0.31051713776885004,
          -0.4329512004987474,
          -0.9595214053751172,
          -0.2512722009325092,
          0.6742095287617564,
          -1.0733105914121326,
          0.042235732214301186,
          -0.5082994655524106,
          0.006034147184217506,
          1.2616648458282216,
          0.6795993715030275,
          -3.330257093397494,
          0.561627884971362,
          -2.2720802102340154,
          0.3097731244084955,
          -0.4370125022523923,
          0.044471961293511365,
          0.5815934596033061,
          -0.9967245477818799,
          -0.3027644967706041,
          -1.1326849721570416,
          1.9640454602527784,
          -2.1431086532243504,
          -1.2219373014504364,
          0.9283942716087435,
          -1.4996204449913944,
          -0.8857129697771499,
          0.6539017749199544,
          0.9169701156794323,
          0.9906148343369582,
          0.2755860030358192,
          -0.01746794152257089,
          -0.3471383630137931,
          0.4618832907819464,
          -0.4297874720450296,
          1.9914952295729302,
          1.0602539593119948,
          -0.11903949950493466,
          -0.5972525293520385,
          0.871220634932907,
          0.1061901134741834,
          0.39362618733823174,
          0.5916770786621857,
          1.3602043914521933,
          -0.10052955794223802,
          -0.5226857317993312,
          0.721589345200966,
          0.7815114728168278,
          -1.2874663329125964,
          1.4860441425065496,
          1.994362272027055,
          -2.382611440735003,
          -0.3426699207174205,
          -0.7520575866702235,
          -0.7713985262302956,
          -0.6723793532305976,
          -0.168159774298071,
          -0.8491518001974565,
          -0.8767152118844154,
          -0.340836812565283,
          -0.4445890348045418,
          -1.9947661768305307,
          -0.4062905398921242,
          0.4611541717010919,
          -1.164365539393841,
          -0.30304592551049236,
          2.653612293015191,
          0.381137487197287,
          0.9235035235274678,
          -0.8698814137486172,
          1.0352592830040694,
          -0.321322944899231,
          -0.8138074044502812,
          -0.5412286327252419,
          0.4330775385253458,
          0.7969502635951479,
          0.8123699150188365,
          0.07064870947086856,
          -0.6854260743501431,
          -1.1579818011671967,
          0.9822744829518161,
          -0.7760660837646026,
          2.488984537262283,
          0.16181189984854655,
          -0.656126412046775
         ],
         "xaxis": "x4",
         "y": [
          0.01258771338784096,
          0.15756449624948846,
          -1.5674539359727409,
          0.006377768460200217,
          0.022185847399755477,
          -1.4098012598057708,
          -1.1771243636813133,
          1.1235283675890204,
          -0.07429212716714764,
          0.48742375992982784,
          -0.12944337947685283,
          -0.9180012214241594,
          -3.0131187942336704,
          1.1869412396701389,
          0.7912752124923572,
          1.432678623623017,
          0.40568209062367894,
          0.12032693997325379,
          1.7001641802601302,
          -0.8436839622947031,
          1.2092113776263675,
          0.893612345857148,
          -0.03762130523020127,
          -0.06830519231422867,
          0.39929983349320436,
          -0.645987877543945,
          0.05471325639345035,
          0.6359591748788739,
          1.1703800217942906,
          -1.5043691261451897,
          -0.5036814725137895,
          1.0361340987898915,
          0.29213763653891306,
          0.7774645561651203,
          -0.4782140281577571,
          -2.643881907336907,
          -0.5749412179835269,
          0.3841976745153053,
          1.2915638490665986,
          -0.4233796655810165,
          1.8744810238151675,
          0.7367675496380632,
          -0.6109907442671998,
          0.805674638800644,
          -0.9539036537063705,
          0.09527741797931052,
          -1.0649914308693913,
          0.5964487166392948,
          0.1990665103969152,
          0.6132704762189406,
          0.6268899207234839,
          -1.1286894146277253,
          0.01213858445998383,
          -1.4701196523620392,
          -0.37570842538158156,
          1.3497554259656261,
          1.35171477403518,
          -0.4489109673535718,
          -0.6577003347110576,
          -0.2888103944878272,
          0.3578668378770103,
          -1.9895737512618443,
          0.25272547443718,
          -0.6009738065166887,
          0.9907962012130483,
          0.30548119666697593,
          -1.6790430115833166,
          0.3782169365209647,
          0.20283659152555167,
          0.14354981791108287,
          -0.4973140193750466,
          -0.19753779687535397,
          -0.9257981905690578,
          -1.8609348754518722,
          0.08791455264292816,
          -0.8965464694382222,
          0.3924042454233774,
          -2.051066260296957,
          -0.29419187754144366,
          -0.11404285000231268,
          -1.5008947403290749,
          1.5130633320204947,
          -0.013939284236135645,
          -0.5008971717723003,
          -0.8872960885392636,
          0.6545701294979238,
          1.2418392362181065,
          -0.556513780780177,
          -1.5113062460152866,
          -1.5437051826070072,
          1.2174960148122902,
          0.5207168975027033,
          -0.6058183166483503,
          -0.876105918810508,
          1.6990793067243244,
          -1.0127106685746625,
          1.165990719074486,
          1.4427761189051136,
          -0.48081925269099096,
          0.39153886502249624
         ],
         "yaxis": "y4"
        },
        {
         "line": {
          "color": "rgba(128, 128, 128, 1.0)",
          "dash": "solid",
          "shape": "linear",
          "width": 1.3
         },
         "marker": {
          "size": 2,
          "symbol": "circle"
         },
         "mode": "markers",
         "name": "B",
         "text": "",
         "type": "scatter",
         "x": [
          0.01258771338784096,
          0.15756449624948846,
          -1.5674539359727409,
          0.006377768460200217,
          0.022185847399755477,
          -1.4098012598057708,
          -1.1771243636813133,
          1.1235283675890204,
          -0.07429212716714764,
          0.48742375992982784,
          -0.12944337947685283,
          -0.9180012214241594,
          -3.0131187942336704,
          1.1869412396701389,
          0.7912752124923572,
          1.432678623623017,
          0.40568209062367894,
          0.12032693997325379,
          1.7001641802601302,
          -0.8436839622947031,
          1.2092113776263675,
          0.893612345857148,
          -0.03762130523020127,
          -0.06830519231422867,
          0.39929983349320436,
          -0.645987877543945,
          0.05471325639345035,
          0.6359591748788739,
          1.1703800217942906,
          -1.5043691261451897,
          -0.5036814725137895,
          1.0361340987898915,
          0.29213763653891306,
          0.7774645561651203,
          -0.4782140281577571,
          -2.643881907336907,
          -0.5749412179835269,
          0.3841976745153053,
          1.2915638490665986,
          -0.4233796655810165,
          1.8744810238151675,
          0.7367675496380632,
          -0.6109907442671998,
          0.805674638800644,
          -0.9539036537063705,
          0.09527741797931052,
          -1.0649914308693913,
          0.5964487166392948,
          0.1990665103969152,
          0.6132704762189406,
          0.6268899207234839,
          -1.1286894146277253,
          0.01213858445998383,
          -1.4701196523620392,
          -0.37570842538158156,
          1.3497554259656261,
          1.35171477403518,
          -0.4489109673535718,
          -0.6577003347110576,
          -0.2888103944878272,
          0.3578668378770103,
          -1.9895737512618443,
          0.25272547443718,
          -0.6009738065166887,
          0.9907962012130483,
          0.30548119666697593,
          -1.6790430115833166,
          0.3782169365209647,
          0.20283659152555167,
          0.14354981791108287,
          -0.4973140193750466,
          -0.19753779687535397,
          -0.9257981905690578,
          -1.8609348754518722,
          0.08791455264292816,
          -0.8965464694382222,
          0.3924042454233774,
          -2.051066260296957,
          -0.29419187754144366,
          -0.11404285000231268,
          -1.5008947403290749,
          1.5130633320204947,
          -0.013939284236135645,
          -0.5008971717723003,
          -0.8872960885392636,
          0.6545701294979238,
          1.2418392362181065,
          -0.556513780780177,
          -1.5113062460152866,
          -1.5437051826070072,
          1.2174960148122902,
          0.5207168975027033,
          -0.6058183166483503,
          -0.876105918810508,
          1.6990793067243244,
          -1.0127106685746625,
          1.165990719074486,
          1.4427761189051136,
          -0.48081925269099096,
          0.39153886502249624
         ],
         "xaxis": "x5",
         "y": [
          -1.5711202546339078,
          1.8589427519950752,
          0.4725308030858024,
          -0.4429751159210085,
          0.4931189239296156,
          0.3290781388444781,
          -1.8851204051667412,
          0.6520089049000372,
          0.001622290086489223,
          -1.190541657435356,
          -1.1165354430786067,
          -0.28023760526214087,
          0.036117480348009705,
          0.4060464344684879,
          1.7693346210102137,
          1.1226249355088112,
          0.30545725263851115,
          0.32467659180420966,
          -0.36329705102200255,
          -0.35450640391340416,
          -0.848256079483041,
          -1.1016866426764451,
          -1.8828773464329578,
          0.8438264493109183,
          -0.18552390379817973,
          1.7127884983056052,
          1.5064918772968656,
          0.8622196042959621,
          -1.0656304741666403,
          -0.09181381850569179,
          1.7954497040834496,
          0.4326567575470323,
          -0.13007433150858635,
          -0.9520088453445963,
          0.7330078033118114,
          0.5767854855180345,
          1.5941334078701672,
          1.2639463553980426,
          0.11421381700343505,
          -0.21074369451029193,
          -1.442352021362074,
          0.6014244269317304,
          -0.5251750463409331,
          0.24056973341915855,
          -0.34177966778960134,
          0.49033717532942955,
          -0.4359285863361001,
          -0.4645219801827713,
          -0.49906116308344267,
          0.012296828969600491,
          1.3052254220844173,
          1.0575718829429042,
          -0.8955948771032166,
          1.8840878446231526,
          -0.32124146836569917,
          1.1138212038805104,
          -0.5380428173529321,
          0.6780503440629659,
          -0.08953546027085331,
          1.290935731322414,
          1.0568892764925977,
          0.7398009929380013,
          1.6294195464621322,
          0.5068826199029156,
          1.4639384323657498,
          2.0035883236917584,
          2.2253827405770497,
          -0.9829583862377724,
          0.2486782135934998,
          0.5245709075594285,
          0.6751474846876793,
          0.7431555008266308,
          1.1026113915541595,
          0.7086927539253073,
          -0.14067844876750424,
          0.38453326761935613,
          0.46288958214142273,
          0.24238987224025843,
          -0.17571802415464177,
          0.8662372993526971,
          -1.3677834323167255,
          -1.052831300968593,
          -1.041671610917792,
          -1.3909596396881267,
          1.1170937933351548,
          -1.1603270017517613,
          0.20977942996564286,
          0.40333440608587473,
          -0.018229098693743707,
          0.9475209099563278,
          0.2034026360151726,
          -0.6814367417773323,
          -0.9953660681320612,
          1.3724080700419738,
          1.138876474205955,
          0.7265311279666776,
          -0.8564525533706586,
          0.1814599986481153,
          -1.551384736446907,
          1.6351567399448812
         ],
         "yaxis": "y5"
        },
        {
         "histfunc": "count",
         "histnorm": "",
         "marker": {
          "color": "rgba(55, 128, 191, 1.0)",
          "line": {
           "color": "#4D5663",
           "width": 1.3
          }
         },
         "name": "B",
         "nbinsx": 10,
         "opacity": 0.8,
         "orientation": "v",
         "type": "histogram",
         "x": [
          -1.5711202546339078,
          1.8589427519950752,
          0.4725308030858024,
          -0.4429751159210085,
          0.4931189239296156,
          0.3290781388444781,
          -1.8851204051667412,
          0.6520089049000372,
          0.001622290086489223,
          -1.190541657435356,
          -1.1165354430786067,
          -0.28023760526214087,
          0.036117480348009705,
          0.4060464344684879,
          1.7693346210102137,
          1.1226249355088112,
          0.30545725263851115,
          0.32467659180420966,
          -0.36329705102200255,
          -0.35450640391340416,
          -0.848256079483041,
          -1.1016866426764451,
          -1.8828773464329578,
          0.8438264493109183,
          -0.18552390379817973,
          1.7127884983056052,
          1.5064918772968656,
          0.8622196042959621,
          -1.0656304741666403,
          -0.09181381850569179,
          1.7954497040834496,
          0.4326567575470323,
          -0.13007433150858635,
          -0.9520088453445963,
          0.7330078033118114,
          0.5767854855180345,
          1.5941334078701672,
          1.2639463553980426,
          0.11421381700343505,
          -0.21074369451029193,
          -1.442352021362074,
          0.6014244269317304,
          -0.5251750463409331,
          0.24056973341915855,
          -0.34177966778960134,
          0.49033717532942955,
          -0.4359285863361001,
          -0.4645219801827713,
          -0.49906116308344267,
          0.012296828969600491,
          1.3052254220844173,
          1.0575718829429042,
          -0.8955948771032166,
          1.8840878446231526,
          -0.32124146836569917,
          1.1138212038805104,
          -0.5380428173529321,
          0.6780503440629659,
          -0.08953546027085331,
          1.290935731322414,
          1.0568892764925977,
          0.7398009929380013,
          1.6294195464621322,
          0.5068826199029156,
          1.4639384323657498,
          2.0035883236917584,
          2.2253827405770497,
          -0.9829583862377724,
          0.2486782135934998,
          0.5245709075594285,
          0.6751474846876793,
          0.7431555008266308,
          1.1026113915541595,
          0.7086927539253073,
          -0.14067844876750424,
          0.38453326761935613,
          0.46288958214142273,
          0.24238987224025843,
          -0.17571802415464177,
          0.8662372993526971,
          -1.3677834323167255,
          -1.052831300968593,
          -1.041671610917792,
          -1.3909596396881267,
          1.1170937933351548,
          -1.1603270017517613,
          0.20977942996564286,
          0.40333440608587473,
          -0.018229098693743707,
          0.9475209099563278,
          0.2034026360151726,
          -0.6814367417773323,
          -0.9953660681320612,
          1.3724080700419738,
          1.138876474205955,
          0.7265311279666776,
          -0.8564525533706586,
          0.1814599986481153,
          -1.551384736446907,
          1.6351567399448812
         ],
         "xaxis": "x6",
         "yaxis": "y6"
        },
        {
         "line": {
          "color": "rgba(128, 128, 128, 1.0)",
          "dash": "solid",
          "shape": "linear",
          "width": 1.3
         },
         "marker": {
          "size": 2,
          "symbol": "circle"
         },
         "mode": "markers",
         "name": "B",
         "text": "",
         "type": "scatter",
         "x": [
          0.44661398802184066,
          0.30889123191956225,
          -0.9804776587658602,
          0.12784873122963558,
          -1.7395593800185352,
          1.1428606997605641,
          0.9485480838441536,
          0.3423310663027422,
          2.2110776442595372,
          0.6100936276267533,
          -0.5233809503034954,
          0.7537945250801213,
          -0.9778677411204288,
          -0.09884211009064948,
          0.004433104465747421,
          0.8148762150811547,
          -0.7892420420784164,
          1.3311337631201687,
          0.22307407692754,
          1.036516109203243,
          -1.7010220269578207,
          0.5343452792757892,
          0.9200118033368204,
          -0.5936541715484736,
          -1.0035302413854728,
          1.910781477075174,
          0.5630797906200505,
          -0.3053637347307562,
          -1.5908389100611038,
          0.9737658383691731,
          2.395500700860623,
          0.87942148955053,
          1.591100760969521,
          2.6524230294455338,
          0.5393312122541757,
          -1.3516648169880152,
          -0.32914141797819724,
          -1.3040497594262683,
          0.032651815989994525,
          -2.153844933501666,
          -0.46668732274742175,
          0.7297855548161059,
          1.9508336306865837,
          -0.8276700805250797,
          0.6810850916839654,
          -1.259957671899816,
          0.4837456170424614,
          -0.8080319850112103,
          -1.2079691162600878,
          -0.8044749738977648,
          -1.1395762369486782,
          2.169550970739434,
          -0.40751555311218185,
          1.3970592467919776,
          0.7107802876919356,
          0.8919021813916727,
          -1.9489953483697748,
          -1.0858852835065254,
          2.0441321538230977,
          0.43985062990394336,
          0.6602988047926446,
          2.2700445956419353,
          -0.9070535186724555,
          -1.3096897639974387,
          0.06394241732018749,
          0.050610742587672106,
          0.1850583101836084,
          1.0720299304536618,
          0.49287487627329474,
          -0.5708677645470345,
          1.1659166904591263,
          2.7997975708207647,
          1.2175347837728439,
          -0.12029520738651407,
          -0.4718973085826919,
          -0.48540310454190344,
          1.7860088802826084,
          -0.7775188948075658,
          0.7948958162589866,
          1.8090193582415102,
          1.0354692764928901,
          -0.3209472732051858,
          -0.3479336808701315,
          1.0121247723610938,
          0.9134680437396722,
          0.24530647418187396,
          -1.4374277890884086,
          -0.24404449741641432,
          -0.38835070340983446,
          -0.38891830841611796,
          -0.31475655052635354,
          -0.8926597370177215,
          -1.124152730457152,
          -0.14623219919279715,
          0.36608386712362945,
          -0.3598260095371573,
          1.7598585797930142,
          0.029143026645623838,
          -1.2213426733231405,
          -0.2866420272966458
         ],
         "xaxis": "x7",
         "y": [
          -1.5711202546339078,
          1.8589427519950752,
          0.4725308030858024,
          -0.4429751159210085,
          0.4931189239296156,
          0.3290781388444781,
          -1.8851204051667412,
          0.6520089049000372,
          0.001622290086489223,
          -1.190541657435356,
          -1.1165354430786067,
          -0.28023760526214087,
          0.036117480348009705,
          0.4060464344684879,
          1.7693346210102137,
          1.1226249355088112,
          0.30545725263851115,
          0.32467659180420966,
          -0.36329705102200255,
          -0.35450640391340416,
          -0.848256079483041,
          -1.1016866426764451,
          -1.8828773464329578,
          0.8438264493109183,
          -0.18552390379817973,
          1.7127884983056052,
          1.5064918772968656,
          0.8622196042959621,
          -1.0656304741666403,
          -0.09181381850569179,
          1.7954497040834496,
          0.4326567575470323,
          -0.13007433150858635,
          -0.9520088453445963,
          0.7330078033118114,
          0.5767854855180345,
          1.5941334078701672,
          1.2639463553980426,
          0.11421381700343505,
          -0.21074369451029193,
          -1.442352021362074,
          0.6014244269317304,
          -0.5251750463409331,
          0.24056973341915855,
          -0.34177966778960134,
          0.49033717532942955,
          -0.4359285863361001,
          -0.4645219801827713,
          -0.49906116308344267,
          0.012296828969600491,
          1.3052254220844173,
          1.0575718829429042,
          -0.8955948771032166,
          1.8840878446231526,
          -0.32124146836569917,
          1.1138212038805104,
          -0.5380428173529321,
          0.6780503440629659,
          -0.08953546027085331,
          1.290935731322414,
          1.0568892764925977,
          0.7398009929380013,
          1.6294195464621322,
          0.5068826199029156,
          1.4639384323657498,
          2.0035883236917584,
          2.2253827405770497,
          -0.9829583862377724,
          0.2486782135934998,
          0.5245709075594285,
          0.6751474846876793,
          0.7431555008266308,
          1.1026113915541595,
          0.7086927539253073,
          -0.14067844876750424,
          0.38453326761935613,
          0.46288958214142273,
          0.24238987224025843,
          -0.17571802415464177,
          0.8662372993526971,
          -1.3677834323167255,
          -1.052831300968593,
          -1.041671610917792,
          -1.3909596396881267,
          1.1170937933351548,
          -1.1603270017517613,
          0.20977942996564286,
          0.40333440608587473,
          -0.018229098693743707,
          0.9475209099563278,
          0.2034026360151726,
          -0.6814367417773323,
          -0.9953660681320612,
          1.3724080700419738,
          1.138876474205955,
          0.7265311279666776,
          -0.8564525533706586,
          0.1814599986481153,
          -1.551384736446907,
          1.6351567399448812
         ],
         "yaxis": "y7"
        },
        {
         "line": {
          "color": "rgba(128, 128, 128, 1.0)",
          "dash": "solid",
          "shape": "linear",
          "width": 1.3
         },
         "marker": {
          "size": 2,
          "symbol": "circle"
         },
         "mode": "markers",
         "name": "B",
         "text": "",
         "type": "scatter",
         "x": [
          -0.546488074456264,
          -0.6906795939250396,
          -0.7530198223287682,
          -0.3035416448226373,
          0.3318097102622694,
          0.28854391827365106,
          0.024869172734768297,
          0.2993856166868935,
          -1.7739234311943968,
          -1.3061602991789985,
          -0.1978284090875014,
          1.0445034579306787,
          0.9170950661450984,
          -0.684984472347748,
          -1.9801976218504385,
          0.31051713776885004,
          -0.4329512004987474,
          -0.9595214053751172,
          -0.2512722009325092,
          0.6742095287617564,
          -1.0733105914121326,
          0.042235732214301186,
          -0.5082994655524106,
          0.006034147184217506,
          1.2616648458282216,
          0.6795993715030275,
          -3.330257093397494,
          0.561627884971362,
          -2.2720802102340154,
          0.3097731244084955,
          -0.4370125022523923,
          0.044471961293511365,
          0.5815934596033061,
          -0.9967245477818799,
          -0.3027644967706041,
          -1.1326849721570416,
          1.9640454602527784,
          -2.1431086532243504,
          -1.2219373014504364,
          0.9283942716087435,
          -1.4996204449913944,
          -0.8857129697771499,
          0.6539017749199544,
          0.9169701156794323,
          0.9906148343369582,
          0.2755860030358192,
          -0.01746794152257089,
          -0.3471383630137931,
          0.4618832907819464,
          -0.4297874720450296,
          1.9914952295729302,
          1.0602539593119948,
          -0.11903949950493466,
          -0.5972525293520385,
          0.871220634932907,
          0.1061901134741834,
          0.39362618733823174,
          0.5916770786621857,
          1.3602043914521933,
          -0.10052955794223802,
          -0.5226857317993312,
          0.721589345200966,
          0.7815114728168278,
          -1.2874663329125964,
          1.4860441425065496,
          1.994362272027055,
          -2.382611440735003,
          -0.3426699207174205,
          -0.7520575866702235,
          -0.7713985262302956,
          -0.6723793532305976,
          -0.168159774298071,
          -0.8491518001974565,
          -0.8767152118844154,
          -0.340836812565283,
          -0.4445890348045418,
          -1.9947661768305307,
          -0.4062905398921242,
          0.4611541717010919,
          -1.164365539393841,
          -0.30304592551049236,
          2.653612293015191,
          0.381137487197287,
          0.9235035235274678,
          -0.8698814137486172,
          1.0352592830040694,
          -0.321322944899231,
          -0.8138074044502812,
          -0.5412286327252419,
          0.4330775385253458,
          0.7969502635951479,
          0.8123699150188365,
          0.07064870947086856,
          -0.6854260743501431,
          -1.1579818011671967,
          0.9822744829518161,
          -0.7760660837646026,
          2.488984537262283,
          0.16181189984854655,
          -0.656126412046775
         ],
         "xaxis": "x8",
         "y": [
          -1.5711202546339078,
          1.8589427519950752,
          0.4725308030858024,
          -0.4429751159210085,
          0.4931189239296156,
          0.3290781388444781,
          -1.8851204051667412,
          0.6520089049000372,
          0.001622290086489223,
          -1.190541657435356,
          -1.1165354430786067,
          -0.28023760526214087,
          0.036117480348009705,
          0.4060464344684879,
          1.7693346210102137,
          1.1226249355088112,
          0.30545725263851115,
          0.32467659180420966,
          -0.36329705102200255,
          -0.35450640391340416,
          -0.848256079483041,
          -1.1016866426764451,
          -1.8828773464329578,
          0.8438264493109183,
          -0.18552390379817973,
          1.7127884983056052,
          1.5064918772968656,
          0.8622196042959621,
          -1.0656304741666403,
          -0.09181381850569179,
          1.7954497040834496,
          0.4326567575470323,
          -0.13007433150858635,
          -0.9520088453445963,
          0.7330078033118114,
          0.5767854855180345,
          1.5941334078701672,
          1.2639463553980426,
          0.11421381700343505,
          -0.21074369451029193,
          -1.442352021362074,
          0.6014244269317304,
          -0.5251750463409331,
          0.24056973341915855,
          -0.34177966778960134,
          0.49033717532942955,
          -0.4359285863361001,
          -0.4645219801827713,
          -0.49906116308344267,
          0.012296828969600491,
          1.3052254220844173,
          1.0575718829429042,
          -0.8955948771032166,
          1.8840878446231526,
          -0.32124146836569917,
          1.1138212038805104,
          -0.5380428173529321,
          0.6780503440629659,
          -0.08953546027085331,
          1.290935731322414,
          1.0568892764925977,
          0.7398009929380013,
          1.6294195464621322,
          0.5068826199029156,
          1.4639384323657498,
          2.0035883236917584,
          2.2253827405770497,
          -0.9829583862377724,
          0.2486782135934998,
          0.5245709075594285,
          0.6751474846876793,
          0.7431555008266308,
          1.1026113915541595,
          0.7086927539253073,
          -0.14067844876750424,
          0.38453326761935613,
          0.46288958214142273,
          0.24238987224025843,
          -0.17571802415464177,
          0.8662372993526971,
          -1.3677834323167255,
          -1.052831300968593,
          -1.041671610917792,
          -1.3909596396881267,
          1.1170937933351548,
          -1.1603270017517613,
          0.20977942996564286,
          0.40333440608587473,
          -0.018229098693743707,
          0.9475209099563278,
          0.2034026360151726,
          -0.6814367417773323,
          -0.9953660681320612,
          1.3724080700419738,
          1.138876474205955,
          0.7265311279666776,
          -0.8564525533706586,
          0.1814599986481153,
          -1.551384736446907,
          1.6351567399448812
         ],
         "yaxis": "y8"
        },
        {
         "line": {
          "color": "rgba(128, 128, 128, 1.0)",
          "dash": "solid",
          "shape": "linear",
          "width": 1.3
         },
         "marker": {
          "size": 2,
          "symbol": "circle"
         },
         "mode": "markers",
         "name": "C",
         "text": "",
         "type": "scatter",
         "x": [
          0.01258771338784096,
          0.15756449624948846,
          -1.5674539359727409,
          0.006377768460200217,
          0.022185847399755477,
          -1.4098012598057708,
          -1.1771243636813133,
          1.1235283675890204,
          -0.07429212716714764,
          0.48742375992982784,
          -0.12944337947685283,
          -0.9180012214241594,
          -3.0131187942336704,
          1.1869412396701389,
          0.7912752124923572,
          1.432678623623017,
          0.40568209062367894,
          0.12032693997325379,
          1.7001641802601302,
          -0.8436839622947031,
          1.2092113776263675,
          0.893612345857148,
          -0.03762130523020127,
          -0.06830519231422867,
          0.39929983349320436,
          -0.645987877543945,
          0.05471325639345035,
          0.6359591748788739,
          1.1703800217942906,
          -1.5043691261451897,
          -0.5036814725137895,
          1.0361340987898915,
          0.29213763653891306,
          0.7774645561651203,
          -0.4782140281577571,
          -2.643881907336907,
          -0.5749412179835269,
          0.3841976745153053,
          1.2915638490665986,
          -0.4233796655810165,
          1.8744810238151675,
          0.7367675496380632,
          -0.6109907442671998,
          0.805674638800644,
          -0.9539036537063705,
          0.09527741797931052,
          -1.0649914308693913,
          0.5964487166392948,
          0.1990665103969152,
          0.6132704762189406,
          0.6268899207234839,
          -1.1286894146277253,
          0.01213858445998383,
          -1.4701196523620392,
          -0.37570842538158156,
          1.3497554259656261,
          1.35171477403518,
          -0.4489109673535718,
          -0.6577003347110576,
          -0.2888103944878272,
          0.3578668378770103,
          -1.9895737512618443,
          0.25272547443718,
          -0.6009738065166887,
          0.9907962012130483,
          0.30548119666697593,
          -1.6790430115833166,
          0.3782169365209647,
          0.20283659152555167,
          0.14354981791108287,
          -0.4973140193750466,
          -0.19753779687535397,
          -0.9257981905690578,
          -1.8609348754518722,
          0.08791455264292816,
          -0.8965464694382222,
          0.3924042454233774,
          -2.051066260296957,
          -0.29419187754144366,
          -0.11404285000231268,
          -1.5008947403290749,
          1.5130633320204947,
          -0.013939284236135645,
          -0.5008971717723003,
          -0.8872960885392636,
          0.6545701294979238,
          1.2418392362181065,
          -0.556513780780177,
          -1.5113062460152866,
          -1.5437051826070072,
          1.2174960148122902,
          0.5207168975027033,
          -0.6058183166483503,
          -0.876105918810508,
          1.6990793067243244,
          -1.0127106685746625,
          1.165990719074486,
          1.4427761189051136,
          -0.48081925269099096,
          0.39153886502249624
         ],
         "xaxis": "x9",
         "y": [
          0.44661398802184066,
          0.30889123191956225,
          -0.9804776587658602,
          0.12784873122963558,
          -1.7395593800185352,
          1.1428606997605641,
          0.9485480838441536,
          0.3423310663027422,
          2.2110776442595372,
          0.6100936276267533,
          -0.5233809503034954,
          0.7537945250801213,
          -0.9778677411204288,
          -0.09884211009064948,
          0.004433104465747421,
          0.8148762150811547,
          -0.7892420420784164,
          1.3311337631201687,
          0.22307407692754,
          1.036516109203243,
          -1.7010220269578207,
          0.5343452792757892,
          0.9200118033368204,
          -0.5936541715484736,
          -1.0035302413854728,
          1.910781477075174,
          0.5630797906200505,
          -0.3053637347307562,
          -1.5908389100611038,
          0.9737658383691731,
          2.395500700860623,
          0.87942148955053,
          1.591100760969521,
          2.6524230294455338,
          0.5393312122541757,
          -1.3516648169880152,
          -0.32914141797819724,
          -1.3040497594262683,
          0.032651815989994525,
          -2.153844933501666,
          -0.46668732274742175,
          0.7297855548161059,
          1.9508336306865837,
          -0.8276700805250797,
          0.6810850916839654,
          -1.259957671899816,
          0.4837456170424614,
          -0.8080319850112103,
          -1.2079691162600878,
          -0.8044749738977648,
          -1.1395762369486782,
          2.169550970739434,
          -0.40751555311218185,
          1.3970592467919776,
          0.7107802876919356,
          0.8919021813916727,
          -1.9489953483697748,
          -1.0858852835065254,
          2.0441321538230977,
          0.43985062990394336,
          0.6602988047926446,
          2.2700445956419353,
          -0.9070535186724555,
          -1.3096897639974387,
          0.06394241732018749,
          0.050610742587672106,
          0.1850583101836084,
          1.0720299304536618,
          0.49287487627329474,
          -0.5708677645470345,
          1.1659166904591263,
          2.7997975708207647,
          1.2175347837728439,
          -0.12029520738651407,
          -0.4718973085826919,
          -0.48540310454190344,
          1.7860088802826084,
          -0.7775188948075658,
          0.7948958162589866,
          1.8090193582415102,
          1.0354692764928901,
          -0.3209472732051858,
          -0.3479336808701315,
          1.0121247723610938,
          0.9134680437396722,
          0.24530647418187396,
          -1.4374277890884086,
          -0.24404449741641432,
          -0.38835070340983446,
          -0.38891830841611796,
          -0.31475655052635354,
          -0.8926597370177215,
          -1.124152730457152,
          -0.14623219919279715,
          0.36608386712362945,
          -0.3598260095371573,
          1.7598585797930142,
          0.029143026645623838,
          -1.2213426733231405,
          -0.2866420272966458
         ],
         "yaxis": "y9"
        },
        {
         "line": {
          "color": "rgba(128, 128, 128, 1.0)",
          "dash": "solid",
          "shape": "linear",
          "width": 1.3
         },
         "marker": {
          "size": 2,
          "symbol": "circle"
         },
         "mode": "markers",
         "name": "C",
         "text": "",
         "type": "scatter",
         "x": [
          -1.5711202546339078,
          1.8589427519950752,
          0.4725308030858024,
          -0.4429751159210085,
          0.4931189239296156,
          0.3290781388444781,
          -1.8851204051667412,
          0.6520089049000372,
          0.001622290086489223,
          -1.190541657435356,
          -1.1165354430786067,
          -0.28023760526214087,
          0.036117480348009705,
          0.4060464344684879,
          1.7693346210102137,
          1.1226249355088112,
          0.30545725263851115,
          0.32467659180420966,
          -0.36329705102200255,
          -0.35450640391340416,
          -0.848256079483041,
          -1.1016866426764451,
          -1.8828773464329578,
          0.8438264493109183,
          -0.18552390379817973,
          1.7127884983056052,
          1.5064918772968656,
          0.8622196042959621,
          -1.0656304741666403,
          -0.09181381850569179,
          1.7954497040834496,
          0.4326567575470323,
          -0.13007433150858635,
          -0.9520088453445963,
          0.7330078033118114,
          0.5767854855180345,
          1.5941334078701672,
          1.2639463553980426,
          0.11421381700343505,
          -0.21074369451029193,
          -1.442352021362074,
          0.6014244269317304,
          -0.5251750463409331,
          0.24056973341915855,
          -0.34177966778960134,
          0.49033717532942955,
          -0.4359285863361001,
          -0.4645219801827713,
          -0.49906116308344267,
          0.012296828969600491,
          1.3052254220844173,
          1.0575718829429042,
          -0.8955948771032166,
          1.8840878446231526,
          -0.32124146836569917,
          1.1138212038805104,
          -0.5380428173529321,
          0.6780503440629659,
          -0.08953546027085331,
          1.290935731322414,
          1.0568892764925977,
          0.7398009929380013,
          1.6294195464621322,
          0.5068826199029156,
          1.4639384323657498,
          2.0035883236917584,
          2.2253827405770497,
          -0.9829583862377724,
          0.2486782135934998,
          0.5245709075594285,
          0.6751474846876793,
          0.7431555008266308,
          1.1026113915541595,
          0.7086927539253073,
          -0.14067844876750424,
          0.38453326761935613,
          0.46288958214142273,
          0.24238987224025843,
          -0.17571802415464177,
          0.8662372993526971,
          -1.3677834323167255,
          -1.052831300968593,
          -1.041671610917792,
          -1.3909596396881267,
          1.1170937933351548,
          -1.1603270017517613,
          0.20977942996564286,
          0.40333440608587473,
          -0.018229098693743707,
          0.9475209099563278,
          0.2034026360151726,
          -0.6814367417773323,
          -0.9953660681320612,
          1.3724080700419738,
          1.138876474205955,
          0.7265311279666776,
          -0.8564525533706586,
          0.1814599986481153,
          -1.551384736446907,
          1.6351567399448812
         ],
         "xaxis": "x10",
         "y": [
          0.44661398802184066,
          0.30889123191956225,
          -0.9804776587658602,
          0.12784873122963558,
          -1.7395593800185352,
          1.1428606997605641,
          0.9485480838441536,
          0.3423310663027422,
          2.2110776442595372,
          0.6100936276267533,
          -0.5233809503034954,
          0.7537945250801213,
          -0.9778677411204288,
          -0.09884211009064948,
          0.004433104465747421,
          0.8148762150811547,
          -0.7892420420784164,
          1.3311337631201687,
          0.22307407692754,
          1.036516109203243,
          -1.7010220269578207,
          0.5343452792757892,
          0.9200118033368204,
          -0.5936541715484736,
          -1.0035302413854728,
          1.910781477075174,
          0.5630797906200505,
          -0.3053637347307562,
          -1.5908389100611038,
          0.9737658383691731,
          2.395500700860623,
          0.87942148955053,
          1.591100760969521,
          2.6524230294455338,
          0.5393312122541757,
          -1.3516648169880152,
          -0.32914141797819724,
          -1.3040497594262683,
          0.032651815989994525,
          -2.153844933501666,
          -0.46668732274742175,
          0.7297855548161059,
          1.9508336306865837,
          -0.8276700805250797,
          0.6810850916839654,
          -1.259957671899816,
          0.4837456170424614,
          -0.8080319850112103,
          -1.2079691162600878,
          -0.8044749738977648,
          -1.1395762369486782,
          2.169550970739434,
          -0.40751555311218185,
          1.3970592467919776,
          0.7107802876919356,
          0.8919021813916727,
          -1.9489953483697748,
          -1.0858852835065254,
          2.0441321538230977,
          0.43985062990394336,
          0.6602988047926446,
          2.2700445956419353,
          -0.9070535186724555,
          -1.3096897639974387,
          0.06394241732018749,
          0.050610742587672106,
          0.1850583101836084,
          1.0720299304536618,
          0.49287487627329474,
          -0.5708677645470345,
          1.1659166904591263,
          2.7997975708207647,
          1.2175347837728439,
          -0.12029520738651407,
          -0.4718973085826919,
          -0.48540310454190344,
          1.7860088802826084,
          -0.7775188948075658,
          0.7948958162589866,
          1.8090193582415102,
          1.0354692764928901,
          -0.3209472732051858,
          -0.3479336808701315,
          1.0121247723610938,
          0.9134680437396722,
          0.24530647418187396,
          -1.4374277890884086,
          -0.24404449741641432,
          -0.38835070340983446,
          -0.38891830841611796,
          -0.31475655052635354,
          -0.8926597370177215,
          -1.124152730457152,
          -0.14623219919279715,
          0.36608386712362945,
          -0.3598260095371573,
          1.7598585797930142,
          0.029143026645623838,
          -1.2213426733231405,
          -0.2866420272966458
         ],
         "yaxis": "y10"
        },
        {
         "histfunc": "count",
         "histnorm": "",
         "marker": {
          "color": "rgba(50, 171, 96, 1.0)",
          "line": {
           "color": "#4D5663",
           "width": 1.3
          }
         },
         "name": "C",
         "nbinsx": 10,
         "opacity": 0.8,
         "orientation": "v",
         "type": "histogram",
         "x": [
          0.44661398802184066,
          0.30889123191956225,
          -0.9804776587658602,
          0.12784873122963558,
          -1.7395593800185352,
          1.1428606997605641,
          0.9485480838441536,
          0.3423310663027422,
          2.2110776442595372,
          0.6100936276267533,
          -0.5233809503034954,
          0.7537945250801213,
          -0.9778677411204288,
          -0.09884211009064948,
          0.004433104465747421,
          0.8148762150811547,
          -0.7892420420784164,
          1.3311337631201687,
          0.22307407692754,
          1.036516109203243,
          -1.7010220269578207,
          0.5343452792757892,
          0.9200118033368204,
          -0.5936541715484736,
          -1.0035302413854728,
          1.910781477075174,
          0.5630797906200505,
          -0.3053637347307562,
          -1.5908389100611038,
          0.9737658383691731,
          2.395500700860623,
          0.87942148955053,
          1.591100760969521,
          2.6524230294455338,
          0.5393312122541757,
          -1.3516648169880152,
          -0.32914141797819724,
          -1.3040497594262683,
          0.032651815989994525,
          -2.153844933501666,
          -0.46668732274742175,
          0.7297855548161059,
          1.9508336306865837,
          -0.8276700805250797,
          0.6810850916839654,
          -1.259957671899816,
          0.4837456170424614,
          -0.8080319850112103,
          -1.2079691162600878,
          -0.8044749738977648,
          -1.1395762369486782,
          2.169550970739434,
          -0.40751555311218185,
          1.3970592467919776,
          0.7107802876919356,
          0.8919021813916727,
          -1.9489953483697748,
          -1.0858852835065254,
          2.0441321538230977,
          0.43985062990394336,
          0.6602988047926446,
          2.2700445956419353,
          -0.9070535186724555,
          -1.3096897639974387,
          0.06394241732018749,
          0.050610742587672106,
          0.1850583101836084,
          1.0720299304536618,
          0.49287487627329474,
          -0.5708677645470345,
          1.1659166904591263,
          2.7997975708207647,
          1.2175347837728439,
          -0.12029520738651407,
          -0.4718973085826919,
          -0.48540310454190344,
          1.7860088802826084,
          -0.7775188948075658,
          0.7948958162589866,
          1.8090193582415102,
          1.0354692764928901,
          -0.3209472732051858,
          -0.3479336808701315,
          1.0121247723610938,
          0.9134680437396722,
          0.24530647418187396,
          -1.4374277890884086,
          -0.24404449741641432,
          -0.38835070340983446,
          -0.38891830841611796,
          -0.31475655052635354,
          -0.8926597370177215,
          -1.124152730457152,
          -0.14623219919279715,
          0.36608386712362945,
          -0.3598260095371573,
          1.7598585797930142,
          0.029143026645623838,
          -1.2213426733231405,
          -0.2866420272966458
         ],
         "xaxis": "x11",
         "yaxis": "y11"
        },
        {
         "line": {
          "color": "rgba(128, 128, 128, 1.0)",
          "dash": "solid",
          "shape": "linear",
          "width": 1.3
         },
         "marker": {
          "size": 2,
          "symbol": "circle"
         },
         "mode": "markers",
         "name": "C",
         "text": "",
         "type": "scatter",
         "x": [
          -0.546488074456264,
          -0.6906795939250396,
          -0.7530198223287682,
          -0.3035416448226373,
          0.3318097102622694,
          0.28854391827365106,
          0.024869172734768297,
          0.2993856166868935,
          -1.7739234311943968,
          -1.3061602991789985,
          -0.1978284090875014,
          1.0445034579306787,
          0.9170950661450984,
          -0.684984472347748,
          -1.9801976218504385,
          0.31051713776885004,
          -0.4329512004987474,
          -0.9595214053751172,
          -0.2512722009325092,
          0.6742095287617564,
          -1.0733105914121326,
          0.042235732214301186,
          -0.5082994655524106,
          0.006034147184217506,
          1.2616648458282216,
          0.6795993715030275,
          -3.330257093397494,
          0.561627884971362,
          -2.2720802102340154,
          0.3097731244084955,
          -0.4370125022523923,
          0.044471961293511365,
          0.5815934596033061,
          -0.9967245477818799,
          -0.3027644967706041,
          -1.1326849721570416,
          1.9640454602527784,
          -2.1431086532243504,
          -1.2219373014504364,
          0.9283942716087435,
          -1.4996204449913944,
          -0.8857129697771499,
          0.6539017749199544,
          0.9169701156794323,
          0.9906148343369582,
          0.2755860030358192,
          -0.01746794152257089,
          -0.3471383630137931,
          0.4618832907819464,
          -0.4297874720450296,
          1.9914952295729302,
          1.0602539593119948,
          -0.11903949950493466,
          -0.5972525293520385,
          0.871220634932907,
          0.1061901134741834,
          0.39362618733823174,
          0.5916770786621857,
          1.3602043914521933,
          -0.10052955794223802,
          -0.5226857317993312,
          0.721589345200966,
          0.7815114728168278,
          -1.2874663329125964,
          1.4860441425065496,
          1.994362272027055,
          -2.382611440735003,
          -0.3426699207174205,
          -0.7520575866702235,
          -0.7713985262302956,
          -0.6723793532305976,
          -0.168159774298071,
          -0.8491518001974565,
          -0.8767152118844154,
          -0.340836812565283,
          -0.4445890348045418,
          -1.9947661768305307,
          -0.4062905398921242,
          0.4611541717010919,
          -1.164365539393841,
          -0.30304592551049236,
          2.653612293015191,
          0.381137487197287,
          0.9235035235274678,
          -0.8698814137486172,
          1.0352592830040694,
          -0.321322944899231,
          -0.8138074044502812,
          -0.5412286327252419,
          0.4330775385253458,
          0.7969502635951479,
          0.8123699150188365,
          0.07064870947086856,
          -0.6854260743501431,
          -1.1579818011671967,
          0.9822744829518161,
          -0.7760660837646026,
          2.488984537262283,
          0.16181189984854655,
          -0.656126412046775
         ],
         "xaxis": "x12",
         "y": [
          0.44661398802184066,
          0.30889123191956225,
          -0.9804776587658602,
          0.12784873122963558,
          -1.7395593800185352,
          1.1428606997605641,
          0.9485480838441536,
          0.3423310663027422,
          2.2110776442595372,
          0.6100936276267533,
          -0.5233809503034954,
          0.7537945250801213,
          -0.9778677411204288,
          -0.09884211009064948,
          0.004433104465747421,
          0.8148762150811547,
          -0.7892420420784164,
          1.3311337631201687,
          0.22307407692754,
          1.036516109203243,
          -1.7010220269578207,
          0.5343452792757892,
          0.9200118033368204,
          -0.5936541715484736,
          -1.0035302413854728,
          1.910781477075174,
          0.5630797906200505,
          -0.3053637347307562,
          -1.5908389100611038,
          0.9737658383691731,
          2.395500700860623,
          0.87942148955053,
          1.591100760969521,
          2.6524230294455338,
          0.5393312122541757,
          -1.3516648169880152,
          -0.32914141797819724,
          -1.3040497594262683,
          0.032651815989994525,
          -2.153844933501666,
          -0.46668732274742175,
          0.7297855548161059,
          1.9508336306865837,
          -0.8276700805250797,
          0.6810850916839654,
          -1.259957671899816,
          0.4837456170424614,
          -0.8080319850112103,
          -1.2079691162600878,
          -0.8044749738977648,
          -1.1395762369486782,
          2.169550970739434,
          -0.40751555311218185,
          1.3970592467919776,
          0.7107802876919356,
          0.8919021813916727,
          -1.9489953483697748,
          -1.0858852835065254,
          2.0441321538230977,
          0.43985062990394336,
          0.6602988047926446,
          2.2700445956419353,
          -0.9070535186724555,
          -1.3096897639974387,
          0.06394241732018749,
          0.050610742587672106,
          0.1850583101836084,
          1.0720299304536618,
          0.49287487627329474,
          -0.5708677645470345,
          1.1659166904591263,
          2.7997975708207647,
          1.2175347837728439,
          -0.12029520738651407,
          -0.4718973085826919,
          -0.48540310454190344,
          1.7860088802826084,
          -0.7775188948075658,
          0.7948958162589866,
          1.8090193582415102,
          1.0354692764928901,
          -0.3209472732051858,
          -0.3479336808701315,
          1.0121247723610938,
          0.9134680437396722,
          0.24530647418187396,
          -1.4374277890884086,
          -0.24404449741641432,
          -0.38835070340983446,
          -0.38891830841611796,
          -0.31475655052635354,
          -0.8926597370177215,
          -1.124152730457152,
          -0.14623219919279715,
          0.36608386712362945,
          -0.3598260095371573,
          1.7598585797930142,
          0.029143026645623838,
          -1.2213426733231405,
          -0.2866420272966458
         ],
         "yaxis": "y12"
        },
        {
         "line": {
          "color": "rgba(128, 128, 128, 1.0)",
          "dash": "solid",
          "shape": "linear",
          "width": 1.3
         },
         "marker": {
          "size": 2,
          "symbol": "circle"
         },
         "mode": "markers",
         "name": "D",
         "text": "",
         "type": "scatter",
         "x": [
          0.01258771338784096,
          0.15756449624948846,
          -1.5674539359727409,
          0.006377768460200217,
          0.022185847399755477,
          -1.4098012598057708,
          -1.1771243636813133,
          1.1235283675890204,
          -0.07429212716714764,
          0.48742375992982784,
          -0.12944337947685283,
          -0.9180012214241594,
          -3.0131187942336704,
          1.1869412396701389,
          0.7912752124923572,
          1.432678623623017,
          0.40568209062367894,
          0.12032693997325379,
          1.7001641802601302,
          -0.8436839622947031,
          1.2092113776263675,
          0.893612345857148,
          -0.03762130523020127,
          -0.06830519231422867,
          0.39929983349320436,
          -0.645987877543945,
          0.05471325639345035,
          0.6359591748788739,
          1.1703800217942906,
          -1.5043691261451897,
          -0.5036814725137895,
          1.0361340987898915,
          0.29213763653891306,
          0.7774645561651203,
          -0.4782140281577571,
          -2.643881907336907,
          -0.5749412179835269,
          0.3841976745153053,
          1.2915638490665986,
          -0.4233796655810165,
          1.8744810238151675,
          0.7367675496380632,
          -0.6109907442671998,
          0.805674638800644,
          -0.9539036537063705,
          0.09527741797931052,
          -1.0649914308693913,
          0.5964487166392948,
          0.1990665103969152,
          0.6132704762189406,
          0.6268899207234839,
          -1.1286894146277253,
          0.01213858445998383,
          -1.4701196523620392,
          -0.37570842538158156,
          1.3497554259656261,
          1.35171477403518,
          -0.4489109673535718,
          -0.6577003347110576,
          -0.2888103944878272,
          0.3578668378770103,
          -1.9895737512618443,
          0.25272547443718,
          -0.6009738065166887,
          0.9907962012130483,
          0.30548119666697593,
          -1.6790430115833166,
          0.3782169365209647,
          0.20283659152555167,
          0.14354981791108287,
          -0.4973140193750466,
          -0.19753779687535397,
          -0.9257981905690578,
          -1.8609348754518722,
          0.08791455264292816,
          -0.8965464694382222,
          0.3924042454233774,
          -2.051066260296957,
          -0.29419187754144366,
          -0.11404285000231268,
          -1.5008947403290749,
          1.5130633320204947,
          -0.013939284236135645,
          -0.5008971717723003,
          -0.8872960885392636,
          0.6545701294979238,
          1.2418392362181065,
          -0.556513780780177,
          -1.5113062460152866,
          -1.5437051826070072,
          1.2174960148122902,
          0.5207168975027033,
          -0.6058183166483503,
          -0.876105918810508,
          1.6990793067243244,
          -1.0127106685746625,
          1.165990719074486,
          1.4427761189051136,
          -0.48081925269099096,
          0.39153886502249624
         ],
         "xaxis": "x13",
         "y": [
          -0.546488074456264,
          -0.6906795939250396,
          -0.7530198223287682,
          -0.3035416448226373,
          0.3318097102622694,
          0.28854391827365106,
          0.024869172734768297,
          0.2993856166868935,
          -1.7739234311943968,
          -1.3061602991789985,
          -0.1978284090875014,
          1.0445034579306787,
          0.9170950661450984,
          -0.684984472347748,
          -1.9801976218504385,
          0.31051713776885004,
          -0.4329512004987474,
          -0.9595214053751172,
          -0.2512722009325092,
          0.6742095287617564,
          -1.0733105914121326,
          0.042235732214301186,
          -0.5082994655524106,
          0.006034147184217506,
          1.2616648458282216,
          0.6795993715030275,
          -3.330257093397494,
          0.561627884971362,
          -2.2720802102340154,
          0.3097731244084955,
          -0.4370125022523923,
          0.044471961293511365,
          0.5815934596033061,
          -0.9967245477818799,
          -0.3027644967706041,
          -1.1326849721570416,
          1.9640454602527784,
          -2.1431086532243504,
          -1.2219373014504364,
          0.9283942716087435,
          -1.4996204449913944,
          -0.8857129697771499,
          0.6539017749199544,
          0.9169701156794323,
          0.9906148343369582,
          0.2755860030358192,
          -0.01746794152257089,
          -0.3471383630137931,
          0.4618832907819464,
          -0.4297874720450296,
          1.9914952295729302,
          1.0602539593119948,
          -0.11903949950493466,
          -0.5972525293520385,
          0.871220634932907,
          0.1061901134741834,
          0.39362618733823174,
          0.5916770786621857,
          1.3602043914521933,
          -0.10052955794223802,
          -0.5226857317993312,
          0.721589345200966,
          0.7815114728168278,
          -1.2874663329125964,
          1.4860441425065496,
          1.994362272027055,
          -2.382611440735003,
          -0.3426699207174205,
          -0.7520575866702235,
          -0.7713985262302956,
          -0.6723793532305976,
          -0.168159774298071,
          -0.8491518001974565,
          -0.8767152118844154,
          -0.340836812565283,
          -0.4445890348045418,
          -1.9947661768305307,
          -0.4062905398921242,
          0.4611541717010919,
          -1.164365539393841,
          -0.30304592551049236,
          2.653612293015191,
          0.381137487197287,
          0.9235035235274678,
          -0.8698814137486172,
          1.0352592830040694,
          -0.321322944899231,
          -0.8138074044502812,
          -0.5412286327252419,
          0.4330775385253458,
          0.7969502635951479,
          0.8123699150188365,
          0.07064870947086856,
          -0.6854260743501431,
          -1.1579818011671967,
          0.9822744829518161,
          -0.7760660837646026,
          2.488984537262283,
          0.16181189984854655,
          -0.656126412046775
         ],
         "yaxis": "y13"
        },
        {
         "line": {
          "color": "rgba(128, 128, 128, 1.0)",
          "dash": "solid",
          "shape": "linear",
          "width": 1.3
         },
         "marker": {
          "size": 2,
          "symbol": "circle"
         },
         "mode": "markers",
         "name": "D",
         "text": "",
         "type": "scatter",
         "x": [
          -1.5711202546339078,
          1.8589427519950752,
          0.4725308030858024,
          -0.4429751159210085,
          0.4931189239296156,
          0.3290781388444781,
          -1.8851204051667412,
          0.6520089049000372,
          0.001622290086489223,
          -1.190541657435356,
          -1.1165354430786067,
          -0.28023760526214087,
          0.036117480348009705,
          0.4060464344684879,
          1.7693346210102137,
          1.1226249355088112,
          0.30545725263851115,
          0.32467659180420966,
          -0.36329705102200255,
          -0.35450640391340416,
          -0.848256079483041,
          -1.1016866426764451,
          -1.8828773464329578,
          0.8438264493109183,
          -0.18552390379817973,
          1.7127884983056052,
          1.5064918772968656,
          0.8622196042959621,
          -1.0656304741666403,
          -0.09181381850569179,
          1.7954497040834496,
          0.4326567575470323,
          -0.13007433150858635,
          -0.9520088453445963,
          0.7330078033118114,
          0.5767854855180345,
          1.5941334078701672,
          1.2639463553980426,
          0.11421381700343505,
          -0.21074369451029193,
          -1.442352021362074,
          0.6014244269317304,
          -0.5251750463409331,
          0.24056973341915855,
          -0.34177966778960134,
          0.49033717532942955,
          -0.4359285863361001,
          -0.4645219801827713,
          -0.49906116308344267,
          0.012296828969600491,
          1.3052254220844173,
          1.0575718829429042,
          -0.8955948771032166,
          1.8840878446231526,
          -0.32124146836569917,
          1.1138212038805104,
          -0.5380428173529321,
          0.6780503440629659,
          -0.08953546027085331,
          1.290935731322414,
          1.0568892764925977,
          0.7398009929380013,
          1.6294195464621322,
          0.5068826199029156,
          1.4639384323657498,
          2.0035883236917584,
          2.2253827405770497,
          -0.9829583862377724,
          0.2486782135934998,
          0.5245709075594285,
          0.6751474846876793,
          0.7431555008266308,
          1.1026113915541595,
          0.7086927539253073,
          -0.14067844876750424,
          0.38453326761935613,
          0.46288958214142273,
          0.24238987224025843,
          -0.17571802415464177,
          0.8662372993526971,
          -1.3677834323167255,
          -1.052831300968593,
          -1.041671610917792,
          -1.3909596396881267,
          1.1170937933351548,
          -1.1603270017517613,
          0.20977942996564286,
          0.40333440608587473,
          -0.018229098693743707,
          0.9475209099563278,
          0.2034026360151726,
          -0.6814367417773323,
          -0.9953660681320612,
          1.3724080700419738,
          1.138876474205955,
          0.7265311279666776,
          -0.8564525533706586,
          0.1814599986481153,
          -1.551384736446907,
          1.6351567399448812
         ],
         "xaxis": "x14",
         "y": [
          -0.546488074456264,
          -0.6906795939250396,
          -0.7530198223287682,
          -0.3035416448226373,
          0.3318097102622694,
          0.28854391827365106,
          0.024869172734768297,
          0.2993856166868935,
          -1.7739234311943968,
          -1.3061602991789985,
          -0.1978284090875014,
          1.0445034579306787,
          0.9170950661450984,
          -0.684984472347748,
          -1.9801976218504385,
          0.31051713776885004,
          -0.4329512004987474,
          -0.9595214053751172,
          -0.2512722009325092,
          0.6742095287617564,
          -1.0733105914121326,
          0.042235732214301186,
          -0.5082994655524106,
          0.006034147184217506,
          1.2616648458282216,
          0.6795993715030275,
          -3.330257093397494,
          0.561627884971362,
          -2.2720802102340154,
          0.3097731244084955,
          -0.4370125022523923,
          0.044471961293511365,
          0.5815934596033061,
          -0.9967245477818799,
          -0.3027644967706041,
          -1.1326849721570416,
          1.9640454602527784,
          -2.1431086532243504,
          -1.2219373014504364,
          0.9283942716087435,
          -1.4996204449913944,
          -0.8857129697771499,
          0.6539017749199544,
          0.9169701156794323,
          0.9906148343369582,
          0.2755860030358192,
          -0.01746794152257089,
          -0.3471383630137931,
          0.4618832907819464,
          -0.4297874720450296,
          1.9914952295729302,
          1.0602539593119948,
          -0.11903949950493466,
          -0.5972525293520385,
          0.871220634932907,
          0.1061901134741834,
          0.39362618733823174,
          0.5916770786621857,
          1.3602043914521933,
          -0.10052955794223802,
          -0.5226857317993312,
          0.721589345200966,
          0.7815114728168278,
          -1.2874663329125964,
          1.4860441425065496,
          1.994362272027055,
          -2.382611440735003,
          -0.3426699207174205,
          -0.7520575866702235,
          -0.7713985262302956,
          -0.6723793532305976,
          -0.168159774298071,
          -0.8491518001974565,
          -0.8767152118844154,
          -0.340836812565283,
          -0.4445890348045418,
          -1.9947661768305307,
          -0.4062905398921242,
          0.4611541717010919,
          -1.164365539393841,
          -0.30304592551049236,
          2.653612293015191,
          0.381137487197287,
          0.9235035235274678,
          -0.8698814137486172,
          1.0352592830040694,
          -0.321322944899231,
          -0.8138074044502812,
          -0.5412286327252419,
          0.4330775385253458,
          0.7969502635951479,
          0.8123699150188365,
          0.07064870947086856,
          -0.6854260743501431,
          -1.1579818011671967,
          0.9822744829518161,
          -0.7760660837646026,
          2.488984537262283,
          0.16181189984854655,
          -0.656126412046775
         ],
         "yaxis": "y14"
        },
        {
         "line": {
          "color": "rgba(128, 128, 128, 1.0)",
          "dash": "solid",
          "shape": "linear",
          "width": 1.3
         },
         "marker": {
          "size": 2,
          "symbol": "circle"
         },
         "mode": "markers",
         "name": "D",
         "text": "",
         "type": "scatter",
         "x": [
          0.44661398802184066,
          0.30889123191956225,
          -0.9804776587658602,
          0.12784873122963558,
          -1.7395593800185352,
          1.1428606997605641,
          0.9485480838441536,
          0.3423310663027422,
          2.2110776442595372,
          0.6100936276267533,
          -0.5233809503034954,
          0.7537945250801213,
          -0.9778677411204288,
          -0.09884211009064948,
          0.004433104465747421,
          0.8148762150811547,
          -0.7892420420784164,
          1.3311337631201687,
          0.22307407692754,
          1.036516109203243,
          -1.7010220269578207,
          0.5343452792757892,
          0.9200118033368204,
          -0.5936541715484736,
          -1.0035302413854728,
          1.910781477075174,
          0.5630797906200505,
          -0.3053637347307562,
          -1.5908389100611038,
          0.9737658383691731,
          2.395500700860623,
          0.87942148955053,
          1.591100760969521,
          2.6524230294455338,
          0.5393312122541757,
          -1.3516648169880152,
          -0.32914141797819724,
          -1.3040497594262683,
          0.032651815989994525,
          -2.153844933501666,
          -0.46668732274742175,
          0.7297855548161059,
          1.9508336306865837,
          -0.8276700805250797,
          0.6810850916839654,
          -1.259957671899816,
          0.4837456170424614,
          -0.8080319850112103,
          -1.2079691162600878,
          -0.8044749738977648,
          -1.1395762369486782,
          2.169550970739434,
          -0.40751555311218185,
          1.3970592467919776,
          0.7107802876919356,
          0.8919021813916727,
          -1.9489953483697748,
          -1.0858852835065254,
          2.0441321538230977,
          0.43985062990394336,
          0.6602988047926446,
          2.2700445956419353,
          -0.9070535186724555,
          -1.3096897639974387,
          0.06394241732018749,
          0.050610742587672106,
          0.1850583101836084,
          1.0720299304536618,
          0.49287487627329474,
          -0.5708677645470345,
          1.1659166904591263,
          2.7997975708207647,
          1.2175347837728439,
          -0.12029520738651407,
          -0.4718973085826919,
          -0.48540310454190344,
          1.7860088802826084,
          -0.7775188948075658,
          0.7948958162589866,
          1.8090193582415102,
          1.0354692764928901,
          -0.3209472732051858,
          -0.3479336808701315,
          1.0121247723610938,
          0.9134680437396722,
          0.24530647418187396,
          -1.4374277890884086,
          -0.24404449741641432,
          -0.38835070340983446,
          -0.38891830841611796,
          -0.31475655052635354,
          -0.8926597370177215,
          -1.124152730457152,
          -0.14623219919279715,
          0.36608386712362945,
          -0.3598260095371573,
          1.7598585797930142,
          0.029143026645623838,
          -1.2213426733231405,
          -0.2866420272966458
         ],
         "xaxis": "x15",
         "y": [
          -0.546488074456264,
          -0.6906795939250396,
          -0.7530198223287682,
          -0.3035416448226373,
          0.3318097102622694,
          0.28854391827365106,
          0.024869172734768297,
          0.2993856166868935,
          -1.7739234311943968,
          -1.3061602991789985,
          -0.1978284090875014,
          1.0445034579306787,
          0.9170950661450984,
          -0.684984472347748,
          -1.9801976218504385,
          0.31051713776885004,
          -0.4329512004987474,
          -0.9595214053751172,
          -0.2512722009325092,
          0.6742095287617564,
          -1.0733105914121326,
          0.042235732214301186,
          -0.5082994655524106,
          0.006034147184217506,
          1.2616648458282216,
          0.6795993715030275,
          -3.330257093397494,
          0.561627884971362,
          -2.2720802102340154,
          0.3097731244084955,
          -0.4370125022523923,
          0.044471961293511365,
          0.5815934596033061,
          -0.9967245477818799,
          -0.3027644967706041,
          -1.1326849721570416,
          1.9640454602527784,
          -2.1431086532243504,
          -1.2219373014504364,
          0.9283942716087435,
          -1.4996204449913944,
          -0.8857129697771499,
          0.6539017749199544,
          0.9169701156794323,
          0.9906148343369582,
          0.2755860030358192,
          -0.01746794152257089,
          -0.3471383630137931,
          0.4618832907819464,
          -0.4297874720450296,
          1.9914952295729302,
          1.0602539593119948,
          -0.11903949950493466,
          -0.5972525293520385,
          0.871220634932907,
          0.1061901134741834,
          0.39362618733823174,
          0.5916770786621857,
          1.3602043914521933,
          -0.10052955794223802,
          -0.5226857317993312,
          0.721589345200966,
          0.7815114728168278,
          -1.2874663329125964,
          1.4860441425065496,
          1.994362272027055,
          -2.382611440735003,
          -0.3426699207174205,
          -0.7520575866702235,
          -0.7713985262302956,
          -0.6723793532305976,
          -0.168159774298071,
          -0.8491518001974565,
          -0.8767152118844154,
          -0.340836812565283,
          -0.4445890348045418,
          -1.9947661768305307,
          -0.4062905398921242,
          0.4611541717010919,
          -1.164365539393841,
          -0.30304592551049236,
          2.653612293015191,
          0.381137487197287,
          0.9235035235274678,
          -0.8698814137486172,
          1.0352592830040694,
          -0.321322944899231,
          -0.8138074044502812,
          -0.5412286327252419,
          0.4330775385253458,
          0.7969502635951479,
          0.8123699150188365,
          0.07064870947086856,
          -0.6854260743501431,
          -1.1579818011671967,
          0.9822744829518161,
          -0.7760660837646026,
          2.488984537262283,
          0.16181189984854655,
          -0.656126412046775
         ],
         "yaxis": "y15"
        },
        {
         "histfunc": "count",
         "histnorm": "",
         "marker": {
          "color": "rgba(128, 0, 128, 1.0)",
          "line": {
           "color": "#4D5663",
           "width": 1.3
          }
         },
         "name": "D",
         "nbinsx": 10,
         "opacity": 0.8,
         "orientation": "v",
         "type": "histogram",
         "x": [
          -0.546488074456264,
          -0.6906795939250396,
          -0.7530198223287682,
          -0.3035416448226373,
          0.3318097102622694,
          0.28854391827365106,
          0.024869172734768297,
          0.2993856166868935,
          -1.7739234311943968,
          -1.3061602991789985,
          -0.1978284090875014,
          1.0445034579306787,
          0.9170950661450984,
          -0.684984472347748,
          -1.9801976218504385,
          0.31051713776885004,
          -0.4329512004987474,
          -0.9595214053751172,
          -0.2512722009325092,
          0.6742095287617564,
          -1.0733105914121326,
          0.042235732214301186,
          -0.5082994655524106,
          0.006034147184217506,
          1.2616648458282216,
          0.6795993715030275,
          -3.330257093397494,
          0.561627884971362,
          -2.2720802102340154,
          0.3097731244084955,
          -0.4370125022523923,
          0.044471961293511365,
          0.5815934596033061,
          -0.9967245477818799,
          -0.3027644967706041,
          -1.1326849721570416,
          1.9640454602527784,
          -2.1431086532243504,
          -1.2219373014504364,
          0.9283942716087435,
          -1.4996204449913944,
          -0.8857129697771499,
          0.6539017749199544,
          0.9169701156794323,
          0.9906148343369582,
          0.2755860030358192,
          -0.01746794152257089,
          -0.3471383630137931,
          0.4618832907819464,
          -0.4297874720450296,
          1.9914952295729302,
          1.0602539593119948,
          -0.11903949950493466,
          -0.5972525293520385,
          0.871220634932907,
          0.1061901134741834,
          0.39362618733823174,
          0.5916770786621857,
          1.3602043914521933,
          -0.10052955794223802,
          -0.5226857317993312,
          0.721589345200966,
          0.7815114728168278,
          -1.2874663329125964,
          1.4860441425065496,
          1.994362272027055,
          -2.382611440735003,
          -0.3426699207174205,
          -0.7520575866702235,
          -0.7713985262302956,
          -0.6723793532305976,
          -0.168159774298071,
          -0.8491518001974565,
          -0.8767152118844154,
          -0.340836812565283,
          -0.4445890348045418,
          -1.9947661768305307,
          -0.4062905398921242,
          0.4611541717010919,
          -1.164365539393841,
          -0.30304592551049236,
          2.653612293015191,
          0.381137487197287,
          0.9235035235274678,
          -0.8698814137486172,
          1.0352592830040694,
          -0.321322944899231,
          -0.8138074044502812,
          -0.5412286327252419,
          0.4330775385253458,
          0.7969502635951479,
          0.8123699150188365,
          0.07064870947086856,
          -0.6854260743501431,
          -1.1579818011671967,
          0.9822744829518161,
          -0.7760660837646026,
          2.488984537262283,
          0.16181189984854655,
          -0.656126412046775
         ],
         "xaxis": "x16",
         "yaxis": "y16"
        }
       ],
       "layout": {
        "bargap": 0.02,
        "legend": {
         "bgcolor": "#F5F6F9",
         "font": {
          "color": "#4D5663"
         }
        },
        "paper_bgcolor": "#F5F6F9",
        "plot_bgcolor": "#F5F6F9",
        "showlegend": false,
        "template": {
         "data": {
          "bar": [
           {
            "error_x": {
             "color": "#2a3f5f"
            },
            "error_y": {
             "color": "#2a3f5f"
            },
            "marker": {
             "line": {
              "color": "#E5ECF6",
              "width": 0.5
             }
            },
            "type": "bar"
           }
          ],
          "barpolar": [
           {
            "marker": {
             "line": {
              "color": "#E5ECF6",
              "width": 0.5
             }
            },
            "type": "barpolar"
           }
          ],
          "carpet": [
           {
            "aaxis": {
             "endlinecolor": "#2a3f5f",
             "gridcolor": "white",
             "linecolor": "white",
             "minorgridcolor": "white",
             "startlinecolor": "#2a3f5f"
            },
            "baxis": {
             "endlinecolor": "#2a3f5f",
             "gridcolor": "white",
             "linecolor": "white",
             "minorgridcolor": "white",
             "startlinecolor": "#2a3f5f"
            },
            "type": "carpet"
           }
          ],
          "choropleth": [
           {
            "colorbar": {
             "outlinewidth": 0,
             "ticks": ""
            },
            "type": "choropleth"
           }
          ],
          "contour": [
           {
            "colorbar": {
             "outlinewidth": 0,
             "ticks": ""
            },
            "colorscale": [
             [
              0,
              "#0d0887"
             ],
             [
              0.1111111111111111,
              "#46039f"
             ],
             [
              0.2222222222222222,
              "#7201a8"
             ],
             [
              0.3333333333333333,
              "#9c179e"
             ],
             [
              0.4444444444444444,
              "#bd3786"
             ],
             [
              0.5555555555555556,
              "#d8576b"
             ],
             [
              0.6666666666666666,
              "#ed7953"
             ],
             [
              0.7777777777777778,
              "#fb9f3a"
             ],
             [
              0.8888888888888888,
              "#fdca26"
             ],
             [
              1,
              "#f0f921"
             ]
            ],
            "type": "contour"
           }
          ],
          "contourcarpet": [
           {
            "colorbar": {
             "outlinewidth": 0,
             "ticks": ""
            },
            "type": "contourcarpet"
           }
          ],
          "heatmap": [
           {
            "colorbar": {
             "outlinewidth": 0,
             "ticks": ""
            },
            "colorscale": [
             [
              0,
              "#0d0887"
             ],
             [
              0.1111111111111111,
              "#46039f"
             ],
             [
              0.2222222222222222,
              "#7201a8"
             ],
             [
              0.3333333333333333,
              "#9c179e"
             ],
             [
              0.4444444444444444,
              "#bd3786"
             ],
             [
              0.5555555555555556,
              "#d8576b"
             ],
             [
              0.6666666666666666,
              "#ed7953"
             ],
             [
              0.7777777777777778,
              "#fb9f3a"
             ],
             [
              0.8888888888888888,
              "#fdca26"
             ],
             [
              1,
              "#f0f921"
             ]
            ],
            "type": "heatmap"
           }
          ],
          "heatmapgl": [
           {
            "colorbar": {
             "outlinewidth": 0,
             "ticks": ""
            },
            "colorscale": [
             [
              0,
              "#0d0887"
             ],
             [
              0.1111111111111111,
              "#46039f"
             ],
             [
              0.2222222222222222,
              "#7201a8"
             ],
             [
              0.3333333333333333,
              "#9c179e"
             ],
             [
              0.4444444444444444,
              "#bd3786"
             ],
             [
              0.5555555555555556,
              "#d8576b"
             ],
             [
              0.6666666666666666,
              "#ed7953"
             ],
             [
              0.7777777777777778,
              "#fb9f3a"
             ],
             [
              0.8888888888888888,
              "#fdca26"
             ],
             [
              1,
              "#f0f921"
             ]
            ],
            "type": "heatmapgl"
           }
          ],
          "histogram": [
           {
            "marker": {
             "colorbar": {
              "outlinewidth": 0,
              "ticks": ""
             }
            },
            "type": "histogram"
           }
          ],
          "histogram2d": [
           {
            "colorbar": {
             "outlinewidth": 0,
             "ticks": ""
            },
            "colorscale": [
             [
              0,
              "#0d0887"
             ],
             [
              0.1111111111111111,
              "#46039f"
             ],
             [
              0.2222222222222222,
              "#7201a8"
             ],
             [
              0.3333333333333333,
              "#9c179e"
             ],
             [
              0.4444444444444444,
              "#bd3786"
             ],
             [
              0.5555555555555556,
              "#d8576b"
             ],
             [
              0.6666666666666666,
              "#ed7953"
             ],
             [
              0.7777777777777778,
              "#fb9f3a"
             ],
             [
              0.8888888888888888,
              "#fdca26"
             ],
             [
              1,
              "#f0f921"
             ]
            ],
            "type": "histogram2d"
           }
          ],
          "histogram2dcontour": [
           {
            "colorbar": {
             "outlinewidth": 0,
             "ticks": ""
            },
            "colorscale": [
             [
              0,
              "#0d0887"
             ],
             [
              0.1111111111111111,
              "#46039f"
             ],
             [
              0.2222222222222222,
              "#7201a8"
             ],
             [
              0.3333333333333333,
              "#9c179e"
             ],
             [
              0.4444444444444444,
              "#bd3786"
             ],
             [
              0.5555555555555556,
              "#d8576b"
             ],
             [
              0.6666666666666666,
              "#ed7953"
             ],
             [
              0.7777777777777778,
              "#fb9f3a"
             ],
             [
              0.8888888888888888,
              "#fdca26"
             ],
             [
              1,
              "#f0f921"
             ]
            ],
            "type": "histogram2dcontour"
           }
          ],
          "mesh3d": [
           {
            "colorbar": {
             "outlinewidth": 0,
             "ticks": ""
            },
            "type": "mesh3d"
           }
          ],
          "parcoords": [
           {
            "line": {
             "colorbar": {
              "outlinewidth": 0,
              "ticks": ""
             }
            },
            "type": "parcoords"
           }
          ],
          "pie": [
           {
            "automargin": true,
            "type": "pie"
           }
          ],
          "scatter": [
           {
            "marker": {
             "colorbar": {
              "outlinewidth": 0,
              "ticks": ""
             }
            },
            "type": "scatter"
           }
          ],
          "scatter3d": [
           {
            "line": {
             "colorbar": {
              "outlinewidth": 0,
              "ticks": ""
             }
            },
            "marker": {
             "colorbar": {
              "outlinewidth": 0,
              "ticks": ""
             }
            },
            "type": "scatter3d"
           }
          ],
          "scattercarpet": [
           {
            "marker": {
             "colorbar": {
              "outlinewidth": 0,
              "ticks": ""
             }
            },
            "type": "scattercarpet"
           }
          ],
          "scattergeo": [
           {
            "marker": {
             "colorbar": {
              "outlinewidth": 0,
              "ticks": ""
             }
            },
            "type": "scattergeo"
           }
          ],
          "scattergl": [
           {
            "marker": {
             "colorbar": {
              "outlinewidth": 0,
              "ticks": ""
             }
            },
            "type": "scattergl"
           }
          ],
          "scattermapbox": [
           {
            "marker": {
             "colorbar": {
              "outlinewidth": 0,
              "ticks": ""
             }
            },
            "type": "scattermapbox"
           }
          ],
          "scatterpolar": [
           {
            "marker": {
             "colorbar": {
              "outlinewidth": 0,
              "ticks": ""
             }
            },
            "type": "scatterpolar"
           }
          ],
          "scatterpolargl": [
           {
            "marker": {
             "colorbar": {
              "outlinewidth": 0,
              "ticks": ""
             }
            },
            "type": "scatterpolargl"
           }
          ],
          "scatterternary": [
           {
            "marker": {
             "colorbar": {
              "outlinewidth": 0,
              "ticks": ""
             }
            },
            "type": "scatterternary"
           }
          ],
          "surface": [
           {
            "colorbar": {
             "outlinewidth": 0,
             "ticks": ""
            },
            "colorscale": [
             [
              0,
              "#0d0887"
             ],
             [
              0.1111111111111111,
              "#46039f"
             ],
             [
              0.2222222222222222,
              "#7201a8"
             ],
             [
              0.3333333333333333,
              "#9c179e"
             ],
             [
              0.4444444444444444,
              "#bd3786"
             ],
             [
              0.5555555555555556,
              "#d8576b"
             ],
             [
              0.6666666666666666,
              "#ed7953"
             ],
             [
              0.7777777777777778,
              "#fb9f3a"
             ],
             [
              0.8888888888888888,
              "#fdca26"
             ],
             [
              1,
              "#f0f921"
             ]
            ],
            "type": "surface"
           }
          ],
          "table": [
           {
            "cells": {
             "fill": {
              "color": "#EBF0F8"
             },
             "line": {
              "color": "white"
             }
            },
            "header": {
             "fill": {
              "color": "#C8D4E3"
             },
             "line": {
              "color": "white"
             }
            },
            "type": "table"
           }
          ]
         },
         "layout": {
          "annotationdefaults": {
           "arrowcolor": "#2a3f5f",
           "arrowhead": 0,
           "arrowwidth": 1
          },
          "coloraxis": {
           "colorbar": {
            "outlinewidth": 0,
            "ticks": ""
           }
          },
          "colorscale": {
           "diverging": [
            [
             0,
             "#8e0152"
            ],
            [
             0.1,
             "#c51b7d"
            ],
            [
             0.2,
             "#de77ae"
            ],
            [
             0.3,
             "#f1b6da"
            ],
            [
             0.4,
             "#fde0ef"
            ],
            [
             0.5,
             "#f7f7f7"
            ],
            [
             0.6,
             "#e6f5d0"
            ],
            [
             0.7,
             "#b8e186"
            ],
            [
             0.8,
             "#7fbc41"
            ],
            [
             0.9,
             "#4d9221"
            ],
            [
             1,
             "#276419"
            ]
           ],
           "sequential": [
            [
             0,
             "#0d0887"
            ],
            [
             0.1111111111111111,
             "#46039f"
            ],
            [
             0.2222222222222222,
             "#7201a8"
            ],
            [
             0.3333333333333333,
             "#9c179e"
            ],
            [
             0.4444444444444444,
             "#bd3786"
            ],
            [
             0.5555555555555556,
             "#d8576b"
            ],
            [
             0.6666666666666666,
             "#ed7953"
            ],
            [
             0.7777777777777778,
             "#fb9f3a"
            ],
            [
             0.8888888888888888,
             "#fdca26"
            ],
            [
             1,
             "#f0f921"
            ]
           ],
           "sequentialminus": [
            [
             0,
             "#0d0887"
            ],
            [
             0.1111111111111111,
             "#46039f"
            ],
            [
             0.2222222222222222,
             "#7201a8"
            ],
            [
             0.3333333333333333,
             "#9c179e"
            ],
            [
             0.4444444444444444,
             "#bd3786"
            ],
            [
             0.5555555555555556,
             "#d8576b"
            ],
            [
             0.6666666666666666,
             "#ed7953"
            ],
            [
             0.7777777777777778,
             "#fb9f3a"
            ],
            [
             0.8888888888888888,
             "#fdca26"
            ],
            [
             1,
             "#f0f921"
            ]
           ]
          },
          "colorway": [
           "#636efa",
           "#EF553B",
           "#00cc96",
           "#ab63fa",
           "#FFA15A",
           "#19d3f3",
           "#FF6692",
           "#B6E880",
           "#FF97FF",
           "#FECB52"
          ],
          "font": {
           "color": "#2a3f5f"
          },
          "geo": {
           "bgcolor": "white",
           "lakecolor": "white",
           "landcolor": "#E5ECF6",
           "showlakes": true,
           "showland": true,
           "subunitcolor": "white"
          },
          "hoverlabel": {
           "align": "left"
          },
          "hovermode": "closest",
          "mapbox": {
           "style": "light"
          },
          "paper_bgcolor": "white",
          "plot_bgcolor": "#E5ECF6",
          "polar": {
           "angularaxis": {
            "gridcolor": "white",
            "linecolor": "white",
            "ticks": ""
           },
           "bgcolor": "#E5ECF6",
           "radialaxis": {
            "gridcolor": "white",
            "linecolor": "white",
            "ticks": ""
           }
          },
          "scene": {
           "xaxis": {
            "backgroundcolor": "#E5ECF6",
            "gridcolor": "white",
            "gridwidth": 2,
            "linecolor": "white",
            "showbackground": true,
            "ticks": "",
            "zerolinecolor": "white"
           },
           "yaxis": {
            "backgroundcolor": "#E5ECF6",
            "gridcolor": "white",
            "gridwidth": 2,
            "linecolor": "white",
            "showbackground": true,
            "ticks": "",
            "zerolinecolor": "white"
           },
           "zaxis": {
            "backgroundcolor": "#E5ECF6",
            "gridcolor": "white",
            "gridwidth": 2,
            "linecolor": "white",
            "showbackground": true,
            "ticks": "",
            "zerolinecolor": "white"
           }
          },
          "shapedefaults": {
           "line": {
            "color": "#2a3f5f"
           }
          },
          "ternary": {
           "aaxis": {
            "gridcolor": "white",
            "linecolor": "white",
            "ticks": ""
           },
           "baxis": {
            "gridcolor": "white",
            "linecolor": "white",
            "ticks": ""
           },
           "bgcolor": "#E5ECF6",
           "caxis": {
            "gridcolor": "white",
            "linecolor": "white",
            "ticks": ""
           }
          },
          "title": {
           "x": 0.05
          },
          "xaxis": {
           "automargin": true,
           "gridcolor": "white",
           "linecolor": "white",
           "ticks": "",
           "title": {
            "standoff": 15
           },
           "zerolinecolor": "white",
           "zerolinewidth": 2
          },
          "yaxis": {
           "automargin": true,
           "gridcolor": "white",
           "linecolor": "white",
           "ticks": "",
           "title": {
            "standoff": 15
           },
           "zerolinecolor": "white",
           "zerolinewidth": 2
          }
         }
        },
        "title": {
         "font": {
          "color": "#4D5663"
         }
        },
        "xaxis": {
         "anchor": "y",
         "domain": [
          0,
          0.2125
         ],
         "gridcolor": "#E1E5ED",
         "showgrid": false,
         "tickfont": {
          "color": "#4D5663"
         },
         "title": {
          "font": {
           "color": "#4D5663"
          },
          "text": ""
         },
         "zerolinecolor": "#E1E5ED"
        },
        "xaxis10": {
         "anchor": "y10",
         "domain": [
          0.2625,
          0.475
         ],
         "gridcolor": "#E1E5ED",
         "showgrid": false,
         "tickfont": {
          "color": "#4D5663"
         },
         "title": {
          "font": {
           "color": "#4D5663"
          },
          "text": ""
         },
         "zerolinecolor": "#E1E5ED"
        },
        "xaxis11": {
         "anchor": "y11",
         "domain": [
          0.525,
          0.7375
         ],
         "gridcolor": "#E1E5ED",
         "showgrid": false,
         "tickfont": {
          "color": "#4D5663"
         },
         "title": {
          "font": {
           "color": "#4D5663"
          },
          "text": ""
         },
         "zerolinecolor": "#E1E5ED"
        },
        "xaxis12": {
         "anchor": "y12",
         "domain": [
          0.7875,
          1
         ],
         "gridcolor": "#E1E5ED",
         "showgrid": false,
         "tickfont": {
          "color": "#4D5663"
         },
         "title": {
          "font": {
           "color": "#4D5663"
          },
          "text": ""
         },
         "zerolinecolor": "#E1E5ED"
        },
        "xaxis13": {
         "anchor": "y13",
         "domain": [
          0,
          0.2125
         ],
         "gridcolor": "#E1E5ED",
         "showgrid": false,
         "tickfont": {
          "color": "#4D5663"
         },
         "title": {
          "font": {
           "color": "#4D5663"
          },
          "text": ""
         },
         "zerolinecolor": "#E1E5ED"
        },
        "xaxis14": {
         "anchor": "y14",
         "domain": [
          0.2625,
          0.475
         ],
         "gridcolor": "#E1E5ED",
         "showgrid": false,
         "tickfont": {
          "color": "#4D5663"
         },
         "title": {
          "font": {
           "color": "#4D5663"
          },
          "text": ""
         },
         "zerolinecolor": "#E1E5ED"
        },
        "xaxis15": {
         "anchor": "y15",
         "domain": [
          0.525,
          0.7375
         ],
         "gridcolor": "#E1E5ED",
         "showgrid": false,
         "tickfont": {
          "color": "#4D5663"
         },
         "title": {
          "font": {
           "color": "#4D5663"
          },
          "text": ""
         },
         "zerolinecolor": "#E1E5ED"
        },
        "xaxis16": {
         "anchor": "y16",
         "domain": [
          0.7875,
          1
         ],
         "gridcolor": "#E1E5ED",
         "showgrid": false,
         "tickfont": {
          "color": "#4D5663"
         },
         "title": {
          "font": {
           "color": "#4D5663"
          },
          "text": ""
         },
         "zerolinecolor": "#E1E5ED"
        },
        "xaxis2": {
         "anchor": "y2",
         "domain": [
          0.2625,
          0.475
         ],
         "gridcolor": "#E1E5ED",
         "showgrid": false,
         "tickfont": {
          "color": "#4D5663"
         },
         "title": {
          "font": {
           "color": "#4D5663"
          },
          "text": ""
         },
         "zerolinecolor": "#E1E5ED"
        },
        "xaxis3": {
         "anchor": "y3",
         "domain": [
          0.525,
          0.7375
         ],
         "gridcolor": "#E1E5ED",
         "showgrid": false,
         "tickfont": {
          "color": "#4D5663"
         },
         "title": {
          "font": {
           "color": "#4D5663"
          },
          "text": ""
         },
         "zerolinecolor": "#E1E5ED"
        },
        "xaxis4": {
         "anchor": "y4",
         "domain": [
          0.7875,
          1
         ],
         "gridcolor": "#E1E5ED",
         "showgrid": false,
         "tickfont": {
          "color": "#4D5663"
         },
         "title": {
          "font": {
           "color": "#4D5663"
          },
          "text": ""
         },
         "zerolinecolor": "#E1E5ED"
        },
        "xaxis5": {
         "anchor": "y5",
         "domain": [
          0,
          0.2125
         ],
         "gridcolor": "#E1E5ED",
         "showgrid": false,
         "tickfont": {
          "color": "#4D5663"
         },
         "title": {
          "font": {
           "color": "#4D5663"
          },
          "text": ""
         },
         "zerolinecolor": "#E1E5ED"
        },
        "xaxis6": {
         "anchor": "y6",
         "domain": [
          0.2625,
          0.475
         ],
         "gridcolor": "#E1E5ED",
         "showgrid": false,
         "tickfont": {
          "color": "#4D5663"
         },
         "title": {
          "font": {
           "color": "#4D5663"
          },
          "text": ""
         },
         "zerolinecolor": "#E1E5ED"
        },
        "xaxis7": {
         "anchor": "y7",
         "domain": [
          0.525,
          0.7375
         ],
         "gridcolor": "#E1E5ED",
         "showgrid": false,
         "tickfont": {
          "color": "#4D5663"
         },
         "title": {
          "font": {
           "color": "#4D5663"
          },
          "text": ""
         },
         "zerolinecolor": "#E1E5ED"
        },
        "xaxis8": {
         "anchor": "y8",
         "domain": [
          0.7875,
          1
         ],
         "gridcolor": "#E1E5ED",
         "showgrid": false,
         "tickfont": {
          "color": "#4D5663"
         },
         "title": {
          "font": {
           "color": "#4D5663"
          },
          "text": ""
         },
         "zerolinecolor": "#E1E5ED"
        },
        "xaxis9": {
         "anchor": "y9",
         "domain": [
          0,
          0.2125
         ],
         "gridcolor": "#E1E5ED",
         "showgrid": false,
         "tickfont": {
          "color": "#4D5663"
         },
         "title": {
          "font": {
           "color": "#4D5663"
          },
          "text": ""
         },
         "zerolinecolor": "#E1E5ED"
        },
        "yaxis": {
         "anchor": "x",
         "domain": [
          0.8025,
          1
         ],
         "gridcolor": "#E1E5ED",
         "showgrid": false,
         "tickfont": {
          "color": "#4D5663"
         },
         "title": {
          "font": {
           "color": "#4D5663"
          },
          "text": ""
         },
         "zerolinecolor": "#E1E5ED"
        },
        "yaxis10": {
         "anchor": "x10",
         "domain": [
          0.2675,
          0.465
         ],
         "gridcolor": "#E1E5ED",
         "showgrid": false,
         "tickfont": {
          "color": "#4D5663"
         },
         "title": {
          "font": {
           "color": "#4D5663"
          },
          "text": ""
         },
         "zerolinecolor": "#E1E5ED"
        },
        "yaxis11": {
         "anchor": "x11",
         "domain": [
          0.2675,
          0.465
         ],
         "gridcolor": "#E1E5ED",
         "showgrid": false,
         "tickfont": {
          "color": "#4D5663"
         },
         "title": {
          "font": {
           "color": "#4D5663"
          },
          "text": ""
         },
         "zerolinecolor": "#E1E5ED"
        },
        "yaxis12": {
         "anchor": "x12",
         "domain": [
          0.2675,
          0.465
         ],
         "gridcolor": "#E1E5ED",
         "showgrid": false,
         "tickfont": {
          "color": "#4D5663"
         },
         "title": {
          "font": {
           "color": "#4D5663"
          },
          "text": ""
         },
         "zerolinecolor": "#E1E5ED"
        },
        "yaxis13": {
         "anchor": "x13",
         "domain": [
          0,
          0.1975
         ],
         "gridcolor": "#E1E5ED",
         "showgrid": false,
         "tickfont": {
          "color": "#4D5663"
         },
         "title": {
          "font": {
           "color": "#4D5663"
          },
          "text": ""
         },
         "zerolinecolor": "#E1E5ED"
        },
        "yaxis14": {
         "anchor": "x14",
         "domain": [
          0,
          0.1975
         ],
         "gridcolor": "#E1E5ED",
         "showgrid": false,
         "tickfont": {
          "color": "#4D5663"
         },
         "title": {
          "font": {
           "color": "#4D5663"
          },
          "text": ""
         },
         "zerolinecolor": "#E1E5ED"
        },
        "yaxis15": {
         "anchor": "x15",
         "domain": [
          0,
          0.1975
         ],
         "gridcolor": "#E1E5ED",
         "showgrid": false,
         "tickfont": {
          "color": "#4D5663"
         },
         "title": {
          "font": {
           "color": "#4D5663"
          },
          "text": ""
         },
         "zerolinecolor": "#E1E5ED"
        },
        "yaxis16": {
         "anchor": "x16",
         "domain": [
          0,
          0.1975
         ],
         "gridcolor": "#E1E5ED",
         "showgrid": false,
         "tickfont": {
          "color": "#4D5663"
         },
         "title": {
          "font": {
           "color": "#4D5663"
          },
          "text": ""
         },
         "zerolinecolor": "#E1E5ED"
        },
        "yaxis2": {
         "anchor": "x2",
         "domain": [
          0.8025,
          1
         ],
         "gridcolor": "#E1E5ED",
         "showgrid": false,
         "tickfont": {
          "color": "#4D5663"
         },
         "title": {
          "font": {
           "color": "#4D5663"
          },
          "text": ""
         },
         "zerolinecolor": "#E1E5ED"
        },
        "yaxis3": {
         "anchor": "x3",
         "domain": [
          0.8025,
          1
         ],
         "gridcolor": "#E1E5ED",
         "showgrid": false,
         "tickfont": {
          "color": "#4D5663"
         },
         "title": {
          "font": {
           "color": "#4D5663"
          },
          "text": ""
         },
         "zerolinecolor": "#E1E5ED"
        },
        "yaxis4": {
         "anchor": "x4",
         "domain": [
          0.8025,
          1
         ],
         "gridcolor": "#E1E5ED",
         "showgrid": false,
         "tickfont": {
          "color": "#4D5663"
         },
         "title": {
          "font": {
           "color": "#4D5663"
          },
          "text": ""
         },
         "zerolinecolor": "#E1E5ED"
        },
        "yaxis5": {
         "anchor": "x5",
         "domain": [
          0.535,
          0.7325
         ],
         "gridcolor": "#E1E5ED",
         "showgrid": false,
         "tickfont": {
          "color": "#4D5663"
         },
         "title": {
          "font": {
           "color": "#4D5663"
          },
          "text": ""
         },
         "zerolinecolor": "#E1E5ED"
        },
        "yaxis6": {
         "anchor": "x6",
         "domain": [
          0.535,
          0.7325
         ],
         "gridcolor": "#E1E5ED",
         "showgrid": false,
         "tickfont": {
          "color": "#4D5663"
         },
         "title": {
          "font": {
           "color": "#4D5663"
          },
          "text": ""
         },
         "zerolinecolor": "#E1E5ED"
        },
        "yaxis7": {
         "anchor": "x7",
         "domain": [
          0.535,
          0.7325
         ],
         "gridcolor": "#E1E5ED",
         "showgrid": false,
         "tickfont": {
          "color": "#4D5663"
         },
         "title": {
          "font": {
           "color": "#4D5663"
          },
          "text": ""
         },
         "zerolinecolor": "#E1E5ED"
        },
        "yaxis8": {
         "anchor": "x8",
         "domain": [
          0.535,
          0.7325
         ],
         "gridcolor": "#E1E5ED",
         "showgrid": false,
         "tickfont": {
          "color": "#4D5663"
         },
         "title": {
          "font": {
           "color": "#4D5663"
          },
          "text": ""
         },
         "zerolinecolor": "#E1E5ED"
        },
        "yaxis9": {
         "anchor": "x9",
         "domain": [
          0.2675,
          0.465
         ],
         "gridcolor": "#E1E5ED",
         "showgrid": false,
         "tickfont": {
          "color": "#4D5663"
         },
         "title": {
          "font": {
           "color": "#4D5663"
          },
          "text": ""
         },
         "zerolinecolor": "#E1E5ED"
        }
       }
      },
      "text/html": [
       "<div>\n",
       "        \n",
       "        \n",
       "            <div id=\"62c2638a-e7d0-427c-ac84-a60d8ad8a2a8\" class=\"plotly-graph-div\" style=\"height:525px; width:100%;\"></div>\n",
       "            <script type=\"text/javascript\">\n",
       "                require([\"plotly\"], function(Plotly) {\n",
       "                    window.PLOTLYENV=window.PLOTLYENV || {};\n",
       "                    window.PLOTLYENV.BASE_URL='https://plot.ly';\n",
       "                    \n",
       "                if (document.getElementById(\"62c2638a-e7d0-427c-ac84-a60d8ad8a2a8\")) {\n",
       "                    Plotly.newPlot(\n",
       "                        '62c2638a-e7d0-427c-ac84-a60d8ad8a2a8',\n",
       "                        [{\"histfunc\": \"count\", \"histnorm\": \"\", \"marker\": {\"color\": \"rgba(255, 153, 51, 1.0)\", \"line\": {\"color\": \"#4D5663\", \"width\": 1.3}}, \"name\": \"A\", \"nbinsx\": 10, \"opacity\": 0.8, \"orientation\": \"v\", \"type\": \"histogram\", \"x\": [0.01258771338784096, 0.15756449624948846, -1.5674539359727409, 0.006377768460200217, 0.022185847399755477, -1.4098012598057708, -1.1771243636813133, 1.1235283675890204, -0.07429212716714764, 0.48742375992982784, -0.12944337947685283, -0.9180012214241594, -3.0131187942336704, 1.1869412396701389, 0.7912752124923572, 1.432678623623017, 0.40568209062367894, 0.12032693997325379, 1.7001641802601302, -0.8436839622947031, 1.2092113776263675, 0.893612345857148, -0.03762130523020127, -0.06830519231422867, 0.39929983349320436, -0.645987877543945, 0.05471325639345035, 0.6359591748788739, 1.1703800217942906, -1.5043691261451897, -0.5036814725137895, 1.0361340987898915, 0.29213763653891306, 0.7774645561651203, -0.4782140281577571, -2.643881907336907, -0.5749412179835269, 0.3841976745153053, 1.2915638490665986, -0.4233796655810165, 1.8744810238151675, 0.7367675496380632, -0.6109907442671998, 0.805674638800644, -0.9539036537063705, 0.09527741797931052, -1.0649914308693913, 0.5964487166392948, 0.1990665103969152, 0.6132704762189406, 0.6268899207234839, -1.1286894146277253, 0.01213858445998383, -1.4701196523620392, -0.37570842538158156, 1.3497554259656261, 1.35171477403518, -0.4489109673535718, -0.6577003347110576, -0.2888103944878272, 0.3578668378770103, -1.9895737512618443, 0.25272547443718, -0.6009738065166887, 0.9907962012130483, 0.30548119666697593, -1.6790430115833166, 0.3782169365209647, 0.20283659152555167, 0.14354981791108287, -0.4973140193750466, -0.19753779687535397, -0.9257981905690578, -1.8609348754518722, 0.08791455264292816, -0.8965464694382222, 0.3924042454233774, -2.051066260296957, -0.29419187754144366, -0.11404285000231268, -1.5008947403290749, 1.5130633320204947, -0.013939284236135645, -0.5008971717723003, -0.8872960885392636, 0.6545701294979238, 1.2418392362181065, -0.556513780780177, -1.5113062460152866, -1.5437051826070072, 1.2174960148122902, 0.5207168975027033, -0.6058183166483503, -0.876105918810508, 1.6990793067243244, -1.0127106685746625, 1.165990719074486, 1.4427761189051136, -0.48081925269099096, 0.39153886502249624], \"xaxis\": \"x\", \"yaxis\": \"y\"}, {\"line\": {\"color\": \"rgba(128, 128, 128, 1.0)\", \"dash\": \"solid\", \"shape\": \"linear\", \"width\": 1.3}, \"marker\": {\"size\": 2, \"symbol\": \"circle\"}, \"mode\": \"markers\", \"name\": \"A\", \"text\": \"\", \"type\": \"scatter\", \"x\": [-1.5711202546339078, 1.8589427519950752, 0.4725308030858024, -0.4429751159210085, 0.4931189239296156, 0.3290781388444781, -1.8851204051667412, 0.6520089049000372, 0.001622290086489223, -1.190541657435356, -1.1165354430786067, -0.28023760526214087, 0.036117480348009705, 0.4060464344684879, 1.7693346210102137, 1.1226249355088112, 0.30545725263851115, 0.32467659180420966, -0.36329705102200255, -0.35450640391340416, -0.848256079483041, -1.1016866426764451, -1.8828773464329578, 0.8438264493109183, -0.18552390379817973, 1.7127884983056052, 1.5064918772968656, 0.8622196042959621, -1.0656304741666403, -0.09181381850569179, 1.7954497040834496, 0.4326567575470323, -0.13007433150858635, -0.9520088453445963, 0.7330078033118114, 0.5767854855180345, 1.5941334078701672, 1.2639463553980426, 0.11421381700343505, -0.21074369451029193, -1.442352021362074, 0.6014244269317304, -0.5251750463409331, 0.24056973341915855, -0.34177966778960134, 0.49033717532942955, -0.4359285863361001, -0.4645219801827713, -0.49906116308344267, 0.012296828969600491, 1.3052254220844173, 1.0575718829429042, -0.8955948771032166, 1.8840878446231526, -0.32124146836569917, 1.1138212038805104, -0.5380428173529321, 0.6780503440629659, -0.08953546027085331, 1.290935731322414, 1.0568892764925977, 0.7398009929380013, 1.6294195464621322, 0.5068826199029156, 1.4639384323657498, 2.0035883236917584, 2.2253827405770497, -0.9829583862377724, 0.2486782135934998, 0.5245709075594285, 0.6751474846876793, 0.7431555008266308, 1.1026113915541595, 0.7086927539253073, -0.14067844876750424, 0.38453326761935613, 0.46288958214142273, 0.24238987224025843, -0.17571802415464177, 0.8662372993526971, -1.3677834323167255, -1.052831300968593, -1.041671610917792, -1.3909596396881267, 1.1170937933351548, -1.1603270017517613, 0.20977942996564286, 0.40333440608587473, -0.018229098693743707, 0.9475209099563278, 0.2034026360151726, -0.6814367417773323, -0.9953660681320612, 1.3724080700419738, 1.138876474205955, 0.7265311279666776, -0.8564525533706586, 0.1814599986481153, -1.551384736446907, 1.6351567399448812], \"xaxis\": \"x2\", \"y\": [0.01258771338784096, 0.15756449624948846, -1.5674539359727409, 0.006377768460200217, 0.022185847399755477, -1.4098012598057708, -1.1771243636813133, 1.1235283675890204, -0.07429212716714764, 0.48742375992982784, -0.12944337947685283, -0.9180012214241594, -3.0131187942336704, 1.1869412396701389, 0.7912752124923572, 1.432678623623017, 0.40568209062367894, 0.12032693997325379, 1.7001641802601302, -0.8436839622947031, 1.2092113776263675, 0.893612345857148, -0.03762130523020127, -0.06830519231422867, 0.39929983349320436, -0.645987877543945, 0.05471325639345035, 0.6359591748788739, 1.1703800217942906, -1.5043691261451897, -0.5036814725137895, 1.0361340987898915, 0.29213763653891306, 0.7774645561651203, -0.4782140281577571, -2.643881907336907, -0.5749412179835269, 0.3841976745153053, 1.2915638490665986, -0.4233796655810165, 1.8744810238151675, 0.7367675496380632, -0.6109907442671998, 0.805674638800644, -0.9539036537063705, 0.09527741797931052, -1.0649914308693913, 0.5964487166392948, 0.1990665103969152, 0.6132704762189406, 0.6268899207234839, -1.1286894146277253, 0.01213858445998383, -1.4701196523620392, -0.37570842538158156, 1.3497554259656261, 1.35171477403518, -0.4489109673535718, -0.6577003347110576, -0.2888103944878272, 0.3578668378770103, -1.9895737512618443, 0.25272547443718, -0.6009738065166887, 0.9907962012130483, 0.30548119666697593, -1.6790430115833166, 0.3782169365209647, 0.20283659152555167, 0.14354981791108287, -0.4973140193750466, -0.19753779687535397, -0.9257981905690578, -1.8609348754518722, 0.08791455264292816, -0.8965464694382222, 0.3924042454233774, -2.051066260296957, -0.29419187754144366, -0.11404285000231268, -1.5008947403290749, 1.5130633320204947, -0.013939284236135645, -0.5008971717723003, -0.8872960885392636, 0.6545701294979238, 1.2418392362181065, -0.556513780780177, -1.5113062460152866, -1.5437051826070072, 1.2174960148122902, 0.5207168975027033, -0.6058183166483503, -0.876105918810508, 1.6990793067243244, -1.0127106685746625, 1.165990719074486, 1.4427761189051136, -0.48081925269099096, 0.39153886502249624], \"yaxis\": \"y2\"}, {\"line\": {\"color\": \"rgba(128, 128, 128, 1.0)\", \"dash\": \"solid\", \"shape\": \"linear\", \"width\": 1.3}, \"marker\": {\"size\": 2, \"symbol\": \"circle\"}, \"mode\": \"markers\", \"name\": \"A\", \"text\": \"\", \"type\": \"scatter\", \"x\": [0.44661398802184066, 0.30889123191956225, -0.9804776587658602, 0.12784873122963558, -1.7395593800185352, 1.1428606997605641, 0.9485480838441536, 0.3423310663027422, 2.2110776442595372, 0.6100936276267533, -0.5233809503034954, 0.7537945250801213, -0.9778677411204288, -0.09884211009064948, 0.004433104465747421, 0.8148762150811547, -0.7892420420784164, 1.3311337631201687, 0.22307407692754, 1.036516109203243, -1.7010220269578207, 0.5343452792757892, 0.9200118033368204, -0.5936541715484736, -1.0035302413854728, 1.910781477075174, 0.5630797906200505, -0.3053637347307562, -1.5908389100611038, 0.9737658383691731, 2.395500700860623, 0.87942148955053, 1.591100760969521, 2.6524230294455338, 0.5393312122541757, -1.3516648169880152, -0.32914141797819724, -1.3040497594262683, 0.032651815989994525, -2.153844933501666, -0.46668732274742175, 0.7297855548161059, 1.9508336306865837, -0.8276700805250797, 0.6810850916839654, -1.259957671899816, 0.4837456170424614, -0.8080319850112103, -1.2079691162600878, -0.8044749738977648, -1.1395762369486782, 2.169550970739434, -0.40751555311218185, 1.3970592467919776, 0.7107802876919356, 0.8919021813916727, -1.9489953483697748, -1.0858852835065254, 2.0441321538230977, 0.43985062990394336, 0.6602988047926446, 2.2700445956419353, -0.9070535186724555, -1.3096897639974387, 0.06394241732018749, 0.050610742587672106, 0.1850583101836084, 1.0720299304536618, 0.49287487627329474, -0.5708677645470345, 1.1659166904591263, 2.7997975708207647, 1.2175347837728439, -0.12029520738651407, -0.4718973085826919, -0.48540310454190344, 1.7860088802826084, -0.7775188948075658, 0.7948958162589866, 1.8090193582415102, 1.0354692764928901, -0.3209472732051858, -0.3479336808701315, 1.0121247723610938, 0.9134680437396722, 0.24530647418187396, -1.4374277890884086, -0.24404449741641432, -0.38835070340983446, -0.38891830841611796, -0.31475655052635354, -0.8926597370177215, -1.124152730457152, -0.14623219919279715, 0.36608386712362945, -0.3598260095371573, 1.7598585797930142, 0.029143026645623838, -1.2213426733231405, -0.2866420272966458], \"xaxis\": \"x3\", \"y\": [0.01258771338784096, 0.15756449624948846, -1.5674539359727409, 0.006377768460200217, 0.022185847399755477, -1.4098012598057708, -1.1771243636813133, 1.1235283675890204, -0.07429212716714764, 0.48742375992982784, -0.12944337947685283, -0.9180012214241594, -3.0131187942336704, 1.1869412396701389, 0.7912752124923572, 1.432678623623017, 0.40568209062367894, 0.12032693997325379, 1.7001641802601302, -0.8436839622947031, 1.2092113776263675, 0.893612345857148, -0.03762130523020127, -0.06830519231422867, 0.39929983349320436, -0.645987877543945, 0.05471325639345035, 0.6359591748788739, 1.1703800217942906, -1.5043691261451897, -0.5036814725137895, 1.0361340987898915, 0.29213763653891306, 0.7774645561651203, -0.4782140281577571, -2.643881907336907, -0.5749412179835269, 0.3841976745153053, 1.2915638490665986, -0.4233796655810165, 1.8744810238151675, 0.7367675496380632, -0.6109907442671998, 0.805674638800644, -0.9539036537063705, 0.09527741797931052, -1.0649914308693913, 0.5964487166392948, 0.1990665103969152, 0.6132704762189406, 0.6268899207234839, -1.1286894146277253, 0.01213858445998383, -1.4701196523620392, -0.37570842538158156, 1.3497554259656261, 1.35171477403518, -0.4489109673535718, -0.6577003347110576, -0.2888103944878272, 0.3578668378770103, -1.9895737512618443, 0.25272547443718, -0.6009738065166887, 0.9907962012130483, 0.30548119666697593, -1.6790430115833166, 0.3782169365209647, 0.20283659152555167, 0.14354981791108287, -0.4973140193750466, -0.19753779687535397, -0.9257981905690578, -1.8609348754518722, 0.08791455264292816, -0.8965464694382222, 0.3924042454233774, -2.051066260296957, -0.29419187754144366, -0.11404285000231268, -1.5008947403290749, 1.5130633320204947, -0.013939284236135645, -0.5008971717723003, -0.8872960885392636, 0.6545701294979238, 1.2418392362181065, -0.556513780780177, -1.5113062460152866, -1.5437051826070072, 1.2174960148122902, 0.5207168975027033, -0.6058183166483503, -0.876105918810508, 1.6990793067243244, -1.0127106685746625, 1.165990719074486, 1.4427761189051136, -0.48081925269099096, 0.39153886502249624], \"yaxis\": \"y3\"}, {\"line\": {\"color\": \"rgba(128, 128, 128, 1.0)\", \"dash\": \"solid\", \"shape\": \"linear\", \"width\": 1.3}, \"marker\": {\"size\": 2, \"symbol\": \"circle\"}, \"mode\": \"markers\", \"name\": \"A\", \"text\": \"\", \"type\": \"scatter\", \"x\": [-0.546488074456264, -0.6906795939250396, -0.7530198223287682, -0.3035416448226373, 0.3318097102622694, 0.28854391827365106, 0.024869172734768297, 0.2993856166868935, -1.7739234311943968, -1.3061602991789985, -0.1978284090875014, 1.0445034579306787, 0.9170950661450984, -0.684984472347748, -1.9801976218504385, 0.31051713776885004, -0.4329512004987474, -0.9595214053751172, -0.2512722009325092, 0.6742095287617564, -1.0733105914121326, 0.042235732214301186, -0.5082994655524106, 0.006034147184217506, 1.2616648458282216, 0.6795993715030275, -3.330257093397494, 0.561627884971362, -2.2720802102340154, 0.3097731244084955, -0.4370125022523923, 0.044471961293511365, 0.5815934596033061, -0.9967245477818799, -0.3027644967706041, -1.1326849721570416, 1.9640454602527784, -2.1431086532243504, -1.2219373014504364, 0.9283942716087435, -1.4996204449913944, -0.8857129697771499, 0.6539017749199544, 0.9169701156794323, 0.9906148343369582, 0.2755860030358192, -0.01746794152257089, -0.3471383630137931, 0.4618832907819464, -0.4297874720450296, 1.9914952295729302, 1.0602539593119948, -0.11903949950493466, -0.5972525293520385, 0.871220634932907, 0.1061901134741834, 0.39362618733823174, 0.5916770786621857, 1.3602043914521933, -0.10052955794223802, -0.5226857317993312, 0.721589345200966, 0.7815114728168278, -1.2874663329125964, 1.4860441425065496, 1.994362272027055, -2.382611440735003, -0.3426699207174205, -0.7520575866702235, -0.7713985262302956, -0.6723793532305976, -0.168159774298071, -0.8491518001974565, -0.8767152118844154, -0.340836812565283, -0.4445890348045418, -1.9947661768305307, -0.4062905398921242, 0.4611541717010919, -1.164365539393841, -0.30304592551049236, 2.653612293015191, 0.381137487197287, 0.9235035235274678, -0.8698814137486172, 1.0352592830040694, -0.321322944899231, -0.8138074044502812, -0.5412286327252419, 0.4330775385253458, 0.7969502635951479, 0.8123699150188365, 0.07064870947086856, -0.6854260743501431, -1.1579818011671967, 0.9822744829518161, -0.7760660837646026, 2.488984537262283, 0.16181189984854655, -0.656126412046775], \"xaxis\": \"x4\", \"y\": [0.01258771338784096, 0.15756449624948846, -1.5674539359727409, 0.006377768460200217, 0.022185847399755477, -1.4098012598057708, -1.1771243636813133, 1.1235283675890204, -0.07429212716714764, 0.48742375992982784, -0.12944337947685283, -0.9180012214241594, -3.0131187942336704, 1.1869412396701389, 0.7912752124923572, 1.432678623623017, 0.40568209062367894, 0.12032693997325379, 1.7001641802601302, -0.8436839622947031, 1.2092113776263675, 0.893612345857148, -0.03762130523020127, -0.06830519231422867, 0.39929983349320436, -0.645987877543945, 0.05471325639345035, 0.6359591748788739, 1.1703800217942906, -1.5043691261451897, -0.5036814725137895, 1.0361340987898915, 0.29213763653891306, 0.7774645561651203, -0.4782140281577571, -2.643881907336907, -0.5749412179835269, 0.3841976745153053, 1.2915638490665986, -0.4233796655810165, 1.8744810238151675, 0.7367675496380632, -0.6109907442671998, 0.805674638800644, -0.9539036537063705, 0.09527741797931052, -1.0649914308693913, 0.5964487166392948, 0.1990665103969152, 0.6132704762189406, 0.6268899207234839, -1.1286894146277253, 0.01213858445998383, -1.4701196523620392, -0.37570842538158156, 1.3497554259656261, 1.35171477403518, -0.4489109673535718, -0.6577003347110576, -0.2888103944878272, 0.3578668378770103, -1.9895737512618443, 0.25272547443718, -0.6009738065166887, 0.9907962012130483, 0.30548119666697593, -1.6790430115833166, 0.3782169365209647, 0.20283659152555167, 0.14354981791108287, -0.4973140193750466, -0.19753779687535397, -0.9257981905690578, -1.8609348754518722, 0.08791455264292816, -0.8965464694382222, 0.3924042454233774, -2.051066260296957, -0.29419187754144366, -0.11404285000231268, -1.5008947403290749, 1.5130633320204947, -0.013939284236135645, -0.5008971717723003, -0.8872960885392636, 0.6545701294979238, 1.2418392362181065, -0.556513780780177, -1.5113062460152866, -1.5437051826070072, 1.2174960148122902, 0.5207168975027033, -0.6058183166483503, -0.876105918810508, 1.6990793067243244, -1.0127106685746625, 1.165990719074486, 1.4427761189051136, -0.48081925269099096, 0.39153886502249624], \"yaxis\": \"y4\"}, {\"line\": {\"color\": \"rgba(128, 128, 128, 1.0)\", \"dash\": \"solid\", \"shape\": \"linear\", \"width\": 1.3}, \"marker\": {\"size\": 2, \"symbol\": \"circle\"}, \"mode\": \"markers\", \"name\": \"B\", \"text\": \"\", \"type\": \"scatter\", \"x\": [0.01258771338784096, 0.15756449624948846, -1.5674539359727409, 0.006377768460200217, 0.022185847399755477, -1.4098012598057708, -1.1771243636813133, 1.1235283675890204, -0.07429212716714764, 0.48742375992982784, -0.12944337947685283, -0.9180012214241594, -3.0131187942336704, 1.1869412396701389, 0.7912752124923572, 1.432678623623017, 0.40568209062367894, 0.12032693997325379, 1.7001641802601302, -0.8436839622947031, 1.2092113776263675, 0.893612345857148, -0.03762130523020127, -0.06830519231422867, 0.39929983349320436, -0.645987877543945, 0.05471325639345035, 0.6359591748788739, 1.1703800217942906, -1.5043691261451897, -0.5036814725137895, 1.0361340987898915, 0.29213763653891306, 0.7774645561651203, -0.4782140281577571, -2.643881907336907, -0.5749412179835269, 0.3841976745153053, 1.2915638490665986, -0.4233796655810165, 1.8744810238151675, 0.7367675496380632, -0.6109907442671998, 0.805674638800644, -0.9539036537063705, 0.09527741797931052, -1.0649914308693913, 0.5964487166392948, 0.1990665103969152, 0.6132704762189406, 0.6268899207234839, -1.1286894146277253, 0.01213858445998383, -1.4701196523620392, -0.37570842538158156, 1.3497554259656261, 1.35171477403518, -0.4489109673535718, -0.6577003347110576, -0.2888103944878272, 0.3578668378770103, -1.9895737512618443, 0.25272547443718, -0.6009738065166887, 0.9907962012130483, 0.30548119666697593, -1.6790430115833166, 0.3782169365209647, 0.20283659152555167, 0.14354981791108287, -0.4973140193750466, -0.19753779687535397, -0.9257981905690578, -1.8609348754518722, 0.08791455264292816, -0.8965464694382222, 0.3924042454233774, -2.051066260296957, -0.29419187754144366, -0.11404285000231268, -1.5008947403290749, 1.5130633320204947, -0.013939284236135645, -0.5008971717723003, -0.8872960885392636, 0.6545701294979238, 1.2418392362181065, -0.556513780780177, -1.5113062460152866, -1.5437051826070072, 1.2174960148122902, 0.5207168975027033, -0.6058183166483503, -0.876105918810508, 1.6990793067243244, -1.0127106685746625, 1.165990719074486, 1.4427761189051136, -0.48081925269099096, 0.39153886502249624], \"xaxis\": \"x5\", \"y\": [-1.5711202546339078, 1.8589427519950752, 0.4725308030858024, -0.4429751159210085, 0.4931189239296156, 0.3290781388444781, -1.8851204051667412, 0.6520089049000372, 0.001622290086489223, -1.190541657435356, -1.1165354430786067, -0.28023760526214087, 0.036117480348009705, 0.4060464344684879, 1.7693346210102137, 1.1226249355088112, 0.30545725263851115, 0.32467659180420966, -0.36329705102200255, -0.35450640391340416, -0.848256079483041, -1.1016866426764451, -1.8828773464329578, 0.8438264493109183, -0.18552390379817973, 1.7127884983056052, 1.5064918772968656, 0.8622196042959621, -1.0656304741666403, -0.09181381850569179, 1.7954497040834496, 0.4326567575470323, -0.13007433150858635, -0.9520088453445963, 0.7330078033118114, 0.5767854855180345, 1.5941334078701672, 1.2639463553980426, 0.11421381700343505, -0.21074369451029193, -1.442352021362074, 0.6014244269317304, -0.5251750463409331, 0.24056973341915855, -0.34177966778960134, 0.49033717532942955, -0.4359285863361001, -0.4645219801827713, -0.49906116308344267, 0.012296828969600491, 1.3052254220844173, 1.0575718829429042, -0.8955948771032166, 1.8840878446231526, -0.32124146836569917, 1.1138212038805104, -0.5380428173529321, 0.6780503440629659, -0.08953546027085331, 1.290935731322414, 1.0568892764925977, 0.7398009929380013, 1.6294195464621322, 0.5068826199029156, 1.4639384323657498, 2.0035883236917584, 2.2253827405770497, -0.9829583862377724, 0.2486782135934998, 0.5245709075594285, 0.6751474846876793, 0.7431555008266308, 1.1026113915541595, 0.7086927539253073, -0.14067844876750424, 0.38453326761935613, 0.46288958214142273, 0.24238987224025843, -0.17571802415464177, 0.8662372993526971, -1.3677834323167255, -1.052831300968593, -1.041671610917792, -1.3909596396881267, 1.1170937933351548, -1.1603270017517613, 0.20977942996564286, 0.40333440608587473, -0.018229098693743707, 0.9475209099563278, 0.2034026360151726, -0.6814367417773323, -0.9953660681320612, 1.3724080700419738, 1.138876474205955, 0.7265311279666776, -0.8564525533706586, 0.1814599986481153, -1.551384736446907, 1.6351567399448812], \"yaxis\": \"y5\"}, {\"histfunc\": \"count\", \"histnorm\": \"\", \"marker\": {\"color\": \"rgba(55, 128, 191, 1.0)\", \"line\": {\"color\": \"#4D5663\", \"width\": 1.3}}, \"name\": \"B\", \"nbinsx\": 10, \"opacity\": 0.8, \"orientation\": \"v\", \"type\": \"histogram\", \"x\": [-1.5711202546339078, 1.8589427519950752, 0.4725308030858024, -0.4429751159210085, 0.4931189239296156, 0.3290781388444781, -1.8851204051667412, 0.6520089049000372, 0.001622290086489223, -1.190541657435356, -1.1165354430786067, -0.28023760526214087, 0.036117480348009705, 0.4060464344684879, 1.7693346210102137, 1.1226249355088112, 0.30545725263851115, 0.32467659180420966, -0.36329705102200255, -0.35450640391340416, -0.848256079483041, -1.1016866426764451, -1.8828773464329578, 0.8438264493109183, -0.18552390379817973, 1.7127884983056052, 1.5064918772968656, 0.8622196042959621, -1.0656304741666403, -0.09181381850569179, 1.7954497040834496, 0.4326567575470323, -0.13007433150858635, -0.9520088453445963, 0.7330078033118114, 0.5767854855180345, 1.5941334078701672, 1.2639463553980426, 0.11421381700343505, -0.21074369451029193, -1.442352021362074, 0.6014244269317304, -0.5251750463409331, 0.24056973341915855, -0.34177966778960134, 0.49033717532942955, -0.4359285863361001, -0.4645219801827713, -0.49906116308344267, 0.012296828969600491, 1.3052254220844173, 1.0575718829429042, -0.8955948771032166, 1.8840878446231526, -0.32124146836569917, 1.1138212038805104, -0.5380428173529321, 0.6780503440629659, -0.08953546027085331, 1.290935731322414, 1.0568892764925977, 0.7398009929380013, 1.6294195464621322, 0.5068826199029156, 1.4639384323657498, 2.0035883236917584, 2.2253827405770497, -0.9829583862377724, 0.2486782135934998, 0.5245709075594285, 0.6751474846876793, 0.7431555008266308, 1.1026113915541595, 0.7086927539253073, -0.14067844876750424, 0.38453326761935613, 0.46288958214142273, 0.24238987224025843, -0.17571802415464177, 0.8662372993526971, -1.3677834323167255, -1.052831300968593, -1.041671610917792, -1.3909596396881267, 1.1170937933351548, -1.1603270017517613, 0.20977942996564286, 0.40333440608587473, -0.018229098693743707, 0.9475209099563278, 0.2034026360151726, -0.6814367417773323, -0.9953660681320612, 1.3724080700419738, 1.138876474205955, 0.7265311279666776, -0.8564525533706586, 0.1814599986481153, -1.551384736446907, 1.6351567399448812], \"xaxis\": \"x6\", \"yaxis\": \"y6\"}, {\"line\": {\"color\": \"rgba(128, 128, 128, 1.0)\", \"dash\": \"solid\", \"shape\": \"linear\", \"width\": 1.3}, \"marker\": {\"size\": 2, \"symbol\": \"circle\"}, \"mode\": \"markers\", \"name\": \"B\", \"text\": \"\", \"type\": \"scatter\", \"x\": [0.44661398802184066, 0.30889123191956225, -0.9804776587658602, 0.12784873122963558, -1.7395593800185352, 1.1428606997605641, 0.9485480838441536, 0.3423310663027422, 2.2110776442595372, 0.6100936276267533, -0.5233809503034954, 0.7537945250801213, -0.9778677411204288, -0.09884211009064948, 0.004433104465747421, 0.8148762150811547, -0.7892420420784164, 1.3311337631201687, 0.22307407692754, 1.036516109203243, -1.7010220269578207, 0.5343452792757892, 0.9200118033368204, -0.5936541715484736, -1.0035302413854728, 1.910781477075174, 0.5630797906200505, -0.3053637347307562, -1.5908389100611038, 0.9737658383691731, 2.395500700860623, 0.87942148955053, 1.591100760969521, 2.6524230294455338, 0.5393312122541757, -1.3516648169880152, -0.32914141797819724, -1.3040497594262683, 0.032651815989994525, -2.153844933501666, -0.46668732274742175, 0.7297855548161059, 1.9508336306865837, -0.8276700805250797, 0.6810850916839654, -1.259957671899816, 0.4837456170424614, -0.8080319850112103, -1.2079691162600878, -0.8044749738977648, -1.1395762369486782, 2.169550970739434, -0.40751555311218185, 1.3970592467919776, 0.7107802876919356, 0.8919021813916727, -1.9489953483697748, -1.0858852835065254, 2.0441321538230977, 0.43985062990394336, 0.6602988047926446, 2.2700445956419353, -0.9070535186724555, -1.3096897639974387, 0.06394241732018749, 0.050610742587672106, 0.1850583101836084, 1.0720299304536618, 0.49287487627329474, -0.5708677645470345, 1.1659166904591263, 2.7997975708207647, 1.2175347837728439, -0.12029520738651407, -0.4718973085826919, -0.48540310454190344, 1.7860088802826084, -0.7775188948075658, 0.7948958162589866, 1.8090193582415102, 1.0354692764928901, -0.3209472732051858, -0.3479336808701315, 1.0121247723610938, 0.9134680437396722, 0.24530647418187396, -1.4374277890884086, -0.24404449741641432, -0.38835070340983446, -0.38891830841611796, -0.31475655052635354, -0.8926597370177215, -1.124152730457152, -0.14623219919279715, 0.36608386712362945, -0.3598260095371573, 1.7598585797930142, 0.029143026645623838, -1.2213426733231405, -0.2866420272966458], \"xaxis\": \"x7\", \"y\": [-1.5711202546339078, 1.8589427519950752, 0.4725308030858024, -0.4429751159210085, 0.4931189239296156, 0.3290781388444781, -1.8851204051667412, 0.6520089049000372, 0.001622290086489223, -1.190541657435356, -1.1165354430786067, -0.28023760526214087, 0.036117480348009705, 0.4060464344684879, 1.7693346210102137, 1.1226249355088112, 0.30545725263851115, 0.32467659180420966, -0.36329705102200255, -0.35450640391340416, -0.848256079483041, -1.1016866426764451, -1.8828773464329578, 0.8438264493109183, -0.18552390379817973, 1.7127884983056052, 1.5064918772968656, 0.8622196042959621, -1.0656304741666403, -0.09181381850569179, 1.7954497040834496, 0.4326567575470323, -0.13007433150858635, -0.9520088453445963, 0.7330078033118114, 0.5767854855180345, 1.5941334078701672, 1.2639463553980426, 0.11421381700343505, -0.21074369451029193, -1.442352021362074, 0.6014244269317304, -0.5251750463409331, 0.24056973341915855, -0.34177966778960134, 0.49033717532942955, -0.4359285863361001, -0.4645219801827713, -0.49906116308344267, 0.012296828969600491, 1.3052254220844173, 1.0575718829429042, -0.8955948771032166, 1.8840878446231526, -0.32124146836569917, 1.1138212038805104, -0.5380428173529321, 0.6780503440629659, -0.08953546027085331, 1.290935731322414, 1.0568892764925977, 0.7398009929380013, 1.6294195464621322, 0.5068826199029156, 1.4639384323657498, 2.0035883236917584, 2.2253827405770497, -0.9829583862377724, 0.2486782135934998, 0.5245709075594285, 0.6751474846876793, 0.7431555008266308, 1.1026113915541595, 0.7086927539253073, -0.14067844876750424, 0.38453326761935613, 0.46288958214142273, 0.24238987224025843, -0.17571802415464177, 0.8662372993526971, -1.3677834323167255, -1.052831300968593, -1.041671610917792, -1.3909596396881267, 1.1170937933351548, -1.1603270017517613, 0.20977942996564286, 0.40333440608587473, -0.018229098693743707, 0.9475209099563278, 0.2034026360151726, -0.6814367417773323, -0.9953660681320612, 1.3724080700419738, 1.138876474205955, 0.7265311279666776, -0.8564525533706586, 0.1814599986481153, -1.551384736446907, 1.6351567399448812], \"yaxis\": \"y7\"}, {\"line\": {\"color\": \"rgba(128, 128, 128, 1.0)\", \"dash\": \"solid\", \"shape\": \"linear\", \"width\": 1.3}, \"marker\": {\"size\": 2, \"symbol\": \"circle\"}, \"mode\": \"markers\", \"name\": \"B\", \"text\": \"\", \"type\": \"scatter\", \"x\": [-0.546488074456264, -0.6906795939250396, -0.7530198223287682, -0.3035416448226373, 0.3318097102622694, 0.28854391827365106, 0.024869172734768297, 0.2993856166868935, -1.7739234311943968, -1.3061602991789985, -0.1978284090875014, 1.0445034579306787, 0.9170950661450984, -0.684984472347748, -1.9801976218504385, 0.31051713776885004, -0.4329512004987474, -0.9595214053751172, -0.2512722009325092, 0.6742095287617564, -1.0733105914121326, 0.042235732214301186, -0.5082994655524106, 0.006034147184217506, 1.2616648458282216, 0.6795993715030275, -3.330257093397494, 0.561627884971362, -2.2720802102340154, 0.3097731244084955, -0.4370125022523923, 0.044471961293511365, 0.5815934596033061, -0.9967245477818799, -0.3027644967706041, -1.1326849721570416, 1.9640454602527784, -2.1431086532243504, -1.2219373014504364, 0.9283942716087435, -1.4996204449913944, -0.8857129697771499, 0.6539017749199544, 0.9169701156794323, 0.9906148343369582, 0.2755860030358192, -0.01746794152257089, -0.3471383630137931, 0.4618832907819464, -0.4297874720450296, 1.9914952295729302, 1.0602539593119948, -0.11903949950493466, -0.5972525293520385, 0.871220634932907, 0.1061901134741834, 0.39362618733823174, 0.5916770786621857, 1.3602043914521933, -0.10052955794223802, -0.5226857317993312, 0.721589345200966, 0.7815114728168278, -1.2874663329125964, 1.4860441425065496, 1.994362272027055, -2.382611440735003, -0.3426699207174205, -0.7520575866702235, -0.7713985262302956, -0.6723793532305976, -0.168159774298071, -0.8491518001974565, -0.8767152118844154, -0.340836812565283, -0.4445890348045418, -1.9947661768305307, -0.4062905398921242, 0.4611541717010919, -1.164365539393841, -0.30304592551049236, 2.653612293015191, 0.381137487197287, 0.9235035235274678, -0.8698814137486172, 1.0352592830040694, -0.321322944899231, -0.8138074044502812, -0.5412286327252419, 0.4330775385253458, 0.7969502635951479, 0.8123699150188365, 0.07064870947086856, -0.6854260743501431, -1.1579818011671967, 0.9822744829518161, -0.7760660837646026, 2.488984537262283, 0.16181189984854655, -0.656126412046775], \"xaxis\": \"x8\", \"y\": [-1.5711202546339078, 1.8589427519950752, 0.4725308030858024, -0.4429751159210085, 0.4931189239296156, 0.3290781388444781, -1.8851204051667412, 0.6520089049000372, 0.001622290086489223, -1.190541657435356, -1.1165354430786067, -0.28023760526214087, 0.036117480348009705, 0.4060464344684879, 1.7693346210102137, 1.1226249355088112, 0.30545725263851115, 0.32467659180420966, -0.36329705102200255, -0.35450640391340416, -0.848256079483041, -1.1016866426764451, -1.8828773464329578, 0.8438264493109183, -0.18552390379817973, 1.7127884983056052, 1.5064918772968656, 0.8622196042959621, -1.0656304741666403, -0.09181381850569179, 1.7954497040834496, 0.4326567575470323, -0.13007433150858635, -0.9520088453445963, 0.7330078033118114, 0.5767854855180345, 1.5941334078701672, 1.2639463553980426, 0.11421381700343505, -0.21074369451029193, -1.442352021362074, 0.6014244269317304, -0.5251750463409331, 0.24056973341915855, -0.34177966778960134, 0.49033717532942955, -0.4359285863361001, -0.4645219801827713, -0.49906116308344267, 0.012296828969600491, 1.3052254220844173, 1.0575718829429042, -0.8955948771032166, 1.8840878446231526, -0.32124146836569917, 1.1138212038805104, -0.5380428173529321, 0.6780503440629659, -0.08953546027085331, 1.290935731322414, 1.0568892764925977, 0.7398009929380013, 1.6294195464621322, 0.5068826199029156, 1.4639384323657498, 2.0035883236917584, 2.2253827405770497, -0.9829583862377724, 0.2486782135934998, 0.5245709075594285, 0.6751474846876793, 0.7431555008266308, 1.1026113915541595, 0.7086927539253073, -0.14067844876750424, 0.38453326761935613, 0.46288958214142273, 0.24238987224025843, -0.17571802415464177, 0.8662372993526971, -1.3677834323167255, -1.052831300968593, -1.041671610917792, -1.3909596396881267, 1.1170937933351548, -1.1603270017517613, 0.20977942996564286, 0.40333440608587473, -0.018229098693743707, 0.9475209099563278, 0.2034026360151726, -0.6814367417773323, -0.9953660681320612, 1.3724080700419738, 1.138876474205955, 0.7265311279666776, -0.8564525533706586, 0.1814599986481153, -1.551384736446907, 1.6351567399448812], \"yaxis\": \"y8\"}, {\"line\": {\"color\": \"rgba(128, 128, 128, 1.0)\", \"dash\": \"solid\", \"shape\": \"linear\", \"width\": 1.3}, \"marker\": {\"size\": 2, \"symbol\": \"circle\"}, \"mode\": \"markers\", \"name\": \"C\", \"text\": \"\", \"type\": \"scatter\", \"x\": [0.01258771338784096, 0.15756449624948846, -1.5674539359727409, 0.006377768460200217, 0.022185847399755477, -1.4098012598057708, -1.1771243636813133, 1.1235283675890204, -0.07429212716714764, 0.48742375992982784, -0.12944337947685283, -0.9180012214241594, -3.0131187942336704, 1.1869412396701389, 0.7912752124923572, 1.432678623623017, 0.40568209062367894, 0.12032693997325379, 1.7001641802601302, -0.8436839622947031, 1.2092113776263675, 0.893612345857148, -0.03762130523020127, -0.06830519231422867, 0.39929983349320436, -0.645987877543945, 0.05471325639345035, 0.6359591748788739, 1.1703800217942906, -1.5043691261451897, -0.5036814725137895, 1.0361340987898915, 0.29213763653891306, 0.7774645561651203, -0.4782140281577571, -2.643881907336907, -0.5749412179835269, 0.3841976745153053, 1.2915638490665986, -0.4233796655810165, 1.8744810238151675, 0.7367675496380632, -0.6109907442671998, 0.805674638800644, -0.9539036537063705, 0.09527741797931052, -1.0649914308693913, 0.5964487166392948, 0.1990665103969152, 0.6132704762189406, 0.6268899207234839, -1.1286894146277253, 0.01213858445998383, -1.4701196523620392, -0.37570842538158156, 1.3497554259656261, 1.35171477403518, -0.4489109673535718, -0.6577003347110576, -0.2888103944878272, 0.3578668378770103, -1.9895737512618443, 0.25272547443718, -0.6009738065166887, 0.9907962012130483, 0.30548119666697593, -1.6790430115833166, 0.3782169365209647, 0.20283659152555167, 0.14354981791108287, -0.4973140193750466, -0.19753779687535397, -0.9257981905690578, -1.8609348754518722, 0.08791455264292816, -0.8965464694382222, 0.3924042454233774, -2.051066260296957, -0.29419187754144366, -0.11404285000231268, -1.5008947403290749, 1.5130633320204947, -0.013939284236135645, -0.5008971717723003, -0.8872960885392636, 0.6545701294979238, 1.2418392362181065, -0.556513780780177, -1.5113062460152866, -1.5437051826070072, 1.2174960148122902, 0.5207168975027033, -0.6058183166483503, -0.876105918810508, 1.6990793067243244, -1.0127106685746625, 1.165990719074486, 1.4427761189051136, -0.48081925269099096, 0.39153886502249624], \"xaxis\": \"x9\", \"y\": [0.44661398802184066, 0.30889123191956225, -0.9804776587658602, 0.12784873122963558, -1.7395593800185352, 1.1428606997605641, 0.9485480838441536, 0.3423310663027422, 2.2110776442595372, 0.6100936276267533, -0.5233809503034954, 0.7537945250801213, -0.9778677411204288, -0.09884211009064948, 0.004433104465747421, 0.8148762150811547, -0.7892420420784164, 1.3311337631201687, 0.22307407692754, 1.036516109203243, -1.7010220269578207, 0.5343452792757892, 0.9200118033368204, -0.5936541715484736, -1.0035302413854728, 1.910781477075174, 0.5630797906200505, -0.3053637347307562, -1.5908389100611038, 0.9737658383691731, 2.395500700860623, 0.87942148955053, 1.591100760969521, 2.6524230294455338, 0.5393312122541757, -1.3516648169880152, -0.32914141797819724, -1.3040497594262683, 0.032651815989994525, -2.153844933501666, -0.46668732274742175, 0.7297855548161059, 1.9508336306865837, -0.8276700805250797, 0.6810850916839654, -1.259957671899816, 0.4837456170424614, -0.8080319850112103, -1.2079691162600878, -0.8044749738977648, -1.1395762369486782, 2.169550970739434, -0.40751555311218185, 1.3970592467919776, 0.7107802876919356, 0.8919021813916727, -1.9489953483697748, -1.0858852835065254, 2.0441321538230977, 0.43985062990394336, 0.6602988047926446, 2.2700445956419353, -0.9070535186724555, -1.3096897639974387, 0.06394241732018749, 0.050610742587672106, 0.1850583101836084, 1.0720299304536618, 0.49287487627329474, -0.5708677645470345, 1.1659166904591263, 2.7997975708207647, 1.2175347837728439, -0.12029520738651407, -0.4718973085826919, -0.48540310454190344, 1.7860088802826084, -0.7775188948075658, 0.7948958162589866, 1.8090193582415102, 1.0354692764928901, -0.3209472732051858, -0.3479336808701315, 1.0121247723610938, 0.9134680437396722, 0.24530647418187396, -1.4374277890884086, -0.24404449741641432, -0.38835070340983446, -0.38891830841611796, -0.31475655052635354, -0.8926597370177215, -1.124152730457152, -0.14623219919279715, 0.36608386712362945, -0.3598260095371573, 1.7598585797930142, 0.029143026645623838, -1.2213426733231405, -0.2866420272966458], \"yaxis\": \"y9\"}, {\"line\": {\"color\": \"rgba(128, 128, 128, 1.0)\", \"dash\": \"solid\", \"shape\": \"linear\", \"width\": 1.3}, \"marker\": {\"size\": 2, \"symbol\": \"circle\"}, \"mode\": \"markers\", \"name\": \"C\", \"text\": \"\", \"type\": \"scatter\", \"x\": [-1.5711202546339078, 1.8589427519950752, 0.4725308030858024, -0.4429751159210085, 0.4931189239296156, 0.3290781388444781, -1.8851204051667412, 0.6520089049000372, 0.001622290086489223, -1.190541657435356, -1.1165354430786067, -0.28023760526214087, 0.036117480348009705, 0.4060464344684879, 1.7693346210102137, 1.1226249355088112, 0.30545725263851115, 0.32467659180420966, -0.36329705102200255, -0.35450640391340416, -0.848256079483041, -1.1016866426764451, -1.8828773464329578, 0.8438264493109183, -0.18552390379817973, 1.7127884983056052, 1.5064918772968656, 0.8622196042959621, -1.0656304741666403, -0.09181381850569179, 1.7954497040834496, 0.4326567575470323, -0.13007433150858635, -0.9520088453445963, 0.7330078033118114, 0.5767854855180345, 1.5941334078701672, 1.2639463553980426, 0.11421381700343505, -0.21074369451029193, -1.442352021362074, 0.6014244269317304, -0.5251750463409331, 0.24056973341915855, -0.34177966778960134, 0.49033717532942955, -0.4359285863361001, -0.4645219801827713, -0.49906116308344267, 0.012296828969600491, 1.3052254220844173, 1.0575718829429042, -0.8955948771032166, 1.8840878446231526, -0.32124146836569917, 1.1138212038805104, -0.5380428173529321, 0.6780503440629659, -0.08953546027085331, 1.290935731322414, 1.0568892764925977, 0.7398009929380013, 1.6294195464621322, 0.5068826199029156, 1.4639384323657498, 2.0035883236917584, 2.2253827405770497, -0.9829583862377724, 0.2486782135934998, 0.5245709075594285, 0.6751474846876793, 0.7431555008266308, 1.1026113915541595, 0.7086927539253073, -0.14067844876750424, 0.38453326761935613, 0.46288958214142273, 0.24238987224025843, -0.17571802415464177, 0.8662372993526971, -1.3677834323167255, -1.052831300968593, -1.041671610917792, -1.3909596396881267, 1.1170937933351548, -1.1603270017517613, 0.20977942996564286, 0.40333440608587473, -0.018229098693743707, 0.9475209099563278, 0.2034026360151726, -0.6814367417773323, -0.9953660681320612, 1.3724080700419738, 1.138876474205955, 0.7265311279666776, -0.8564525533706586, 0.1814599986481153, -1.551384736446907, 1.6351567399448812], \"xaxis\": \"x10\", \"y\": [0.44661398802184066, 0.30889123191956225, -0.9804776587658602, 0.12784873122963558, -1.7395593800185352, 1.1428606997605641, 0.9485480838441536, 0.3423310663027422, 2.2110776442595372, 0.6100936276267533, -0.5233809503034954, 0.7537945250801213, -0.9778677411204288, -0.09884211009064948, 0.004433104465747421, 0.8148762150811547, -0.7892420420784164, 1.3311337631201687, 0.22307407692754, 1.036516109203243, -1.7010220269578207, 0.5343452792757892, 0.9200118033368204, -0.5936541715484736, -1.0035302413854728, 1.910781477075174, 0.5630797906200505, -0.3053637347307562, -1.5908389100611038, 0.9737658383691731, 2.395500700860623, 0.87942148955053, 1.591100760969521, 2.6524230294455338, 0.5393312122541757, -1.3516648169880152, -0.32914141797819724, -1.3040497594262683, 0.032651815989994525, -2.153844933501666, -0.46668732274742175, 0.7297855548161059, 1.9508336306865837, -0.8276700805250797, 0.6810850916839654, -1.259957671899816, 0.4837456170424614, -0.8080319850112103, -1.2079691162600878, -0.8044749738977648, -1.1395762369486782, 2.169550970739434, -0.40751555311218185, 1.3970592467919776, 0.7107802876919356, 0.8919021813916727, -1.9489953483697748, -1.0858852835065254, 2.0441321538230977, 0.43985062990394336, 0.6602988047926446, 2.2700445956419353, -0.9070535186724555, -1.3096897639974387, 0.06394241732018749, 0.050610742587672106, 0.1850583101836084, 1.0720299304536618, 0.49287487627329474, -0.5708677645470345, 1.1659166904591263, 2.7997975708207647, 1.2175347837728439, -0.12029520738651407, -0.4718973085826919, -0.48540310454190344, 1.7860088802826084, -0.7775188948075658, 0.7948958162589866, 1.8090193582415102, 1.0354692764928901, -0.3209472732051858, -0.3479336808701315, 1.0121247723610938, 0.9134680437396722, 0.24530647418187396, -1.4374277890884086, -0.24404449741641432, -0.38835070340983446, -0.38891830841611796, -0.31475655052635354, -0.8926597370177215, -1.124152730457152, -0.14623219919279715, 0.36608386712362945, -0.3598260095371573, 1.7598585797930142, 0.029143026645623838, -1.2213426733231405, -0.2866420272966458], \"yaxis\": \"y10\"}, {\"histfunc\": \"count\", \"histnorm\": \"\", \"marker\": {\"color\": \"rgba(50, 171, 96, 1.0)\", \"line\": {\"color\": \"#4D5663\", \"width\": 1.3}}, \"name\": \"C\", \"nbinsx\": 10, \"opacity\": 0.8, \"orientation\": \"v\", \"type\": \"histogram\", \"x\": [0.44661398802184066, 0.30889123191956225, -0.9804776587658602, 0.12784873122963558, -1.7395593800185352, 1.1428606997605641, 0.9485480838441536, 0.3423310663027422, 2.2110776442595372, 0.6100936276267533, -0.5233809503034954, 0.7537945250801213, -0.9778677411204288, -0.09884211009064948, 0.004433104465747421, 0.8148762150811547, -0.7892420420784164, 1.3311337631201687, 0.22307407692754, 1.036516109203243, -1.7010220269578207, 0.5343452792757892, 0.9200118033368204, -0.5936541715484736, -1.0035302413854728, 1.910781477075174, 0.5630797906200505, -0.3053637347307562, -1.5908389100611038, 0.9737658383691731, 2.395500700860623, 0.87942148955053, 1.591100760969521, 2.6524230294455338, 0.5393312122541757, -1.3516648169880152, -0.32914141797819724, -1.3040497594262683, 0.032651815989994525, -2.153844933501666, -0.46668732274742175, 0.7297855548161059, 1.9508336306865837, -0.8276700805250797, 0.6810850916839654, -1.259957671899816, 0.4837456170424614, -0.8080319850112103, -1.2079691162600878, -0.8044749738977648, -1.1395762369486782, 2.169550970739434, -0.40751555311218185, 1.3970592467919776, 0.7107802876919356, 0.8919021813916727, -1.9489953483697748, -1.0858852835065254, 2.0441321538230977, 0.43985062990394336, 0.6602988047926446, 2.2700445956419353, -0.9070535186724555, -1.3096897639974387, 0.06394241732018749, 0.050610742587672106, 0.1850583101836084, 1.0720299304536618, 0.49287487627329474, -0.5708677645470345, 1.1659166904591263, 2.7997975708207647, 1.2175347837728439, -0.12029520738651407, -0.4718973085826919, -0.48540310454190344, 1.7860088802826084, -0.7775188948075658, 0.7948958162589866, 1.8090193582415102, 1.0354692764928901, -0.3209472732051858, -0.3479336808701315, 1.0121247723610938, 0.9134680437396722, 0.24530647418187396, -1.4374277890884086, -0.24404449741641432, -0.38835070340983446, -0.38891830841611796, -0.31475655052635354, -0.8926597370177215, -1.124152730457152, -0.14623219919279715, 0.36608386712362945, -0.3598260095371573, 1.7598585797930142, 0.029143026645623838, -1.2213426733231405, -0.2866420272966458], \"xaxis\": \"x11\", \"yaxis\": \"y11\"}, {\"line\": {\"color\": \"rgba(128, 128, 128, 1.0)\", \"dash\": \"solid\", \"shape\": \"linear\", \"width\": 1.3}, \"marker\": {\"size\": 2, \"symbol\": \"circle\"}, \"mode\": \"markers\", \"name\": \"C\", \"text\": \"\", \"type\": \"scatter\", \"x\": [-0.546488074456264, -0.6906795939250396, -0.7530198223287682, -0.3035416448226373, 0.3318097102622694, 0.28854391827365106, 0.024869172734768297, 0.2993856166868935, -1.7739234311943968, -1.3061602991789985, -0.1978284090875014, 1.0445034579306787, 0.9170950661450984, -0.684984472347748, -1.9801976218504385, 0.31051713776885004, -0.4329512004987474, -0.9595214053751172, -0.2512722009325092, 0.6742095287617564, -1.0733105914121326, 0.042235732214301186, -0.5082994655524106, 0.006034147184217506, 1.2616648458282216, 0.6795993715030275, -3.330257093397494, 0.561627884971362, -2.2720802102340154, 0.3097731244084955, -0.4370125022523923, 0.044471961293511365, 0.5815934596033061, -0.9967245477818799, -0.3027644967706041, -1.1326849721570416, 1.9640454602527784, -2.1431086532243504, -1.2219373014504364, 0.9283942716087435, -1.4996204449913944, -0.8857129697771499, 0.6539017749199544, 0.9169701156794323, 0.9906148343369582, 0.2755860030358192, -0.01746794152257089, -0.3471383630137931, 0.4618832907819464, -0.4297874720450296, 1.9914952295729302, 1.0602539593119948, -0.11903949950493466, -0.5972525293520385, 0.871220634932907, 0.1061901134741834, 0.39362618733823174, 0.5916770786621857, 1.3602043914521933, -0.10052955794223802, -0.5226857317993312, 0.721589345200966, 0.7815114728168278, -1.2874663329125964, 1.4860441425065496, 1.994362272027055, -2.382611440735003, -0.3426699207174205, -0.7520575866702235, -0.7713985262302956, -0.6723793532305976, -0.168159774298071, -0.8491518001974565, -0.8767152118844154, -0.340836812565283, -0.4445890348045418, -1.9947661768305307, -0.4062905398921242, 0.4611541717010919, -1.164365539393841, -0.30304592551049236, 2.653612293015191, 0.381137487197287, 0.9235035235274678, -0.8698814137486172, 1.0352592830040694, -0.321322944899231, -0.8138074044502812, -0.5412286327252419, 0.4330775385253458, 0.7969502635951479, 0.8123699150188365, 0.07064870947086856, -0.6854260743501431, -1.1579818011671967, 0.9822744829518161, -0.7760660837646026, 2.488984537262283, 0.16181189984854655, -0.656126412046775], \"xaxis\": \"x12\", \"y\": [0.44661398802184066, 0.30889123191956225, -0.9804776587658602, 0.12784873122963558, -1.7395593800185352, 1.1428606997605641, 0.9485480838441536, 0.3423310663027422, 2.2110776442595372, 0.6100936276267533, -0.5233809503034954, 0.7537945250801213, -0.9778677411204288, -0.09884211009064948, 0.004433104465747421, 0.8148762150811547, -0.7892420420784164, 1.3311337631201687, 0.22307407692754, 1.036516109203243, -1.7010220269578207, 0.5343452792757892, 0.9200118033368204, -0.5936541715484736, -1.0035302413854728, 1.910781477075174, 0.5630797906200505, -0.3053637347307562, -1.5908389100611038, 0.9737658383691731, 2.395500700860623, 0.87942148955053, 1.591100760969521, 2.6524230294455338, 0.5393312122541757, -1.3516648169880152, -0.32914141797819724, -1.3040497594262683, 0.032651815989994525, -2.153844933501666, -0.46668732274742175, 0.7297855548161059, 1.9508336306865837, -0.8276700805250797, 0.6810850916839654, -1.259957671899816, 0.4837456170424614, -0.8080319850112103, -1.2079691162600878, -0.8044749738977648, -1.1395762369486782, 2.169550970739434, -0.40751555311218185, 1.3970592467919776, 0.7107802876919356, 0.8919021813916727, -1.9489953483697748, -1.0858852835065254, 2.0441321538230977, 0.43985062990394336, 0.6602988047926446, 2.2700445956419353, -0.9070535186724555, -1.3096897639974387, 0.06394241732018749, 0.050610742587672106, 0.1850583101836084, 1.0720299304536618, 0.49287487627329474, -0.5708677645470345, 1.1659166904591263, 2.7997975708207647, 1.2175347837728439, -0.12029520738651407, -0.4718973085826919, -0.48540310454190344, 1.7860088802826084, -0.7775188948075658, 0.7948958162589866, 1.8090193582415102, 1.0354692764928901, -0.3209472732051858, -0.3479336808701315, 1.0121247723610938, 0.9134680437396722, 0.24530647418187396, -1.4374277890884086, -0.24404449741641432, -0.38835070340983446, -0.38891830841611796, -0.31475655052635354, -0.8926597370177215, -1.124152730457152, -0.14623219919279715, 0.36608386712362945, -0.3598260095371573, 1.7598585797930142, 0.029143026645623838, -1.2213426733231405, -0.2866420272966458], \"yaxis\": \"y12\"}, {\"line\": {\"color\": \"rgba(128, 128, 128, 1.0)\", \"dash\": \"solid\", \"shape\": \"linear\", \"width\": 1.3}, \"marker\": {\"size\": 2, \"symbol\": \"circle\"}, \"mode\": \"markers\", \"name\": \"D\", \"text\": \"\", \"type\": \"scatter\", \"x\": [0.01258771338784096, 0.15756449624948846, -1.5674539359727409, 0.006377768460200217, 0.022185847399755477, -1.4098012598057708, -1.1771243636813133, 1.1235283675890204, -0.07429212716714764, 0.48742375992982784, -0.12944337947685283, -0.9180012214241594, -3.0131187942336704, 1.1869412396701389, 0.7912752124923572, 1.432678623623017, 0.40568209062367894, 0.12032693997325379, 1.7001641802601302, -0.8436839622947031, 1.2092113776263675, 0.893612345857148, -0.03762130523020127, -0.06830519231422867, 0.39929983349320436, -0.645987877543945, 0.05471325639345035, 0.6359591748788739, 1.1703800217942906, -1.5043691261451897, -0.5036814725137895, 1.0361340987898915, 0.29213763653891306, 0.7774645561651203, -0.4782140281577571, -2.643881907336907, -0.5749412179835269, 0.3841976745153053, 1.2915638490665986, -0.4233796655810165, 1.8744810238151675, 0.7367675496380632, -0.6109907442671998, 0.805674638800644, -0.9539036537063705, 0.09527741797931052, -1.0649914308693913, 0.5964487166392948, 0.1990665103969152, 0.6132704762189406, 0.6268899207234839, -1.1286894146277253, 0.01213858445998383, -1.4701196523620392, -0.37570842538158156, 1.3497554259656261, 1.35171477403518, -0.4489109673535718, -0.6577003347110576, -0.2888103944878272, 0.3578668378770103, -1.9895737512618443, 0.25272547443718, -0.6009738065166887, 0.9907962012130483, 0.30548119666697593, -1.6790430115833166, 0.3782169365209647, 0.20283659152555167, 0.14354981791108287, -0.4973140193750466, -0.19753779687535397, -0.9257981905690578, -1.8609348754518722, 0.08791455264292816, -0.8965464694382222, 0.3924042454233774, -2.051066260296957, -0.29419187754144366, -0.11404285000231268, -1.5008947403290749, 1.5130633320204947, -0.013939284236135645, -0.5008971717723003, -0.8872960885392636, 0.6545701294979238, 1.2418392362181065, -0.556513780780177, -1.5113062460152866, -1.5437051826070072, 1.2174960148122902, 0.5207168975027033, -0.6058183166483503, -0.876105918810508, 1.6990793067243244, -1.0127106685746625, 1.165990719074486, 1.4427761189051136, -0.48081925269099096, 0.39153886502249624], \"xaxis\": \"x13\", \"y\": [-0.546488074456264, -0.6906795939250396, -0.7530198223287682, -0.3035416448226373, 0.3318097102622694, 0.28854391827365106, 0.024869172734768297, 0.2993856166868935, -1.7739234311943968, -1.3061602991789985, -0.1978284090875014, 1.0445034579306787, 0.9170950661450984, -0.684984472347748, -1.9801976218504385, 0.31051713776885004, -0.4329512004987474, -0.9595214053751172, -0.2512722009325092, 0.6742095287617564, -1.0733105914121326, 0.042235732214301186, -0.5082994655524106, 0.006034147184217506, 1.2616648458282216, 0.6795993715030275, -3.330257093397494, 0.561627884971362, -2.2720802102340154, 0.3097731244084955, -0.4370125022523923, 0.044471961293511365, 0.5815934596033061, -0.9967245477818799, -0.3027644967706041, -1.1326849721570416, 1.9640454602527784, -2.1431086532243504, -1.2219373014504364, 0.9283942716087435, -1.4996204449913944, -0.8857129697771499, 0.6539017749199544, 0.9169701156794323, 0.9906148343369582, 0.2755860030358192, -0.01746794152257089, -0.3471383630137931, 0.4618832907819464, -0.4297874720450296, 1.9914952295729302, 1.0602539593119948, -0.11903949950493466, -0.5972525293520385, 0.871220634932907, 0.1061901134741834, 0.39362618733823174, 0.5916770786621857, 1.3602043914521933, -0.10052955794223802, -0.5226857317993312, 0.721589345200966, 0.7815114728168278, -1.2874663329125964, 1.4860441425065496, 1.994362272027055, -2.382611440735003, -0.3426699207174205, -0.7520575866702235, -0.7713985262302956, -0.6723793532305976, -0.168159774298071, -0.8491518001974565, -0.8767152118844154, -0.340836812565283, -0.4445890348045418, -1.9947661768305307, -0.4062905398921242, 0.4611541717010919, -1.164365539393841, -0.30304592551049236, 2.653612293015191, 0.381137487197287, 0.9235035235274678, -0.8698814137486172, 1.0352592830040694, -0.321322944899231, -0.8138074044502812, -0.5412286327252419, 0.4330775385253458, 0.7969502635951479, 0.8123699150188365, 0.07064870947086856, -0.6854260743501431, -1.1579818011671967, 0.9822744829518161, -0.7760660837646026, 2.488984537262283, 0.16181189984854655, -0.656126412046775], \"yaxis\": \"y13\"}, {\"line\": {\"color\": \"rgba(128, 128, 128, 1.0)\", \"dash\": \"solid\", \"shape\": \"linear\", \"width\": 1.3}, \"marker\": {\"size\": 2, \"symbol\": \"circle\"}, \"mode\": \"markers\", \"name\": \"D\", \"text\": \"\", \"type\": \"scatter\", \"x\": [-1.5711202546339078, 1.8589427519950752, 0.4725308030858024, -0.4429751159210085, 0.4931189239296156, 0.3290781388444781, -1.8851204051667412, 0.6520089049000372, 0.001622290086489223, -1.190541657435356, -1.1165354430786067, -0.28023760526214087, 0.036117480348009705, 0.4060464344684879, 1.7693346210102137, 1.1226249355088112, 0.30545725263851115, 0.32467659180420966, -0.36329705102200255, -0.35450640391340416, -0.848256079483041, -1.1016866426764451, -1.8828773464329578, 0.8438264493109183, -0.18552390379817973, 1.7127884983056052, 1.5064918772968656, 0.8622196042959621, -1.0656304741666403, -0.09181381850569179, 1.7954497040834496, 0.4326567575470323, -0.13007433150858635, -0.9520088453445963, 0.7330078033118114, 0.5767854855180345, 1.5941334078701672, 1.2639463553980426, 0.11421381700343505, -0.21074369451029193, -1.442352021362074, 0.6014244269317304, -0.5251750463409331, 0.24056973341915855, -0.34177966778960134, 0.49033717532942955, -0.4359285863361001, -0.4645219801827713, -0.49906116308344267, 0.012296828969600491, 1.3052254220844173, 1.0575718829429042, -0.8955948771032166, 1.8840878446231526, -0.32124146836569917, 1.1138212038805104, -0.5380428173529321, 0.6780503440629659, -0.08953546027085331, 1.290935731322414, 1.0568892764925977, 0.7398009929380013, 1.6294195464621322, 0.5068826199029156, 1.4639384323657498, 2.0035883236917584, 2.2253827405770497, -0.9829583862377724, 0.2486782135934998, 0.5245709075594285, 0.6751474846876793, 0.7431555008266308, 1.1026113915541595, 0.7086927539253073, -0.14067844876750424, 0.38453326761935613, 0.46288958214142273, 0.24238987224025843, -0.17571802415464177, 0.8662372993526971, -1.3677834323167255, -1.052831300968593, -1.041671610917792, -1.3909596396881267, 1.1170937933351548, -1.1603270017517613, 0.20977942996564286, 0.40333440608587473, -0.018229098693743707, 0.9475209099563278, 0.2034026360151726, -0.6814367417773323, -0.9953660681320612, 1.3724080700419738, 1.138876474205955, 0.7265311279666776, -0.8564525533706586, 0.1814599986481153, -1.551384736446907, 1.6351567399448812], \"xaxis\": \"x14\", \"y\": [-0.546488074456264, -0.6906795939250396, -0.7530198223287682, -0.3035416448226373, 0.3318097102622694, 0.28854391827365106, 0.024869172734768297, 0.2993856166868935, -1.7739234311943968, -1.3061602991789985, -0.1978284090875014, 1.0445034579306787, 0.9170950661450984, -0.684984472347748, -1.9801976218504385, 0.31051713776885004, -0.4329512004987474, -0.9595214053751172, -0.2512722009325092, 0.6742095287617564, -1.0733105914121326, 0.042235732214301186, -0.5082994655524106, 0.006034147184217506, 1.2616648458282216, 0.6795993715030275, -3.330257093397494, 0.561627884971362, -2.2720802102340154, 0.3097731244084955, -0.4370125022523923, 0.044471961293511365, 0.5815934596033061, -0.9967245477818799, -0.3027644967706041, -1.1326849721570416, 1.9640454602527784, -2.1431086532243504, -1.2219373014504364, 0.9283942716087435, -1.4996204449913944, -0.8857129697771499, 0.6539017749199544, 0.9169701156794323, 0.9906148343369582, 0.2755860030358192, -0.01746794152257089, -0.3471383630137931, 0.4618832907819464, -0.4297874720450296, 1.9914952295729302, 1.0602539593119948, -0.11903949950493466, -0.5972525293520385, 0.871220634932907, 0.1061901134741834, 0.39362618733823174, 0.5916770786621857, 1.3602043914521933, -0.10052955794223802, -0.5226857317993312, 0.721589345200966, 0.7815114728168278, -1.2874663329125964, 1.4860441425065496, 1.994362272027055, -2.382611440735003, -0.3426699207174205, -0.7520575866702235, -0.7713985262302956, -0.6723793532305976, -0.168159774298071, -0.8491518001974565, -0.8767152118844154, -0.340836812565283, -0.4445890348045418, -1.9947661768305307, -0.4062905398921242, 0.4611541717010919, -1.164365539393841, -0.30304592551049236, 2.653612293015191, 0.381137487197287, 0.9235035235274678, -0.8698814137486172, 1.0352592830040694, -0.321322944899231, -0.8138074044502812, -0.5412286327252419, 0.4330775385253458, 0.7969502635951479, 0.8123699150188365, 0.07064870947086856, -0.6854260743501431, -1.1579818011671967, 0.9822744829518161, -0.7760660837646026, 2.488984537262283, 0.16181189984854655, -0.656126412046775], \"yaxis\": \"y14\"}, {\"line\": {\"color\": \"rgba(128, 128, 128, 1.0)\", \"dash\": \"solid\", \"shape\": \"linear\", \"width\": 1.3}, \"marker\": {\"size\": 2, \"symbol\": \"circle\"}, \"mode\": \"markers\", \"name\": \"D\", \"text\": \"\", \"type\": \"scatter\", \"x\": [0.44661398802184066, 0.30889123191956225, -0.9804776587658602, 0.12784873122963558, -1.7395593800185352, 1.1428606997605641, 0.9485480838441536, 0.3423310663027422, 2.2110776442595372, 0.6100936276267533, -0.5233809503034954, 0.7537945250801213, -0.9778677411204288, -0.09884211009064948, 0.004433104465747421, 0.8148762150811547, -0.7892420420784164, 1.3311337631201687, 0.22307407692754, 1.036516109203243, -1.7010220269578207, 0.5343452792757892, 0.9200118033368204, -0.5936541715484736, -1.0035302413854728, 1.910781477075174, 0.5630797906200505, -0.3053637347307562, -1.5908389100611038, 0.9737658383691731, 2.395500700860623, 0.87942148955053, 1.591100760969521, 2.6524230294455338, 0.5393312122541757, -1.3516648169880152, -0.32914141797819724, -1.3040497594262683, 0.032651815989994525, -2.153844933501666, -0.46668732274742175, 0.7297855548161059, 1.9508336306865837, -0.8276700805250797, 0.6810850916839654, -1.259957671899816, 0.4837456170424614, -0.8080319850112103, -1.2079691162600878, -0.8044749738977648, -1.1395762369486782, 2.169550970739434, -0.40751555311218185, 1.3970592467919776, 0.7107802876919356, 0.8919021813916727, -1.9489953483697748, -1.0858852835065254, 2.0441321538230977, 0.43985062990394336, 0.6602988047926446, 2.2700445956419353, -0.9070535186724555, -1.3096897639974387, 0.06394241732018749, 0.050610742587672106, 0.1850583101836084, 1.0720299304536618, 0.49287487627329474, -0.5708677645470345, 1.1659166904591263, 2.7997975708207647, 1.2175347837728439, -0.12029520738651407, -0.4718973085826919, -0.48540310454190344, 1.7860088802826084, -0.7775188948075658, 0.7948958162589866, 1.8090193582415102, 1.0354692764928901, -0.3209472732051858, -0.3479336808701315, 1.0121247723610938, 0.9134680437396722, 0.24530647418187396, -1.4374277890884086, -0.24404449741641432, -0.38835070340983446, -0.38891830841611796, -0.31475655052635354, -0.8926597370177215, -1.124152730457152, -0.14623219919279715, 0.36608386712362945, -0.3598260095371573, 1.7598585797930142, 0.029143026645623838, -1.2213426733231405, -0.2866420272966458], \"xaxis\": \"x15\", \"y\": [-0.546488074456264, -0.6906795939250396, -0.7530198223287682, -0.3035416448226373, 0.3318097102622694, 0.28854391827365106, 0.024869172734768297, 0.2993856166868935, -1.7739234311943968, -1.3061602991789985, -0.1978284090875014, 1.0445034579306787, 0.9170950661450984, -0.684984472347748, -1.9801976218504385, 0.31051713776885004, -0.4329512004987474, -0.9595214053751172, -0.2512722009325092, 0.6742095287617564, -1.0733105914121326, 0.042235732214301186, -0.5082994655524106, 0.006034147184217506, 1.2616648458282216, 0.6795993715030275, -3.330257093397494, 0.561627884971362, -2.2720802102340154, 0.3097731244084955, -0.4370125022523923, 0.044471961293511365, 0.5815934596033061, -0.9967245477818799, -0.3027644967706041, -1.1326849721570416, 1.9640454602527784, -2.1431086532243504, -1.2219373014504364, 0.9283942716087435, -1.4996204449913944, -0.8857129697771499, 0.6539017749199544, 0.9169701156794323, 0.9906148343369582, 0.2755860030358192, -0.01746794152257089, -0.3471383630137931, 0.4618832907819464, -0.4297874720450296, 1.9914952295729302, 1.0602539593119948, -0.11903949950493466, -0.5972525293520385, 0.871220634932907, 0.1061901134741834, 0.39362618733823174, 0.5916770786621857, 1.3602043914521933, -0.10052955794223802, -0.5226857317993312, 0.721589345200966, 0.7815114728168278, -1.2874663329125964, 1.4860441425065496, 1.994362272027055, -2.382611440735003, -0.3426699207174205, -0.7520575866702235, -0.7713985262302956, -0.6723793532305976, -0.168159774298071, -0.8491518001974565, -0.8767152118844154, -0.340836812565283, -0.4445890348045418, -1.9947661768305307, -0.4062905398921242, 0.4611541717010919, -1.164365539393841, -0.30304592551049236, 2.653612293015191, 0.381137487197287, 0.9235035235274678, -0.8698814137486172, 1.0352592830040694, -0.321322944899231, -0.8138074044502812, -0.5412286327252419, 0.4330775385253458, 0.7969502635951479, 0.8123699150188365, 0.07064870947086856, -0.6854260743501431, -1.1579818011671967, 0.9822744829518161, -0.7760660837646026, 2.488984537262283, 0.16181189984854655, -0.656126412046775], \"yaxis\": \"y15\"}, {\"histfunc\": \"count\", \"histnorm\": \"\", \"marker\": {\"color\": \"rgba(128, 0, 128, 1.0)\", \"line\": {\"color\": \"#4D5663\", \"width\": 1.3}}, \"name\": \"D\", \"nbinsx\": 10, \"opacity\": 0.8, \"orientation\": \"v\", \"type\": \"histogram\", \"x\": [-0.546488074456264, -0.6906795939250396, -0.7530198223287682, -0.3035416448226373, 0.3318097102622694, 0.28854391827365106, 0.024869172734768297, 0.2993856166868935, -1.7739234311943968, -1.3061602991789985, -0.1978284090875014, 1.0445034579306787, 0.9170950661450984, -0.684984472347748, -1.9801976218504385, 0.31051713776885004, -0.4329512004987474, -0.9595214053751172, -0.2512722009325092, 0.6742095287617564, -1.0733105914121326, 0.042235732214301186, -0.5082994655524106, 0.006034147184217506, 1.2616648458282216, 0.6795993715030275, -3.330257093397494, 0.561627884971362, -2.2720802102340154, 0.3097731244084955, -0.4370125022523923, 0.044471961293511365, 0.5815934596033061, -0.9967245477818799, -0.3027644967706041, -1.1326849721570416, 1.9640454602527784, -2.1431086532243504, -1.2219373014504364, 0.9283942716087435, -1.4996204449913944, -0.8857129697771499, 0.6539017749199544, 0.9169701156794323, 0.9906148343369582, 0.2755860030358192, -0.01746794152257089, -0.3471383630137931, 0.4618832907819464, -0.4297874720450296, 1.9914952295729302, 1.0602539593119948, -0.11903949950493466, -0.5972525293520385, 0.871220634932907, 0.1061901134741834, 0.39362618733823174, 0.5916770786621857, 1.3602043914521933, -0.10052955794223802, -0.5226857317993312, 0.721589345200966, 0.7815114728168278, -1.2874663329125964, 1.4860441425065496, 1.994362272027055, -2.382611440735003, -0.3426699207174205, -0.7520575866702235, -0.7713985262302956, -0.6723793532305976, -0.168159774298071, -0.8491518001974565, -0.8767152118844154, -0.340836812565283, -0.4445890348045418, -1.9947661768305307, -0.4062905398921242, 0.4611541717010919, -1.164365539393841, -0.30304592551049236, 2.653612293015191, 0.381137487197287, 0.9235035235274678, -0.8698814137486172, 1.0352592830040694, -0.321322944899231, -0.8138074044502812, -0.5412286327252419, 0.4330775385253458, 0.7969502635951479, 0.8123699150188365, 0.07064870947086856, -0.6854260743501431, -1.1579818011671967, 0.9822744829518161, -0.7760660837646026, 2.488984537262283, 0.16181189984854655, -0.656126412046775], \"xaxis\": \"x16\", \"yaxis\": \"y16\"}],\n",
       "                        {\"bargap\": 0.02, \"legend\": {\"bgcolor\": \"#F5F6F9\", \"font\": {\"color\": \"#4D5663\"}}, \"paper_bgcolor\": \"#F5F6F9\", \"plot_bgcolor\": \"#F5F6F9\", \"showlegend\": false, \"template\": {\"data\": {\"bar\": [{\"error_x\": {\"color\": \"#2a3f5f\"}, \"error_y\": {\"color\": \"#2a3f5f\"}, \"marker\": {\"line\": {\"color\": \"#E5ECF6\", \"width\": 0.5}}, \"type\": \"bar\"}], \"barpolar\": [{\"marker\": {\"line\": {\"color\": \"#E5ECF6\", \"width\": 0.5}}, \"type\": \"barpolar\"}], \"carpet\": [{\"aaxis\": {\"endlinecolor\": \"#2a3f5f\", \"gridcolor\": \"white\", \"linecolor\": \"white\", \"minorgridcolor\": \"white\", \"startlinecolor\": \"#2a3f5f\"}, \"baxis\": {\"endlinecolor\": \"#2a3f5f\", \"gridcolor\": \"white\", \"linecolor\": \"white\", \"minorgridcolor\": \"white\", \"startlinecolor\": \"#2a3f5f\"}, \"type\": \"carpet\"}], \"choropleth\": [{\"colorbar\": {\"outlinewidth\": 0, \"ticks\": \"\"}, \"type\": \"choropleth\"}], \"contour\": [{\"colorbar\": {\"outlinewidth\": 0, \"ticks\": \"\"}, \"colorscale\": [[0.0, \"#0d0887\"], [0.1111111111111111, \"#46039f\"], [0.2222222222222222, \"#7201a8\"], [0.3333333333333333, \"#9c179e\"], [0.4444444444444444, \"#bd3786\"], [0.5555555555555556, \"#d8576b\"], [0.6666666666666666, \"#ed7953\"], [0.7777777777777778, \"#fb9f3a\"], [0.8888888888888888, \"#fdca26\"], [1.0, \"#f0f921\"]], \"type\": \"contour\"}], \"contourcarpet\": [{\"colorbar\": {\"outlinewidth\": 0, \"ticks\": \"\"}, \"type\": \"contourcarpet\"}], \"heatmap\": [{\"colorbar\": {\"outlinewidth\": 0, \"ticks\": \"\"}, \"colorscale\": [[0.0, \"#0d0887\"], [0.1111111111111111, \"#46039f\"], [0.2222222222222222, \"#7201a8\"], [0.3333333333333333, \"#9c179e\"], [0.4444444444444444, \"#bd3786\"], [0.5555555555555556, \"#d8576b\"], [0.6666666666666666, \"#ed7953\"], [0.7777777777777778, \"#fb9f3a\"], [0.8888888888888888, \"#fdca26\"], [1.0, \"#f0f921\"]], \"type\": \"heatmap\"}], \"heatmapgl\": [{\"colorbar\": {\"outlinewidth\": 0, \"ticks\": \"\"}, \"colorscale\": [[0.0, \"#0d0887\"], [0.1111111111111111, \"#46039f\"], [0.2222222222222222, \"#7201a8\"], [0.3333333333333333, \"#9c179e\"], [0.4444444444444444, \"#bd3786\"], [0.5555555555555556, \"#d8576b\"], [0.6666666666666666, \"#ed7953\"], [0.7777777777777778, \"#fb9f3a\"], [0.8888888888888888, \"#fdca26\"], [1.0, \"#f0f921\"]], \"type\": \"heatmapgl\"}], \"histogram\": [{\"marker\": {\"colorbar\": {\"outlinewidth\": 0, \"ticks\": \"\"}}, \"type\": \"histogram\"}], \"histogram2d\": [{\"colorbar\": {\"outlinewidth\": 0, \"ticks\": \"\"}, \"colorscale\": [[0.0, \"#0d0887\"], [0.1111111111111111, \"#46039f\"], [0.2222222222222222, \"#7201a8\"], [0.3333333333333333, \"#9c179e\"], [0.4444444444444444, \"#bd3786\"], [0.5555555555555556, \"#d8576b\"], [0.6666666666666666, \"#ed7953\"], [0.7777777777777778, \"#fb9f3a\"], [0.8888888888888888, \"#fdca26\"], [1.0, \"#f0f921\"]], \"type\": \"histogram2d\"}], \"histogram2dcontour\": [{\"colorbar\": {\"outlinewidth\": 0, \"ticks\": \"\"}, \"colorscale\": [[0.0, \"#0d0887\"], [0.1111111111111111, \"#46039f\"], [0.2222222222222222, \"#7201a8\"], [0.3333333333333333, \"#9c179e\"], [0.4444444444444444, \"#bd3786\"], [0.5555555555555556, \"#d8576b\"], [0.6666666666666666, \"#ed7953\"], [0.7777777777777778, \"#fb9f3a\"], [0.8888888888888888, \"#fdca26\"], [1.0, \"#f0f921\"]], \"type\": \"histogram2dcontour\"}], \"mesh3d\": [{\"colorbar\": {\"outlinewidth\": 0, \"ticks\": \"\"}, \"type\": \"mesh3d\"}], \"parcoords\": [{\"line\": {\"colorbar\": {\"outlinewidth\": 0, \"ticks\": \"\"}}, \"type\": \"parcoords\"}], \"pie\": [{\"automargin\": true, \"type\": \"pie\"}], \"scatter\": [{\"marker\": {\"colorbar\": {\"outlinewidth\": 0, \"ticks\": \"\"}}, \"type\": \"scatter\"}], \"scatter3d\": [{\"line\": {\"colorbar\": {\"outlinewidth\": 0, \"ticks\": \"\"}}, \"marker\": {\"colorbar\": {\"outlinewidth\": 0, \"ticks\": \"\"}}, \"type\": \"scatter3d\"}], \"scattercarpet\": [{\"marker\": {\"colorbar\": {\"outlinewidth\": 0, \"ticks\": \"\"}}, \"type\": \"scattercarpet\"}], \"scattergeo\": [{\"marker\": {\"colorbar\": {\"outlinewidth\": 0, \"ticks\": \"\"}}, \"type\": \"scattergeo\"}], \"scattergl\": [{\"marker\": {\"colorbar\": {\"outlinewidth\": 0, \"ticks\": \"\"}}, \"type\": \"scattergl\"}], \"scattermapbox\": [{\"marker\": {\"colorbar\": {\"outlinewidth\": 0, \"ticks\": \"\"}}, \"type\": \"scattermapbox\"}], \"scatterpolar\": [{\"marker\": {\"colorbar\": {\"outlinewidth\": 0, \"ticks\": \"\"}}, \"type\": \"scatterpolar\"}], \"scatterpolargl\": [{\"marker\": {\"colorbar\": {\"outlinewidth\": 0, \"ticks\": \"\"}}, \"type\": \"scatterpolargl\"}], \"scatterternary\": [{\"marker\": {\"colorbar\": {\"outlinewidth\": 0, \"ticks\": \"\"}}, \"type\": \"scatterternary\"}], \"surface\": [{\"colorbar\": {\"outlinewidth\": 0, \"ticks\": \"\"}, \"colorscale\": [[0.0, \"#0d0887\"], [0.1111111111111111, \"#46039f\"], [0.2222222222222222, \"#7201a8\"], [0.3333333333333333, \"#9c179e\"], [0.4444444444444444, \"#bd3786\"], [0.5555555555555556, \"#d8576b\"], [0.6666666666666666, \"#ed7953\"], [0.7777777777777778, \"#fb9f3a\"], [0.8888888888888888, \"#fdca26\"], [1.0, \"#f0f921\"]], \"type\": \"surface\"}], \"table\": [{\"cells\": {\"fill\": {\"color\": \"#EBF0F8\"}, \"line\": {\"color\": \"white\"}}, \"header\": {\"fill\": {\"color\": \"#C8D4E3\"}, \"line\": {\"color\": \"white\"}}, \"type\": \"table\"}]}, \"layout\": {\"annotationdefaults\": {\"arrowcolor\": \"#2a3f5f\", \"arrowhead\": 0, \"arrowwidth\": 1}, \"coloraxis\": {\"colorbar\": {\"outlinewidth\": 0, \"ticks\": \"\"}}, \"colorscale\": {\"diverging\": [[0, \"#8e0152\"], [0.1, \"#c51b7d\"], [0.2, \"#de77ae\"], [0.3, \"#f1b6da\"], [0.4, \"#fde0ef\"], [0.5, \"#f7f7f7\"], [0.6, \"#e6f5d0\"], [0.7, \"#b8e186\"], [0.8, \"#7fbc41\"], [0.9, \"#4d9221\"], [1, \"#276419\"]], \"sequential\": [[0.0, \"#0d0887\"], [0.1111111111111111, \"#46039f\"], [0.2222222222222222, \"#7201a8\"], [0.3333333333333333, \"#9c179e\"], [0.4444444444444444, \"#bd3786\"], [0.5555555555555556, \"#d8576b\"], [0.6666666666666666, \"#ed7953\"], [0.7777777777777778, \"#fb9f3a\"], [0.8888888888888888, \"#fdca26\"], [1.0, \"#f0f921\"]], \"sequentialminus\": [[0.0, \"#0d0887\"], [0.1111111111111111, \"#46039f\"], [0.2222222222222222, \"#7201a8\"], [0.3333333333333333, \"#9c179e\"], [0.4444444444444444, \"#bd3786\"], [0.5555555555555556, \"#d8576b\"], [0.6666666666666666, \"#ed7953\"], [0.7777777777777778, \"#fb9f3a\"], [0.8888888888888888, \"#fdca26\"], [1.0, \"#f0f921\"]]}, \"colorway\": [\"#636efa\", \"#EF553B\", \"#00cc96\", \"#ab63fa\", \"#FFA15A\", \"#19d3f3\", \"#FF6692\", \"#B6E880\", \"#FF97FF\", \"#FECB52\"], \"font\": {\"color\": \"#2a3f5f\"}, \"geo\": {\"bgcolor\": \"white\", \"lakecolor\": \"white\", \"landcolor\": \"#E5ECF6\", \"showlakes\": true, \"showland\": true, \"subunitcolor\": \"white\"}, \"hoverlabel\": {\"align\": \"left\"}, \"hovermode\": \"closest\", \"mapbox\": {\"style\": \"light\"}, \"paper_bgcolor\": \"white\", \"plot_bgcolor\": \"#E5ECF6\", \"polar\": {\"angularaxis\": {\"gridcolor\": \"white\", \"linecolor\": \"white\", \"ticks\": \"\"}, \"bgcolor\": \"#E5ECF6\", \"radialaxis\": {\"gridcolor\": \"white\", \"linecolor\": \"white\", \"ticks\": \"\"}}, \"scene\": {\"xaxis\": {\"backgroundcolor\": \"#E5ECF6\", \"gridcolor\": \"white\", \"gridwidth\": 2, \"linecolor\": \"white\", \"showbackground\": true, \"ticks\": \"\", \"zerolinecolor\": \"white\"}, \"yaxis\": {\"backgroundcolor\": \"#E5ECF6\", \"gridcolor\": \"white\", \"gridwidth\": 2, \"linecolor\": \"white\", \"showbackground\": true, \"ticks\": \"\", \"zerolinecolor\": \"white\"}, \"zaxis\": {\"backgroundcolor\": \"#E5ECF6\", \"gridcolor\": \"white\", \"gridwidth\": 2, \"linecolor\": \"white\", \"showbackground\": true, \"ticks\": \"\", \"zerolinecolor\": \"white\"}}, \"shapedefaults\": {\"line\": {\"color\": \"#2a3f5f\"}}, \"ternary\": {\"aaxis\": {\"gridcolor\": \"white\", \"linecolor\": \"white\", \"ticks\": \"\"}, \"baxis\": {\"gridcolor\": \"white\", \"linecolor\": \"white\", \"ticks\": \"\"}, \"bgcolor\": \"#E5ECF6\", \"caxis\": {\"gridcolor\": \"white\", \"linecolor\": \"white\", \"ticks\": \"\"}}, \"title\": {\"x\": 0.05}, \"xaxis\": {\"automargin\": true, \"gridcolor\": \"white\", \"linecolor\": \"white\", \"ticks\": \"\", \"title\": {\"standoff\": 15}, \"zerolinecolor\": \"white\", \"zerolinewidth\": 2}, \"yaxis\": {\"automargin\": true, \"gridcolor\": \"white\", \"linecolor\": \"white\", \"ticks\": \"\", \"title\": {\"standoff\": 15}, \"zerolinecolor\": \"white\", \"zerolinewidth\": 2}}}, \"title\": {\"font\": {\"color\": \"#4D5663\"}}, \"xaxis\": {\"anchor\": \"y\", \"domain\": [0.0, 0.2125], \"gridcolor\": \"#E1E5ED\", \"showgrid\": false, \"tickfont\": {\"color\": \"#4D5663\"}, \"title\": {\"font\": {\"color\": \"#4D5663\"}, \"text\": \"\"}, \"zerolinecolor\": \"#E1E5ED\"}, \"xaxis10\": {\"anchor\": \"y10\", \"domain\": [0.2625, 0.475], \"gridcolor\": \"#E1E5ED\", \"showgrid\": false, \"tickfont\": {\"color\": \"#4D5663\"}, \"title\": {\"font\": {\"color\": \"#4D5663\"}, \"text\": \"\"}, \"zerolinecolor\": \"#E1E5ED\"}, \"xaxis11\": {\"anchor\": \"y11\", \"domain\": [0.525, 0.7375], \"gridcolor\": \"#E1E5ED\", \"showgrid\": false, \"tickfont\": {\"color\": \"#4D5663\"}, \"title\": {\"font\": {\"color\": \"#4D5663\"}, \"text\": \"\"}, \"zerolinecolor\": \"#E1E5ED\"}, \"xaxis12\": {\"anchor\": \"y12\", \"domain\": [0.7875, 1.0], \"gridcolor\": \"#E1E5ED\", \"showgrid\": false, \"tickfont\": {\"color\": \"#4D5663\"}, \"title\": {\"font\": {\"color\": \"#4D5663\"}, \"text\": \"\"}, \"zerolinecolor\": \"#E1E5ED\"}, \"xaxis13\": {\"anchor\": \"y13\", \"domain\": [0.0, 0.2125], \"gridcolor\": \"#E1E5ED\", \"showgrid\": false, \"tickfont\": {\"color\": \"#4D5663\"}, \"title\": {\"font\": {\"color\": \"#4D5663\"}, \"text\": \"\"}, \"zerolinecolor\": \"#E1E5ED\"}, \"xaxis14\": {\"anchor\": \"y14\", \"domain\": [0.2625, 0.475], \"gridcolor\": \"#E1E5ED\", \"showgrid\": false, \"tickfont\": {\"color\": \"#4D5663\"}, \"title\": {\"font\": {\"color\": \"#4D5663\"}, \"text\": \"\"}, \"zerolinecolor\": \"#E1E5ED\"}, \"xaxis15\": {\"anchor\": \"y15\", \"domain\": [0.525, 0.7375], \"gridcolor\": \"#E1E5ED\", \"showgrid\": false, \"tickfont\": {\"color\": \"#4D5663\"}, \"title\": {\"font\": {\"color\": \"#4D5663\"}, \"text\": \"\"}, \"zerolinecolor\": \"#E1E5ED\"}, \"xaxis16\": {\"anchor\": \"y16\", \"domain\": [0.7875, 1.0], \"gridcolor\": \"#E1E5ED\", \"showgrid\": false, \"tickfont\": {\"color\": \"#4D5663\"}, \"title\": {\"font\": {\"color\": \"#4D5663\"}, \"text\": \"\"}, \"zerolinecolor\": \"#E1E5ED\"}, \"xaxis2\": {\"anchor\": \"y2\", \"domain\": [0.2625, 0.475], \"gridcolor\": \"#E1E5ED\", \"showgrid\": false, \"tickfont\": {\"color\": \"#4D5663\"}, \"title\": {\"font\": {\"color\": \"#4D5663\"}, \"text\": \"\"}, \"zerolinecolor\": \"#E1E5ED\"}, \"xaxis3\": {\"anchor\": \"y3\", \"domain\": [0.525, 0.7375], \"gridcolor\": \"#E1E5ED\", \"showgrid\": false, \"tickfont\": {\"color\": \"#4D5663\"}, \"title\": {\"font\": {\"color\": \"#4D5663\"}, \"text\": \"\"}, \"zerolinecolor\": \"#E1E5ED\"}, \"xaxis4\": {\"anchor\": \"y4\", \"domain\": [0.7875, 1.0], \"gridcolor\": \"#E1E5ED\", \"showgrid\": false, \"tickfont\": {\"color\": \"#4D5663\"}, \"title\": {\"font\": {\"color\": \"#4D5663\"}, \"text\": \"\"}, \"zerolinecolor\": \"#E1E5ED\"}, \"xaxis5\": {\"anchor\": \"y5\", \"domain\": [0.0, 0.2125], \"gridcolor\": \"#E1E5ED\", \"showgrid\": false, \"tickfont\": {\"color\": \"#4D5663\"}, \"title\": {\"font\": {\"color\": \"#4D5663\"}, \"text\": \"\"}, \"zerolinecolor\": \"#E1E5ED\"}, \"xaxis6\": {\"anchor\": \"y6\", \"domain\": [0.2625, 0.475], \"gridcolor\": \"#E1E5ED\", \"showgrid\": false, \"tickfont\": {\"color\": \"#4D5663\"}, \"title\": {\"font\": {\"color\": \"#4D5663\"}, \"text\": \"\"}, \"zerolinecolor\": \"#E1E5ED\"}, \"xaxis7\": {\"anchor\": \"y7\", \"domain\": [0.525, 0.7375], \"gridcolor\": \"#E1E5ED\", \"showgrid\": false, \"tickfont\": {\"color\": \"#4D5663\"}, \"title\": {\"font\": {\"color\": \"#4D5663\"}, \"text\": \"\"}, \"zerolinecolor\": \"#E1E5ED\"}, \"xaxis8\": {\"anchor\": \"y8\", \"domain\": [0.7875, 1.0], \"gridcolor\": \"#E1E5ED\", \"showgrid\": false, \"tickfont\": {\"color\": \"#4D5663\"}, \"title\": {\"font\": {\"color\": \"#4D5663\"}, \"text\": \"\"}, \"zerolinecolor\": \"#E1E5ED\"}, \"xaxis9\": {\"anchor\": \"y9\", \"domain\": [0.0, 0.2125], \"gridcolor\": \"#E1E5ED\", \"showgrid\": false, \"tickfont\": {\"color\": \"#4D5663\"}, \"title\": {\"font\": {\"color\": \"#4D5663\"}, \"text\": \"\"}, \"zerolinecolor\": \"#E1E5ED\"}, \"yaxis\": {\"anchor\": \"x\", \"domain\": [0.8025, 1.0], \"gridcolor\": \"#E1E5ED\", \"showgrid\": false, \"tickfont\": {\"color\": \"#4D5663\"}, \"title\": {\"font\": {\"color\": \"#4D5663\"}, \"text\": \"\"}, \"zerolinecolor\": \"#E1E5ED\"}, \"yaxis10\": {\"anchor\": \"x10\", \"domain\": [0.2675, 0.465], \"gridcolor\": \"#E1E5ED\", \"showgrid\": false, \"tickfont\": {\"color\": \"#4D5663\"}, \"title\": {\"font\": {\"color\": \"#4D5663\"}, \"text\": \"\"}, \"zerolinecolor\": \"#E1E5ED\"}, \"yaxis11\": {\"anchor\": \"x11\", \"domain\": [0.2675, 0.465], \"gridcolor\": \"#E1E5ED\", \"showgrid\": false, \"tickfont\": {\"color\": \"#4D5663\"}, \"title\": {\"font\": {\"color\": \"#4D5663\"}, \"text\": \"\"}, \"zerolinecolor\": \"#E1E5ED\"}, \"yaxis12\": {\"anchor\": \"x12\", \"domain\": [0.2675, 0.465], \"gridcolor\": \"#E1E5ED\", \"showgrid\": false, \"tickfont\": {\"color\": \"#4D5663\"}, \"title\": {\"font\": {\"color\": \"#4D5663\"}, \"text\": \"\"}, \"zerolinecolor\": \"#E1E5ED\"}, \"yaxis13\": {\"anchor\": \"x13\", \"domain\": [0.0, 0.1975], \"gridcolor\": \"#E1E5ED\", \"showgrid\": false, \"tickfont\": {\"color\": \"#4D5663\"}, \"title\": {\"font\": {\"color\": \"#4D5663\"}, \"text\": \"\"}, \"zerolinecolor\": \"#E1E5ED\"}, \"yaxis14\": {\"anchor\": \"x14\", \"domain\": [0.0, 0.1975], \"gridcolor\": \"#E1E5ED\", \"showgrid\": false, \"tickfont\": {\"color\": \"#4D5663\"}, \"title\": {\"font\": {\"color\": \"#4D5663\"}, \"text\": \"\"}, \"zerolinecolor\": \"#E1E5ED\"}, \"yaxis15\": {\"anchor\": \"x15\", \"domain\": [0.0, 0.1975], \"gridcolor\": \"#E1E5ED\", \"showgrid\": false, \"tickfont\": {\"color\": \"#4D5663\"}, \"title\": {\"font\": {\"color\": \"#4D5663\"}, \"text\": \"\"}, \"zerolinecolor\": \"#E1E5ED\"}, \"yaxis16\": {\"anchor\": \"x16\", \"domain\": [0.0, 0.1975], \"gridcolor\": \"#E1E5ED\", \"showgrid\": false, \"tickfont\": {\"color\": \"#4D5663\"}, \"title\": {\"font\": {\"color\": \"#4D5663\"}, \"text\": \"\"}, \"zerolinecolor\": \"#E1E5ED\"}, \"yaxis2\": {\"anchor\": \"x2\", \"domain\": [0.8025, 1.0], \"gridcolor\": \"#E1E5ED\", \"showgrid\": false, \"tickfont\": {\"color\": \"#4D5663\"}, \"title\": {\"font\": {\"color\": \"#4D5663\"}, \"text\": \"\"}, \"zerolinecolor\": \"#E1E5ED\"}, \"yaxis3\": {\"anchor\": \"x3\", \"domain\": [0.8025, 1.0], \"gridcolor\": \"#E1E5ED\", \"showgrid\": false, \"tickfont\": {\"color\": \"#4D5663\"}, \"title\": {\"font\": {\"color\": \"#4D5663\"}, \"text\": \"\"}, \"zerolinecolor\": \"#E1E5ED\"}, \"yaxis4\": {\"anchor\": \"x4\", \"domain\": [0.8025, 1.0], \"gridcolor\": \"#E1E5ED\", \"showgrid\": false, \"tickfont\": {\"color\": \"#4D5663\"}, \"title\": {\"font\": {\"color\": \"#4D5663\"}, \"text\": \"\"}, \"zerolinecolor\": \"#E1E5ED\"}, \"yaxis5\": {\"anchor\": \"x5\", \"domain\": [0.535, 0.7325], \"gridcolor\": \"#E1E5ED\", \"showgrid\": false, \"tickfont\": {\"color\": \"#4D5663\"}, \"title\": {\"font\": {\"color\": \"#4D5663\"}, \"text\": \"\"}, \"zerolinecolor\": \"#E1E5ED\"}, \"yaxis6\": {\"anchor\": \"x6\", \"domain\": [0.535, 0.7325], \"gridcolor\": \"#E1E5ED\", \"showgrid\": false, \"tickfont\": {\"color\": \"#4D5663\"}, \"title\": {\"font\": {\"color\": \"#4D5663\"}, \"text\": \"\"}, \"zerolinecolor\": \"#E1E5ED\"}, \"yaxis7\": {\"anchor\": \"x7\", \"domain\": [0.535, 0.7325], \"gridcolor\": \"#E1E5ED\", \"showgrid\": false, \"tickfont\": {\"color\": \"#4D5663\"}, \"title\": {\"font\": {\"color\": \"#4D5663\"}, \"text\": \"\"}, \"zerolinecolor\": \"#E1E5ED\"}, \"yaxis8\": {\"anchor\": \"x8\", \"domain\": [0.535, 0.7325], \"gridcolor\": \"#E1E5ED\", \"showgrid\": false, \"tickfont\": {\"color\": \"#4D5663\"}, \"title\": {\"font\": {\"color\": \"#4D5663\"}, \"text\": \"\"}, \"zerolinecolor\": \"#E1E5ED\"}, \"yaxis9\": {\"anchor\": \"x9\", \"domain\": [0.2675, 0.465], \"gridcolor\": \"#E1E5ED\", \"showgrid\": false, \"tickfont\": {\"color\": \"#4D5663\"}, \"title\": {\"font\": {\"color\": \"#4D5663\"}, \"text\": \"\"}, \"zerolinecolor\": \"#E1E5ED\"}},\n",
       "                        {\"showLink\": true, \"linkText\": \"Export to plot.ly\", \"plotlyServerURL\": \"https://plot.ly\", \"responsive\": true}\n",
       "                    ).then(function(){\n",
       "                            \n",
       "var gd = document.getElementById('62c2638a-e7d0-427c-ac84-a60d8ad8a2a8');\n",
       "var x = new MutationObserver(function (mutations, observer) {{\n",
       "        var display = window.getComputedStyle(gd).display;\n",
       "        if (!display || display === 'none') {{\n",
       "            console.log([gd, 'removed!']);\n",
       "            Plotly.purge(gd);\n",
       "            observer.disconnect();\n",
       "        }}\n",
       "}});\n",
       "\n",
       "// Listen for the removal of the full notebook cells\n",
       "var notebookContainer = gd.closest('#notebook-container');\n",
       "if (notebookContainer) {{\n",
       "    x.observe(notebookContainer, {childList: true});\n",
       "}}\n",
       "\n",
       "// Listen for the clearing of the current output cell\n",
       "var outputEl = gd.closest('.output');\n",
       "if (outputEl) {{\n",
       "    x.observe(outputEl, {childList: true});\n",
       "}}\n",
       "\n",
       "                        })\n",
       "                };\n",
       "                });\n",
       "            </script>\n",
       "        </div>"
      ]
     },
     "metadata": {},
     "output_type": "display_data"
    }
   ],
   "source": [
    "df.scatter_matrix()"
   ]
  },
  {
   "cell_type": "code",
   "execution_count": 23,
   "metadata": {},
   "outputs": [],
   "source": [
    "#parallel coordinate"
   ]
  },
  {
   "cell_type": "code",
   "execution_count": 26,
   "metadata": {},
   "outputs": [
    {
     "data": {
      "application/vnd.plotly.v1+json": {
       "config": {
        "plotlyServerURL": "https://plot.ly"
       },
       "data": [
        {
         "dimensions": [
          {
           "label": "A",
           "values": [
            0.01258771338784096,
            0.15756449624948846,
            -1.5674539359727409,
            0.006377768460200217,
            0.022185847399755477,
            -1.4098012598057708,
            -1.1771243636813133,
            1.1235283675890204,
            -0.07429212716714764,
            0.48742375992982784,
            -0.12944337947685283,
            -0.9180012214241594,
            -3.0131187942336704,
            1.1869412396701389,
            0.7912752124923572,
            1.432678623623017,
            0.40568209062367894,
            0.12032693997325379,
            1.7001641802601302,
            -0.8436839622947031,
            1.2092113776263675,
            0.893612345857148,
            -0.03762130523020127,
            -0.06830519231422867,
            0.39929983349320436,
            -0.645987877543945,
            0.05471325639345035,
            0.6359591748788739,
            1.1703800217942906,
            -1.5043691261451897,
            -0.5036814725137895,
            1.0361340987898915,
            0.29213763653891306,
            0.7774645561651203,
            -0.4782140281577571,
            -2.643881907336907,
            -0.5749412179835269,
            0.3841976745153053,
            1.2915638490665986,
            -0.4233796655810165,
            1.8744810238151675,
            0.7367675496380632,
            -0.6109907442671998,
            0.805674638800644,
            -0.9539036537063705,
            0.09527741797931052,
            -1.0649914308693913,
            0.5964487166392948,
            0.1990665103969152,
            0.6132704762189406,
            0.6268899207234839,
            -1.1286894146277253,
            0.01213858445998383,
            -1.4701196523620392,
            -0.37570842538158156,
            1.3497554259656261,
            1.35171477403518,
            -0.4489109673535718,
            -0.6577003347110576,
            -0.2888103944878272,
            0.3578668378770103,
            -1.9895737512618443,
            0.25272547443718,
            -0.6009738065166887,
            0.9907962012130483,
            0.30548119666697593,
            -1.6790430115833166,
            0.3782169365209647,
            0.20283659152555167,
            0.14354981791108287,
            -0.4973140193750466,
            -0.19753779687535397,
            -0.9257981905690578,
            -1.8609348754518722,
            0.08791455264292816,
            -0.8965464694382222,
            0.3924042454233774,
            -2.051066260296957,
            -0.29419187754144366,
            -0.11404285000231268,
            -1.5008947403290749,
            1.5130633320204947,
            -0.013939284236135645,
            -0.5008971717723003,
            -0.8872960885392636,
            0.6545701294979238,
            1.2418392362181065,
            -0.556513780780177,
            -1.5113062460152866,
            -1.5437051826070072,
            1.2174960148122902,
            0.5207168975027033,
            -0.6058183166483503,
            -0.876105918810508,
            1.6990793067243244,
            -1.0127106685746625,
            1.165990719074486,
            1.4427761189051136,
            -0.48081925269099096,
            0.39153886502249624
           ]
          },
          {
           "label": "B",
           "values": [
            -1.5711202546339078,
            1.8589427519950752,
            0.4725308030858024,
            -0.4429751159210085,
            0.4931189239296156,
            0.3290781388444781,
            -1.8851204051667412,
            0.6520089049000372,
            0.001622290086489223,
            -1.190541657435356,
            -1.1165354430786067,
            -0.28023760526214087,
            0.036117480348009705,
            0.4060464344684879,
            1.7693346210102137,
            1.1226249355088112,
            0.30545725263851115,
            0.32467659180420966,
            -0.36329705102200255,
            -0.35450640391340416,
            -0.848256079483041,
            -1.1016866426764451,
            -1.8828773464329578,
            0.8438264493109183,
            -0.18552390379817973,
            1.7127884983056052,
            1.5064918772968656,
            0.8622196042959621,
            -1.0656304741666403,
            -0.09181381850569179,
            1.7954497040834496,
            0.4326567575470323,
            -0.13007433150858635,
            -0.9520088453445963,
            0.7330078033118114,
            0.5767854855180345,
            1.5941334078701672,
            1.2639463553980426,
            0.11421381700343505,
            -0.21074369451029193,
            -1.442352021362074,
            0.6014244269317304,
            -0.5251750463409331,
            0.24056973341915855,
            -0.34177966778960134,
            0.49033717532942955,
            -0.4359285863361001,
            -0.4645219801827713,
            -0.49906116308344267,
            0.012296828969600491,
            1.3052254220844173,
            1.0575718829429042,
            -0.8955948771032166,
            1.8840878446231526,
            -0.32124146836569917,
            1.1138212038805104,
            -0.5380428173529321,
            0.6780503440629659,
            -0.08953546027085331,
            1.290935731322414,
            1.0568892764925977,
            0.7398009929380013,
            1.6294195464621322,
            0.5068826199029156,
            1.4639384323657498,
            2.0035883236917584,
            2.2253827405770497,
            -0.9829583862377724,
            0.2486782135934998,
            0.5245709075594285,
            0.6751474846876793,
            0.7431555008266308,
            1.1026113915541595,
            0.7086927539253073,
            -0.14067844876750424,
            0.38453326761935613,
            0.46288958214142273,
            0.24238987224025843,
            -0.17571802415464177,
            0.8662372993526971,
            -1.3677834323167255,
            -1.052831300968593,
            -1.041671610917792,
            -1.3909596396881267,
            1.1170937933351548,
            -1.1603270017517613,
            0.20977942996564286,
            0.40333440608587473,
            -0.018229098693743707,
            0.9475209099563278,
            0.2034026360151726,
            -0.6814367417773323,
            -0.9953660681320612,
            1.3724080700419738,
            1.138876474205955,
            0.7265311279666776,
            -0.8564525533706586,
            0.1814599986481153,
            -1.551384736446907,
            1.6351567399448812
           ]
          },
          {
           "label": "C",
           "values": [
            0.44661398802184066,
            0.30889123191956225,
            -0.9804776587658602,
            0.12784873122963558,
            -1.7395593800185352,
            1.1428606997605641,
            0.9485480838441536,
            0.3423310663027422,
            2.2110776442595372,
            0.6100936276267533,
            -0.5233809503034954,
            0.7537945250801213,
            -0.9778677411204288,
            -0.09884211009064948,
            0.004433104465747421,
            0.8148762150811547,
            -0.7892420420784164,
            1.3311337631201687,
            0.22307407692754,
            1.036516109203243,
            -1.7010220269578207,
            0.5343452792757892,
            0.9200118033368204,
            -0.5936541715484736,
            -1.0035302413854728,
            1.910781477075174,
            0.5630797906200505,
            -0.3053637347307562,
            -1.5908389100611038,
            0.9737658383691731,
            2.395500700860623,
            0.87942148955053,
            1.591100760969521,
            2.6524230294455338,
            0.5393312122541757,
            -1.3516648169880152,
            -0.32914141797819724,
            -1.3040497594262683,
            0.032651815989994525,
            -2.153844933501666,
            -0.46668732274742175,
            0.7297855548161059,
            1.9508336306865837,
            -0.8276700805250797,
            0.6810850916839654,
            -1.259957671899816,
            0.4837456170424614,
            -0.8080319850112103,
            -1.2079691162600878,
            -0.8044749738977648,
            -1.1395762369486782,
            2.169550970739434,
            -0.40751555311218185,
            1.3970592467919776,
            0.7107802876919356,
            0.8919021813916727,
            -1.9489953483697748,
            -1.0858852835065254,
            2.0441321538230977,
            0.43985062990394336,
            0.6602988047926446,
            2.2700445956419353,
            -0.9070535186724555,
            -1.3096897639974387,
            0.06394241732018749,
            0.050610742587672106,
            0.1850583101836084,
            1.0720299304536618,
            0.49287487627329474,
            -0.5708677645470345,
            1.1659166904591263,
            2.7997975708207647,
            1.2175347837728439,
            -0.12029520738651407,
            -0.4718973085826919,
            -0.48540310454190344,
            1.7860088802826084,
            -0.7775188948075658,
            0.7948958162589866,
            1.8090193582415102,
            1.0354692764928901,
            -0.3209472732051858,
            -0.3479336808701315,
            1.0121247723610938,
            0.9134680437396722,
            0.24530647418187396,
            -1.4374277890884086,
            -0.24404449741641432,
            -0.38835070340983446,
            -0.38891830841611796,
            -0.31475655052635354,
            -0.8926597370177215,
            -1.124152730457152,
            -0.14623219919279715,
            0.36608386712362945,
            -0.3598260095371573,
            1.7598585797930142,
            0.029143026645623838,
            -1.2213426733231405,
            -0.2866420272966458
           ]
          },
          {
           "label": "D",
           "values": [
            -0.546488074456264,
            -0.6906795939250396,
            -0.7530198223287682,
            -0.3035416448226373,
            0.3318097102622694,
            0.28854391827365106,
            0.024869172734768297,
            0.2993856166868935,
            -1.7739234311943968,
            -1.3061602991789985,
            -0.1978284090875014,
            1.0445034579306787,
            0.9170950661450984,
            -0.684984472347748,
            -1.9801976218504385,
            0.31051713776885004,
            -0.4329512004987474,
            -0.9595214053751172,
            -0.2512722009325092,
            0.6742095287617564,
            -1.0733105914121326,
            0.042235732214301186,
            -0.5082994655524106,
            0.006034147184217506,
            1.2616648458282216,
            0.6795993715030275,
            -3.330257093397494,
            0.561627884971362,
            -2.2720802102340154,
            0.3097731244084955,
            -0.4370125022523923,
            0.044471961293511365,
            0.5815934596033061,
            -0.9967245477818799,
            -0.3027644967706041,
            -1.1326849721570416,
            1.9640454602527784,
            -2.1431086532243504,
            -1.2219373014504364,
            0.9283942716087435,
            -1.4996204449913944,
            -0.8857129697771499,
            0.6539017749199544,
            0.9169701156794323,
            0.9906148343369582,
            0.2755860030358192,
            -0.01746794152257089,
            -0.3471383630137931,
            0.4618832907819464,
            -0.4297874720450296,
            1.9914952295729302,
            1.0602539593119948,
            -0.11903949950493466,
            -0.5972525293520385,
            0.871220634932907,
            0.1061901134741834,
            0.39362618733823174,
            0.5916770786621857,
            1.3602043914521933,
            -0.10052955794223802,
            -0.5226857317993312,
            0.721589345200966,
            0.7815114728168278,
            -1.2874663329125964,
            1.4860441425065496,
            1.994362272027055,
            -2.382611440735003,
            -0.3426699207174205,
            -0.7520575866702235,
            -0.7713985262302956,
            -0.6723793532305976,
            -0.168159774298071,
            -0.8491518001974565,
            -0.8767152118844154,
            -0.340836812565283,
            -0.4445890348045418,
            -1.9947661768305307,
            -0.4062905398921242,
            0.4611541717010919,
            -1.164365539393841,
            -0.30304592551049236,
            2.653612293015191,
            0.381137487197287,
            0.9235035235274678,
            -0.8698814137486172,
            1.0352592830040694,
            -0.321322944899231,
            -0.8138074044502812,
            -0.5412286327252419,
            0.4330775385253458,
            0.7969502635951479,
            0.8123699150188365,
            0.07064870947086856,
            -0.6854260743501431,
            -1.1579818011671967,
            0.9822744829518161,
            -0.7760660837646026,
            2.488984537262283,
            0.16181189984854655,
            -0.656126412046775
           ]
          }
         ],
         "domain": {
          "x": [
           0,
           1
          ],
          "y": [
           0,
           1
          ]
         },
         "line": {
          "color": [
           -0.546488074456264,
           -0.6906795939250396,
           -0.7530198223287682,
           -0.3035416448226373,
           0.3318097102622694,
           0.28854391827365106,
           0.024869172734768297,
           0.2993856166868935,
           -1.7739234311943968,
           -1.3061602991789985,
           -0.1978284090875014,
           1.0445034579306787,
           0.9170950661450984,
           -0.684984472347748,
           -1.9801976218504385,
           0.31051713776885004,
           -0.4329512004987474,
           -0.9595214053751172,
           -0.2512722009325092,
           0.6742095287617564,
           -1.0733105914121326,
           0.042235732214301186,
           -0.5082994655524106,
           0.006034147184217506,
           1.2616648458282216,
           0.6795993715030275,
           -3.330257093397494,
           0.561627884971362,
           -2.2720802102340154,
           0.3097731244084955,
           -0.4370125022523923,
           0.044471961293511365,
           0.5815934596033061,
           -0.9967245477818799,
           -0.3027644967706041,
           -1.1326849721570416,
           1.9640454602527784,
           -2.1431086532243504,
           -1.2219373014504364,
           0.9283942716087435,
           -1.4996204449913944,
           -0.8857129697771499,
           0.6539017749199544,
           0.9169701156794323,
           0.9906148343369582,
           0.2755860030358192,
           -0.01746794152257089,
           -0.3471383630137931,
           0.4618832907819464,
           -0.4297874720450296,
           1.9914952295729302,
           1.0602539593119948,
           -0.11903949950493466,
           -0.5972525293520385,
           0.871220634932907,
           0.1061901134741834,
           0.39362618733823174,
           0.5916770786621857,
           1.3602043914521933,
           -0.10052955794223802,
           -0.5226857317993312,
           0.721589345200966,
           0.7815114728168278,
           -1.2874663329125964,
           1.4860441425065496,
           1.994362272027055,
           -2.382611440735003,
           -0.3426699207174205,
           -0.7520575866702235,
           -0.7713985262302956,
           -0.6723793532305976,
           -0.168159774298071,
           -0.8491518001974565,
           -0.8767152118844154,
           -0.340836812565283,
           -0.4445890348045418,
           -1.9947661768305307,
           -0.4062905398921242,
           0.4611541717010919,
           -1.164365539393841,
           -0.30304592551049236,
           2.653612293015191,
           0.381137487197287,
           0.9235035235274678,
           -0.8698814137486172,
           1.0352592830040694,
           -0.321322944899231,
           -0.8138074044502812,
           -0.5412286327252419,
           0.4330775385253458,
           0.7969502635951479,
           0.8123699150188365,
           0.07064870947086856,
           -0.6854260743501431,
           -1.1579818011671967,
           0.9822744829518161,
           -0.7760660837646026,
           2.488984537262283,
           0.16181189984854655,
           -0.656126412046775
          ],
          "coloraxis": "coloraxis"
         },
         "name": "",
         "type": "parcoords"
        }
       ],
       "layout": {
        "coloraxis": {
         "colorbar": {
          "title": {
           "text": "D"
          }
         },
         "colorscale": [
          [
           0,
           "#0d0887"
          ],
          [
           0.1111111111111111,
           "#46039f"
          ],
          [
           0.2222222222222222,
           "#7201a8"
          ],
          [
           0.3333333333333333,
           "#9c179e"
          ],
          [
           0.4444444444444444,
           "#bd3786"
          ],
          [
           0.5555555555555556,
           "#d8576b"
          ],
          [
           0.6666666666666666,
           "#ed7953"
          ],
          [
           0.7777777777777778,
           "#fb9f3a"
          ],
          [
           0.8888888888888888,
           "#fdca26"
          ],
          [
           1,
           "#f0f921"
          ]
         ]
        },
        "legend": {
         "tracegroupgap": 0
        },
        "margin": {
         "t": 60
        },
        "template": {
         "data": {
          "bar": [
           {
            "error_x": {
             "color": "#2a3f5f"
            },
            "error_y": {
             "color": "#2a3f5f"
            },
            "marker": {
             "line": {
              "color": "#E5ECF6",
              "width": 0.5
             }
            },
            "type": "bar"
           }
          ],
          "barpolar": [
           {
            "marker": {
             "line": {
              "color": "#E5ECF6",
              "width": 0.5
             }
            },
            "type": "barpolar"
           }
          ],
          "carpet": [
           {
            "aaxis": {
             "endlinecolor": "#2a3f5f",
             "gridcolor": "white",
             "linecolor": "white",
             "minorgridcolor": "white",
             "startlinecolor": "#2a3f5f"
            },
            "baxis": {
             "endlinecolor": "#2a3f5f",
             "gridcolor": "white",
             "linecolor": "white",
             "minorgridcolor": "white",
             "startlinecolor": "#2a3f5f"
            },
            "type": "carpet"
           }
          ],
          "choropleth": [
           {
            "colorbar": {
             "outlinewidth": 0,
             "ticks": ""
            },
            "type": "choropleth"
           }
          ],
          "contour": [
           {
            "colorbar": {
             "outlinewidth": 0,
             "ticks": ""
            },
            "colorscale": [
             [
              0,
              "#0d0887"
             ],
             [
              0.1111111111111111,
              "#46039f"
             ],
             [
              0.2222222222222222,
              "#7201a8"
             ],
             [
              0.3333333333333333,
              "#9c179e"
             ],
             [
              0.4444444444444444,
              "#bd3786"
             ],
             [
              0.5555555555555556,
              "#d8576b"
             ],
             [
              0.6666666666666666,
              "#ed7953"
             ],
             [
              0.7777777777777778,
              "#fb9f3a"
             ],
             [
              0.8888888888888888,
              "#fdca26"
             ],
             [
              1,
              "#f0f921"
             ]
            ],
            "type": "contour"
           }
          ],
          "contourcarpet": [
           {
            "colorbar": {
             "outlinewidth": 0,
             "ticks": ""
            },
            "type": "contourcarpet"
           }
          ],
          "heatmap": [
           {
            "colorbar": {
             "outlinewidth": 0,
             "ticks": ""
            },
            "colorscale": [
             [
              0,
              "#0d0887"
             ],
             [
              0.1111111111111111,
              "#46039f"
             ],
             [
              0.2222222222222222,
              "#7201a8"
             ],
             [
              0.3333333333333333,
              "#9c179e"
             ],
             [
              0.4444444444444444,
              "#bd3786"
             ],
             [
              0.5555555555555556,
              "#d8576b"
             ],
             [
              0.6666666666666666,
              "#ed7953"
             ],
             [
              0.7777777777777778,
              "#fb9f3a"
             ],
             [
              0.8888888888888888,
              "#fdca26"
             ],
             [
              1,
              "#f0f921"
             ]
            ],
            "type": "heatmap"
           }
          ],
          "heatmapgl": [
           {
            "colorbar": {
             "outlinewidth": 0,
             "ticks": ""
            },
            "colorscale": [
             [
              0,
              "#0d0887"
             ],
             [
              0.1111111111111111,
              "#46039f"
             ],
             [
              0.2222222222222222,
              "#7201a8"
             ],
             [
              0.3333333333333333,
              "#9c179e"
             ],
             [
              0.4444444444444444,
              "#bd3786"
             ],
             [
              0.5555555555555556,
              "#d8576b"
             ],
             [
              0.6666666666666666,
              "#ed7953"
             ],
             [
              0.7777777777777778,
              "#fb9f3a"
             ],
             [
              0.8888888888888888,
              "#fdca26"
             ],
             [
              1,
              "#f0f921"
             ]
            ],
            "type": "heatmapgl"
           }
          ],
          "histogram": [
           {
            "marker": {
             "colorbar": {
              "outlinewidth": 0,
              "ticks": ""
             }
            },
            "type": "histogram"
           }
          ],
          "histogram2d": [
           {
            "colorbar": {
             "outlinewidth": 0,
             "ticks": ""
            },
            "colorscale": [
             [
              0,
              "#0d0887"
             ],
             [
              0.1111111111111111,
              "#46039f"
             ],
             [
              0.2222222222222222,
              "#7201a8"
             ],
             [
              0.3333333333333333,
              "#9c179e"
             ],
             [
              0.4444444444444444,
              "#bd3786"
             ],
             [
              0.5555555555555556,
              "#d8576b"
             ],
             [
              0.6666666666666666,
              "#ed7953"
             ],
             [
              0.7777777777777778,
              "#fb9f3a"
             ],
             [
              0.8888888888888888,
              "#fdca26"
             ],
             [
              1,
              "#f0f921"
             ]
            ],
            "type": "histogram2d"
           }
          ],
          "histogram2dcontour": [
           {
            "colorbar": {
             "outlinewidth": 0,
             "ticks": ""
            },
            "colorscale": [
             [
              0,
              "#0d0887"
             ],
             [
              0.1111111111111111,
              "#46039f"
             ],
             [
              0.2222222222222222,
              "#7201a8"
             ],
             [
              0.3333333333333333,
              "#9c179e"
             ],
             [
              0.4444444444444444,
              "#bd3786"
             ],
             [
              0.5555555555555556,
              "#d8576b"
             ],
             [
              0.6666666666666666,
              "#ed7953"
             ],
             [
              0.7777777777777778,
              "#fb9f3a"
             ],
             [
              0.8888888888888888,
              "#fdca26"
             ],
             [
              1,
              "#f0f921"
             ]
            ],
            "type": "histogram2dcontour"
           }
          ],
          "mesh3d": [
           {
            "colorbar": {
             "outlinewidth": 0,
             "ticks": ""
            },
            "type": "mesh3d"
           }
          ],
          "parcoords": [
           {
            "line": {
             "colorbar": {
              "outlinewidth": 0,
              "ticks": ""
             }
            },
            "type": "parcoords"
           }
          ],
          "pie": [
           {
            "automargin": true,
            "type": "pie"
           }
          ],
          "scatter": [
           {
            "marker": {
             "colorbar": {
              "outlinewidth": 0,
              "ticks": ""
             }
            },
            "type": "scatter"
           }
          ],
          "scatter3d": [
           {
            "line": {
             "colorbar": {
              "outlinewidth": 0,
              "ticks": ""
             }
            },
            "marker": {
             "colorbar": {
              "outlinewidth": 0,
              "ticks": ""
             }
            },
            "type": "scatter3d"
           }
          ],
          "scattercarpet": [
           {
            "marker": {
             "colorbar": {
              "outlinewidth": 0,
              "ticks": ""
             }
            },
            "type": "scattercarpet"
           }
          ],
          "scattergeo": [
           {
            "marker": {
             "colorbar": {
              "outlinewidth": 0,
              "ticks": ""
             }
            },
            "type": "scattergeo"
           }
          ],
          "scattergl": [
           {
            "marker": {
             "colorbar": {
              "outlinewidth": 0,
              "ticks": ""
             }
            },
            "type": "scattergl"
           }
          ],
          "scattermapbox": [
           {
            "marker": {
             "colorbar": {
              "outlinewidth": 0,
              "ticks": ""
             }
            },
            "type": "scattermapbox"
           }
          ],
          "scatterpolar": [
           {
            "marker": {
             "colorbar": {
              "outlinewidth": 0,
              "ticks": ""
             }
            },
            "type": "scatterpolar"
           }
          ],
          "scatterpolargl": [
           {
            "marker": {
             "colorbar": {
              "outlinewidth": 0,
              "ticks": ""
             }
            },
            "type": "scatterpolargl"
           }
          ],
          "scatterternary": [
           {
            "marker": {
             "colorbar": {
              "outlinewidth": 0,
              "ticks": ""
             }
            },
            "type": "scatterternary"
           }
          ],
          "surface": [
           {
            "colorbar": {
             "outlinewidth": 0,
             "ticks": ""
            },
            "colorscale": [
             [
              0,
              "#0d0887"
             ],
             [
              0.1111111111111111,
              "#46039f"
             ],
             [
              0.2222222222222222,
              "#7201a8"
             ],
             [
              0.3333333333333333,
              "#9c179e"
             ],
             [
              0.4444444444444444,
              "#bd3786"
             ],
             [
              0.5555555555555556,
              "#d8576b"
             ],
             [
              0.6666666666666666,
              "#ed7953"
             ],
             [
              0.7777777777777778,
              "#fb9f3a"
             ],
             [
              0.8888888888888888,
              "#fdca26"
             ],
             [
              1,
              "#f0f921"
             ]
            ],
            "type": "surface"
           }
          ],
          "table": [
           {
            "cells": {
             "fill": {
              "color": "#EBF0F8"
             },
             "line": {
              "color": "white"
             }
            },
            "header": {
             "fill": {
              "color": "#C8D4E3"
             },
             "line": {
              "color": "white"
             }
            },
            "type": "table"
           }
          ]
         },
         "layout": {
          "annotationdefaults": {
           "arrowcolor": "#2a3f5f",
           "arrowhead": 0,
           "arrowwidth": 1
          },
          "coloraxis": {
           "colorbar": {
            "outlinewidth": 0,
            "ticks": ""
           }
          },
          "colorscale": {
           "diverging": [
            [
             0,
             "#8e0152"
            ],
            [
             0.1,
             "#c51b7d"
            ],
            [
             0.2,
             "#de77ae"
            ],
            [
             0.3,
             "#f1b6da"
            ],
            [
             0.4,
             "#fde0ef"
            ],
            [
             0.5,
             "#f7f7f7"
            ],
            [
             0.6,
             "#e6f5d0"
            ],
            [
             0.7,
             "#b8e186"
            ],
            [
             0.8,
             "#7fbc41"
            ],
            [
             0.9,
             "#4d9221"
            ],
            [
             1,
             "#276419"
            ]
           ],
           "sequential": [
            [
             0,
             "#0d0887"
            ],
            [
             0.1111111111111111,
             "#46039f"
            ],
            [
             0.2222222222222222,
             "#7201a8"
            ],
            [
             0.3333333333333333,
             "#9c179e"
            ],
            [
             0.4444444444444444,
             "#bd3786"
            ],
            [
             0.5555555555555556,
             "#d8576b"
            ],
            [
             0.6666666666666666,
             "#ed7953"
            ],
            [
             0.7777777777777778,
             "#fb9f3a"
            ],
            [
             0.8888888888888888,
             "#fdca26"
            ],
            [
             1,
             "#f0f921"
            ]
           ],
           "sequentialminus": [
            [
             0,
             "#0d0887"
            ],
            [
             0.1111111111111111,
             "#46039f"
            ],
            [
             0.2222222222222222,
             "#7201a8"
            ],
            [
             0.3333333333333333,
             "#9c179e"
            ],
            [
             0.4444444444444444,
             "#bd3786"
            ],
            [
             0.5555555555555556,
             "#d8576b"
            ],
            [
             0.6666666666666666,
             "#ed7953"
            ],
            [
             0.7777777777777778,
             "#fb9f3a"
            ],
            [
             0.8888888888888888,
             "#fdca26"
            ],
            [
             1,
             "#f0f921"
            ]
           ]
          },
          "colorway": [
           "#636efa",
           "#EF553B",
           "#00cc96",
           "#ab63fa",
           "#FFA15A",
           "#19d3f3",
           "#FF6692",
           "#B6E880",
           "#FF97FF",
           "#FECB52"
          ],
          "font": {
           "color": "#2a3f5f"
          },
          "geo": {
           "bgcolor": "white",
           "lakecolor": "white",
           "landcolor": "#E5ECF6",
           "showlakes": true,
           "showland": true,
           "subunitcolor": "white"
          },
          "hoverlabel": {
           "align": "left"
          },
          "hovermode": "closest",
          "mapbox": {
           "style": "light"
          },
          "paper_bgcolor": "white",
          "plot_bgcolor": "#E5ECF6",
          "polar": {
           "angularaxis": {
            "gridcolor": "white",
            "linecolor": "white",
            "ticks": ""
           },
           "bgcolor": "#E5ECF6",
           "radialaxis": {
            "gridcolor": "white",
            "linecolor": "white",
            "ticks": ""
           }
          },
          "scene": {
           "xaxis": {
            "backgroundcolor": "#E5ECF6",
            "gridcolor": "white",
            "gridwidth": 2,
            "linecolor": "white",
            "showbackground": true,
            "ticks": "",
            "zerolinecolor": "white"
           },
           "yaxis": {
            "backgroundcolor": "#E5ECF6",
            "gridcolor": "white",
            "gridwidth": 2,
            "linecolor": "white",
            "showbackground": true,
            "ticks": "",
            "zerolinecolor": "white"
           },
           "zaxis": {
            "backgroundcolor": "#E5ECF6",
            "gridcolor": "white",
            "gridwidth": 2,
            "linecolor": "white",
            "showbackground": true,
            "ticks": "",
            "zerolinecolor": "white"
           }
          },
          "shapedefaults": {
           "line": {
            "color": "#2a3f5f"
           }
          },
          "ternary": {
           "aaxis": {
            "gridcolor": "white",
            "linecolor": "white",
            "ticks": ""
           },
           "baxis": {
            "gridcolor": "white",
            "linecolor": "white",
            "ticks": ""
           },
           "bgcolor": "#E5ECF6",
           "caxis": {
            "gridcolor": "white",
            "linecolor": "white",
            "ticks": ""
           }
          },
          "title": {
           "x": 0.05
          },
          "xaxis": {
           "automargin": true,
           "gridcolor": "white",
           "linecolor": "white",
           "ticks": "",
           "title": {
            "standoff": 15
           },
           "zerolinecolor": "white",
           "zerolinewidth": 2
          },
          "yaxis": {
           "automargin": true,
           "gridcolor": "white",
           "linecolor": "white",
           "ticks": "",
           "title": {
            "standoff": 15
           },
           "zerolinecolor": "white",
           "zerolinewidth": 2
          }
         }
        }
       }
      },
      "text/html": [
       "<div>\n",
       "        \n",
       "        \n",
       "            <div id=\"46e705dd-4a9c-418a-9e71-13330332d308\" class=\"plotly-graph-div\" style=\"height:525px; width:100%;\"></div>\n",
       "            <script type=\"text/javascript\">\n",
       "                require([\"plotly\"], function(Plotly) {\n",
       "                    window.PLOTLYENV=window.PLOTLYENV || {};\n",
       "                    \n",
       "                if (document.getElementById(\"46e705dd-4a9c-418a-9e71-13330332d308\")) {\n",
       "                    Plotly.newPlot(\n",
       "                        '46e705dd-4a9c-418a-9e71-13330332d308',\n",
       "                        [{\"dimensions\": [{\"label\": \"A\", \"values\": [0.01258771338784096, 0.15756449624948846, -1.5674539359727409, 0.006377768460200217, 0.022185847399755477, -1.4098012598057708, -1.1771243636813133, 1.1235283675890204, -0.07429212716714764, 0.48742375992982784, -0.12944337947685283, -0.9180012214241594, -3.0131187942336704, 1.1869412396701389, 0.7912752124923572, 1.432678623623017, 0.40568209062367894, 0.12032693997325379, 1.7001641802601302, -0.8436839622947031, 1.2092113776263675, 0.893612345857148, -0.03762130523020127, -0.06830519231422867, 0.39929983349320436, -0.645987877543945, 0.05471325639345035, 0.6359591748788739, 1.1703800217942906, -1.5043691261451897, -0.5036814725137895, 1.0361340987898915, 0.29213763653891306, 0.7774645561651203, -0.4782140281577571, -2.643881907336907, -0.5749412179835269, 0.3841976745153053, 1.2915638490665986, -0.4233796655810165, 1.8744810238151675, 0.7367675496380632, -0.6109907442671998, 0.805674638800644, -0.9539036537063705, 0.09527741797931052, -1.0649914308693913, 0.5964487166392948, 0.1990665103969152, 0.6132704762189406, 0.6268899207234839, -1.1286894146277253, 0.01213858445998383, -1.4701196523620392, -0.37570842538158156, 1.3497554259656261, 1.35171477403518, -0.4489109673535718, -0.6577003347110576, -0.2888103944878272, 0.3578668378770103, -1.9895737512618443, 0.25272547443718, -0.6009738065166887, 0.9907962012130483, 0.30548119666697593, -1.6790430115833166, 0.3782169365209647, 0.20283659152555167, 0.14354981791108287, -0.4973140193750466, -0.19753779687535397, -0.9257981905690578, -1.8609348754518722, 0.08791455264292816, -0.8965464694382222, 0.3924042454233774, -2.051066260296957, -0.29419187754144366, -0.11404285000231268, -1.5008947403290749, 1.5130633320204947, -0.013939284236135645, -0.5008971717723003, -0.8872960885392636, 0.6545701294979238, 1.2418392362181065, -0.556513780780177, -1.5113062460152866, -1.5437051826070072, 1.2174960148122902, 0.5207168975027033, -0.6058183166483503, -0.876105918810508, 1.6990793067243244, -1.0127106685746625, 1.165990719074486, 1.4427761189051136, -0.48081925269099096, 0.39153886502249624]}, {\"label\": \"B\", \"values\": [-1.5711202546339078, 1.8589427519950752, 0.4725308030858024, -0.4429751159210085, 0.4931189239296156, 0.3290781388444781, -1.8851204051667412, 0.6520089049000372, 0.001622290086489223, -1.190541657435356, -1.1165354430786067, -0.28023760526214087, 0.036117480348009705, 0.4060464344684879, 1.7693346210102137, 1.1226249355088112, 0.30545725263851115, 0.32467659180420966, -0.36329705102200255, -0.35450640391340416, -0.848256079483041, -1.1016866426764451, -1.8828773464329578, 0.8438264493109183, -0.18552390379817973, 1.7127884983056052, 1.5064918772968656, 0.8622196042959621, -1.0656304741666403, -0.09181381850569179, 1.7954497040834496, 0.4326567575470323, -0.13007433150858635, -0.9520088453445963, 0.7330078033118114, 0.5767854855180345, 1.5941334078701672, 1.2639463553980426, 0.11421381700343505, -0.21074369451029193, -1.442352021362074, 0.6014244269317304, -0.5251750463409331, 0.24056973341915855, -0.34177966778960134, 0.49033717532942955, -0.4359285863361001, -0.4645219801827713, -0.49906116308344267, 0.012296828969600491, 1.3052254220844173, 1.0575718829429042, -0.8955948771032166, 1.8840878446231526, -0.32124146836569917, 1.1138212038805104, -0.5380428173529321, 0.6780503440629659, -0.08953546027085331, 1.290935731322414, 1.0568892764925977, 0.7398009929380013, 1.6294195464621322, 0.5068826199029156, 1.4639384323657498, 2.0035883236917584, 2.2253827405770497, -0.9829583862377724, 0.2486782135934998, 0.5245709075594285, 0.6751474846876793, 0.7431555008266308, 1.1026113915541595, 0.7086927539253073, -0.14067844876750424, 0.38453326761935613, 0.46288958214142273, 0.24238987224025843, -0.17571802415464177, 0.8662372993526971, -1.3677834323167255, -1.052831300968593, -1.041671610917792, -1.3909596396881267, 1.1170937933351548, -1.1603270017517613, 0.20977942996564286, 0.40333440608587473, -0.018229098693743707, 0.9475209099563278, 0.2034026360151726, -0.6814367417773323, -0.9953660681320612, 1.3724080700419738, 1.138876474205955, 0.7265311279666776, -0.8564525533706586, 0.1814599986481153, -1.551384736446907, 1.6351567399448812]}, {\"label\": \"C\", \"values\": [0.44661398802184066, 0.30889123191956225, -0.9804776587658602, 0.12784873122963558, -1.7395593800185352, 1.1428606997605641, 0.9485480838441536, 0.3423310663027422, 2.2110776442595372, 0.6100936276267533, -0.5233809503034954, 0.7537945250801213, -0.9778677411204288, -0.09884211009064948, 0.004433104465747421, 0.8148762150811547, -0.7892420420784164, 1.3311337631201687, 0.22307407692754, 1.036516109203243, -1.7010220269578207, 0.5343452792757892, 0.9200118033368204, -0.5936541715484736, -1.0035302413854728, 1.910781477075174, 0.5630797906200505, -0.3053637347307562, -1.5908389100611038, 0.9737658383691731, 2.395500700860623, 0.87942148955053, 1.591100760969521, 2.6524230294455338, 0.5393312122541757, -1.3516648169880152, -0.32914141797819724, -1.3040497594262683, 0.032651815989994525, -2.153844933501666, -0.46668732274742175, 0.7297855548161059, 1.9508336306865837, -0.8276700805250797, 0.6810850916839654, -1.259957671899816, 0.4837456170424614, -0.8080319850112103, -1.2079691162600878, -0.8044749738977648, -1.1395762369486782, 2.169550970739434, -0.40751555311218185, 1.3970592467919776, 0.7107802876919356, 0.8919021813916727, -1.9489953483697748, -1.0858852835065254, 2.0441321538230977, 0.43985062990394336, 0.6602988047926446, 2.2700445956419353, -0.9070535186724555, -1.3096897639974387, 0.06394241732018749, 0.050610742587672106, 0.1850583101836084, 1.0720299304536618, 0.49287487627329474, -0.5708677645470345, 1.1659166904591263, 2.7997975708207647, 1.2175347837728439, -0.12029520738651407, -0.4718973085826919, -0.48540310454190344, 1.7860088802826084, -0.7775188948075658, 0.7948958162589866, 1.8090193582415102, 1.0354692764928901, -0.3209472732051858, -0.3479336808701315, 1.0121247723610938, 0.9134680437396722, 0.24530647418187396, -1.4374277890884086, -0.24404449741641432, -0.38835070340983446, -0.38891830841611796, -0.31475655052635354, -0.8926597370177215, -1.124152730457152, -0.14623219919279715, 0.36608386712362945, -0.3598260095371573, 1.7598585797930142, 0.029143026645623838, -1.2213426733231405, -0.2866420272966458]}, {\"label\": \"D\", \"values\": [-0.546488074456264, -0.6906795939250396, -0.7530198223287682, -0.3035416448226373, 0.3318097102622694, 0.28854391827365106, 0.024869172734768297, 0.2993856166868935, -1.7739234311943968, -1.3061602991789985, -0.1978284090875014, 1.0445034579306787, 0.9170950661450984, -0.684984472347748, -1.9801976218504385, 0.31051713776885004, -0.4329512004987474, -0.9595214053751172, -0.2512722009325092, 0.6742095287617564, -1.0733105914121326, 0.042235732214301186, -0.5082994655524106, 0.006034147184217506, 1.2616648458282216, 0.6795993715030275, -3.330257093397494, 0.561627884971362, -2.2720802102340154, 0.3097731244084955, -0.4370125022523923, 0.044471961293511365, 0.5815934596033061, -0.9967245477818799, -0.3027644967706041, -1.1326849721570416, 1.9640454602527784, -2.1431086532243504, -1.2219373014504364, 0.9283942716087435, -1.4996204449913944, -0.8857129697771499, 0.6539017749199544, 0.9169701156794323, 0.9906148343369582, 0.2755860030358192, -0.01746794152257089, -0.3471383630137931, 0.4618832907819464, -0.4297874720450296, 1.9914952295729302, 1.0602539593119948, -0.11903949950493466, -0.5972525293520385, 0.871220634932907, 0.1061901134741834, 0.39362618733823174, 0.5916770786621857, 1.3602043914521933, -0.10052955794223802, -0.5226857317993312, 0.721589345200966, 0.7815114728168278, -1.2874663329125964, 1.4860441425065496, 1.994362272027055, -2.382611440735003, -0.3426699207174205, -0.7520575866702235, -0.7713985262302956, -0.6723793532305976, -0.168159774298071, -0.8491518001974565, -0.8767152118844154, -0.340836812565283, -0.4445890348045418, -1.9947661768305307, -0.4062905398921242, 0.4611541717010919, -1.164365539393841, -0.30304592551049236, 2.653612293015191, 0.381137487197287, 0.9235035235274678, -0.8698814137486172, 1.0352592830040694, -0.321322944899231, -0.8138074044502812, -0.5412286327252419, 0.4330775385253458, 0.7969502635951479, 0.8123699150188365, 0.07064870947086856, -0.6854260743501431, -1.1579818011671967, 0.9822744829518161, -0.7760660837646026, 2.488984537262283, 0.16181189984854655, -0.656126412046775]}], \"domain\": {\"x\": [0.0, 1.0], \"y\": [0.0, 1.0]}, \"line\": {\"color\": [-0.546488074456264, -0.6906795939250396, -0.7530198223287682, -0.3035416448226373, 0.3318097102622694, 0.28854391827365106, 0.024869172734768297, 0.2993856166868935, -1.7739234311943968, -1.3061602991789985, -0.1978284090875014, 1.0445034579306787, 0.9170950661450984, -0.684984472347748, -1.9801976218504385, 0.31051713776885004, -0.4329512004987474, -0.9595214053751172, -0.2512722009325092, 0.6742095287617564, -1.0733105914121326, 0.042235732214301186, -0.5082994655524106, 0.006034147184217506, 1.2616648458282216, 0.6795993715030275, -3.330257093397494, 0.561627884971362, -2.2720802102340154, 0.3097731244084955, -0.4370125022523923, 0.044471961293511365, 0.5815934596033061, -0.9967245477818799, -0.3027644967706041, -1.1326849721570416, 1.9640454602527784, -2.1431086532243504, -1.2219373014504364, 0.9283942716087435, -1.4996204449913944, -0.8857129697771499, 0.6539017749199544, 0.9169701156794323, 0.9906148343369582, 0.2755860030358192, -0.01746794152257089, -0.3471383630137931, 0.4618832907819464, -0.4297874720450296, 1.9914952295729302, 1.0602539593119948, -0.11903949950493466, -0.5972525293520385, 0.871220634932907, 0.1061901134741834, 0.39362618733823174, 0.5916770786621857, 1.3602043914521933, -0.10052955794223802, -0.5226857317993312, 0.721589345200966, 0.7815114728168278, -1.2874663329125964, 1.4860441425065496, 1.994362272027055, -2.382611440735003, -0.3426699207174205, -0.7520575866702235, -0.7713985262302956, -0.6723793532305976, -0.168159774298071, -0.8491518001974565, -0.8767152118844154, -0.340836812565283, -0.4445890348045418, -1.9947661768305307, -0.4062905398921242, 0.4611541717010919, -1.164365539393841, -0.30304592551049236, 2.653612293015191, 0.381137487197287, 0.9235035235274678, -0.8698814137486172, 1.0352592830040694, -0.321322944899231, -0.8138074044502812, -0.5412286327252419, 0.4330775385253458, 0.7969502635951479, 0.8123699150188365, 0.07064870947086856, -0.6854260743501431, -1.1579818011671967, 0.9822744829518161, -0.7760660837646026, 2.488984537262283, 0.16181189984854655, -0.656126412046775], \"coloraxis\": \"coloraxis\"}, \"name\": \"\", \"type\": \"parcoords\"}],\n",
       "                        {\"coloraxis\": {\"colorbar\": {\"title\": {\"text\": \"D\"}}, \"colorscale\": [[0.0, \"#0d0887\"], [0.1111111111111111, \"#46039f\"], [0.2222222222222222, \"#7201a8\"], [0.3333333333333333, \"#9c179e\"], [0.4444444444444444, \"#bd3786\"], [0.5555555555555556, \"#d8576b\"], [0.6666666666666666, \"#ed7953\"], [0.7777777777777778, \"#fb9f3a\"], [0.8888888888888888, \"#fdca26\"], [1.0, \"#f0f921\"]]}, \"legend\": {\"tracegroupgap\": 0}, \"margin\": {\"t\": 60}, \"template\": {\"data\": {\"bar\": [{\"error_x\": {\"color\": \"#2a3f5f\"}, \"error_y\": {\"color\": \"#2a3f5f\"}, \"marker\": {\"line\": {\"color\": \"#E5ECF6\", \"width\": 0.5}}, \"type\": \"bar\"}], \"barpolar\": [{\"marker\": {\"line\": {\"color\": \"#E5ECF6\", \"width\": 0.5}}, \"type\": \"barpolar\"}], \"carpet\": [{\"aaxis\": {\"endlinecolor\": \"#2a3f5f\", \"gridcolor\": \"white\", \"linecolor\": \"white\", \"minorgridcolor\": \"white\", \"startlinecolor\": \"#2a3f5f\"}, \"baxis\": {\"endlinecolor\": \"#2a3f5f\", \"gridcolor\": \"white\", \"linecolor\": \"white\", \"minorgridcolor\": \"white\", \"startlinecolor\": \"#2a3f5f\"}, \"type\": \"carpet\"}], \"choropleth\": [{\"colorbar\": {\"outlinewidth\": 0, \"ticks\": \"\"}, \"type\": \"choropleth\"}], \"contour\": [{\"colorbar\": {\"outlinewidth\": 0, \"ticks\": \"\"}, \"colorscale\": [[0.0, \"#0d0887\"], [0.1111111111111111, \"#46039f\"], [0.2222222222222222, \"#7201a8\"], [0.3333333333333333, \"#9c179e\"], [0.4444444444444444, \"#bd3786\"], [0.5555555555555556, \"#d8576b\"], [0.6666666666666666, \"#ed7953\"], [0.7777777777777778, \"#fb9f3a\"], [0.8888888888888888, \"#fdca26\"], [1.0, \"#f0f921\"]], \"type\": \"contour\"}], \"contourcarpet\": [{\"colorbar\": {\"outlinewidth\": 0, \"ticks\": \"\"}, \"type\": \"contourcarpet\"}], \"heatmap\": [{\"colorbar\": {\"outlinewidth\": 0, \"ticks\": \"\"}, \"colorscale\": [[0.0, \"#0d0887\"], [0.1111111111111111, \"#46039f\"], [0.2222222222222222, \"#7201a8\"], [0.3333333333333333, \"#9c179e\"], [0.4444444444444444, \"#bd3786\"], [0.5555555555555556, \"#d8576b\"], [0.6666666666666666, \"#ed7953\"], [0.7777777777777778, \"#fb9f3a\"], [0.8888888888888888, \"#fdca26\"], [1.0, \"#f0f921\"]], \"type\": \"heatmap\"}], \"heatmapgl\": [{\"colorbar\": {\"outlinewidth\": 0, \"ticks\": \"\"}, \"colorscale\": [[0.0, \"#0d0887\"], [0.1111111111111111, \"#46039f\"], [0.2222222222222222, \"#7201a8\"], [0.3333333333333333, \"#9c179e\"], [0.4444444444444444, \"#bd3786\"], [0.5555555555555556, \"#d8576b\"], [0.6666666666666666, \"#ed7953\"], [0.7777777777777778, \"#fb9f3a\"], [0.8888888888888888, \"#fdca26\"], [1.0, \"#f0f921\"]], \"type\": \"heatmapgl\"}], \"histogram\": [{\"marker\": {\"colorbar\": {\"outlinewidth\": 0, \"ticks\": \"\"}}, \"type\": \"histogram\"}], \"histogram2d\": [{\"colorbar\": {\"outlinewidth\": 0, \"ticks\": \"\"}, \"colorscale\": [[0.0, \"#0d0887\"], [0.1111111111111111, \"#46039f\"], [0.2222222222222222, \"#7201a8\"], [0.3333333333333333, \"#9c179e\"], [0.4444444444444444, \"#bd3786\"], [0.5555555555555556, \"#d8576b\"], [0.6666666666666666, \"#ed7953\"], [0.7777777777777778, \"#fb9f3a\"], [0.8888888888888888, \"#fdca26\"], [1.0, \"#f0f921\"]], \"type\": \"histogram2d\"}], \"histogram2dcontour\": [{\"colorbar\": {\"outlinewidth\": 0, \"ticks\": \"\"}, \"colorscale\": [[0.0, \"#0d0887\"], [0.1111111111111111, \"#46039f\"], [0.2222222222222222, \"#7201a8\"], [0.3333333333333333, \"#9c179e\"], [0.4444444444444444, \"#bd3786\"], [0.5555555555555556, \"#d8576b\"], [0.6666666666666666, \"#ed7953\"], [0.7777777777777778, \"#fb9f3a\"], [0.8888888888888888, \"#fdca26\"], [1.0, \"#f0f921\"]], \"type\": \"histogram2dcontour\"}], \"mesh3d\": [{\"colorbar\": {\"outlinewidth\": 0, \"ticks\": \"\"}, \"type\": \"mesh3d\"}], \"parcoords\": [{\"line\": {\"colorbar\": {\"outlinewidth\": 0, \"ticks\": \"\"}}, \"type\": \"parcoords\"}], \"pie\": [{\"automargin\": true, \"type\": \"pie\"}], \"scatter\": [{\"marker\": {\"colorbar\": {\"outlinewidth\": 0, \"ticks\": \"\"}}, \"type\": \"scatter\"}], \"scatter3d\": [{\"line\": {\"colorbar\": {\"outlinewidth\": 0, \"ticks\": \"\"}}, \"marker\": {\"colorbar\": {\"outlinewidth\": 0, \"ticks\": \"\"}}, \"type\": \"scatter3d\"}], \"scattercarpet\": [{\"marker\": {\"colorbar\": {\"outlinewidth\": 0, \"ticks\": \"\"}}, \"type\": \"scattercarpet\"}], \"scattergeo\": [{\"marker\": {\"colorbar\": {\"outlinewidth\": 0, \"ticks\": \"\"}}, \"type\": \"scattergeo\"}], \"scattergl\": [{\"marker\": {\"colorbar\": {\"outlinewidth\": 0, \"ticks\": \"\"}}, \"type\": \"scattergl\"}], \"scattermapbox\": [{\"marker\": {\"colorbar\": {\"outlinewidth\": 0, \"ticks\": \"\"}}, \"type\": \"scattermapbox\"}], \"scatterpolar\": [{\"marker\": {\"colorbar\": {\"outlinewidth\": 0, \"ticks\": \"\"}}, \"type\": \"scatterpolar\"}], \"scatterpolargl\": [{\"marker\": {\"colorbar\": {\"outlinewidth\": 0, \"ticks\": \"\"}}, \"type\": \"scatterpolargl\"}], \"scatterternary\": [{\"marker\": {\"colorbar\": {\"outlinewidth\": 0, \"ticks\": \"\"}}, \"type\": \"scatterternary\"}], \"surface\": [{\"colorbar\": {\"outlinewidth\": 0, \"ticks\": \"\"}, \"colorscale\": [[0.0, \"#0d0887\"], [0.1111111111111111, \"#46039f\"], [0.2222222222222222, \"#7201a8\"], [0.3333333333333333, \"#9c179e\"], [0.4444444444444444, \"#bd3786\"], [0.5555555555555556, \"#d8576b\"], [0.6666666666666666, \"#ed7953\"], [0.7777777777777778, \"#fb9f3a\"], [0.8888888888888888, \"#fdca26\"], [1.0, \"#f0f921\"]], \"type\": \"surface\"}], \"table\": [{\"cells\": {\"fill\": {\"color\": \"#EBF0F8\"}, \"line\": {\"color\": \"white\"}}, \"header\": {\"fill\": {\"color\": \"#C8D4E3\"}, \"line\": {\"color\": \"white\"}}, \"type\": \"table\"}]}, \"layout\": {\"annotationdefaults\": {\"arrowcolor\": \"#2a3f5f\", \"arrowhead\": 0, \"arrowwidth\": 1}, \"coloraxis\": {\"colorbar\": {\"outlinewidth\": 0, \"ticks\": \"\"}}, \"colorscale\": {\"diverging\": [[0, \"#8e0152\"], [0.1, \"#c51b7d\"], [0.2, \"#de77ae\"], [0.3, \"#f1b6da\"], [0.4, \"#fde0ef\"], [0.5, \"#f7f7f7\"], [0.6, \"#e6f5d0\"], [0.7, \"#b8e186\"], [0.8, \"#7fbc41\"], [0.9, \"#4d9221\"], [1, \"#276419\"]], \"sequential\": [[0.0, \"#0d0887\"], [0.1111111111111111, \"#46039f\"], [0.2222222222222222, \"#7201a8\"], [0.3333333333333333, \"#9c179e\"], [0.4444444444444444, \"#bd3786\"], [0.5555555555555556, \"#d8576b\"], [0.6666666666666666, \"#ed7953\"], [0.7777777777777778, \"#fb9f3a\"], [0.8888888888888888, \"#fdca26\"], [1.0, \"#f0f921\"]], \"sequentialminus\": [[0.0, \"#0d0887\"], [0.1111111111111111, \"#46039f\"], [0.2222222222222222, \"#7201a8\"], [0.3333333333333333, \"#9c179e\"], [0.4444444444444444, \"#bd3786\"], [0.5555555555555556, \"#d8576b\"], [0.6666666666666666, \"#ed7953\"], [0.7777777777777778, \"#fb9f3a\"], [0.8888888888888888, \"#fdca26\"], [1.0, \"#f0f921\"]]}, \"colorway\": [\"#636efa\", \"#EF553B\", \"#00cc96\", \"#ab63fa\", \"#FFA15A\", \"#19d3f3\", \"#FF6692\", \"#B6E880\", \"#FF97FF\", \"#FECB52\"], \"font\": {\"color\": \"#2a3f5f\"}, \"geo\": {\"bgcolor\": \"white\", \"lakecolor\": \"white\", \"landcolor\": \"#E5ECF6\", \"showlakes\": true, \"showland\": true, \"subunitcolor\": \"white\"}, \"hoverlabel\": {\"align\": \"left\"}, \"hovermode\": \"closest\", \"mapbox\": {\"style\": \"light\"}, \"paper_bgcolor\": \"white\", \"plot_bgcolor\": \"#E5ECF6\", \"polar\": {\"angularaxis\": {\"gridcolor\": \"white\", \"linecolor\": \"white\", \"ticks\": \"\"}, \"bgcolor\": \"#E5ECF6\", \"radialaxis\": {\"gridcolor\": \"white\", \"linecolor\": \"white\", \"ticks\": \"\"}}, \"scene\": {\"xaxis\": {\"backgroundcolor\": \"#E5ECF6\", \"gridcolor\": \"white\", \"gridwidth\": 2, \"linecolor\": \"white\", \"showbackground\": true, \"ticks\": \"\", \"zerolinecolor\": \"white\"}, \"yaxis\": {\"backgroundcolor\": \"#E5ECF6\", \"gridcolor\": \"white\", \"gridwidth\": 2, \"linecolor\": \"white\", \"showbackground\": true, \"ticks\": \"\", \"zerolinecolor\": \"white\"}, \"zaxis\": {\"backgroundcolor\": \"#E5ECF6\", \"gridcolor\": \"white\", \"gridwidth\": 2, \"linecolor\": \"white\", \"showbackground\": true, \"ticks\": \"\", \"zerolinecolor\": \"white\"}}, \"shapedefaults\": {\"line\": {\"color\": \"#2a3f5f\"}}, \"ternary\": {\"aaxis\": {\"gridcolor\": \"white\", \"linecolor\": \"white\", \"ticks\": \"\"}, \"baxis\": {\"gridcolor\": \"white\", \"linecolor\": \"white\", \"ticks\": \"\"}, \"bgcolor\": \"#E5ECF6\", \"caxis\": {\"gridcolor\": \"white\", \"linecolor\": \"white\", \"ticks\": \"\"}}, \"title\": {\"x\": 0.05}, \"xaxis\": {\"automargin\": true, \"gridcolor\": \"white\", \"linecolor\": \"white\", \"ticks\": \"\", \"title\": {\"standoff\": 15}, \"zerolinecolor\": \"white\", \"zerolinewidth\": 2}, \"yaxis\": {\"automargin\": true, \"gridcolor\": \"white\", \"linecolor\": \"white\", \"ticks\": \"\", \"title\": {\"standoff\": 15}, \"zerolinecolor\": \"white\", \"zerolinewidth\": 2}}}},\n",
       "                        {\"responsive\": true}\n",
       "                    ).then(function(){\n",
       "                            \n",
       "var gd = document.getElementById('46e705dd-4a9c-418a-9e71-13330332d308');\n",
       "var x = new MutationObserver(function (mutations, observer) {{\n",
       "        var display = window.getComputedStyle(gd).display;\n",
       "        if (!display || display === 'none') {{\n",
       "            console.log([gd, 'removed!']);\n",
       "            Plotly.purge(gd);\n",
       "            observer.disconnect();\n",
       "        }}\n",
       "}});\n",
       "\n",
       "// Listen for the removal of the full notebook cells\n",
       "var notebookContainer = gd.closest('#notebook-container');\n",
       "if (notebookContainer) {{\n",
       "    x.observe(notebookContainer, {childList: true});\n",
       "}}\n",
       "\n",
       "// Listen for the clearing of the current output cell\n",
       "var outputEl = gd.closest('.output');\n",
       "if (outputEl) {{\n",
       "    x.observe(outputEl, {childList: true});\n",
       "}}\n",
       "\n",
       "                        })\n",
       "                };\n",
       "                });\n",
       "            </script>\n",
       "        </div>"
      ]
     },
     "metadata": {},
     "output_type": "display_data"
    }
   ],
   "source": [
    "px.parallel_coordinates(df,color='D')"
   ]
  },
  {
   "cell_type": "markdown",
   "metadata": {
    "collapsed": true
   },
   "source": [
    "# Great Job!"
   ]
  }
 ],
 "metadata": {
  "kernelspec": {
   "display_name": "Python 3",
   "language": "python",
   "name": "python3"
  },
  "language_info": {
   "codemirror_mode": {
    "name": "ipython",
    "version": 3
   },
   "file_extension": ".py",
   "mimetype": "text/x-python",
   "name": "python",
   "nbconvert_exporter": "python",
   "pygments_lexer": "ipython3",
   "version": "3.7.7"
  }
 },
 "nbformat": 4,
 "nbformat_minor": 1
}
