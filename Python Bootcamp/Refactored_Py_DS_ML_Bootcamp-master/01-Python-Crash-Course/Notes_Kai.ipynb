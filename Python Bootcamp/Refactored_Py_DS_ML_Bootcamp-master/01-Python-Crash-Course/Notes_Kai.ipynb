{
 "cells": [
  {
   "cell_type": "code",
   "execution_count": 1,
   "metadata": {},
   "outputs": [
    {
     "name": "stdout",
     "output_type": "stream",
     "text": [
      "test\n"
     ]
    }
   ],
   "source": [
    "print('test')"
   ]
  },
  {
   "cell_type": "code",
   "execution_count": 4,
   "metadata": {},
   "outputs": [
    {
     "data": {
      "text/plain": [
       "2"
      ]
     },
     "execution_count": 4,
     "metadata": {},
     "output_type": "execute_result"
    }
   ],
   "source": [
    "1+1"
   ]
  },
  {
   "cell_type": "code",
   "execution_count": 5,
   "metadata": {},
   "outputs": [
    {
     "data": {
      "text/plain": [
       "'new line'"
      ]
     },
     "execution_count": 5,
     "metadata": {},
     "output_type": "execute_result"
    }
   ],
   "source": [
    "'new line'"
   ]
  },
  {
   "cell_type": "code",
   "execution_count": 3,
   "metadata": {},
   "outputs": [
    {
     "data": {
      "text/plain": [
       "'DMAT'"
      ]
     },
     "execution_count": 3,
     "metadata": {},
     "output_type": "execute_result"
    }
   ],
   "source": [
    "'DMAT'"
   ]
  },
  {
   "cell_type": "code",
   "execution_count": 8,
   "metadata": {},
   "outputs": [],
   "source": [
    "# lambda expression is a nameless function (e.g. for iteration whith map when one doesn't need a dedicated function)"
   ]
  },
  {
   "cell_type": "code",
   "execution_count": 2,
   "metadata": {},
   "outputs": [],
   "source": [
    "import numpy as np"
   ]
  },
  {
   "cell_type": "code",
   "execution_count": 4,
   "metadata": {},
   "outputs": [],
   "source": [
    "lst = [1,2,3]"
   ]
  },
  {
   "cell_type": "code",
   "execution_count": 6,
   "metadata": {},
   "outputs": [],
   "source": [
    "arr=np.array(lst)"
   ]
  },
  {
   "cell_type": "code",
   "execution_count": 9,
   "metadata": {},
   "outputs": [],
   "source": [
    "arr2=np.array([[1,2,3],[4,5,6]])"
   ]
  },
  {
   "cell_type": "code",
   "execution_count": 16,
   "metadata": {},
   "outputs": [
    {
     "ename": "TypeError",
     "evalue": "'numpy.ndarray' object is not callable",
     "output_type": "error",
     "traceback": [
      "\u001b[1;31m---------------------------------------------------------------------------\u001b[0m",
      "\u001b[1;31mTypeError\u001b[0m                                 Traceback (most recent call last)",
      "\u001b[1;32m<ipython-input-16-6fd43326e7d4>\u001b[0m in \u001b[0;36m<module>\u001b[1;34m\u001b[0m\n\u001b[1;32m----> 1\u001b[1;33m \u001b[0marr\u001b[0m\u001b[1;33m(\u001b[0m\u001b[1;36m1\u001b[0m\u001b[1;33m)\u001b[0m\u001b[1;33m\u001b[0m\u001b[1;33m\u001b[0m\u001b[0m\n\u001b[0m",
      "\u001b[1;31mTypeError\u001b[0m: 'numpy.ndarray' object is not callable"
     ]
    }
   ],
   "source": [
    "arr(1)"
   ]
  },
  {
   "cell_type": "code",
   "execution_count": 21,
   "metadata": {},
   "outputs": [
    {
     "data": {
      "text/plain": [
       "6"
      ]
     },
     "execution_count": 21,
     "metadata": {},
     "output_type": "execute_result"
    }
   ],
   "source": [
    "arr2[1,2]"
   ]
  },
  {
   "cell_type": "code",
   "execution_count": 20,
   "metadata": {},
   "outputs": [],
   "source": [
    "#Wenn man ein Slice aus einem Array nimmt, ist das nur ein Verweis auf die Originaldaten. Man arbeitet quasi auf einem Hardlink und bei Änderungen sind auch die Originaldaten direkt mit betroffen. Möchte man das vermeiden, muss man explizit eine Kopie anlegen (.copy in Numpy)"
   ]
  },
  {
   "cell_type": "code",
   "execution_count": 22,
   "metadata": {},
   "outputs": [],
   "source": [
    "#In Pandas muss für die meisten Operationen der Parameter inplace=true gesetzt werden, um die Änderungen uch wirklich zu übernehmen. Das ist ein Schutz vor ungewolltem Überschreiben von Daten."
   ]
  },
  {
   "cell_type": "code",
   "execution_count": 6,
   "metadata": {},
   "outputs": [],
   "source": [
    "#axis=0 ist der Bezeichner/Label der Zeilen; axis=1 ist der Bezeichner/Label für Spalten; Achtung: Default ist immer 0, also Spalten!"
   ]
  },
  {
   "cell_type": "code",
   "execution_count": 25,
   "metadata": {},
   "outputs": [],
   "source": [
    "#Anders als in anderen Paketen werden die Argumente in Pandas in eckigen Klammern übergeben."
   ]
  },
  {
   "cell_type": "code",
   "execution_count": 27,
   "metadata": {},
   "outputs": [],
   "source": [
    "#Unterschied zwischen Merge und Join (Pandas): Merge nutzt einen zu spezifizierenden Key zum join. Join tut das gleiche, benutzt aber den Index (bzw. dessen Bezeichnung) fürs matching."
   ]
  },
  {
   "cell_type": "code",
   "execution_count": 29,
   "metadata": {},
   "outputs": [],
   "source": [
    "#len() für die Länge (Anzahl) eines Vektors und shape() für Matritzen"
   ]
  },
  {
   "cell_type": "code",
   "execution_count": 31,
   "metadata": {},
   "outputs": [],
   "source": [
    "#für user defines functions die nicht aus Pandas kommen nutzt man .apply für deren Anwendung (z.B. auch lambda expressions für einmalige Anwendung)"
   ]
  },
  {
   "cell_type": "code",
   "execution_count": 1,
   "metadata": {},
   "outputs": [],
   "source": [
    "#df.head() zeigt bei langen data frames nur die ersten paar Zeilen an"
   ]
  },
  {
   "cell_type": "code",
   "execution_count": 1,
   "metadata": {},
   "outputs": [],
   "source": [
    "# Cufflinks ist ein Wrapper, mit dem man Plotly direkt auf einem DataFrame aufrufen kann. Mittlerweile braucht man das aber nicht mehr zwingend, da das durch eine Erweiterung von Pandas auch direkt möglich ist. Hierzu muss man folgendes setzen: pd.options.plotting.backend = \"plotly\""
   ]
  },
  {
   "cell_type": "code",
   "execution_count": 1,
   "metadata": {},
   "outputs": [],
   "source": [
    "# Für Master-Tables aus Attributen (e.g. für Heatmaps) muss man normalerweise eine Pivot-Tabelle erstellen. Einfacher geht die allerdings über Groupby, kombiniert mit Unstack: dayHour = df.groupby(by=['dayOfWeek_2','hour']).count()['reason'].unstack()"
   ]
  },
  {
   "cell_type": "code",
   "execution_count": 1,
   "metadata": {},
   "outputs": [],
   "source": [
    "#Learnings aus Capstone Project: Auswahl von Zeilen per .loc, von Spalten per .xs; es gibt für alles Funktionen, Zeilenweise durch einen Vektor iterieren macht man nicht!"
   ]
  },
  {
   "cell_type": "code",
   "execution_count": 2,
   "metadata": {},
   "outputs": [],
   "source": [
    "#Genauigkeit Modelle Klassifikation: bei \"balanced classes\" (~gleich viele in jedem Topf) kann man accuracy nehmen; falls nicht (wie z.B. bei Befall einer Krankheit) muss man den Trade-Off zwiscchen Precision und Recall nehmen: den F1-Faktor (Trade-Off zw. falsch-positiv und falsch-negativ)"
   ]
  },
  {
   "cell_type": "code",
   "execution_count": 3,
   "metadata": {},
   "outputs": [],
   "source": [
    "#Genauigkeit Modelle Regression: mean absolute error (MAE), mean squared error (MSE), root mean squared error (RMSE); RMSE ist am populärsten, weil er Outlier stark bestraft (Quadrierung), aber trotzdem in der originalen Messeinheit vorliegt (durch Wurzel)"
   ]
  },
  {
   "cell_type": "code",
   "execution_count": 4,
   "metadata": {},
   "outputs": [],
   "source": [
    "#Benutzt man für Grafiken das Kommando %matplotlib anstatt %matplotlib inline, dann werden die Grafiken in einem separaten Fenster geöffnet (inkl. Zoomoptionen etc)"
   ]
  },
  {
   "cell_type": "code",
   "execution_count": 5,
   "metadata": {},
   "outputs": [],
   "source": [
    "#Residuals plotten (Y_test-Y_predict): wenn die Werte um 0 zentriert und normalverteilt sind, war die Wahl des Modells gut"
   ]
  },
  {
   "cell_type": "code",
   "execution_count": 1,
   "metadata": {},
   "outputs": [],
   "source": [
    "#Umwandlung von Kategorien in 1/0 (One-Hot light) mit pd.get_dummies(); Achtung: um Multi-Colinearity (man kann eine Spalte perfekt aus der anderen prädizieren), sollte drop_first=True gesetzt werden"
   ]
  },
  {
   "cell_type": "code",
   "execution_count": 2,
   "metadata": {},
   "outputs": [],
   "source": [
    "# Achtung, es gibt funktionen, die sind nur direkt aus Pandas abrufbar (pd.function(df)) und welche, die nur direkt auf dem df abrufar sind (df.funtion())"
   ]
  },
  {
   "cell_type": "code",
   "execution_count": 1,
   "metadata": {},
   "outputs": [],
   "source": [
    "# Nach der Skalierung der Daten liegt das Ergebnis als Array vor und sollte wieder in einen df konvertiert werden"
   ]
  },
  {
   "cell_type": "code",
   "execution_count": 2,
   "metadata": {},
   "outputs": [],
   "source": [
    "# Beim transformieren/skalieren nur die Input nehmen und den Putput außen vor lassen"
   ]
  },
  {
   "cell_type": "code",
   "execution_count": 2,
   "metadata": {},
   "outputs": [],
   "source": [
    "# Hyperparameter Tuning eines Modells mit Gridsearch (vor allem wichtig für z.B. SVM C und gamma Werte)"
   ]
  },
  {
   "cell_type": "code",
   "execution_count": 2,
   "metadata": {},
   "outputs": [],
   "source": [
    "# Keras/TensorFlow does not work with Pandas data frames. Instead, they have to be converted to Numpy arrays (e.g. use .values off a data frame)"
   ]
  },
  {
   "cell_type": "code",
   "execution_count": 1,
   "metadata": {},
   "outputs": [],
   "source": [
    "# Wenn man irgendwelche Operationen oder Analysen auf Spalten machen will in denen Daten fehlen, kann es sein, dass es einen (nichtssagenden) Fehler gibt. In dem Fall mus muss man einfach .dropna mit nutzen."
   ]
  },
  {
   "cell_type": "code",
   "execution_count": 2,
   "metadata": {},
   "outputs": [],
   "source": [
    "# Manchmal, wenn man Funktionen in einen Einzeiler packt, kann es sein, dass es zu einem out of memory error kommt. In diesem Fall hilft es die Funktion zu erstückeln, Unterfunktionen und Callbacks zu erstellen."
   ]
  },
  {
   "cell_type": "code",
   "execution_count": 3,
   "metadata": {},
   "outputs": [],
   "source": [
    "#Key-Error heiß oft falsche Achse im df (axis=0/1)"
   ]
  },
  {
   "cell_type": "code",
   "execution_count": null,
   "metadata": {},
   "outputs": [],
   "source": [
    "# Für Kreuzvalidierung 'cross_val_score'"
   ]
  }
 ],
 "metadata": {
  "kernelspec": {
   "display_name": "Python 3",
   "language": "python",
   "name": "python3"
  },
  "language_info": {
   "codemirror_mode": {
    "name": "ipython",
    "version": 3
   },
   "file_extension": ".py",
   "mimetype": "text/x-python",
   "name": "python",
   "nbconvert_exporter": "python",
   "pygments_lexer": "ipython3",
   "version": "3.7.7"
  }
 },
 "nbformat": 4,
 "nbformat_minor": 4
}
