{
 "cells": [
  {
   "cell_type": "code",
   "execution_count": 2,
   "metadata": {},
   "outputs": [
    {
     "name": "stdout",
     "output_type": "stream",
     "text": [
      "                  startDate                   endDate           keywords  \\\n",
      "0 2021-07-20 21:17:15+00:00 2021-07-25 06:48:12+00:00  [pumon, training]   \n",
      "\n",
      "   Description     ItemType  State        Duration  \n",
      "0  Custom text  Operational  Ended 4 days 09:30:57  \n"
     ]
    }
   ],
   "source": [
    "import requests\n",
    "import json\n",
    "import datetime\n",
    "import re\n",
    "import pandas as pd\n",
    "from requests.auth import HTTPBasicAuth\n",
    "# ToDo get token\n",
    "# request.post(url+'security/oauth/token')\n",
    "# POST /security/oauth/token (1)\n",
    "# Authorization: Basic ... (2)\n",
    "# Content-Type: application/x-www-form-urlencoded; charset=UTF-8\n",
    "# scope=read&grant_type=password&username=user-username&password=user-password (3)\n",
    "# https://developer.trendminer.com/context-api/#_request_a_client_id_and_client_secret\n",
    "url = 'http://10.145.50.200/'\n",
    "viewID = 'a7f5dc3f-5eba-4d41-95e1-aad82070fe6d'\n",
    "#headers = {\"Authorization\": \"Basic \", \"Content-Type\": \"application/x-www-form-urlencoded; charset=UTF-8\", \"scope\": \"read&grant_type=password&username=user-username&password=user-password\"}\n",
    "token = 'a0297c1b-3c90-49bf-a297-951cf156aa9a'\n",
    "auth_header = {'Authorization': (\"Bearer \" + token)}\n",
    "endpoint = '/context/view/' + viewID + '/enriched'\n",
    "r_context_view = requests.get(url + endpoint, headers=auth_header)\n",
    "r_context_view_json = r_context_view.json()\n",
    "endpoint = \"/context/item/search?size=2000&useTimeSeriesIdentifier=true\"\n",
    "body = {\"filters\": r_context_view_json['data']['filters']}\n",
    "headers = {'Authorization': 'Bearer ' + token, 'Content-Type': 'application/json'}\n",
    "r_context_items = requests.post(url + endpoint, headers=headers, json=body)\n",
    "r_context_items_json = r_context_items.json()\n",
    "ContextItemList = []\n",
    "for context_item in r_context_items_json['content']:\n",
    "    (context_item['fields'])['startDate'] = context_item['startEventDate']\n",
    "    (context_item['fields'])['endDate'] = context_item['endEventDate']\n",
    "    (context_item['fields'])['keywords'] = context_item['keywords']\n",
    "    (context_item['fields'])['Description'] = context_item['description']\n",
    "    (context_item['fields'])['ItemType'] = context_item['type']['name']\n",
    "    (context_item['fields'])['State'] = context_item['lastEventState']\n",
    "    #(context_item['fields'])['Component'] = context_item['components'][0]['name']\n",
    "    ContextItemList.append(context_item['fields'])\n",
    "# generate DataFrame\n",
    "df = pd.DataFrame(ContextItemList)\n",
    "# convert date columns to datetime\n",
    "df['startDate'] = pd.to_datetime(df['startDate'])\n",
    "df['endDate'] = pd.to_datetime(df['endDate'])\n",
    "df['Duration'] = df['endDate'] - df['startDate']\n",
    "pd.set_option('display.max_columns', None)\n",
    "print(df)\n"
   ]
  },
  {
   "cell_type": "code",
   "execution_count": null,
   "metadata": {},
   "outputs": [],
   "source": []
  },
  {
   "cell_type": "code",
   "execution_count": 9,
   "metadata": {},
   "outputs": [
    {
     "data": {
      "text/plain": [
       "<Response [500]>"
      ]
     },
     "execution_count": 9,
     "metadata": {},
     "output_type": "execute_result"
    }
   ],
   "source": [
    "import requests\n",
    "from requests.auth import HTTPBasicAuth\n",
    "requests.get(\n",
    "  'http://10.145.50.200/', \n",
    "  auth=HTTPBasicAuth('258d8117-3c7a-41fd-bb01-566134e6b4a6', 'NpBhcyOteWEJSuZTszYRpEjxuSJoKPkh')\n",
    ")"
   ]
  },
  {
   "cell_type": "code",
   "execution_count": 22,
   "metadata": {},
   "outputs": [
    {
     "data": {
      "text/plain": [
       "<Response [401]>"
      ]
     },
     "execution_count": 22,
     "metadata": {},
     "output_type": "execute_result"
    }
   ],
   "source": [
    "import requests\n",
    "import json\n",
    "import datetime\n",
    "import re\n",
    "import pandas as pd\n",
    "from requests.auth import HTTPBasicAuth\n",
    "from requests.auth import HTTPDigestAuth\n",
    "# ToDo get token\n",
    "# request.post(url+'security/oauth/token')\n",
    "# POST /security/oauth/token (1)\n",
    "# Authorization: Basic ... (2)\n",
    "# Content-Type: application/x-www-form-urlencoded; charset=UTF-8\n",
    "# scope=read&grant_type=password&username=user-username&password=user-password (3)\n",
    "# https://developer.trendminer.com/context-api/#_request_a_client_id_and_client_secret\n",
    "url = 'http://10.145.50.200/'\n",
    "viewID = 'a7f5dc3f-5eba-4d41-95e1-aad82070fe6d'\n",
    "#headers = {\"Authorization\": \"Basic \", \"Content-Type\": \"application/x-www-form-urlencoded; charset=UTF-8\", \"scope\": \"read&grant_type=password&username=user-username&password=user-password\"}\n",
    "#token = 'a0297c1b-3c90-49bf-a297-951cf156aa9a'\n",
    "#auth_header = {'Authorization': (\"Bearer \" + token)}\n",
    "#auth_header = {'Authorization': (\"Bearer \" + token)}\n",
    "endpoint = '/context/view/' + viewID + '/enriched'\n",
    "#requests.get(url + endpoint, headers=auth_header)\n",
    "requests.get(url + endpoint, auth=HTTPDigestAuth('ggjlz', 'Shakeitbaby55'))\n"
   ]
  },
  {
   "cell_type": "code",
   "execution_count": null,
   "metadata": {},
   "outputs": [],
   "source": []
  }
 ],
 "metadata": {
  "kernelspec": {
   "display_name": "Python 3",
   "language": "python",
   "name": "python3"
  },
  "language_info": {
   "codemirror_mode": {
    "name": "ipython",
    "version": 3
   },
   "file_extension": ".py",
   "mimetype": "text/x-python",
   "name": "python",
   "nbconvert_exporter": "python",
   "pygments_lexer": "ipython3",
   "version": "3.7.3"
  }
 },
 "nbformat": 4,
 "nbformat_minor": 4
}
